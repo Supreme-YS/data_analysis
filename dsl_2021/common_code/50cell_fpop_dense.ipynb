{
 "cells": [
  {
   "cell_type": "code",
   "execution_count": 89,
   "metadata": {},
   "outputs": [],
   "source": [
    "import pandas as pd\n",
    "import numpy as np\n",
    "import os\n",
    "\n",
    "from folium.features import DivIcon\n",
    "import folium\n",
    "import pyproj\n",
    "from pyproj import Proj, transform\n",
    "\n",
    "%matplotlib inline  \n",
    "import matplotlib.pyplot as plt \n",
    "import seaborn as sns \n",
    "\n",
    "import warnings\n",
    "warnings.filterwarnings(action='ignore')\n",
    "\n",
    "def katec_to_wgs84(x, y):\n",
    "    inProj  = Proj('+proj=tmerc +lat_0=38 +lon_0=128 +k=0.9999 +x_0=400000 +y_0=600000 +ellps=bessel +units=m +no_defs +towgs84=-115.80,474.99,674.11,1.16,-2.31,-1.63,6.43')\n",
    "    outProj = Proj({ 'proj':'latlong', 'datum':'WGS84', 'ellps':'WGS84' })\n",
    "    return transform( inProj, outProj, x, y )\n",
    "\n",
    "WGS84 = { 'proj':'latlong', 'datum':'WGS84', 'ellps':'WGS84', }\n",
    "KATEC = { 'proj':'tmerc', 'lat_0':'38N', 'lon_0':'128E', 'ellps':'bessel','x_0':'400000', 'y_0':'600000', 'k':'0.9999','towgs84':'-115.80,474.99,674.11,1.16,-2.31,-1.63,6.43'}\n",
    "def wgs84_to_katec(longitude, latitude):\n",
    "    return transform( Proj(**WGS84), Proj(**KATEC), longitude, latitude )"
   ]
  },
  {
   "cell_type": "markdown",
   "metadata": {},
   "source": [
    "##### 현재 작업 위치 확인\n"
   ]
  },
  {
   "cell_type": "code",
   "execution_count": 2,
   "metadata": {},
   "outputs": [
    {
     "data": {
      "text/plain": [
       "'C:\\\\Users\\\\dudtj\\\\busan_moving_person\\\\custom_code'"
      ]
     },
     "execution_count": 2,
     "metadata": {},
     "output_type": "execute_result"
    }
   ],
   "source": [
    "pwd"
   ]
  },
  {
   "cell_type": "code",
   "execution_count": 97,
   "metadata": {},
   "outputs": [
    {
     "name": "stdout",
     "output_type": "stream",
     "text": [
      "C:\\Users\\dudtj\\busan_moving_person\\data\\csv_data\\50\n"
     ]
    }
   ],
   "source": [
    "cd ../data/csv_data/50/"
   ]
  },
  {
   "cell_type": "code",
   "execution_count": 1,
   "metadata": {},
   "outputs": [
    {
     "name": "stdout",
     "output_type": "stream",
     "text": [
      " C 드라이브의 볼륨에는 이름이 없습니다.\n",
      " 볼륨 일련 번호: CE27-0A82\n",
      "\n",
      " C:\\Users\\dudtj\\busan_moving_person\\custom_code 디렉터리\n",
      "\n",
      "2021-08-16  오후 10:03    <DIR>          .\n",
      "2021-08-16  오후 10:03    <DIR>          ..\n",
      "2021-08-16  오후 09:57    <DIR>          .ipynb_checkpoints\n",
      "2021-08-11  오후 06:41            49,516 0. file_column_dtype_val.ipynb\n",
      "2021-08-12  오전 11:06            16,497 1. CVcell_admdong_cd.ipynb\n",
      "2021-08-16  오후 05:05            17,076 10. rawdata_to_custom_cell_code.ipynb\n",
      "2021-08-11  오후 05:06             4,926 11. add_admi_cd.ipynb\n",
      "2021-08-12  오전 11:08            12,472 2. CVcell_admdong_cd_Match_admdong_nm.ipynb\n",
      "2021-08-12  오후 04:50            37,512 3. dataset_fp.ipynb\n",
      "2021-08-13  오후 05:53            52,252 4. dataset_50fp.ipynb\n",
      "2021-08-12  오후 04:50            11,410 5. fill_na_code.ipynb\n",
      "2021-08-13  오후 05:59             7,940 6. 50cell_fpop_dense.ipynb\n",
      "2021-08-13  오후 06:21             8,012 7. 100cell_fpop_dense.ipynb\n",
      "2021-08-13  오후 06:21             8,078 8. 300cell_fpop_dense.ipynb\n",
      "2021-08-12  오후 08:41            24,041 9. basic_static_analysis.ipynb\n",
      "2021-07-27  오후 01:22             1,234 BUSAN_ADMDONG_CD-ADMDONG_NM.csv\n",
      "2021-08-16  오후 09:12            20,052 store_data_analysis.ipynb\n",
      "2021-08-16  오후 10:03            11,022 store_data_dense.ipynb\n",
      "              15개 파일             282,040 바이트\n",
      "               3개 디렉터리  110,509,948,928 바이트 남음\n"
     ]
    }
   ],
   "source": [
    "ls"
   ]
  },
  {
   "cell_type": "code",
   "execution_count": 159,
   "metadata": {},
   "outputs": [
    {
     "name": "stdout",
     "output_type": "stream",
     "text": [
      "making success :)\n",
      "function success :)\n",
      "done :)\n",
      "Wall time: 1min 27s\n"
     ]
    }
   ],
   "source": []
  },
  {
   "cell_type": "code",
   "execution_count": null,
   "metadata": {},
   "outputs": [],
   "source": [
    "def f_color(x):\n",
    "    if x > geodf[geodf['total'] > geodf['total'].describe()[6]]['total'].describe()[6]:        # 기존 75%를 넘는 범위에서의 4사분위수 \n",
    "        a = '#FF4F00'        \n",
    "    elif x > geodf['total'].describe()[6]:      # 75%를 기준으로 설정\n",
    "        a = '#FCB100'   \n",
    "    elif x > geodf['total'].describe()[5]:      # 50%를 기준으로 설정\n",
    "        a = '#E0F500' \n",
    "    elif x > geodf['total'].describe()[4]:      # 25%를 기준으로 설정\n",
    "        a = '#8CF700'  \n",
    "    else:\n",
    "        a = '#00F000'\n",
    "    return a\n",
    "\n",
    "geodf['cell_color']= geodf['total'].apply(lambda x : f_color(x))\n",
    "print(\"function success :)\")\n",
    "###################################################################\n",
    "\n",
    "cell_size = 50\n",
    "a = cell_size//2\n",
    "x = geodf\n",
    "x['nwx'], x['nwy'] = x['x']-a, x['y']+a\n",
    "x['nex'], x['ney'] = x['x']+a, x['y']+a\n",
    "x['swx'], x['swy'] = x['x']-a, x['y']-a\n",
    "x['sex'], x['sey'] = x['x']+a ,x['y']-a\n",
    "\n",
    "x['lng'], x['lat'] = katec_to_wgs84(x.x.to_list(), x.y.to_list())\n",
    "x['nwlng'], x['nwlat'] = katec_to_wgs84(x.nwx.to_list(), x.nwy.to_list())\n",
    "x['nelng'], x['nelat'] = katec_to_wgs84(x.nex.to_list(), x.ney.to_list())\n",
    "x['swlng'], x['swlat'] = katec_to_wgs84(x.swx.to_list(), x.swy.to_list())\n",
    "x['selng'], x['selat'] = katec_to_wgs84(x.sex.to_list(), x.sey.to_list())\n",
    "\n",
    "map = folium.Map(location=[geodf['lat'].mean(), geodf['lng'].mean()], zoom_start=13)#, tiles='stamentoner')\n",
    "\n",
    "for n in x.index:\n",
    "    nw, ne, sw, se = [x.loc[n, 'nwlat'],x.loc[n, 'nwlng']],[x.loc[n, 'nelat'],x.loc[n, 'nelng']],[x.loc[n, 'swlat'],x.loc[n, 'swlng']],[x.loc[n, 'selat'],x.loc[n, 'selng']]\n",
    "    cell_color = x.loc[n, 'cell_color']\n",
    "    loc_name = 'ID:'+str(round(x.loc[n, 'id'],3)) + '       Total:'+ str(round(x.loc[n, 'total'],3))\n",
    "    folium.Polygon(locations=[nw, sw, se, ne],\n",
    "                   color='white',\n",
    "                   popup=loc_name,\n",
    "                   weight=0.55,\n",
    "                   fill=True,\n",
    "                   fill_color=cell_color,\n",
    "                   fill_opacity=0.6\n",
    "     ).add_to(map)\n",
    "\n",
    "map.save('./50dense_html/50c_201912_busan_dense.html') ###### 이름변경필요부분\n",
    "# map\n",
    "print(\"done :)\")"
   ]
  }
 ],
 "metadata": {
  "kernelspec": {
   "display_name": "Python 3",
   "language": "python",
   "name": "python3"
  },
  "language_info": {
   "codemirror_mode": {
    "name": "ipython",
    "version": 3
   },
   "file_extension": ".py",
   "mimetype": "text/x-python",
   "name": "python",
   "nbconvert_exporter": "python",
   "pygments_lexer": "ipython3",
   "version": "3.8.8"
  }
 },
 "nbformat": 4,
 "nbformat_minor": 4
}
