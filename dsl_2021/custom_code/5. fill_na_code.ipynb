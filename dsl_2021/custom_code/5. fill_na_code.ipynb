{
 "cells": [
  {
   "cell_type": "code",
   "execution_count": 39,
   "id": "a1f6b233",
   "metadata": {},
   "outputs": [],
   "source": [
    "import pandas as pd\n",
    "import numpy as np\n",
    "import os\n",
    "from tqdm import tqdm"
   ]
  },
  {
   "cell_type": "code",
   "execution_count": 53,
   "id": "baeb83b7",
   "metadata": {},
   "outputs": [
    {
     "name": "stdout",
     "output_type": "stream",
     "text": [
      "C:\\Users\\dudtj\\busan_moving_person\n"
     ]
    }
   ],
   "source": [
    "cd .."
   ]
  },
  {
   "cell_type": "code",
   "execution_count": 54,
   "id": "36c2b72e",
   "metadata": {},
   "outputs": [],
   "source": [
    "path = \"./data/csv_data/50/엑셀_분석용_데이터마트/\""
   ]
  },
  {
   "cell_type": "code",
   "execution_count": 55,
   "id": "8145c9ba",
   "metadata": {},
   "outputs": [
    {
     "data": {
      "text/plain": [
       "['dataset_age_fp.csv', 'dataset_gender_fp.csv', 'dataset_monthly_total_fp.csv']"
      ]
     },
     "execution_count": 55,
     "metadata": {},
     "output_type": "execute_result"
    }
   ],
   "source": [
    "file_list = os.listdir(path)\n",
    "f_list = [file for file in file_list if file.endswith(\".csv\")]\n",
    "f_list"
   ]
  },
  {
   "cell_type": "code",
   "execution_count": 57,
   "id": "eb123097",
   "metadata": {},
   "outputs": [
    {
     "name": "stdout",
     "output_type": "stream",
     "text": [
      "C:\\Users\\dudtj\\busan_moving_person\\data\\csv_data\\50\\엑셀_분석용_데이터마트\n"
     ]
    }
   ],
   "source": [
    "cd \"./data/csv_data/50/엑셀_분석용_데이터마트/\""
   ]
  },
  {
   "cell_type": "code",
   "execution_count": 58,
   "id": "2be9adc9",
   "metadata": {},
   "outputs": [
    {
     "name": "stderr",
     "output_type": "stream",
     "text": [
      "100%|████████████████████████████████████████████████████████████████████████████████████| 3/3 [00:33<00:00, 11.05s/it]\n"
     ]
    }
   ],
   "source": [
    "for i in tqdm(range(len(f_list))):\n",
    "    fill_na_df = pd.read_csv(f_list[i], encoding =\"UTF-8\")\n",
    "    fill_na_df = fill_na_df.fillna(0)\n",
    "    fill_na_df.to_csv(f\"./fillna_{f_list[i]}\", index=False, encoding=\"UTF-8\" )"
   ]
  },
  {
   "cell_type": "code",
   "execution_count": 59,
   "id": "e5d266d8",
   "metadata": {
    "scrolled": false
   },
   "outputs": [
    {
     "name": "stdout",
     "output_type": "stream",
     "text": [
      " C 드라이브의 볼륨에는 이름이 없습니다.\n",
      " 볼륨 일련 번호: CE27-0A82\n",
      "\n",
      " C:\\Users\\dudtj\\busan_moving_person\\data\\csv_data\\50\\엑셀_분석용_데이터마트 디렉터리\n",
      "\n",
      "2021-08-12  오후 04:47    <DIR>          .\n",
      "2021-08-12  오후 04:47    <DIR>          ..\n",
      "2021-08-12  오후 04:45       196,484,975 dataset_age_fp.csv\n",
      "2021-08-12  오전 11:28        37,430,394 dataset_gender_fp.csv\n",
      "2021-08-12  오후 04:41        22,429,655 dataset_monthly_total_fp.csv\n",
      "2021-08-12  오후 04:47       209,168,295 fillna_dataset_age_fp.csv\n",
      "2021-08-12  오후 04:47        39,202,364 fillna_dataset_gender_fp.csv\n",
      "2021-08-12  오후 04:47        23,318,669 fillna_dataset_monthly_total_fp.csv\n",
      "               6개 파일         528,034,352 바이트\n",
      "               2개 디렉터리  111,071,203,328 바이트 남음\n"
     ]
    }
   ],
   "source": [
    "ls"
   ]
  },
  {
   "cell_type": "code",
   "execution_count": 60,
   "id": "550f8f17",
   "metadata": {},
   "outputs": [
    {
     "data": {
      "text/plain": [
       "['dataset_age_fp.csv',\n",
       " 'dataset_gender_fp.csv',\n",
       " 'dataset_monthly_total_fp.csv',\n",
       " 'fillna_dataset_age_fp.csv',\n",
       " 'fillna_dataset_gender_fp.csv',\n",
       " 'fillna_dataset_monthly_total_fp.csv']"
      ]
     },
     "execution_count": 60,
     "metadata": {},
     "output_type": "execute_result"
    }
   ],
   "source": [
    "file_list = os.listdir(\"./\")\n",
    "f_list = [file for file in file_list if file.endswith(\".csv\")]\n",
    "f_list"
   ]
  },
  {
   "cell_type": "code",
   "execution_count": 61,
   "id": "d13842c5",
   "metadata": {},
   "outputs": [
    {
     "name": "stderr",
     "output_type": "stream",
     "text": [
      " 17%|██████████████                                                                      | 1/6 [00:02<00:13,  2.67s/it]"
     ]
    },
    {
     "name": "stdout",
     "output_type": "stream",
     "text": [
      "dataset_age_fp.csv\n",
      "id                 0\n",
      "x                  0\n",
      "y                  0\n",
      "timezn_cd          0\n",
      "m_10_201901    28561\n",
      "               ...  \n",
      "f_30_201912    20915\n",
      "f_40_201912    20915\n",
      "f_50_201912    20915\n",
      "f_60_201912    20915\n",
      "f_70_201912    20915\n",
      "Length: 172, dtype: int64\n"
     ]
    },
    {
     "name": "stderr",
     "output_type": "stream",
     "text": [
      "\r",
      " 33%|████████████████████████████                                                        | 2/6 [00:03<00:05,  1.43s/it]"
     ]
    },
    {
     "name": "stdout",
     "output_type": "stream",
     "text": [
      "dataset_gender_fp.csv\n",
      "id               0\n",
      "x                0\n",
      "y                0\n",
      "timezn_cd        0\n",
      "m_201901     28561\n",
      "f_201901     28561\n",
      "m_201902     25783\n",
      "f_201902     25783\n",
      "m_201903     26957\n",
      "f_201903     26957\n",
      "m_201904     27447\n",
      "f_201904     27447\n",
      "m_201905     19047\n",
      "f_201905     19047\n",
      "m_201906     23597\n",
      "f_201906     23597\n",
      "m_201907     26396\n",
      "f_201907     26396\n",
      "m_201908     25183\n",
      "f_201908     25183\n",
      "m_201909     15027\n",
      "f_201909     15027\n",
      "m_201910     20208\n",
      "f_201910     20208\n",
      "m_201911     19587\n",
      "f_201911     19587\n",
      "m_201912     20915\n",
      "f_201912     20915\n",
      "dtype: int64\n"
     ]
    },
    {
     "name": "stderr",
     "output_type": "stream",
     "text": [
      "\r",
      " 50%|██████████████████████████████████████████                                          | 3/6 [00:03<00:02,  1.09it/s]"
     ]
    },
    {
     "name": "stdout",
     "output_type": "stream",
     "text": [
      "dataset_monthly_total_fp.csv\n",
      "id                  0\n",
      "x                   0\n",
      "y                   0\n",
      "timezn_cd           0\n",
      "total_201901    28561\n",
      "total_201902    25783\n",
      "total_201903    26957\n",
      "total_201904    27447\n",
      "total_201905    19047\n",
      "total_201906    23597\n",
      "total_201907    26396\n",
      "total_201908    25183\n",
      "total_201909    15027\n",
      "total_201910    20208\n",
      "total_201911    19587\n",
      "total_201912    20915\n",
      "dtype: int64\n"
     ]
    },
    {
     "name": "stderr",
     "output_type": "stream",
     "text": [
      "\r",
      " 67%|████████████████████████████████████████████████████████                            | 4/6 [00:06<00:03,  1.63s/it]"
     ]
    },
    {
     "name": "stdout",
     "output_type": "stream",
     "text": [
      "fillna_dataset_age_fp.csv\n",
      "id             0\n",
      "x              0\n",
      "y              0\n",
      "timezn_cd      0\n",
      "m_10_201901    0\n",
      "              ..\n",
      "f_30_201912    0\n",
      "f_40_201912    0\n",
      "f_50_201912    0\n",
      "f_60_201912    0\n",
      "f_70_201912    0\n",
      "Length: 172, dtype: int64\n"
     ]
    },
    {
     "name": "stderr",
     "output_type": "stream",
     "text": [
      "\r",
      " 83%|██████████████████████████████████████████████████████████████████████              | 5/6 [00:06<00:01,  1.23s/it]"
     ]
    },
    {
     "name": "stdout",
     "output_type": "stream",
     "text": [
      "fillna_dataset_gender_fp.csv\n",
      "id           0\n",
      "x            0\n",
      "y            0\n",
      "timezn_cd    0\n",
      "m_201901     0\n",
      "f_201901     0\n",
      "m_201902     0\n",
      "f_201902     0\n",
      "m_201903     0\n",
      "f_201903     0\n",
      "m_201904     0\n",
      "f_201904     0\n",
      "m_201905     0\n",
      "f_201905     0\n",
      "m_201906     0\n",
      "f_201906     0\n",
      "m_201907     0\n",
      "f_201907     0\n",
      "m_201908     0\n",
      "f_201908     0\n",
      "m_201909     0\n",
      "f_201909     0\n",
      "m_201910     0\n",
      "f_201910     0\n",
      "m_201911     0\n",
      "f_201911     0\n",
      "m_201912     0\n",
      "f_201912     0\n",
      "dtype: int64\n"
     ]
    },
    {
     "name": "stderr",
     "output_type": "stream",
     "text": [
      "100%|████████████████████████████████████████████████████████████████████████████████████| 6/6 [00:07<00:00,  1.18s/it]"
     ]
    },
    {
     "name": "stdout",
     "output_type": "stream",
     "text": [
      "fillna_dataset_monthly_total_fp.csv\n",
      "id              0\n",
      "x               0\n",
      "y               0\n",
      "timezn_cd       0\n",
      "total_201901    0\n",
      "total_201902    0\n",
      "total_201903    0\n",
      "total_201904    0\n",
      "total_201905    0\n",
      "total_201906    0\n",
      "total_201907    0\n",
      "total_201908    0\n",
      "total_201909    0\n",
      "total_201910    0\n",
      "total_201911    0\n",
      "total_201912    0\n",
      "dtype: int64\n"
     ]
    },
    {
     "name": "stderr",
     "output_type": "stream",
     "text": [
      "\n"
     ]
    }
   ],
   "source": [
    "for i in tqdm(range(len(f_list))):\n",
    "    testdf = pd.read_csv(f_list[i], encoding =\"UTF-8\")\n",
    "    print(f_list[i])\n",
    "    print(testdf.isnull().sum())"
   ]
  },
  {
   "cell_type": "code",
   "execution_count": null,
   "id": "eb3dc974",
   "metadata": {},
   "outputs": [],
   "source": []
  }
 ],
 "metadata": {
  "kernelspec": {
   "display_name": "Python 3",
   "language": "python",
   "name": "python3"
  },
  "language_info": {
   "codemirror_mode": {
    "name": "ipython",
    "version": 3
   },
   "file_extension": ".py",
   "mimetype": "text/x-python",
   "name": "python",
   "nbconvert_exporter": "python",
   "pygments_lexer": "ipython3",
   "version": "3.8.8"
  }
 },
 "nbformat": 4,
 "nbformat_minor": 5
}
