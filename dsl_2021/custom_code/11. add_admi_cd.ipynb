{
 "cells": [
  {
   "cell_type": "code",
   "execution_count": 2,
   "id": "dbebbb5e",
   "metadata": {},
   "outputs": [],
   "source": [
    "# 행정동 코드 부여"
   ]
  },
  {
   "cell_type": "code",
   "execution_count": 3,
   "id": "2f8fd06c",
   "metadata": {},
   "outputs": [],
   "source": [
    "import pandas as pd\n",
    "import numpy as np\n",
    "import os\n",
    "import requests; from urllib.parse import urlparse\n",
    "from tqdm.notebook import tqdm\n",
    "\n",
    "from folium.features import DivIcon\n",
    "import folium\n",
    "import pyproj\n",
    "from pyproj import Proj, transform\n",
    "\n",
    "import warnings\n",
    "warnings.filterwarnings(action='ignore')\n",
    "\n",
    "\n",
    "def katec_to_wgs84(x, y):\n",
    "    inProj  = Proj('+proj=tmerc +lat_0=38 +lon_0=128 +k=0.9999 +x_0=400000 +y_0=600000 +ellps=bessel +units=m +no_defs +towgs84=-115.80,474.99,674.11,1.16,-2.31,-1.63,6.43')\n",
    "    outProj = Proj({ 'proj':'latlong', 'datum':'WGS84', 'ellps':'WGS84' })\n",
    "    return transform( inProj, outProj, x, y )\n",
    "\n",
    "\n",
    "def address_to_latlon(lng,lat):\n",
    "    url = f\"https://dapi.kakao.com/v2/local/geo/coord2regioncode.json?&x={lng}&y={lat}&input_coord=WGS84\"\n",
    "    result = requests.get(urlparse(url).geturl(),\n",
    "                          headers={\"Authorization\":\"KakaoAK 5a53ab667089a2a92726783ed5d4deb3\"})\n",
    "    json_obj = result.json()\n",
    "    if json_obj['meta']['total_count'] > 0:\n",
    "        for document in json_obj['documents']:\n",
    "            val = document['region_2depth_name']\n",
    "    else:\n",
    "        val = 'na'\n",
    "    return val"
   ]
  },
  {
   "cell_type": "code",
   "execution_count": 4,
   "id": "ad3e38c8",
   "metadata": {},
   "outputs": [
    {
     "name": "stdout",
     "output_type": "stream",
     "text": [
      "['CV500_50CELL_BUSANJINGU_2019_201901.csv', 'CV500_50CELL_BUSANJINGU_2019_201902.csv', 'CV500_50CELL_BUSANJINGU_2019_201903.csv', 'CV500_50CELL_BUSANJINGU_2019_201904.csv', 'CV500_50CELL_BUSANJINGU_2019_201905.csv', 'CV500_50CELL_BUSANJINGU_2019_201906.csv', 'CV500_50CELL_BUSANJINGU_2019_201907.csv', 'CV500_50CELL_BUSANJINGU_2019_201908.csv', 'CV500_50CELL_BUSANJINGU_2019_201909.csv', 'CV500_50CELL_BUSANJINGU_2019_201910.csv', 'CV500_50CELL_BUSANJINGU_2019_201911.csv', 'CV500_50CELL_BUSANJINGU_2019_201912.csv']\n"
     ]
    }
   ],
   "source": [
    "path = f\"C:\\\\Users\\\\dudtj\\\\busan_moving_person\\\\data\\\\csv_data\\\\500\"\n",
    "file_list = os.listdir(path)\n",
    "f_list = [file for file in file_list if file.endswith(\".csv\")]\n",
    "print(f_list)\n",
    "os.chdir(path)"
   ]
  },
  {
   "cell_type": "code",
   "execution_count": 5,
   "id": "b4742e7c",
   "metadata": {},
   "outputs": [
    {
     "data": {
      "application/vnd.jupyter.widget-view+json": {
       "model_id": "35a61fa3b4864e0980396a7b63c5aa4d",
       "version_major": 2,
       "version_minor": 0
      },
      "text/plain": [
       "  0%|          | 0/12 [00:00<?, ?it/s]"
      ]
     },
     "metadata": {},
     "output_type": "display_data"
    },
    {
     "name": "stdout",
     "output_type": "stream",
     "text": [
      "CV500_50CELL_BUSANJINGU_2019_201901.csv\n",
      "CV500_50CELL_BUSANJINGU_2019_201902.csv\n",
      "CV500_50CELL_BUSANJINGU_2019_201903.csv\n",
      "CV500_50CELL_BUSANJINGU_2019_201904.csv\n",
      "CV500_50CELL_BUSANJINGU_2019_201905.csv\n",
      "CV500_50CELL_BUSANJINGU_2019_201906.csv\n",
      "CV500_50CELL_BUSANJINGU_2019_201907.csv\n",
      "CV500_50CELL_BUSANJINGU_2019_201908.csv\n",
      "CV500_50CELL_BUSANJINGU_2019_201909.csv\n",
      "CV500_50CELL_BUSANJINGU_2019_201910.csv\n",
      "CV500_50CELL_BUSANJINGU_2019_201911.csv\n",
      "CV500_50CELL_BUSANJINGU_2019_201912.csv\n"
     ]
    }
   ],
   "source": [
    "for i in tqdm(range(len(f_list))):\n",
    "    print(f_list[i])\n",
    "    celldf = pd.read_csv(f_list[i],encoding='UTF-8')   \n",
    "    p = celldf[['x','y']].drop_duplicates()\n",
    "    p['admi_cd'] = list(map(lambda x :address_to_latlon(x[0],x[1]) ,list(map(lambda x,y : katec_to_wgs84(x,y) ,p.x,p.y))))\n",
    "    celldf = celldf.merge(p,how='left',on=['x','y'])\n",
    "    celldf.to_csv(f'./N_'+f_list[i],encoding = \"UTF-8\" ,index = False)"
   ]
  },
  {
   "cell_type": "code",
   "execution_count": null,
   "id": "b60be48c",
   "metadata": {},
   "outputs": [],
   "source": []
  }
 ],
 "metadata": {
  "kernelspec": {
   "display_name": "Python 3",
   "language": "python",
   "name": "python3"
  },
  "language_info": {
   "codemirror_mode": {
    "name": "ipython",
    "version": 3
   },
   "file_extension": ".py",
   "mimetype": "text/x-python",
   "name": "python",
   "nbconvert_exporter": "python",
   "pygments_lexer": "ipython3",
   "version": "3.8.8"
  }
 },
 "nbformat": 4,
 "nbformat_minor": 5
}
