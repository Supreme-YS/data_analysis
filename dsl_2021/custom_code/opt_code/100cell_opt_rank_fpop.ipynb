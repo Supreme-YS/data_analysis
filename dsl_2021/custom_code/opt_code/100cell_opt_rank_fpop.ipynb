{
 "cells": [
  {
   "cell_type": "code",
   "execution_count": 82,
   "metadata": {},
   "outputs": [],
   "source": [
    "import pandas as pd\n",
    "import numpy as np\n",
    "import os\n",
    "\n",
    "from folium.features import DivIcon\n",
    "import folium\n",
    "import pyproj\n",
    "from pyproj import Proj, transform\n",
    "\n",
    "%matplotlib inline  \n",
    "import matplotlib.pyplot as plt \n",
    "import seaborn as sns \n",
    "\n",
    "import warnings\n",
    "warnings.filterwarnings(action='ignore')\n",
    "\n",
    "def katec_to_wgs84(x, y):\n",
    "    inProj  = Proj('+proj=tmerc +lat_0=38 +lon_0=128 +k=0.9999 +x_0=400000 +y_0=600000 +ellps=bessel +units=m +no_defs +towgs84=-115.80,474.99,674.11,1.16,-2.31,-1.63,6.43')\n",
    "    outProj = Proj({ 'proj':'latlong', 'datum':'WGS84', 'ellps':'WGS84' })\n",
    "    return transform( inProj, outProj, x, y )\n",
    "\n",
    "WGS84 = { 'proj':'latlong', 'datum':'WGS84', 'ellps':'WGS84', }\n",
    "KATEC = { 'proj':'tmerc', 'lat_0':'38N', 'lon_0':'128E', 'ellps':'bessel','x_0':'400000', 'y_0':'600000', 'k':'0.9999','towgs84':'-115.80,474.99,674.11,1.16,-2.31,-1.63,6.43'}\n",
    "def wgs84_to_katec(longitude, latitude):\n",
    "    return transform( Proj(**WGS84), Proj(**KATEC), longitude, latitude )"
   ]
  },
  {
   "cell_type": "markdown",
   "metadata": {},
   "source": [
    "##### 현재 작업 위치 확인\n"
   ]
  },
  {
   "cell_type": "code",
   "execution_count": 83,
   "metadata": {},
   "outputs": [],
   "source": [
    "path = \"C:/Users/dudtj/busan_moving_person/data/opt_data\""
   ]
  },
  {
   "cell_type": "code",
   "execution_count": 86,
   "metadata": {},
   "outputs": [
    {
     "data": {
      "text/plain": [
       "['CV100_pr_opt_analysis.csv', 'pr_opt_analysis.csv']"
      ]
     },
     "execution_count": 86,
     "metadata": {},
     "output_type": "execute_result"
    }
   ],
   "source": [
    "os.chdir(path)\n",
    "file_list = os.listdir(path)\n",
    "f_list = [file for file in file_list if file.endswith(\".csv\")]\n",
    "f_list"
   ]
  },
  {
   "cell_type": "code",
   "execution_count": 88,
   "metadata": {
    "scrolled": true
   },
   "outputs": [
    {
     "data": {
      "text/html": [
       "<div>\n",
       "<style scoped>\n",
       "    .dataframe tbody tr th:only-of-type {\n",
       "        vertical-align: middle;\n",
       "    }\n",
       "\n",
       "    .dataframe tbody tr th {\n",
       "        vertical-align: top;\n",
       "    }\n",
       "\n",
       "    .dataframe thead th {\n",
       "        text-align: right;\n",
       "    }\n",
       "</style>\n",
       "<table border=\"1\" class=\"dataframe\">\n",
       "  <thead>\n",
       "    <tr style=\"text-align: right;\">\n",
       "      <th></th>\n",
       "      <th>id</th>\n",
       "      <th>x</th>\n",
       "      <th>y</th>\n",
       "      <th>m</th>\n",
       "      <th>f</th>\n",
       "      <th>total</th>\n",
       "      <th>m_index</th>\n",
       "      <th>f_index</th>\n",
       "    </tr>\n",
       "  </thead>\n",
       "  <tbody>\n",
       "    <tr>\n",
       "      <th>0</th>\n",
       "      <td>49242847</td>\n",
       "      <td>492425</td>\n",
       "      <td>284725</td>\n",
       "      <td>33482.95</td>\n",
       "      <td>43484.59</td>\n",
       "      <td>76967.54</td>\n",
       "      <td>5.71</td>\n",
       "      <td>7.42</td>\n",
       "    </tr>\n",
       "    <tr>\n",
       "      <th>1</th>\n",
       "      <td>49252827</td>\n",
       "      <td>492525</td>\n",
       "      <td>282725</td>\n",
       "      <td>792.63</td>\n",
       "      <td>886.29</td>\n",
       "      <td>1678.92</td>\n",
       "      <td>6.20</td>\n",
       "      <td>6.93</td>\n",
       "    </tr>\n",
       "    <tr>\n",
       "      <th>2</th>\n",
       "      <td>49252847</td>\n",
       "      <td>492525</td>\n",
       "      <td>284725</td>\n",
       "      <td>133931.80</td>\n",
       "      <td>173938.36</td>\n",
       "      <td>307870.16</td>\n",
       "      <td>5.71</td>\n",
       "      <td>7.42</td>\n",
       "    </tr>\n",
       "    <tr>\n",
       "      <th>3</th>\n",
       "      <td>49252848</td>\n",
       "      <td>492525</td>\n",
       "      <td>284825</td>\n",
       "      <td>30497.70</td>\n",
       "      <td>26058.41</td>\n",
       "      <td>56556.11</td>\n",
       "      <td>7.08</td>\n",
       "      <td>6.05</td>\n",
       "    </tr>\n",
       "    <tr>\n",
       "      <th>4</th>\n",
       "      <td>49262828</td>\n",
       "      <td>492625</td>\n",
       "      <td>282825</td>\n",
       "      <td>33062.38</td>\n",
       "      <td>34197.22</td>\n",
       "      <td>67259.60</td>\n",
       "      <td>6.45</td>\n",
       "      <td>6.67</td>\n",
       "    </tr>\n",
       "    <tr>\n",
       "      <th>...</th>\n",
       "      <td>...</td>\n",
       "      <td>...</td>\n",
       "      <td>...</td>\n",
       "      <td>...</td>\n",
       "      <td>...</td>\n",
       "      <td>...</td>\n",
       "      <td>...</td>\n",
       "      <td>...</td>\n",
       "    </tr>\n",
       "    <tr>\n",
       "      <th>2414</th>\n",
       "      <td>49872862</td>\n",
       "      <td>498725</td>\n",
       "      <td>286225</td>\n",
       "      <td>42739.22</td>\n",
       "      <td>69309.69</td>\n",
       "      <td>112048.91</td>\n",
       "      <td>5.01</td>\n",
       "      <td>8.12</td>\n",
       "    </tr>\n",
       "    <tr>\n",
       "      <th>2415</th>\n",
       "      <td>49872863</td>\n",
       "      <td>498725</td>\n",
       "      <td>286325</td>\n",
       "      <td>30005.10</td>\n",
       "      <td>31090.55</td>\n",
       "      <td>61095.65</td>\n",
       "      <td>6.45</td>\n",
       "      <td>6.68</td>\n",
       "    </tr>\n",
       "    <tr>\n",
       "      <th>2416</th>\n",
       "      <td>49872864</td>\n",
       "      <td>498725</td>\n",
       "      <td>286425</td>\n",
       "      <td>28007.71</td>\n",
       "      <td>23585.56</td>\n",
       "      <td>51593.27</td>\n",
       "      <td>7.12</td>\n",
       "      <td>6.00</td>\n",
       "    </tr>\n",
       "    <tr>\n",
       "      <th>2417</th>\n",
       "      <td>49882848</td>\n",
       "      <td>498825</td>\n",
       "      <td>284825</td>\n",
       "      <td>24375.65</td>\n",
       "      <td>23619.81</td>\n",
       "      <td>47995.46</td>\n",
       "      <td>6.67</td>\n",
       "      <td>6.46</td>\n",
       "    </tr>\n",
       "    <tr>\n",
       "      <th>2418</th>\n",
       "      <td>49882849</td>\n",
       "      <td>498825</td>\n",
       "      <td>284925</td>\n",
       "      <td>17593.50</td>\n",
       "      <td>17066.23</td>\n",
       "      <td>34659.73</td>\n",
       "      <td>6.66</td>\n",
       "      <td>6.46</td>\n",
       "    </tr>\n",
       "  </tbody>\n",
       "</table>\n",
       "<p>2419 rows × 8 columns</p>\n",
       "</div>"
      ],
      "text/plain": [
       "            id       x       y          m          f      total  m_index  \\\n",
       "0     49242847  492425  284725   33482.95   43484.59   76967.54     5.71   \n",
       "1     49252827  492525  282725     792.63     886.29    1678.92     6.20   \n",
       "2     49252847  492525  284725  133931.80  173938.36  307870.16     5.71   \n",
       "3     49252848  492525  284825   30497.70   26058.41   56556.11     7.08   \n",
       "4     49262828  492625  282825   33062.38   34197.22   67259.60     6.45   \n",
       "...        ...     ...     ...        ...        ...        ...      ...   \n",
       "2414  49872862  498725  286225   42739.22   69309.69  112048.91     5.01   \n",
       "2415  49872863  498725  286325   30005.10   31090.55   61095.65     6.45   \n",
       "2416  49872864  498725  286425   28007.71   23585.56   51593.27     7.12   \n",
       "2417  49882848  498825  284825   24375.65   23619.81   47995.46     6.67   \n",
       "2418  49882849  498825  284925   17593.50   17066.23   34659.73     6.66   \n",
       "\n",
       "      f_index  \n",
       "0        7.42  \n",
       "1        6.93  \n",
       "2        7.42  \n",
       "3        6.05  \n",
       "4        6.67  \n",
       "...       ...  \n",
       "2414     8.12  \n",
       "2415     6.68  \n",
       "2416     6.00  \n",
       "2417     6.46  \n",
       "2418     6.46  \n",
       "\n",
       "[2419 rows x 8 columns]"
      ]
     },
     "execution_count": 88,
     "metadata": {},
     "output_type": "execute_result"
    }
   ],
   "source": [
    "optDF = pd.read_csv(f_list[0], encoding=\"UTF-8\")\n",
    "optDF"
   ]
  },
  {
   "cell_type": "code",
   "execution_count": 131,
   "metadata": {},
   "outputs": [],
   "source": [
    "tdf = pd.DataFrame(optDF['f_index'].groupby(optDF['id']).sum()).reset_index()\n",
    "geodf = pd.merge(tdf, optDF[['id', 'x', 'y']], how = 'left', on = 'id')[['id', 'x', 'y', 'f_index']].drop_duplicates()\n",
    "\n",
    "geodf.to_csv('./100c_opt_analysis_dense_f.csv', index=False, encoding='UTF-8')\n",
    "# geodf['round_m_index'].sort_values(ascending=False)[:10].values"
   ]
  },
  {
   "cell_type": "code",
   "execution_count": 132,
   "metadata": {},
   "outputs": [
    {
     "data": {
      "text/html": [
       "<div>\n",
       "<style scoped>\n",
       "    .dataframe tbody tr th:only-of-type {\n",
       "        vertical-align: middle;\n",
       "    }\n",
       "\n",
       "    .dataframe tbody tr th {\n",
       "        vertical-align: top;\n",
       "    }\n",
       "\n",
       "    .dataframe thead th {\n",
       "        text-align: right;\n",
       "    }\n",
       "</style>\n",
       "<table border=\"1\" class=\"dataframe\">\n",
       "  <thead>\n",
       "    <tr style=\"text-align: right;\">\n",
       "      <th></th>\n",
       "      <th>id</th>\n",
       "      <th>x</th>\n",
       "      <th>y</th>\n",
       "      <th>f_index</th>\n",
       "    </tr>\n",
       "  </thead>\n",
       "  <tbody>\n",
       "    <tr>\n",
       "      <th>count</th>\n",
       "      <td>2.419000e+03</td>\n",
       "      <td>2419.000000</td>\n",
       "      <td>2419.000000</td>\n",
       "      <td>2419.000000</td>\n",
       "    </tr>\n",
       "    <tr>\n",
       "      <th>mean</th>\n",
       "      <td>4.955714e+07</td>\n",
       "      <td>495567.910294</td>\n",
       "      <td>285295.814386</td>\n",
       "      <td>6.745635</td>\n",
       "    </tr>\n",
       "    <tr>\n",
       "      <th>std</th>\n",
       "      <td>1.567794e+05</td>\n",
       "      <td>1567.766967</td>\n",
       "      <td>1423.636505</td>\n",
       "      <td>0.695150</td>\n",
       "    </tr>\n",
       "    <tr>\n",
       "      <th>min</th>\n",
       "      <td>4.924285e+07</td>\n",
       "      <td>492425.000000</td>\n",
       "      <td>282425.000000</td>\n",
       "      <td>3.100000</td>\n",
       "    </tr>\n",
       "    <tr>\n",
       "      <th>25%</th>\n",
       "      <td>4.943283e+07</td>\n",
       "      <td>494325.000000</td>\n",
       "      <td>284225.000000</td>\n",
       "      <td>6.500000</td>\n",
       "    </tr>\n",
       "    <tr>\n",
       "      <th>50%</th>\n",
       "      <td>4.955286e+07</td>\n",
       "      <td>495525.000000</td>\n",
       "      <td>285225.000000</td>\n",
       "      <td>6.740000</td>\n",
       "    </tr>\n",
       "    <tr>\n",
       "      <th>75%</th>\n",
       "      <td>4.968283e+07</td>\n",
       "      <td>496825.000000</td>\n",
       "      <td>286325.000000</td>\n",
       "      <td>6.990000</td>\n",
       "    </tr>\n",
       "    <tr>\n",
       "      <th>max</th>\n",
       "      <td>4.988285e+07</td>\n",
       "      <td>498825.000000</td>\n",
       "      <td>289425.000000</td>\n",
       "      <td>9.960000</td>\n",
       "    </tr>\n",
       "  </tbody>\n",
       "</table>\n",
       "</div>"
      ],
      "text/plain": [
       "                 id              x              y      f_index\n",
       "count  2.419000e+03    2419.000000    2419.000000  2419.000000\n",
       "mean   4.955714e+07  495567.910294  285295.814386     6.745635\n",
       "std    1.567794e+05    1567.766967    1423.636505     0.695150\n",
       "min    4.924285e+07  492425.000000  282425.000000     3.100000\n",
       "25%    4.943283e+07  494325.000000  284225.000000     6.500000\n",
       "50%    4.955286e+07  495525.000000  285225.000000     6.740000\n",
       "75%    4.968283e+07  496825.000000  286325.000000     6.990000\n",
       "max    4.988285e+07  498825.000000  289425.000000     9.960000"
      ]
     },
     "execution_count": 132,
     "metadata": {},
     "output_type": "execute_result"
    }
   ],
   "source": [
    "geodf.describe()"
   ]
  },
  {
   "cell_type": "code",
   "execution_count": 134,
   "metadata": {},
   "outputs": [
    {
     "data": {
      "text/plain": [
       "array([9.96, 9.94, 9.89, 9.87, 9.87, 9.84, 9.82, 9.81, 9.8 , 9.78, 9.75,\n",
       "       9.74, 9.69, 9.69, 9.67, 9.65, 9.64, 9.61, 9.6 , 9.6 , 9.54, 9.47,\n",
       "       9.4 , 9.26, 9.19, 9.06, 9.02, 9.01, 8.98, 8.96, 8.95, 8.94, 8.91,\n",
       "       8.86, 8.63, 8.62, 8.62, 8.6 , 8.59, 8.59, 8.53, 8.53, 8.52, 8.52,\n",
       "       8.51, 8.51, 8.51, 8.51, 8.5 , 8.5 ])"
      ]
     },
     "execution_count": 134,
     "metadata": {},
     "output_type": "execute_result"
    }
   ],
   "source": [
    "geodf['f_index'].sort_values(ascending=False).values[:50]"
   ]
  },
  {
   "cell_type": "code",
   "execution_count": 160,
   "metadata": {
    "scrolled": true
   },
   "outputs": [],
   "source": [
    "def f_color(x):\n",
    "    if x in geodf['f_index'].sort_values(ascending=False).values[230:250]: # 60\n",
    "        a = '#FF4F00'\n",
    "    elif x in geodf['f_index'].sort_values(ascending=False)[250:290].values:\n",
    "        a = '#FCB100'   \n",
    "    elif x in geodf['f_index'].sort_values(ascending=False)[290:340].values:      # 50%를 기준으로 설정\n",
    "        a = '#E0F500' \n",
    "    elif x in geodf['f_index'].sort_values(ascending=False)[340:470].values:      # 25%를 기준으로 설정\n",
    "        a = '#8CF700'  \n",
    "    else:\n",
    "        a = '#808080'\n",
    "    return a"
   ]
  },
  {
   "cell_type": "code",
   "execution_count": 161,
   "metadata": {
    "scrolled": true
   },
   "outputs": [
    {
     "name": "stdout",
     "output_type": "stream",
     "text": [
      "function success :)\n",
      "done :)\n"
     ]
    }
   ],
   "source": [
    "geodf['cell_color']= geodf['f_index'].apply(lambda x : f_color(x))\n",
    "\n",
    "print(\"function success :)\")\n",
    "\n",
    "###################################################################\n",
    "### 셀 수 변경###\n",
    "cell_size = 100 #\n",
    "#################\n",
    "a = cell_size//2\n",
    "x = geodf\n",
    "x['nwx'], x['nwy'] = x['x']-a, x['y']+a\n",
    "x['nex'], x['ney'] = x['x']+a, x['y']+a\n",
    "x['swx'], x['swy'] = x['x']-a, x['y']-a\n",
    "x['sex'], x['sey'] = x['x']+a ,x['y']-a\n",
    "\n",
    "x['lng'], x['lat'] = katec_to_wgs84(x.x.to_list(), x.y.to_list())\n",
    "x['nwlng'], x['nwlat'] = katec_to_wgs84(x.nwx.to_list(), x.nwy.to_list())\n",
    "x['nelng'], x['nelat'] = katec_to_wgs84(x.nex.to_list(), x.ney.to_list())\n",
    "x['swlng'], x['swlat'] = katec_to_wgs84(x.swx.to_list(), x.swy.to_list())\n",
    "x['selng'], x['selat'] = katec_to_wgs84(x.sex.to_list(), x.sey.to_list())\n",
    "\n",
    "map = folium.Map(location=[geodf['lat'].mean(), geodf['lng'].mean()], zoom_start=13, tiles='stamentoner')\n",
    "\n",
    "for n in x.index:\n",
    "    nw, ne, sw, se = [x.loc[n, 'nwlat'],x.loc[n, 'nwlng']],[x.loc[n, 'nelat'],x.loc[n, 'nelng']],[x.loc[n, 'swlat'],x.loc[n, 'swlng']],[x.loc[n, 'selat'],x.loc[n, 'selng']]\n",
    "    cell_color = x.loc[n, 'cell_color']\n",
    "    loc_name = 'ID:'+str(round(x.loc[n, 'id'],3)) + '       f_index:'+ str(round(x.loc[n, 'f_index'],3))\n",
    "    folium.Polygon(locations=[nw, sw, se, ne],\n",
    "                   color='white',\n",
    "                   popup=loc_name,\n",
    "                   weight=0.55,\n",
    "                   fill=True,\n",
    "                   fill_color=cell_color,\n",
    "                   fill_opacity=0.6\n",
    "     ).add_to(map)\n",
    "\n",
    "map.save('./test_top200_opt_analysis_dense_f.html') ###### 이름변경필요부분\n",
    "# map\n",
    "print(\"done :)\")\n"
   ]
  },
  {
   "cell_type": "code",
   "execution_count": 56,
   "metadata": {},
   "outputs": [
    {
     "name": "stdout",
     "output_type": "stream",
     "text": [
      "984\n",
      "48\n",
      "35\n",
      "27\n"
     ]
    }
   ],
   "source": [
    "print(geodf['total'].sort_values(ascending=False)[:50].values.max())# 60\n",
    "print(geodf['total'].sort_values(ascending=False)[50:100].values.max()) # 36\n",
    "print(geodf['total'].sort_values(ascending=False)[100:150].values.max()) # 28\n",
    "print(geodf['total'].sort_values(ascending=False)[150:200].values.max()) # 24"
   ]
  },
  {
   "cell_type": "code",
   "execution_count": null,
   "metadata": {},
   "outputs": [],
   "source": []
  }
 ],
 "metadata": {
  "kernelspec": {
   "display_name": "Python 3",
   "language": "python",
   "name": "python3"
  },
  "language_info": {
   "codemirror_mode": {
    "name": "ipython",
    "version": 3
   },
   "file_extension": ".py",
   "mimetype": "text/x-python",
   "name": "python",
   "nbconvert_exporter": "python",
   "pygments_lexer": "ipython3",
   "version": "3.8.8"
  }
 },
 "nbformat": 4,
 "nbformat_minor": 4
}
