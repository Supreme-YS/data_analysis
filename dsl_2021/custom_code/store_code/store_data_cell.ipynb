{
 "cells": [
  {
   "cell_type": "code",
   "execution_count": 21,
   "id": "a11cac64",
   "metadata": {},
   "outputs": [],
   "source": [
    "import pandas as pd\n",
    "import numpy as np\n",
    "import os\n",
    "from tqdm.notebook import tqdm\n",
    "\n",
    "#### 변경 셀 사이즈 및 KATECH 좌표 원점 ####\n",
    "#### x_base, y_base는 지역에 상관없이 고정값 ####\n",
    "cell_size = 100\n",
    "x_base,y_base = 400000,600000\n",
    "\n",
    "def cv_cell(x,y):  ### 셀 사이즈 변경 함수 정의 ###\n",
    "    a = ((x - x_base)//cell_size)*cell_size + (cell_size//2 -25) + x_base\n",
    "    b = ((y - y_base)//cell_size)*cell_size + (cell_size//2 -25) + y_base\n",
    "    c = (a//100)*10000 + (b//100)\n",
    "    return(c,a,b)"
   ]
  },
  {
   "cell_type": "code",
   "execution_count": 26,
   "id": "c9d287e9",
   "metadata": {
    "scrolled": true
   },
   "outputs": [
    {
     "name": "stdout",
     "output_type": "stream",
     "text": [
      "['NEW_FPR_BUSANJINGU_STORE_2021.csv']\n"
     ]
    }
   ],
   "source": [
    "path = f\"C:\\\\Users\\\\dudtj\\\\busan_moving_person\\\\data\\\\store_data\\\\100test\" #원천데이터 파일위치\n",
    "os.chdir(path)\n",
    "file_list = os.listdir(path)\n",
    "f_list = [file for file in file_list if file.endswith(\".csv\")]\n",
    "print(f_list)\n"
   ]
  },
  {
   "cell_type": "code",
   "execution_count": 29,
   "id": "145881ed",
   "metadata": {},
   "outputs": [
    {
     "name": "stdout",
     "output_type": "stream",
     "text": [
      "col_name 칼럼 수 확인 :  10\n",
      "raw_data 칼럼 수 확인 :  10\n",
      "Index(['id', 'x', 'y', 'total', 'code', 'code_nm', 'admi_cd', 'admi_nm', 'lng',\n",
      "       'lat'],\n",
      "      dtype='object')\n"
     ]
    }
   ],
   "source": [
    "# 칼럼 명 < 원천 데이터 확인 필요 > \n",
    "col_name = ['id', 'x', 'y', 'total', 'code', 'code_nm', 'admi_cd', 'admi_nm', 'lng', 'lat']\n",
    "\n",
    "# 칼럼 수 Test & Check\n",
    "test_df = pd.read_csv(f_list[0], encoding=\"cp949\")\n",
    "print(\"col_name 칼럼 수 확인 : \", len(col_name))\n",
    "print(\"raw_data 칼럼 수 확인 : \", len(test_df.columns))\n",
    "print(test_df.columns)"
   ]
  },
  {
   "cell_type": "code",
   "execution_count": 30,
   "id": "4f5965ec",
   "metadata": {},
   "outputs": [
    {
     "data": {
      "text/html": [
       "<div>\n",
       "<style scoped>\n",
       "    .dataframe tbody tr th:only-of-type {\n",
       "        vertical-align: middle;\n",
       "    }\n",
       "\n",
       "    .dataframe tbody tr th {\n",
       "        vertical-align: top;\n",
       "    }\n",
       "\n",
       "    .dataframe thead th {\n",
       "        text-align: right;\n",
       "    }\n",
       "</style>\n",
       "<table border=\"1\" class=\"dataframe\">\n",
       "  <thead>\n",
       "    <tr style=\"text-align: right;\">\n",
       "      <th></th>\n",
       "      <th>id</th>\n",
       "      <th>x</th>\n",
       "      <th>y</th>\n",
       "      <th>total</th>\n",
       "      <th>code</th>\n",
       "      <th>code_nm</th>\n",
       "      <th>admi_cd</th>\n",
       "      <th>admi_nm</th>\n",
       "      <th>lng</th>\n",
       "      <th>lat</th>\n",
       "    </tr>\n",
       "  </thead>\n",
       "  <tbody>\n",
       "    <tr>\n",
       "      <th>0</th>\n",
       "      <td>49352841</td>\n",
       "      <td>493582</td>\n",
       "      <td>284125</td>\n",
       "      <td>1</td>\n",
       "      <td>Q</td>\n",
       "      <td>음식</td>\n",
       "      <td>26230740</td>\n",
       "      <td>개금1동</td>\n",
       "      <td>129.024938</td>\n",
       "      <td>35.151645</td>\n",
       "    </tr>\n",
       "    <tr>\n",
       "      <th>1</th>\n",
       "      <td>49402841</td>\n",
       "      <td>494017</td>\n",
       "      <td>284132</td>\n",
       "      <td>1</td>\n",
       "      <td>D</td>\n",
       "      <td>소매</td>\n",
       "      <td>26230720</td>\n",
       "      <td>가야2동</td>\n",
       "      <td>129.029713</td>\n",
       "      <td>35.151668</td>\n",
       "    </tr>\n",
       "    <tr>\n",
       "      <th>2</th>\n",
       "      <td>49702847</td>\n",
       "      <td>497047</td>\n",
       "      <td>284761</td>\n",
       "      <td>1</td>\n",
       "      <td>D</td>\n",
       "      <td>소매</td>\n",
       "      <td>26230600</td>\n",
       "      <td>전포1동</td>\n",
       "      <td>129.063037</td>\n",
       "      <td>35.157050</td>\n",
       "    </tr>\n",
       "    <tr>\n",
       "      <th>3</th>\n",
       "      <td>49652841</td>\n",
       "      <td>496564</td>\n",
       "      <td>284117</td>\n",
       "      <td>1</td>\n",
       "      <td>D</td>\n",
       "      <td>소매</td>\n",
       "      <td>26230520</td>\n",
       "      <td>부전2동</td>\n",
       "      <td>129.057661</td>\n",
       "      <td>35.151292</td>\n",
       "    </tr>\n",
       "    <tr>\n",
       "      <th>4</th>\n",
       "      <td>49672852</td>\n",
       "      <td>496790</td>\n",
       "      <td>285284</td>\n",
       "      <td>1</td>\n",
       "      <td>D</td>\n",
       "      <td>소매</td>\n",
       "      <td>26230510</td>\n",
       "      <td>부전1동</td>\n",
       "      <td>129.060278</td>\n",
       "      <td>35.161788</td>\n",
       "    </tr>\n",
       "    <tr>\n",
       "      <th>...</th>\n",
       "      <td>...</td>\n",
       "      <td>...</td>\n",
       "      <td>...</td>\n",
       "      <td>...</td>\n",
       "      <td>...</td>\n",
       "      <td>...</td>\n",
       "      <td>...</td>\n",
       "      <td>...</td>\n",
       "      <td>...</td>\n",
       "      <td>...</td>\n",
       "    </tr>\n",
       "    <tr>\n",
       "      <th>17134</th>\n",
       "      <td>49712867</td>\n",
       "      <td>497198</td>\n",
       "      <td>286707</td>\n",
       "      <td>1</td>\n",
       "      <td>R</td>\n",
       "      <td>학문/교육</td>\n",
       "      <td>26230560</td>\n",
       "      <td>양정1동</td>\n",
       "      <td>129.064923</td>\n",
       "      <td>35.174574</td>\n",
       "    </tr>\n",
       "    <tr>\n",
       "      <th>17135</th>\n",
       "      <td>49652851</td>\n",
       "      <td>496520</td>\n",
       "      <td>285152</td>\n",
       "      <td>1</td>\n",
       "      <td>Q</td>\n",
       "      <td>음식</td>\n",
       "      <td>26230510</td>\n",
       "      <td>부전1동</td>\n",
       "      <td>129.057299</td>\n",
       "      <td>35.160624</td>\n",
       "    </tr>\n",
       "    <tr>\n",
       "      <th>17136</th>\n",
       "      <td>49702845</td>\n",
       "      <td>497033</td>\n",
       "      <td>284566</td>\n",
       "      <td>1</td>\n",
       "      <td>F</td>\n",
       "      <td>생활서비스</td>\n",
       "      <td>26230600</td>\n",
       "      <td>전포1동</td>\n",
       "      <td>129.062861</td>\n",
       "      <td>35.155293</td>\n",
       "    </tr>\n",
       "    <tr>\n",
       "      <th>17137</th>\n",
       "      <td>49452852</td>\n",
       "      <td>494516</td>\n",
       "      <td>285277</td>\n",
       "      <td>1</td>\n",
       "      <td>R</td>\n",
       "      <td>학문/교육</td>\n",
       "      <td>26230670</td>\n",
       "      <td>당감1동</td>\n",
       "      <td>129.035320</td>\n",
       "      <td>35.161941</td>\n",
       "    </tr>\n",
       "    <tr>\n",
       "      <th>17138</th>\n",
       "      <td>49682849</td>\n",
       "      <td>496897</td>\n",
       "      <td>284910</td>\n",
       "      <td>1</td>\n",
       "      <td>Q</td>\n",
       "      <td>음식</td>\n",
       "      <td>26230510</td>\n",
       "      <td>부전1동</td>\n",
       "      <td>129.061408</td>\n",
       "      <td>35.158407</td>\n",
       "    </tr>\n",
       "  </tbody>\n",
       "</table>\n",
       "<p>17139 rows × 10 columns</p>\n",
       "</div>"
      ],
      "text/plain": [
       "             id       x       y  total code code_nm   admi_cd admi_nm  \\\n",
       "0      49352841  493582  284125      1    Q      음식  26230740    개금1동   \n",
       "1      49402841  494017  284132      1    D      소매  26230720    가야2동   \n",
       "2      49702847  497047  284761      1    D      소매  26230600    전포1동   \n",
       "3      49652841  496564  284117      1    D      소매  26230520    부전2동   \n",
       "4      49672852  496790  285284      1    D      소매  26230510    부전1동   \n",
       "...         ...     ...     ...    ...  ...     ...       ...     ...   \n",
       "17134  49712867  497198  286707      1    R   학문/교육  26230560    양정1동   \n",
       "17135  49652851  496520  285152      1    Q      음식  26230510    부전1동   \n",
       "17136  49702845  497033  284566      1    F   생활서비스  26230600    전포1동   \n",
       "17137  49452852  494516  285277      1    R   학문/교육  26230670    당감1동   \n",
       "17138  49682849  496897  284910      1    Q      음식  26230510    부전1동   \n",
       "\n",
       "              lng        lat  \n",
       "0      129.024938  35.151645  \n",
       "1      129.029713  35.151668  \n",
       "2      129.063037  35.157050  \n",
       "3      129.057661  35.151292  \n",
       "4      129.060278  35.161788  \n",
       "...           ...        ...  \n",
       "17134  129.064923  35.174574  \n",
       "17135  129.057299  35.160624  \n",
       "17136  129.062861  35.155293  \n",
       "17137  129.035320  35.161941  \n",
       "17138  129.061408  35.158407  \n",
       "\n",
       "[17139 rows x 10 columns]"
      ]
     },
     "execution_count": 30,
     "metadata": {},
     "output_type": "execute_result"
    }
   ],
   "source": [
    "test_df"
   ]
  },
  {
   "cell_type": "code",
   "execution_count": 45,
   "id": "3b360d32",
   "metadata": {
    "scrolled": true
   },
   "outputs": [
    {
     "data": {
      "application/vnd.jupyter.widget-view+json": {
       "model_id": "3f2929a3f99647488ae75f9a6fd711e8",
       "version_major": 2,
       "version_minor": 0
      },
      "text/plain": [
       "  0%|          | 0/1 [00:00<?, ?it/s]"
      ]
     },
     "metadata": {},
     "output_type": "display_data"
    },
    {
     "name": "stdout",
     "output_type": "stream",
     "text": [
      "NEW_FPR_BUSANJINGU_STORE_2021.csv\n"
     ]
    },
    {
     "data": {
      "application/vnd.jupyter.widget-view+json": {
       "model_id": "8785adbc80b843129de79f51f6615745",
       "version_major": 2,
       "version_minor": 0
      },
      "text/plain": [
       "0it [00:00, ?it/s]"
      ]
     },
     "metadata": {},
     "output_type": "display_data"
    },
    {
     "name": "stdout",
     "output_type": "stream",
     "text": [
      "0 (500, 10)\n",
      "1 (500, 10)\n",
      "2 (500, 10)\n",
      "3 (500, 10)\n",
      "4 (500, 10)\n",
      "5 (500, 10)\n",
      "6 (500, 10)\n",
      "7 (500, 10)\n",
      "8 (500, 10)\n",
      "9 (500, 10)\n",
      "10 (500, 10)\n",
      "11 (500, 10)\n",
      "12 (500, 10)\n",
      "13 (500, 10)\n",
      "14 (500, 10)\n",
      "15 (500, 10)\n",
      "16 (500, 10)\n",
      "17 (500, 10)\n",
      "18 (500, 10)\n",
      "19 (500, 10)\n",
      "20 (500, 10)\n",
      "21 (500, 10)\n",
      "22 (500, 10)\n",
      "23 (500, 10)\n",
      "24 (500, 10)\n",
      "25 (500, 10)\n",
      "26 (500, 10)\n",
      "27 (500, 10)\n",
      "28 (500, 10)\n",
      "29 (500, 10)\n",
      "30 (500, 10)\n",
      "31 (500, 10)\n",
      "32 (500, 10)\n",
      "33 (500, 10)\n",
      "34 (139, 10)\n",
      "### 파일을 통합합니다. ###\n",
      "./CV100_NEW_FPR_BUSANJINGU_STORE_20213.csv\n"
     ]
    }
   ],
   "source": [
    "for filename in tqdm(f_list):\n",
    "    print(filename)\n",
    "\n",
    "##########################################################\n",
    "\n",
    "    chunksize = 500  ### 1번에 처리할 행의 갯수 정의 ##\n",
    "    \n",
    "##########################################################    \n",
    "    \n",
    "    cnt_list=[]\n",
    "    for cnt, celldf in tqdm(enumerate(pd.read_csv(filename, header = 0, names=col_name, encoding = \"cp949\", chunksize=chunksize))):\n",
    "        print(cnt, celldf.shape)\n",
    "         \n",
    "        a=[]\n",
    "        cellar = celldf[['x','y']].values\n",
    "        for rows in cellar:\n",
    "            a.append(cv_cell(rows[0], rows[1]))\n",
    "        \n",
    "        celldf[['id','x','y']] = a\n",
    "        celldf = celldf.groupby(['id', 'x', 'y', 'code', 'code_nm'], as_index = False).sum()\n",
    "        columns = ['id', 'x', 'y', 'total', 'code', 'code_nm']\n",
    "        celldf = celldf[columns]\n",
    "        cnt_filename = filename[:-4]+str(cnt)+filename[-4:]\n",
    "        cnt_list.append(cnt_filename)\n",
    "        celldf.to_csv(cnt_filename, encoding = \"cp949\" ,index = False)\n",
    "    \n",
    "    celldf = pd.DataFrame(columns=columns)\n",
    "    print('### 파일을 통합합니다. ###')\n",
    "    \n",
    "    for filename in cnt_list:\n",
    "        adf = pd.read_csv(filename, header = 0, encoding = \"cp949\")\n",
    "        celldf = pd.concat([celldf,adf])\n",
    "        os.remove(filename)\n",
    "        \n",
    "    celldf = celldf.groupby(['id', 'x', 'y'], as_index = False).sum()\n",
    "    celldf = celldf[columns]\n",
    "    \n",
    "    mg_filename = './CV100_'+filename[:-5]+'.csv'\n",
    "    print(mg_filename)\n",
    "    celldf.to_csv(mg_filename, encoding = \"cp949\" ,index = False)"
   ]
  },
  {
   "cell_type": "code",
   "execution_count": 5,
   "id": "d33b76ec",
   "metadata": {},
   "outputs": [
    {
     "data": {
      "text/plain": [
       "'C:\\\\Users\\\\dudtj\\\\busan_moving_person\\\\data\\\\store_data\\\\100test'"
      ]
     },
     "execution_count": 5,
     "metadata": {},
     "output_type": "execute_result"
    }
   ],
   "source": [
    "pwd"
   ]
  },
  {
   "cell_type": "code",
   "execution_count": null,
   "id": "66eab648",
   "metadata": {},
   "outputs": [],
   "source": []
  }
 ],
 "metadata": {
  "kernelspec": {
   "display_name": "Python 3",
   "language": "python",
   "name": "python3"
  },
  "language_info": {
   "codemirror_mode": {
    "name": "ipython",
    "version": 3
   },
   "file_extension": ".py",
   "mimetype": "text/x-python",
   "name": "python",
   "nbconvert_exporter": "python",
   "pygments_lexer": "ipython3",
   "version": "3.8.8"
  }
 },
 "nbformat": 4,
 "nbformat_minor": 5
}
