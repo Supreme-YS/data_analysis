{
 "cells": [
  {
   "cell_type": "code",
   "execution_count": 63,
   "metadata": {},
   "outputs": [],
   "source": [
    "import pandas as pd\n",
    "import numpy as np\n",
    "import os\n",
    "from tqdm import tqdm"
   ]
  },
  {
   "cell_type": "code",
   "execution_count": 64,
   "metadata": {},
   "outputs": [
    {
     "data": {
      "text/plain": [
       "'C:\\\\Users\\\\dudtj\\\\busan_moving_person\\\\data\\\\parquet_data'"
      ]
     },
     "execution_count": 64,
     "metadata": {},
     "output_type": "execute_result"
    }
   ],
   "source": [
    "pwd"
   ]
  },
  {
   "cell_type": "code",
   "execution_count": 65,
   "metadata": {},
   "outputs": [
    {
     "name": "stdout",
     "output_type": "stream",
     "text": [
      "[WinError 3] 지정된 경로를 찾을 수 없습니다: 'data/parquet_data'\n",
      "C:\\Users\\dudtj\\busan_moving_person\\data\\parquet_data\n"
     ]
    }
   ],
   "source": [
    "cd \"data/parquet_data\""
   ]
  },
  {
   "cell_type": "code",
   "execution_count": 66,
   "metadata": {
    "scrolled": false
   },
   "outputs": [
    {
     "data": {
      "text/plain": [
       "['50CELL_BUSANJINGU_2019_201901.parquet',\n",
       " '50CELL_BUSANJINGU_2019_201902.parquet',\n",
       " '50CELL_BUSANJINGU_2019_201903.parquet',\n",
       " '50CELL_BUSANJINGU_2019_201904.parquet',\n",
       " '50CELL_BUSANJINGU_2019_201905.parquet',\n",
       " '50CELL_BUSANJINGU_2019_201906.parquet',\n",
       " '50CELL_BUSANJINGU_2019_201907.parquet',\n",
       " '50CELL_BUSANJINGU_2019_201908.parquet',\n",
       " '50CELL_BUSANJINGU_2019_201909.parquet',\n",
       " '50CELL_BUSANJINGU_2019_201910.parquet',\n",
       " '50CELL_BUSANJINGU_2019_201911.parquet',\n",
       " '50CELL_BUSANJINGU_2019_201912.parquet']"
      ]
     },
     "execution_count": 66,
     "metadata": {},
     "output_type": "execute_result"
    }
   ],
   "source": [
    "file_list = os.listdir(\"./\")\n",
    "f_list = [file for file in file_list if file.endswith(\".parquet\")]\n",
    "f_list"
   ]
  },
  {
   "cell_type": "code",
   "execution_count": 67,
   "metadata": {
    "collapsed": true
   },
   "outputs": [
    {
     "data": {
      "text/html": [
       "<div>\n",
       "<style scoped>\n",
       "    .dataframe tbody tr th:only-of-type {\n",
       "        vertical-align: middle;\n",
       "    }\n",
       "\n",
       "    .dataframe tbody tr th {\n",
       "        vertical-align: top;\n",
       "    }\n",
       "\n",
       "    .dataframe thead th {\n",
       "        text-align: right;\n",
       "    }\n",
       "</style>\n",
       "<table border=\"1\" class=\"dataframe\">\n",
       "  <thead>\n",
       "    <tr style=\"text-align: right;\">\n",
       "      <th></th>\n",
       "      <th>id</th>\n",
       "      <th>x</th>\n",
       "      <th>y</th>\n",
       "      <th>timezn_cd</th>\n",
       "      <th>m00</th>\n",
       "      <th>m10</th>\n",
       "      <th>m15</th>\n",
       "      <th>m20</th>\n",
       "      <th>m25</th>\n",
       "      <th>m30</th>\n",
       "      <th>...</th>\n",
       "      <th>f40</th>\n",
       "      <th>f45</th>\n",
       "      <th>f50</th>\n",
       "      <th>f55</th>\n",
       "      <th>f60</th>\n",
       "      <th>f65</th>\n",
       "      <th>f70</th>\n",
       "      <th>total</th>\n",
       "      <th>admi_cd</th>\n",
       "      <th>etl_ymd</th>\n",
       "    </tr>\n",
       "  </thead>\n",
       "  <tbody>\n",
       "    <tr>\n",
       "      <th>0</th>\n",
       "      <td>95151855</td>\n",
       "      <td>492502</td>\n",
       "      <td>284793</td>\n",
       "      <td>15</td>\n",
       "      <td>0.14</td>\n",
       "      <td>0.42</td>\n",
       "      <td>0.37</td>\n",
       "      <td>0.60</td>\n",
       "      <td>0.14</td>\n",
       "      <td>0.18</td>\n",
       "      <td>...</td>\n",
       "      <td>0.55</td>\n",
       "      <td>0.28</td>\n",
       "      <td>0.55</td>\n",
       "      <td>0.51</td>\n",
       "      <td>0.32</td>\n",
       "      <td>0.09</td>\n",
       "      <td>0.23</td>\n",
       "      <td>8.87</td>\n",
       "      <td>26230760</td>\n",
       "      <td>20190110</td>\n",
       "    </tr>\n",
       "    <tr>\n",
       "      <th>1</th>\n",
       "      <td>95164043</td>\n",
       "      <td>492552</td>\n",
       "      <td>284743</td>\n",
       "      <td>6</td>\n",
       "      <td>0.09</td>\n",
       "      <td>0.23</td>\n",
       "      <td>0.28</td>\n",
       "      <td>0.18</td>\n",
       "      <td>0.28</td>\n",
       "      <td>0.28</td>\n",
       "      <td>...</td>\n",
       "      <td>0.42</td>\n",
       "      <td>0.18</td>\n",
       "      <td>0.51</td>\n",
       "      <td>0.51</td>\n",
       "      <td>0.60</td>\n",
       "      <td>0.32</td>\n",
       "      <td>0.18</td>\n",
       "      <td>9.49</td>\n",
       "      <td>26230760</td>\n",
       "      <td>20190112</td>\n",
       "    </tr>\n",
       "    <tr>\n",
       "      <th>2</th>\n",
       "      <td>95164043</td>\n",
       "      <td>492552</td>\n",
       "      <td>284743</td>\n",
       "      <td>12</td>\n",
       "      <td>0.18</td>\n",
       "      <td>0.32</td>\n",
       "      <td>0.32</td>\n",
       "      <td>0.60</td>\n",
       "      <td>0.18</td>\n",
       "      <td>0.18</td>\n",
       "      <td>...</td>\n",
       "      <td>0.42</td>\n",
       "      <td>0.60</td>\n",
       "      <td>0.97</td>\n",
       "      <td>0.79</td>\n",
       "      <td>0.14</td>\n",
       "      <td>0.09</td>\n",
       "      <td>0.14</td>\n",
       "      <td>9.93</td>\n",
       "      <td>26230760</td>\n",
       "      <td>20190116</td>\n",
       "    </tr>\n",
       "  </tbody>\n",
       "</table>\n",
       "<p>3 rows × 35 columns</p>\n",
       "</div>"
      ],
      "text/plain": [
       "         id       x       y  timezn_cd   m00   m10   m15   m20   m25   m30  \\\n",
       "0  95151855  492502  284793         15  0.14  0.42  0.37  0.60  0.14  0.18   \n",
       "1  95164043  492552  284743          6  0.09  0.23  0.28  0.18  0.28  0.28   \n",
       "2  95164043  492552  284743         12  0.18  0.32  0.32  0.60  0.18  0.18   \n",
       "\n",
       "   ...   f40   f45   f50   f55   f60   f65   f70  total   admi_cd   etl_ymd  \n",
       "0  ...  0.55  0.28  0.55  0.51  0.32  0.09  0.23   8.87  26230760  20190110  \n",
       "1  ...  0.42  0.18  0.51  0.51  0.60  0.32  0.18   9.49  26230760  20190112  \n",
       "2  ...  0.42  0.60  0.97  0.79  0.14  0.09  0.14   9.93  26230760  20190116  \n",
       "\n",
       "[3 rows x 35 columns]"
      ]
     },
     "execution_count": 67,
     "metadata": {},
     "output_type": "execute_result"
    }
   ],
   "source": [
    "testdf = pd.read_parquet('50CELL_BUSANJINGU_2019_201901.parquet')\n",
    "testdf.head(3)"
   ]
  },
  {
   "cell_type": "code",
   "execution_count": 68,
   "metadata": {},
   "outputs": [
    {
     "data": {
      "text/plain": [
       "Index(['id', 'x', 'y', 'timezn_cd', 'm00', 'm10', 'm15', 'm20', 'm25', 'm30',\n",
       "       'm35', 'm40', 'm45', 'm50', 'm55', 'm60', 'm65', 'm70', 'f00', 'f10',\n",
       "       'f15', 'f20', 'f25', 'f30', 'f35', 'f40', 'f45', 'f50', 'f55', 'f60',\n",
       "       'f65', 'f70', 'total', 'admi_cd', 'etl_ymd'],\n",
       "      dtype='object')"
      ]
     },
     "execution_count": 68,
     "metadata": {},
     "output_type": "execute_result"
    }
   ],
   "source": [
    "testdf = pd.read_parquet('50CELL_BUSANJINGU_2019_201901.parquet')\n",
    "testdf.columns"
   ]
  },
  {
   "cell_type": "code",
   "execution_count": 57,
   "metadata": {
    "scrolled": true
   },
   "outputs": [],
   "source": [
    "col_list = ['m00', 'm10', 'm15', 'm20', 'm25', 'm30','m35', 'm40', 'm45', 'm50', 'm55', 'm60', \n",
    "            'm65', 'm70', 'f00', 'f10', 'f15', 'f20', 'f25', 'f30', 'f35', 'f40', 'f45', 'f50',\n",
    "            'f55', 'f60', 'f65', 'f70', 'total']"
   ]
  },
  {
   "cell_type": "code",
   "execution_count": 61,
   "metadata": {
    "collapsed": true
   },
   "outputs": [
    {
     "name": "stderr",
     "output_type": "stream",
     "text": [
      "\r",
      "  0%|                                                                                           | 0/12 [00:00<?, ?it/s]"
     ]
    },
    {
     "data": {
      "text/html": [
       "<div>\n",
       "<style scoped>\n",
       "    .dataframe tbody tr th:only-of-type {\n",
       "        vertical-align: middle;\n",
       "    }\n",
       "\n",
       "    .dataframe tbody tr th {\n",
       "        vertical-align: top;\n",
       "    }\n",
       "\n",
       "    .dataframe thead th {\n",
       "        text-align: right;\n",
       "    }\n",
       "</style>\n",
       "<table border=\"1\" class=\"dataframe\">\n",
       "  <thead>\n",
       "    <tr style=\"text-align: right;\">\n",
       "      <th></th>\n",
       "      <th>id</th>\n",
       "      <th>x</th>\n",
       "      <th>y</th>\n",
       "      <th>timezn_cd</th>\n",
       "      <th>m_10</th>\n",
       "      <th>m_20</th>\n",
       "      <th>m_30</th>\n",
       "      <th>m_40</th>\n",
       "      <th>m_50</th>\n",
       "      <th>m_60</th>\n",
       "      <th>m_70</th>\n",
       "      <th>f_10</th>\n",
       "      <th>f_20</th>\n",
       "      <th>f_30</th>\n",
       "      <th>f_40</th>\n",
       "      <th>f_50</th>\n",
       "      <th>f_60</th>\n",
       "      <th>f_70</th>\n",
       "    </tr>\n",
       "  </thead>\n",
       "  <tbody>\n",
       "    <tr>\n",
       "      <th>0</th>\n",
       "      <td>95139666</td>\n",
       "      <td>492452</td>\n",
       "      <td>284793</td>\n",
       "      <td>0</td>\n",
       "      <td>5.69</td>\n",
       "      <td>11.18</td>\n",
       "      <td>10.46</td>\n",
       "      <td>11.1</td>\n",
       "      <td>9.65</td>\n",
       "      <td>6.87</td>\n",
       "      <td>1.13</td>\n",
       "      <td>5.88</td>\n",
       "      <td>9.48</td>\n",
       "      <td>9.1</td>\n",
       "      <td>6.7</td>\n",
       "      <td>7.79</td>\n",
       "      <td>6.41</td>\n",
       "      <td>3.45</td>\n",
       "    </tr>\n",
       "  </tbody>\n",
       "</table>\n",
       "</div>"
      ],
      "text/plain": [
       "         id       x       y  timezn_cd  m_10   m_20   m_30  m_40  m_50  m_60  \\\n",
       "0  95139666  492452  284793          0  5.69  11.18  10.46  11.1  9.65  6.87   \n",
       "\n",
       "   m_70  f_10  f_20  f_30  f_40  f_50  f_60  f_70  \n",
       "0  1.13  5.88  9.48   9.1   6.7  7.79  6.41  3.45  "
      ]
     },
     "metadata": {},
     "output_type": "display_data"
    },
    {
     "name": "stderr",
     "output_type": "stream",
     "text": [
      "\r",
      "  8%|██████▉                                                                            | 1/12 [00:05<00:55,  5.02s/it]"
     ]
    },
    {
     "name": "stdout",
     "output_type": "stream",
     "text": [
      "50CELL_BUSANJINGU_2019_201901.parquet\n"
     ]
    },
    {
     "data": {
      "text/html": [
       "<div>\n",
       "<style scoped>\n",
       "    .dataframe tbody tr th:only-of-type {\n",
       "        vertical-align: middle;\n",
       "    }\n",
       "\n",
       "    .dataframe tbody tr th {\n",
       "        vertical-align: top;\n",
       "    }\n",
       "\n",
       "    .dataframe thead th {\n",
       "        text-align: right;\n",
       "    }\n",
       "</style>\n",
       "<table border=\"1\" class=\"dataframe\">\n",
       "  <thead>\n",
       "    <tr style=\"text-align: right;\">\n",
       "      <th></th>\n",
       "      <th>id</th>\n",
       "      <th>x</th>\n",
       "      <th>y</th>\n",
       "      <th>timezn_cd</th>\n",
       "      <th>m_10</th>\n",
       "      <th>m_20</th>\n",
       "      <th>m_30</th>\n",
       "      <th>m_40</th>\n",
       "      <th>m_50</th>\n",
       "      <th>m_60</th>\n",
       "      <th>m_70</th>\n",
       "      <th>f_10</th>\n",
       "      <th>f_20</th>\n",
       "      <th>f_30</th>\n",
       "      <th>f_40</th>\n",
       "      <th>f_50</th>\n",
       "      <th>f_60</th>\n",
       "      <th>f_70</th>\n",
       "    </tr>\n",
       "  </thead>\n",
       "  <tbody>\n",
       "    <tr>\n",
       "      <th>0</th>\n",
       "      <td>95139666</td>\n",
       "      <td>492452</td>\n",
       "      <td>284793</td>\n",
       "      <td>0</td>\n",
       "      <td>2.54</td>\n",
       "      <td>10.38</td>\n",
       "      <td>10.87</td>\n",
       "      <td>10.12</td>\n",
       "      <td>10.03</td>\n",
       "      <td>4.89</td>\n",
       "      <td>1.69</td>\n",
       "      <td>6.46</td>\n",
       "      <td>8.95</td>\n",
       "      <td>8.79</td>\n",
       "      <td>6.5</td>\n",
       "      <td>5.57</td>\n",
       "      <td>3.78</td>\n",
       "      <td>0.81</td>\n",
       "    </tr>\n",
       "  </tbody>\n",
       "</table>\n",
       "</div>"
      ],
      "text/plain": [
       "         id       x       y  timezn_cd  m_10   m_20   m_30   m_40   m_50  \\\n",
       "0  95139666  492452  284793          0  2.54  10.38  10.87  10.12  10.03   \n",
       "\n",
       "   m_60  m_70  f_10  f_20  f_30  f_40  f_50  f_60  f_70  \n",
       "0  4.89  1.69  6.46  8.95  8.79   6.5  5.57  3.78  0.81  "
      ]
     },
     "metadata": {},
     "output_type": "display_data"
    },
    {
     "name": "stderr",
     "output_type": "stream",
     "text": [
      "\r",
      " 17%|█████████████▊                                                                     | 2/12 [00:09<00:48,  4.82s/it]"
     ]
    },
    {
     "name": "stdout",
     "output_type": "stream",
     "text": [
      "50CELL_BUSANJINGU_2019_201902.parquet\n"
     ]
    },
    {
     "data": {
      "text/html": [
       "<div>\n",
       "<style scoped>\n",
       "    .dataframe tbody tr th:only-of-type {\n",
       "        vertical-align: middle;\n",
       "    }\n",
       "\n",
       "    .dataframe tbody tr th {\n",
       "        vertical-align: top;\n",
       "    }\n",
       "\n",
       "    .dataframe thead th {\n",
       "        text-align: right;\n",
       "    }\n",
       "</style>\n",
       "<table border=\"1\" class=\"dataframe\">\n",
       "  <thead>\n",
       "    <tr style=\"text-align: right;\">\n",
       "      <th></th>\n",
       "      <th>id</th>\n",
       "      <th>x</th>\n",
       "      <th>y</th>\n",
       "      <th>timezn_cd</th>\n",
       "      <th>m_10</th>\n",
       "      <th>m_20</th>\n",
       "      <th>m_30</th>\n",
       "      <th>m_40</th>\n",
       "      <th>m_50</th>\n",
       "      <th>m_60</th>\n",
       "      <th>m_70</th>\n",
       "      <th>f_10</th>\n",
       "      <th>f_20</th>\n",
       "      <th>f_30</th>\n",
       "      <th>f_40</th>\n",
       "      <th>f_50</th>\n",
       "      <th>f_60</th>\n",
       "      <th>f_70</th>\n",
       "    </tr>\n",
       "  </thead>\n",
       "  <tbody>\n",
       "    <tr>\n",
       "      <th>0</th>\n",
       "      <td>95139666</td>\n",
       "      <td>492452</td>\n",
       "      <td>284793</td>\n",
       "      <td>0</td>\n",
       "      <td>6.41</td>\n",
       "      <td>10.34</td>\n",
       "      <td>11.72</td>\n",
       "      <td>8.42</td>\n",
       "      <td>12.16</td>\n",
       "      <td>5.74</td>\n",
       "      <td>2.48</td>\n",
       "      <td>7.66</td>\n",
       "      <td>9.06</td>\n",
       "      <td>10.8</td>\n",
       "      <td>6.95</td>\n",
       "      <td>6.7</td>\n",
       "      <td>5.34</td>\n",
       "      <td>2.3</td>\n",
       "    </tr>\n",
       "  </tbody>\n",
       "</table>\n",
       "</div>"
      ],
      "text/plain": [
       "         id       x       y  timezn_cd  m_10   m_20   m_30  m_40   m_50  m_60  \\\n",
       "0  95139666  492452  284793          0  6.41  10.34  11.72  8.42  12.16  5.74   \n",
       "\n",
       "   m_70  f_10  f_20  f_30  f_40  f_50  f_60  f_70  \n",
       "0  2.48  7.66  9.06  10.8  6.95   6.7  5.34   2.3  "
      ]
     },
     "metadata": {},
     "output_type": "display_data"
    },
    {
     "name": "stderr",
     "output_type": "stream",
     "text": [
      "\r",
      " 25%|████████████████████▊                                                              | 3/12 [00:14<00:44,  4.95s/it]"
     ]
    },
    {
     "name": "stdout",
     "output_type": "stream",
     "text": [
      "50CELL_BUSANJINGU_2019_201903.parquet\n"
     ]
    },
    {
     "data": {
      "text/html": [
       "<div>\n",
       "<style scoped>\n",
       "    .dataframe tbody tr th:only-of-type {\n",
       "        vertical-align: middle;\n",
       "    }\n",
       "\n",
       "    .dataframe tbody tr th {\n",
       "        vertical-align: top;\n",
       "    }\n",
       "\n",
       "    .dataframe thead th {\n",
       "        text-align: right;\n",
       "    }\n",
       "</style>\n",
       "<table border=\"1\" class=\"dataframe\">\n",
       "  <thead>\n",
       "    <tr style=\"text-align: right;\">\n",
       "      <th></th>\n",
       "      <th>id</th>\n",
       "      <th>x</th>\n",
       "      <th>y</th>\n",
       "      <th>timezn_cd</th>\n",
       "      <th>m_10</th>\n",
       "      <th>m_20</th>\n",
       "      <th>m_30</th>\n",
       "      <th>m_40</th>\n",
       "      <th>m_50</th>\n",
       "      <th>m_60</th>\n",
       "      <th>m_70</th>\n",
       "      <th>f_10</th>\n",
       "      <th>f_20</th>\n",
       "      <th>f_30</th>\n",
       "      <th>f_40</th>\n",
       "      <th>f_50</th>\n",
       "      <th>f_60</th>\n",
       "      <th>f_70</th>\n",
       "    </tr>\n",
       "  </thead>\n",
       "  <tbody>\n",
       "    <tr>\n",
       "      <th>0</th>\n",
       "      <td>95139666</td>\n",
       "      <td>492452</td>\n",
       "      <td>284793</td>\n",
       "      <td>0</td>\n",
       "      <td>2.47</td>\n",
       "      <td>6.19</td>\n",
       "      <td>10.36</td>\n",
       "      <td>7.53</td>\n",
       "      <td>8.8</td>\n",
       "      <td>7.81</td>\n",
       "      <td>1.31</td>\n",
       "      <td>6.41</td>\n",
       "      <td>9.06</td>\n",
       "      <td>8.27</td>\n",
       "      <td>6.94</td>\n",
       "      <td>7.8</td>\n",
       "      <td>2.64</td>\n",
       "      <td>0.55</td>\n",
       "    </tr>\n",
       "  </tbody>\n",
       "</table>\n",
       "</div>"
      ],
      "text/plain": [
       "         id       x       y  timezn_cd  m_10  m_20   m_30  m_40  m_50  m_60  \\\n",
       "0  95139666  492452  284793          0  2.47  6.19  10.36  7.53   8.8  7.81   \n",
       "\n",
       "   m_70  f_10  f_20  f_30  f_40  f_50  f_60  f_70  \n",
       "0  1.31  6.41  9.06  8.27  6.94   7.8  2.64  0.55  "
      ]
     },
     "metadata": {},
     "output_type": "display_data"
    },
    {
     "name": "stderr",
     "output_type": "stream",
     "text": [
      "\r",
      " 33%|███████████████████████████▋                                                       | 4/12 [00:19<00:40,  5.01s/it]"
     ]
    },
    {
     "name": "stdout",
     "output_type": "stream",
     "text": [
      "50CELL_BUSANJINGU_2019_201904.parquet\n"
     ]
    },
    {
     "data": {
      "text/html": [
       "<div>\n",
       "<style scoped>\n",
       "    .dataframe tbody tr th:only-of-type {\n",
       "        vertical-align: middle;\n",
       "    }\n",
       "\n",
       "    .dataframe tbody tr th {\n",
       "        vertical-align: top;\n",
       "    }\n",
       "\n",
       "    .dataframe thead th {\n",
       "        text-align: right;\n",
       "    }\n",
       "</style>\n",
       "<table border=\"1\" class=\"dataframe\">\n",
       "  <thead>\n",
       "    <tr style=\"text-align: right;\">\n",
       "      <th></th>\n",
       "      <th>id</th>\n",
       "      <th>x</th>\n",
       "      <th>y</th>\n",
       "      <th>timezn_cd</th>\n",
       "      <th>m_10</th>\n",
       "      <th>m_20</th>\n",
       "      <th>m_30</th>\n",
       "      <th>m_40</th>\n",
       "      <th>m_50</th>\n",
       "      <th>m_60</th>\n",
       "      <th>m_70</th>\n",
       "      <th>f_10</th>\n",
       "      <th>f_20</th>\n",
       "      <th>f_30</th>\n",
       "      <th>f_40</th>\n",
       "      <th>f_50</th>\n",
       "      <th>f_60</th>\n",
       "      <th>f_70</th>\n",
       "    </tr>\n",
       "  </thead>\n",
       "  <tbody>\n",
       "    <tr>\n",
       "      <th>0</th>\n",
       "      <td>95139666</td>\n",
       "      <td>492452</td>\n",
       "      <td>284793</td>\n",
       "      <td>0</td>\n",
       "      <td>4.05</td>\n",
       "      <td>7.08</td>\n",
       "      <td>10.0</td>\n",
       "      <td>6.77</td>\n",
       "      <td>5.67</td>\n",
       "      <td>3.58</td>\n",
       "      <td>1.71</td>\n",
       "      <td>3.1</td>\n",
       "      <td>7.7</td>\n",
       "      <td>7.84</td>\n",
       "      <td>6.73</td>\n",
       "      <td>8.87</td>\n",
       "      <td>3.42</td>\n",
       "      <td>1.66</td>\n",
       "    </tr>\n",
       "  </tbody>\n",
       "</table>\n",
       "</div>"
      ],
      "text/plain": [
       "         id       x       y  timezn_cd  m_10  m_20  m_30  m_40  m_50  m_60  \\\n",
       "0  95139666  492452  284793          0  4.05  7.08  10.0  6.77  5.67  3.58   \n",
       "\n",
       "   m_70  f_10  f_20  f_30  f_40  f_50  f_60  f_70  \n",
       "0  1.71   3.1   7.7  7.84  6.73  8.87  3.42  1.66  "
      ]
     },
     "metadata": {},
     "output_type": "display_data"
    },
    {
     "name": "stderr",
     "output_type": "stream",
     "text": [
      "\r",
      " 42%|██████████████████████████████████▌                                                | 5/12 [00:25<00:35,  5.14s/it]"
     ]
    },
    {
     "name": "stdout",
     "output_type": "stream",
     "text": [
      "50CELL_BUSANJINGU_2019_201905.parquet\n"
     ]
    },
    {
     "data": {
      "text/html": [
       "<div>\n",
       "<style scoped>\n",
       "    .dataframe tbody tr th:only-of-type {\n",
       "        vertical-align: middle;\n",
       "    }\n",
       "\n",
       "    .dataframe tbody tr th {\n",
       "        vertical-align: top;\n",
       "    }\n",
       "\n",
       "    .dataframe thead th {\n",
       "        text-align: right;\n",
       "    }\n",
       "</style>\n",
       "<table border=\"1\" class=\"dataframe\">\n",
       "  <thead>\n",
       "    <tr style=\"text-align: right;\">\n",
       "      <th></th>\n",
       "      <th>id</th>\n",
       "      <th>x</th>\n",
       "      <th>y</th>\n",
       "      <th>timezn_cd</th>\n",
       "      <th>m_10</th>\n",
       "      <th>m_20</th>\n",
       "      <th>m_30</th>\n",
       "      <th>m_40</th>\n",
       "      <th>m_50</th>\n",
       "      <th>m_60</th>\n",
       "      <th>m_70</th>\n",
       "      <th>f_10</th>\n",
       "      <th>f_20</th>\n",
       "      <th>f_30</th>\n",
       "      <th>f_40</th>\n",
       "      <th>f_50</th>\n",
       "      <th>f_60</th>\n",
       "      <th>f_70</th>\n",
       "    </tr>\n",
       "  </thead>\n",
       "  <tbody>\n",
       "    <tr>\n",
       "      <th>0</th>\n",
       "      <td>95139666</td>\n",
       "      <td>492452</td>\n",
       "      <td>284793</td>\n",
       "      <td>0</td>\n",
       "      <td>5.04</td>\n",
       "      <td>8.15</td>\n",
       "      <td>11.21</td>\n",
       "      <td>10.24</td>\n",
       "      <td>9.87</td>\n",
       "      <td>7.6</td>\n",
       "      <td>3.12</td>\n",
       "      <td>6.31</td>\n",
       "      <td>8.63</td>\n",
       "      <td>7.53</td>\n",
       "      <td>7.21</td>\n",
       "      <td>8.26</td>\n",
       "      <td>5.12</td>\n",
       "      <td>1.98</td>\n",
       "    </tr>\n",
       "  </tbody>\n",
       "</table>\n",
       "</div>"
      ],
      "text/plain": [
       "         id       x       y  timezn_cd  m_10  m_20   m_30   m_40  m_50  m_60  \\\n",
       "0  95139666  492452  284793          0  5.04  8.15  11.21  10.24  9.87   7.6   \n",
       "\n",
       "   m_70  f_10  f_20  f_30  f_40  f_50  f_60  f_70  \n",
       "0  3.12  6.31  8.63  7.53  7.21  8.26  5.12  1.98  "
      ]
     },
     "metadata": {},
     "output_type": "display_data"
    },
    {
     "name": "stderr",
     "output_type": "stream",
     "text": [
      "\r",
      " 50%|█████████████████████████████████████████▌                                         | 6/12 [00:30<00:31,  5.26s/it]"
     ]
    },
    {
     "name": "stdout",
     "output_type": "stream",
     "text": [
      "50CELL_BUSANJINGU_2019_201906.parquet\n"
     ]
    },
    {
     "data": {
      "text/html": [
       "<div>\n",
       "<style scoped>\n",
       "    .dataframe tbody tr th:only-of-type {\n",
       "        vertical-align: middle;\n",
       "    }\n",
       "\n",
       "    .dataframe tbody tr th {\n",
       "        vertical-align: top;\n",
       "    }\n",
       "\n",
       "    .dataframe thead th {\n",
       "        text-align: right;\n",
       "    }\n",
       "</style>\n",
       "<table border=\"1\" class=\"dataframe\">\n",
       "  <thead>\n",
       "    <tr style=\"text-align: right;\">\n",
       "      <th></th>\n",
       "      <th>id</th>\n",
       "      <th>x</th>\n",
       "      <th>y</th>\n",
       "      <th>timezn_cd</th>\n",
       "      <th>m_10</th>\n",
       "      <th>m_20</th>\n",
       "      <th>m_30</th>\n",
       "      <th>m_40</th>\n",
       "      <th>m_50</th>\n",
       "      <th>m_60</th>\n",
       "      <th>m_70</th>\n",
       "      <th>f_10</th>\n",
       "      <th>f_20</th>\n",
       "      <th>f_30</th>\n",
       "      <th>f_40</th>\n",
       "      <th>f_50</th>\n",
       "      <th>f_60</th>\n",
       "      <th>f_70</th>\n",
       "    </tr>\n",
       "  </thead>\n",
       "  <tbody>\n",
       "    <tr>\n",
       "      <th>0</th>\n",
       "      <td>95139666</td>\n",
       "      <td>492452</td>\n",
       "      <td>284793</td>\n",
       "      <td>0</td>\n",
       "      <td>4.26</td>\n",
       "      <td>13.02</td>\n",
       "      <td>12.07</td>\n",
       "      <td>10.28</td>\n",
       "      <td>10.76</td>\n",
       "      <td>8.5</td>\n",
       "      <td>4.45</td>\n",
       "      <td>4.38</td>\n",
       "      <td>13.62</td>\n",
       "      <td>10.05</td>\n",
       "      <td>7.14</td>\n",
       "      <td>7.93</td>\n",
       "      <td>7.82</td>\n",
       "      <td>1.98</td>\n",
       "    </tr>\n",
       "  </tbody>\n",
       "</table>\n",
       "</div>"
      ],
      "text/plain": [
       "         id       x       y  timezn_cd  m_10   m_20   m_30   m_40   m_50  \\\n",
       "0  95139666  492452  284793          0  4.26  13.02  12.07  10.28  10.76   \n",
       "\n",
       "   m_60  m_70  f_10   f_20   f_30  f_40  f_50  f_60  f_70  \n",
       "0   8.5  4.45  4.38  13.62  10.05  7.14  7.93  7.82  1.98  "
      ]
     },
     "metadata": {},
     "output_type": "display_data"
    },
    {
     "name": "stderr",
     "output_type": "stream",
     "text": [
      "\r",
      " 58%|████████████████████████████████████████████████▍                                  | 7/12 [00:36<00:26,  5.36s/it]"
     ]
    },
    {
     "name": "stdout",
     "output_type": "stream",
     "text": [
      "50CELL_BUSANJINGU_2019_201907.parquet\n"
     ]
    },
    {
     "data": {
      "text/html": [
       "<div>\n",
       "<style scoped>\n",
       "    .dataframe tbody tr th:only-of-type {\n",
       "        vertical-align: middle;\n",
       "    }\n",
       "\n",
       "    .dataframe tbody tr th {\n",
       "        vertical-align: top;\n",
       "    }\n",
       "\n",
       "    .dataframe thead th {\n",
       "        text-align: right;\n",
       "    }\n",
       "</style>\n",
       "<table border=\"1\" class=\"dataframe\">\n",
       "  <thead>\n",
       "    <tr style=\"text-align: right;\">\n",
       "      <th></th>\n",
       "      <th>id</th>\n",
       "      <th>x</th>\n",
       "      <th>y</th>\n",
       "      <th>timezn_cd</th>\n",
       "      <th>m_10</th>\n",
       "      <th>m_20</th>\n",
       "      <th>m_30</th>\n",
       "      <th>m_40</th>\n",
       "      <th>m_50</th>\n",
       "      <th>m_60</th>\n",
       "      <th>m_70</th>\n",
       "      <th>f_10</th>\n",
       "      <th>f_20</th>\n",
       "      <th>f_30</th>\n",
       "      <th>f_40</th>\n",
       "      <th>f_50</th>\n",
       "      <th>f_60</th>\n",
       "      <th>f_70</th>\n",
       "    </tr>\n",
       "  </thead>\n",
       "  <tbody>\n",
       "    <tr>\n",
       "      <th>0</th>\n",
       "      <td>95139666</td>\n",
       "      <td>492452</td>\n",
       "      <td>284793</td>\n",
       "      <td>0</td>\n",
       "      <td>7.07</td>\n",
       "      <td>17.98</td>\n",
       "      <td>13.53</td>\n",
       "      <td>8.43</td>\n",
       "      <td>7.26</td>\n",
       "      <td>10.46</td>\n",
       "      <td>2.78</td>\n",
       "      <td>8.34</td>\n",
       "      <td>12.56</td>\n",
       "      <td>10.92</td>\n",
       "      <td>10.33</td>\n",
       "      <td>11.45</td>\n",
       "      <td>8.51</td>\n",
       "      <td>3.59</td>\n",
       "    </tr>\n",
       "  </tbody>\n",
       "</table>\n",
       "</div>"
      ],
      "text/plain": [
       "         id       x       y  timezn_cd  m_10   m_20   m_30  m_40  m_50   m_60  \\\n",
       "0  95139666  492452  284793          0  7.07  17.98  13.53  8.43  7.26  10.46   \n",
       "\n",
       "   m_70  f_10   f_20   f_30   f_40   f_50  f_60  f_70  \n",
       "0  2.78  8.34  12.56  10.92  10.33  11.45  8.51  3.59  "
      ]
     },
     "metadata": {},
     "output_type": "display_data"
    },
    {
     "name": "stderr",
     "output_type": "stream",
     "text": [
      "\r",
      " 67%|███████████████████████████████████████████████████████▎                           | 8/12 [00:41<00:21,  5.45s/it]"
     ]
    },
    {
     "name": "stdout",
     "output_type": "stream",
     "text": [
      "50CELL_BUSANJINGU_2019_201908.parquet\n"
     ]
    },
    {
     "data": {
      "text/html": [
       "<div>\n",
       "<style scoped>\n",
       "    .dataframe tbody tr th:only-of-type {\n",
       "        vertical-align: middle;\n",
       "    }\n",
       "\n",
       "    .dataframe tbody tr th {\n",
       "        vertical-align: top;\n",
       "    }\n",
       "\n",
       "    .dataframe thead th {\n",
       "        text-align: right;\n",
       "    }\n",
       "</style>\n",
       "<table border=\"1\" class=\"dataframe\">\n",
       "  <thead>\n",
       "    <tr style=\"text-align: right;\">\n",
       "      <th></th>\n",
       "      <th>id</th>\n",
       "      <th>x</th>\n",
       "      <th>y</th>\n",
       "      <th>timezn_cd</th>\n",
       "      <th>m_10</th>\n",
       "      <th>m_20</th>\n",
       "      <th>m_30</th>\n",
       "      <th>m_40</th>\n",
       "      <th>m_50</th>\n",
       "      <th>m_60</th>\n",
       "      <th>m_70</th>\n",
       "      <th>f_10</th>\n",
       "      <th>f_20</th>\n",
       "      <th>f_30</th>\n",
       "      <th>f_40</th>\n",
       "      <th>f_50</th>\n",
       "      <th>f_60</th>\n",
       "      <th>f_70</th>\n",
       "    </tr>\n",
       "  </thead>\n",
       "  <tbody>\n",
       "    <tr>\n",
       "      <th>0</th>\n",
       "      <td>95139666</td>\n",
       "      <td>492452</td>\n",
       "      <td>284793</td>\n",
       "      <td>0</td>\n",
       "      <td>3.76</td>\n",
       "      <td>14.35</td>\n",
       "      <td>14.47</td>\n",
       "      <td>11.42</td>\n",
       "      <td>7.49</td>\n",
       "      <td>5.08</td>\n",
       "      <td>6.79</td>\n",
       "      <td>7.04</td>\n",
       "      <td>13.37</td>\n",
       "      <td>14.85</td>\n",
       "      <td>7.05</td>\n",
       "      <td>11.46</td>\n",
       "      <td>7.06</td>\n",
       "      <td>2.45</td>\n",
       "    </tr>\n",
       "  </tbody>\n",
       "</table>\n",
       "</div>"
      ],
      "text/plain": [
       "         id       x       y  timezn_cd  m_10   m_20   m_30   m_40  m_50  m_60  \\\n",
       "0  95139666  492452  284793          0  3.76  14.35  14.47  11.42  7.49  5.08   \n",
       "\n",
       "   m_70  f_10   f_20   f_30  f_40   f_50  f_60  f_70  \n",
       "0  6.79  7.04  13.37  14.85  7.05  11.46  7.06  2.45  "
      ]
     },
     "metadata": {},
     "output_type": "display_data"
    },
    {
     "name": "stderr",
     "output_type": "stream",
     "text": [
      "\r",
      " 75%|██████████████████████████████████████████████████████████████▎                    | 9/12 [00:47<00:16,  5.51s/it]"
     ]
    },
    {
     "name": "stdout",
     "output_type": "stream",
     "text": [
      "50CELL_BUSANJINGU_2019_201909.parquet\n"
     ]
    },
    {
     "data": {
      "text/html": [
       "<div>\n",
       "<style scoped>\n",
       "    .dataframe tbody tr th:only-of-type {\n",
       "        vertical-align: middle;\n",
       "    }\n",
       "\n",
       "    .dataframe tbody tr th {\n",
       "        vertical-align: top;\n",
       "    }\n",
       "\n",
       "    .dataframe thead th {\n",
       "        text-align: right;\n",
       "    }\n",
       "</style>\n",
       "<table border=\"1\" class=\"dataframe\">\n",
       "  <thead>\n",
       "    <tr style=\"text-align: right;\">\n",
       "      <th></th>\n",
       "      <th>id</th>\n",
       "      <th>x</th>\n",
       "      <th>y</th>\n",
       "      <th>timezn_cd</th>\n",
       "      <th>m_10</th>\n",
       "      <th>m_20</th>\n",
       "      <th>m_30</th>\n",
       "      <th>m_40</th>\n",
       "      <th>m_50</th>\n",
       "      <th>m_60</th>\n",
       "      <th>m_70</th>\n",
       "      <th>f_10</th>\n",
       "      <th>f_20</th>\n",
       "      <th>f_30</th>\n",
       "      <th>f_40</th>\n",
       "      <th>f_50</th>\n",
       "      <th>f_60</th>\n",
       "      <th>f_70</th>\n",
       "    </tr>\n",
       "  </thead>\n",
       "  <tbody>\n",
       "    <tr>\n",
       "      <th>0</th>\n",
       "      <td>95139666</td>\n",
       "      <td>492452</td>\n",
       "      <td>284793</td>\n",
       "      <td>0</td>\n",
       "      <td>6.52</td>\n",
       "      <td>13.33</td>\n",
       "      <td>18.09</td>\n",
       "      <td>8.93</td>\n",
       "      <td>6.65</td>\n",
       "      <td>9.19</td>\n",
       "      <td>2.02</td>\n",
       "      <td>7.05</td>\n",
       "      <td>15.04</td>\n",
       "      <td>13.0</td>\n",
       "      <td>6.81</td>\n",
       "      <td>10.12</td>\n",
       "      <td>9.5</td>\n",
       "      <td>2.56</td>\n",
       "    </tr>\n",
       "  </tbody>\n",
       "</table>\n",
       "</div>"
      ],
      "text/plain": [
       "         id       x       y  timezn_cd  m_10   m_20   m_30  m_40  m_50  m_60  \\\n",
       "0  95139666  492452  284793          0  6.52  13.33  18.09  8.93  6.65  9.19   \n",
       "\n",
       "   m_70  f_10   f_20  f_30  f_40   f_50  f_60  f_70  \n",
       "0  2.02  7.05  15.04  13.0  6.81  10.12   9.5  2.56  "
      ]
     },
     "metadata": {},
     "output_type": "display_data"
    },
    {
     "name": "stderr",
     "output_type": "stream",
     "text": [
      "\r",
      " 83%|████████████████████████████████████████████████████████████████████▎             | 10/12 [00:53<00:11,  5.61s/it]"
     ]
    },
    {
     "name": "stdout",
     "output_type": "stream",
     "text": [
      "50CELL_BUSANJINGU_2019_201910.parquet\n"
     ]
    },
    {
     "data": {
      "text/html": [
       "<div>\n",
       "<style scoped>\n",
       "    .dataframe tbody tr th:only-of-type {\n",
       "        vertical-align: middle;\n",
       "    }\n",
       "\n",
       "    .dataframe tbody tr th {\n",
       "        vertical-align: top;\n",
       "    }\n",
       "\n",
       "    .dataframe thead th {\n",
       "        text-align: right;\n",
       "    }\n",
       "</style>\n",
       "<table border=\"1\" class=\"dataframe\">\n",
       "  <thead>\n",
       "    <tr style=\"text-align: right;\">\n",
       "      <th></th>\n",
       "      <th>id</th>\n",
       "      <th>x</th>\n",
       "      <th>y</th>\n",
       "      <th>timezn_cd</th>\n",
       "      <th>m_10</th>\n",
       "      <th>m_20</th>\n",
       "      <th>m_30</th>\n",
       "      <th>m_40</th>\n",
       "      <th>m_50</th>\n",
       "      <th>m_60</th>\n",
       "      <th>m_70</th>\n",
       "      <th>f_10</th>\n",
       "      <th>f_20</th>\n",
       "      <th>f_30</th>\n",
       "      <th>f_40</th>\n",
       "      <th>f_50</th>\n",
       "      <th>f_60</th>\n",
       "      <th>f_70</th>\n",
       "    </tr>\n",
       "  </thead>\n",
       "  <tbody>\n",
       "    <tr>\n",
       "      <th>0</th>\n",
       "      <td>95139666</td>\n",
       "      <td>492452</td>\n",
       "      <td>284793</td>\n",
       "      <td>0</td>\n",
       "      <td>4.08</td>\n",
       "      <td>12.01</td>\n",
       "      <td>9.32</td>\n",
       "      <td>9.45</td>\n",
       "      <td>3.91</td>\n",
       "      <td>6.21</td>\n",
       "      <td>2.28</td>\n",
       "      <td>6.17</td>\n",
       "      <td>13.46</td>\n",
       "      <td>11.08</td>\n",
       "      <td>6.64</td>\n",
       "      <td>10.47</td>\n",
       "      <td>6.13</td>\n",
       "      <td>3.16</td>\n",
       "    </tr>\n",
       "  </tbody>\n",
       "</table>\n",
       "</div>"
      ],
      "text/plain": [
       "         id       x       y  timezn_cd  m_10   m_20  m_30  m_40  m_50  m_60  \\\n",
       "0  95139666  492452  284793          0  4.08  12.01  9.32  9.45  3.91  6.21   \n",
       "\n",
       "   m_70  f_10   f_20   f_30  f_40   f_50  f_60  f_70  \n",
       "0  2.28  6.17  13.46  11.08  6.64  10.47  6.13  3.16  "
      ]
     },
     "metadata": {},
     "output_type": "display_data"
    },
    {
     "name": "stderr",
     "output_type": "stream",
     "text": [
      "\r",
      " 92%|███████████████████████████████████████████████████████████████████████████▏      | 11/12 [00:59<00:05,  5.67s/it]"
     ]
    },
    {
     "name": "stdout",
     "output_type": "stream",
     "text": [
      "50CELL_BUSANJINGU_2019_201911.parquet\n"
     ]
    },
    {
     "data": {
      "text/html": [
       "<div>\n",
       "<style scoped>\n",
       "    .dataframe tbody tr th:only-of-type {\n",
       "        vertical-align: middle;\n",
       "    }\n",
       "\n",
       "    .dataframe tbody tr th {\n",
       "        vertical-align: top;\n",
       "    }\n",
       "\n",
       "    .dataframe thead th {\n",
       "        text-align: right;\n",
       "    }\n",
       "</style>\n",
       "<table border=\"1\" class=\"dataframe\">\n",
       "  <thead>\n",
       "    <tr style=\"text-align: right;\">\n",
       "      <th></th>\n",
       "      <th>id</th>\n",
       "      <th>x</th>\n",
       "      <th>y</th>\n",
       "      <th>timezn_cd</th>\n",
       "      <th>m_10</th>\n",
       "      <th>m_20</th>\n",
       "      <th>m_30</th>\n",
       "      <th>m_40</th>\n",
       "      <th>m_50</th>\n",
       "      <th>m_60</th>\n",
       "      <th>m_70</th>\n",
       "      <th>f_10</th>\n",
       "      <th>f_20</th>\n",
       "      <th>f_30</th>\n",
       "      <th>f_40</th>\n",
       "      <th>f_50</th>\n",
       "      <th>f_60</th>\n",
       "      <th>f_70</th>\n",
       "    </tr>\n",
       "  </thead>\n",
       "  <tbody>\n",
       "    <tr>\n",
       "      <th>0</th>\n",
       "      <td>95139666</td>\n",
       "      <td>492452</td>\n",
       "      <td>284793</td>\n",
       "      <td>0</td>\n",
       "      <td>3.42</td>\n",
       "      <td>8.84</td>\n",
       "      <td>10.29</td>\n",
       "      <td>9.3</td>\n",
       "      <td>4.35</td>\n",
       "      <td>6.1</td>\n",
       "      <td>2.55</td>\n",
       "      <td>4.68</td>\n",
       "      <td>8.63</td>\n",
       "      <td>8.6</td>\n",
       "      <td>5.86</td>\n",
       "      <td>9.57</td>\n",
       "      <td>5.03</td>\n",
       "      <td>2.86</td>\n",
       "    </tr>\n",
       "  </tbody>\n",
       "</table>\n",
       "</div>"
      ],
      "text/plain": [
       "         id       x       y  timezn_cd  m_10  m_20   m_30  m_40  m_50  m_60  \\\n",
       "0  95139666  492452  284793          0  3.42  8.84  10.29   9.3  4.35   6.1   \n",
       "\n",
       "   m_70  f_10  f_20  f_30  f_40  f_50  f_60  f_70  \n",
       "0  2.55  4.68  8.63   8.6  5.86  9.57  5.03  2.86  "
      ]
     },
     "metadata": {},
     "output_type": "display_data"
    },
    {
     "name": "stderr",
     "output_type": "stream",
     "text": [
      "100%|██████████████████████████████████████████████████████████████████████████████████| 12/12 [01:05<00:00,  5.44s/it]"
     ]
    },
    {
     "name": "stdout",
     "output_type": "stream",
     "text": [
      "50CELL_BUSANJINGU_2019_201912.parquet\n"
     ]
    },
    {
     "name": "stderr",
     "output_type": "stream",
     "text": [
      "\n"
     ]
    },
    {
     "name": "stdout",
     "output_type": "stream",
     "text": [
      "DONE :)\n"
     ]
    }
   ],
   "source": [
    "# 연령대를 묶어서 연산\n",
    "for i in tqdm(range(len(f_list))):\n",
    "    datadf = pd.read_parquet(f_list[i])\n",
    "    datadf = datadf.groupby(by=['id', 'x', 'y', 'timezn_cd']).sum().reset_index().iloc[:,:-2]\n",
    "    datadf = datadf[datadf.id > 0]\n",
    "    \n",
    "    datadf['m_10'] = datadf.iloc[:,4:7].sum(axis=1)\n",
    "    datadf['m_20'] = datadf.iloc[:,7:9].sum(axis=1)\n",
    "    datadf['m_30'] = datadf.iloc[:,9:11].sum(axis=1)\n",
    "    datadf['m_40'] = datadf.iloc[:,11:13].sum(axis=1)\n",
    "    datadf['m_50'] = datadf.iloc[:,13:15].sum(axis=1)\n",
    "    datadf['m_60'] = datadf.iloc[:,15:17].sum(axis=1)\n",
    "    datadf['m_70'] = datadf.iloc[:,17:18].sum(axis=1)\n",
    "    datadf['f_10'] = datadf.iloc[:,18:21].sum(axis=1)\n",
    "    datadf['f_20'] = datadf.iloc[:,21:23].sum(axis=1)\n",
    "    datadf['f_30'] = datadf.iloc[:,23:25].sum(axis=1)\n",
    "    datadf['f_40'] = datadf.iloc[:,25:27].sum(axis=1)\n",
    "    datadf['f_50'] = datadf.iloc[:,27:29].sum(axis=1)\n",
    "    datadf['f_60'] = datadf.iloc[:,29:31].sum(axis=1)\n",
    "    datadf['f_70'] = datadf.iloc[:,31:32].sum(axis=1)\n",
    "    \n",
    "    datadf = datadf.drop(columns = col_list)\n",
    "    \n",
    "    display(datadf.head(1))\n",
    "    \n",
    "    a = datadf[['id','x','y','timezn_cd',\n",
    "                'm_10','m_20','m_30','m_40', 'm_50', 'm_60', 'm_70',\n",
    "                'f_10','f_20','f_30','f_40', 'f_50', 'f_60', 'f_70']]\n",
    "    if i == 0:\n",
    "        fpdf = a\n",
    "    else:\n",
    "        fpdf = pd.merge(fpdf, a, how='outer', on=['id','x','y','timezn_cd'])\n",
    "    \n",
    "    print(f_list[i])\n",
    "    \n",
    "fpdf.to_csv('dataset_age_fp.csv', encoding = \"UTF-8\" ,index = False)\n",
    "print(\"DONE :)\")"
   ]
  },
  {
   "cell_type": "code",
   "execution_count": 76,
   "metadata": {},
   "outputs": [],
   "source": [
    "col_list = ['id', 'x', 'y', 'timezn_cd', 'total']"
   ]
  },
  {
   "cell_type": "code",
   "execution_count": 88,
   "metadata": {},
   "outputs": [
    {
     "data": {
      "text/plain": [
       "pandas.core.series.Series"
      ]
     },
     "execution_count": 88,
     "metadata": {},
     "output_type": "execute_result"
    }
   ],
   "source": [
    "type(datadf['total'])"
   ]
  },
  {
   "cell_type": "code",
   "execution_count": 90,
   "metadata": {},
   "outputs": [
    {
     "name": "stderr",
     "output_type": "stream",
     "text": [
      "  8%|██████▉                                                                            | 1/12 [00:01<00:12,  1.13s/it]"
     ]
    },
    {
     "name": "stdout",
     "output_type": "stream",
     "text": [
      "50CELL_BUSANJINGU_2019_201901.parquet\n"
     ]
    },
    {
     "name": "stderr",
     "output_type": "stream",
     "text": [
      "\r",
      " 17%|█████████████▊                                                                     | 2/12 [00:02<00:11,  1.16s/it]"
     ]
    },
    {
     "name": "stdout",
     "output_type": "stream",
     "text": [
      "50CELL_BUSANJINGU_2019_201902.parquet\n"
     ]
    },
    {
     "name": "stderr",
     "output_type": "stream",
     "text": [
      "\r",
      " 25%|████████████████████▊                                                              | 3/12 [00:03<00:10,  1.21s/it]"
     ]
    },
    {
     "name": "stdout",
     "output_type": "stream",
     "text": [
      "50CELL_BUSANJINGU_2019_201903.parquet\n"
     ]
    },
    {
     "name": "stderr",
     "output_type": "stream",
     "text": [
      "\r",
      " 33%|███████████████████████████▋                                                       | 4/12 [00:04<00:09,  1.22s/it]"
     ]
    },
    {
     "name": "stdout",
     "output_type": "stream",
     "text": [
      "50CELL_BUSANJINGU_2019_201904.parquet\n"
     ]
    },
    {
     "name": "stderr",
     "output_type": "stream",
     "text": [
      "\r",
      " 42%|██████████████████████████████████▌                                                | 5/12 [00:06<00:08,  1.27s/it]"
     ]
    },
    {
     "name": "stdout",
     "output_type": "stream",
     "text": [
      "50CELL_BUSANJINGU_2019_201905.parquet\n"
     ]
    },
    {
     "name": "stderr",
     "output_type": "stream",
     "text": [
      "\r",
      " 50%|█████████████████████████████████████████▌                                         | 6/12 [00:07<00:07,  1.29s/it]"
     ]
    },
    {
     "name": "stdout",
     "output_type": "stream",
     "text": [
      "50CELL_BUSANJINGU_2019_201906.parquet\n"
     ]
    },
    {
     "name": "stderr",
     "output_type": "stream",
     "text": [
      "\r",
      " 58%|████████████████████████████████████████████████▍                                  | 7/12 [00:08<00:06,  1.29s/it]"
     ]
    },
    {
     "name": "stdout",
     "output_type": "stream",
     "text": [
      "50CELL_BUSANJINGU_2019_201907.parquet\n"
     ]
    },
    {
     "name": "stderr",
     "output_type": "stream",
     "text": [
      "\r",
      " 67%|███████████████████████████████████████████████████████▎                           | 8/12 [00:10<00:05,  1.31s/it]"
     ]
    },
    {
     "name": "stdout",
     "output_type": "stream",
     "text": [
      "50CELL_BUSANJINGU_2019_201908.parquet\n"
     ]
    },
    {
     "name": "stderr",
     "output_type": "stream",
     "text": [
      "\r",
      " 75%|██████████████████████████████████████████████████████████████▎                    | 9/12 [00:11<00:03,  1.32s/it]"
     ]
    },
    {
     "name": "stdout",
     "output_type": "stream",
     "text": [
      "50CELL_BUSANJINGU_2019_201909.parquet\n"
     ]
    },
    {
     "name": "stderr",
     "output_type": "stream",
     "text": [
      "\r",
      " 83%|████████████████████████████████████████████████████████████████████▎             | 10/12 [00:12<00:02,  1.34s/it]"
     ]
    },
    {
     "name": "stdout",
     "output_type": "stream",
     "text": [
      "50CELL_BUSANJINGU_2019_201910.parquet\n"
     ]
    },
    {
     "name": "stderr",
     "output_type": "stream",
     "text": [
      "\r",
      " 92%|███████████████████████████████████████████████████████████████████████████▏      | 11/12 [00:14<00:01,  1.35s/it]"
     ]
    },
    {
     "name": "stdout",
     "output_type": "stream",
     "text": [
      "50CELL_BUSANJINGU_2019_201911.parquet\n"
     ]
    },
    {
     "name": "stderr",
     "output_type": "stream",
     "text": [
      "100%|██████████████████████████████████████████████████████████████████████████████████| 12/12 [00:15<00:00,  1.30s/it]"
     ]
    },
    {
     "name": "stdout",
     "output_type": "stream",
     "text": [
      "50CELL_BUSANJINGU_2019_201912.parquet\n"
     ]
    },
    {
     "name": "stderr",
     "output_type": "stream",
     "text": [
      "\n"
     ]
    },
    {
     "name": "stdout",
     "output_type": "stream",
     "text": [
      "DONE :)\n"
     ]
    }
   ],
   "source": [
    "# Monthly - Total by id, x, y, timezn_cd\n",
    "for i in tqdm(range(len(f_list))):\n",
    "    datadf = pd.read_parquet(f_list[i], columns=['id', 'x', 'y', 'timezn_cd','total'])\n",
    "    datadf = datadf.groupby(by=['id', 'x', 'y', 'timezn_cd']).sum().reset_index().iloc[:,:]\n",
    "    datadf = datadf[datadf.id > 0]\n",
    "    \n",
    "    total_col = 'total_'+str(f_list[i][23:29])    \n",
    "    \n",
    "    datadf.rename(columns = {'total':total_col})\n",
    "    \n",
    "    a = datadf[['id','x','y','timezn_cd', 'total']]\n",
    "    \n",
    "    if i == 0:\n",
    "        fpdf = a\n",
    "    else:\n",
    "        fpdf = pd.merge(fpdf, a, how='outer', on=['id','x','y','timezn_cd'])\n",
    "    \n",
    "    print(f_list[i])\n",
    "    \n",
    "fpdf.to_csv('dataset_fp.csv', encoding = \"UTF-8\" ,index = False)\n",
    "print(\"DONE :)\")"
   ]
  },
  {
   "cell_type": "code",
   "execution_count": null,
   "metadata": {},
   "outputs": [],
   "source": []
  }
 ],
 "metadata": {
  "kernelspec": {
   "display_name": "Python 3",
   "language": "python",
   "name": "python3"
  },
  "language_info": {
   "codemirror_mode": {
    "name": "ipython",
    "version": 3
   },
   "file_extension": ".py",
   "mimetype": "text/x-python",
   "name": "python",
   "nbconvert_exporter": "python",
   "pygments_lexer": "ipython3",
   "version": "3.8.8"
  }
 },
 "nbformat": 4,
 "nbformat_minor": 4
}
