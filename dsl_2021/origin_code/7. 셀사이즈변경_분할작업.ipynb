{
 "cells": [
  {
   "cell_type": "code",
   "execution_count": 1,
   "metadata": {},
   "outputs": [],
   "source": [
    "import pandas as pd\n",
    "import numpy as np\n",
    "import os\n",
    "from tqdm.notebook import tqdm\n",
    "\n",
    "#### 변경 셀 사이즈 및 KATECH 좌료 원점 ####\n",
    "cell_size = 500\n",
    "x_base,y_base = 400000,600000\n",
    "\n",
    "def cv_cell(x,y):  ### 셀 사이즈 변경 함수 정의 ###\n",
    "    a = ((x - x_base)//cell_size)*cell_size + (cell_size//2 -25) + x_base\n",
    "    b = ((y - y_base)//cell_size)*cell_size + (cell_size//2 -25) + y_base\n",
    "    c = (a//100)*10000 + (b//100)\n",
    "    return(c,a,b)"
   ]
  },
  {
   "cell_type": "code",
   "execution_count": 2,
   "metadata": {},
   "outputs": [
    {
     "name": "stdout",
     "output_type": "stream",
     "text": [
      "['SEOUL_202010.csv', 'SEOUL_202011.csv']\n"
     ]
    }
   ],
   "source": [
    "path = f\"X:\\D000. 유동인구 데이터\\D800. AI바우처_서울시\" #원천데이터 파일위치\n",
    "os.chdir(path)\n",
    "file_list = os.listdir(path)\n",
    "f_list = [file for file in file_list if file.endswith(\".csv\")]\n",
    "print(f_list)"
   ]
  },
  {
   "cell_type": "code",
   "execution_count": 3,
   "metadata": {},
   "outputs": [],
   "source": [
    "col_name = ['ID', 'X','Y','TIMEZN_CD','M00','M10','M15',\n",
    "            'M20','M25','M30','M35','M40','M45','M50','M55','M60','M65','M70',\n",
    "            'F00','F10','F15','F20','F25','F30','F35','F40','F45','F50','F55',\n",
    "            'F60','F65','F70','TOTAL','ADMI_CD','ETL_YMD']"
   ]
  },
  {
   "cell_type": "code",
   "execution_count": 4,
   "metadata": {},
   "outputs": [
    {
     "data": {
      "application/vnd.jupyter.widget-view+json": {
       "model_id": "b356622c769b486693c36adfc9be3942",
       "version_major": 2,
       "version_minor": 0
      },
      "text/plain": [
       "  0%|          | 0/2 [00:00<?, ?it/s]"
      ]
     },
     "metadata": {},
     "output_type": "display_data"
    },
    {
     "name": "stdout",
     "output_type": "stream",
     "text": [
      "SEOUL_202010.csv\n"
     ]
    },
    {
     "data": {
      "application/vnd.jupyter.widget-view+json": {
       "model_id": "c011c72d52334f5495706ce85de34967",
       "version_major": 2,
       "version_minor": 0
      },
      "text/plain": [
       "0it [00:00, ?it/s]"
      ]
     },
     "metadata": {},
     "output_type": "display_data"
    },
    {
     "name": "stdout",
     "output_type": "stream",
     "text": [
      "0 (75000000, 35)\n",
      "1 (49191785, 35)\n",
      "### 파일을 통합합니다. ###\n",
      "./500/CV500_SEOUL_202010.csv\n",
      "SEOUL_202011.csv\n"
     ]
    },
    {
     "data": {
      "application/vnd.jupyter.widget-view+json": {
       "model_id": "c8aa86fa6e364816a37737cf505158cc",
       "version_major": 2,
       "version_minor": 0
      },
      "text/plain": [
       "0it [00:00, ?it/s]"
      ]
     },
     "metadata": {},
     "output_type": "display_data"
    },
    {
     "name": "stdout",
     "output_type": "stream",
     "text": [
      "0 (75000000, 35)\n",
      "1 (45001697, 35)\n",
      "### 파일을 통합합니다. ###\n",
      "./500/CV500_SEOUL_202011.csv\n"
     ]
    }
   ],
   "source": [
    "for filename in tqdm(f_list):\n",
    "    print(filename)\n",
    "\n",
    "##########################################################\n",
    "\n",
    "    chunksize = 75000000  ### 1번에 처리할 행의 갯수 정의 ###\n",
    "    \n",
    "##########################################################    \n",
    "    \n",
    "    cnt_list=[]\n",
    "    for cnt, celldf in tqdm(enumerate(pd.read_csv(filename, header = 0, names=col_name, encoding = \"UTF-8\", chunksize=chunksize))):\n",
    "        print(cnt, celldf.shape)\n",
    "         \n",
    "        a=[]\n",
    "        cellar = celldf[['X','Y']].values\n",
    "        for rows in cellar:\n",
    "            a.append(cv_cell(rows[0], rows[1]))\n",
    "        \n",
    "        celldf[['ID','X','Y']] = a\n",
    "        celldf = celldf.groupby(['ID', 'X', 'Y', 'TIMEZN_CD','ETL_YMD'], as_index = False).sum()\n",
    "        columns = ['ID', 'X', 'Y', 'TIMEZN_CD', 'M00', 'M10', 'M15', 'M20', 'M25', 'M30','M35', 'M40', 'M45', 'M50', 'M55', 'M60', 'M65', 'M70', \n",
    "                   'F00', 'F10','F15', 'F20', 'F25', 'F30', 'F35', 'F40', 'F45', 'F50', 'F55', 'F60','F65', 'F70', 'TOTAL', 'ETL_YMD']\n",
    "        celldf = celldf[columns]\n",
    "        \n",
    "        cnt_filename = filename[:-4]+str(cnt)+filename[-4:]\n",
    "        cnt_list.append(cnt_filename)\n",
    "        celldf.to_csv(cnt_filename, encoding = \"UTF-8\" ,index = False)\n",
    "    \n",
    "    celldf = pd.DataFrame(columns=columns)\n",
    "    print('### 파일을 통합합니다. ###')\n",
    "    \n",
    "    for filename in cnt_list:\n",
    "        adf = pd.read_csv(filename, header = 0, encoding = \"UTF-8\")\n",
    "        celldf = pd.concat([celldf,adf])\n",
    "        os.remove(filename)\n",
    "        \n",
    "    celldf = celldf.groupby(['ID', 'X', 'Y', 'TIMEZN_CD','ETL_YMD'], as_index = False).sum()\n",
    "    celldf = celldf[columns]\n",
    "    \n",
    "    mg_filename = './500/CV500_'+filename[:-5]+'.csv'\n",
    "    print(mg_filename)\n",
    "    celldf.to_csv(mg_filename, encoding = \"UTF-8\" ,index = False)"
   ]
  },
  {
   "cell_type": "code",
   "execution_count": null,
   "metadata": {},
   "outputs": [],
   "source": []
  }
 ],
 "metadata": {
  "kernelspec": {
   "display_name": "Python 3",
   "language": "python",
   "name": "python3"
  },
  "language_info": {
   "codemirror_mode": {
    "name": "ipython",
    "version": 3
   },
   "file_extension": ".py",
   "mimetype": "text/x-python",
   "name": "python",
   "nbconvert_exporter": "python",
   "pygments_lexer": "ipython3",
   "version": "3.8.8"
  }
 },
 "nbformat": 4,
 "nbformat_minor": 4
}
