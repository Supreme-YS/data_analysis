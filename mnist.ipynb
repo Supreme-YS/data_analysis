{
  "nbformat": 4,
  "nbformat_minor": 0,
  "metadata": {
    "colab": {
      "name": "mnist",
      "provenance": [],
      "authorship_tag": "ABX9TyNnXv4on4x1s8D4mX8Z3wWA",
      "include_colab_link": true
    },
    "kernelspec": {
      "name": "python3",
      "display_name": "Python 3"
    },
    "language_info": {
      "name": "python"
    },
    "accelerator": "GPU"
  },
  "cells": [
    {
      "cell_type": "markdown",
      "metadata": {
        "id": "view-in-github",
        "colab_type": "text"
      },
      "source": [
        "<a href=\"https://colab.research.google.com/github/Supreme-YS/data_analysis/blob/master/mnist.ipynb\" target=\"_parent\"><img src=\"https://colab.research.google.com/assets/colab-badge.svg\" alt=\"Open In Colab\"/></a>"
      ]
    },
    {
      "cell_type": "code",
      "metadata": {
        "id": "5EGCWGv_2yNT"
      },
      "source": [
        "from sklearn.tree         import DecisionTreeClassifier\n",
        "from sklearn.linear_model import LogisticRegression\n",
        "\n",
        "# SVM add\n",
        "from sklearn.svm          import SVC\n",
        "\n",
        "# Knn add\n",
        "from sklearn.neighbors    import KNeighborsClassifier\n",
        "\n",
        "# ensemble add\n",
        "from sklearn.ensemble     import VotingClassifier\n",
        "from sklearn.ensemble     import RandomForestClassifier\n",
        "\n",
        "\n",
        "\n",
        "from sklearn.preprocessing   import LabelEncoder , OneHotEncoder , StandardScaler , MinMaxScaler , Binarizer \n",
        "from sklearn.model_selection import train_test_split , GridSearchCV , cross_val_score, cross_val_predict\n",
        "\n",
        "from sklearn.metrics import accuracy_score, precision_score, recall_score, f1_score , roc_auc_score\n",
        "from sklearn.metrics import confusion_matrix, precision_recall_curve , roc_curve\n",
        "\n",
        "import pandas as pd\n",
        "import numpy  as np\n",
        "import matplotlib.pyplot as plt\n",
        "import matplotlib\n",
        "import seaborn as sns\n",
        "\n",
        "import missingno as ms\n",
        "%matplotlib inline\n",
        "\n",
        "import warnings\n",
        "warnings.filterwarnings('ignore')\n",
        "\n",
        "# datasets\n",
        "from sklearn.datasets import fetch_openml"
      ],
      "execution_count": 28,
      "outputs": []
    },
    {
      "cell_type": "code",
      "metadata": {
        "id": "8Gw8Lil73H2q"
      },
      "source": [
        "mnist = fetch_openml(data_id=554)"
      ],
      "execution_count": 3,
      "outputs": []
    },
    {
      "cell_type": "code",
      "metadata": {
        "colab": {
          "base_uri": "https://localhost:8080/"
        },
        "id": "BdTrF49s6n3q",
        "outputId": "46778c9a-9235-4a5d-ad6f-d4f8cd8a2f88"
      },
      "source": [
        "mnist.keys()"
      ],
      "execution_count": 4,
      "outputs": [
        {
          "output_type": "execute_result",
          "data": {
            "text/plain": [
              "dict_keys(['data', 'target', 'frame', 'feature_names', 'target_names', 'DESCR', 'details', 'categories', 'url'])"
            ]
          },
          "metadata": {
            "tags": []
          },
          "execution_count": 4
        }
      ]
    },
    {
      "cell_type": "code",
      "metadata": {
        "colab": {
          "base_uri": "https://localhost:8080/"
        },
        "id": "UiYM3SEE6zqR",
        "outputId": "03091cea-03aa-4ecb-d31b-d4f24e24a83d"
      },
      "source": [
        "mnist.data.shape"
      ],
      "execution_count": 5,
      "outputs": [
        {
          "output_type": "execute_result",
          "data": {
            "text/plain": [
              "(70000, 784)"
            ]
          },
          "metadata": {
            "tags": []
          },
          "execution_count": 5
        }
      ]
    },
    {
      "cell_type": "code",
      "metadata": {
        "colab": {
          "base_uri": "https://localhost:8080/"
        },
        "id": "9w1iDw6y6_ZS",
        "outputId": "cabc4a2a-e193-4980-a9b4-80946fb89266"
      },
      "source": [
        "mnist.target.shape"
      ],
      "execution_count": 6,
      "outputs": [
        {
          "output_type": "execute_result",
          "data": {
            "text/plain": [
              "(70000,)"
            ]
          },
          "metadata": {
            "tags": []
          },
          "execution_count": 6
        }
      ]
    },
    {
      "cell_type": "code",
      "metadata": {
        "id": "uexY2KaZ7ypx"
      },
      "source": [
        "mnistDF = pd.DataFrame(mnist.data,\n",
        "                       columns = mnist.feature_names)"
      ],
      "execution_count": 7,
      "outputs": []
    },
    {
      "cell_type": "code",
      "metadata": {
        "id": "32QsjrKx8Pw6"
      },
      "source": [
        "mnistDF['target'] = mnist.target"
      ],
      "execution_count": 8,
      "outputs": []
    },
    {
      "cell_type": "code",
      "metadata": {
        "id": "eW48gQaw8TPB"
      },
      "source": [
        "y_target = mnistDF['target']\n",
        "X_features = mnistDF.drop(['target'], axis =1, inplace=False)"
      ],
      "execution_count": 9,
      "outputs": []
    },
    {
      "cell_type": "code",
      "metadata": {
        "colab": {
          "base_uri": "https://localhost:8080/"
        },
        "id": "IYU6bZh_8URx",
        "outputId": "eb062fbf-b362-4b6a-8dfa-055829b08c0b"
      },
      "source": [
        "X_features.shape, y_target.shape"
      ],
      "execution_count": 10,
      "outputs": [
        {
          "output_type": "execute_result",
          "data": {
            "text/plain": [
              "((70000, 784), (70000,))"
            ]
          },
          "metadata": {
            "tags": []
          },
          "execution_count": 10
        }
      ]
    },
    {
      "cell_type": "code",
      "metadata": {
        "id": "kmUiwJQP9bk5"
      },
      "source": [
        "X, y = mnist['data'], mnist['target']\n",
        "y = y.astype(np.int8)"
      ],
      "execution_count": 11,
      "outputs": []
    },
    {
      "cell_type": "code",
      "metadata": {
        "colab": {
          "base_uri": "https://localhost:8080/"
        },
        "id": "qPAR9wx6-UmJ",
        "outputId": "e3897565-c0fb-4481-9904-e7462541af9d"
      },
      "source": [
        "type(X), type(y) , X.shape, y.shape"
      ],
      "execution_count": 12,
      "outputs": [
        {
          "output_type": "execute_result",
          "data": {
            "text/plain": [
              "(numpy.ndarray, numpy.ndarray, (70000, 784), (70000,))"
            ]
          },
          "metadata": {
            "tags": []
          },
          "execution_count": 12
        }
      ]
    },
    {
      "cell_type": "code",
      "metadata": {
        "id": "kPgILwBb-aTJ"
      },
      "source": [
        "reshape_img = X[1].reshape(28, 28)\n",
        "reshape_img"
      ],
      "execution_count": null,
      "outputs": []
    },
    {
      "cell_type": "code",
      "metadata": {
        "colab": {
          "base_uri": "https://localhost:8080/",
          "height": 248
        },
        "id": "VszTbbNS_IdZ",
        "outputId": "4a57e0c6-8d58-4a8c-e628-b1b5d1a72696"
      },
      "source": [
        "plt.imshow(reshape_img, cmap = matplotlib.cm.binary)\n",
        "plt.axis('off')\n",
        "plt.show()"
      ],
      "execution_count": 14,
      "outputs": [
        {
          "output_type": "display_data",
          "data": {
            "image/png": "[encoded data removed]",
            "text/plain": [
              "<Figure size 432x288 with 1 Axes>"
            ]
          },
          "metadata": {
            "tags": [],
            "needs_background": "light"
          }
        }
      ]
    },
    {
      "cell_type": "code",
      "metadata": {
        "colab": {
          "base_uri": "https://localhost:8080/"
        },
        "id": "-b82nio5_SEB",
        "outputId": "18994756-aa9f-4082-9377-2dfd66a86a35"
      },
      "source": [
        "y[1]"
      ],
      "execution_count": 15,
      "outputs": [
        {
          "output_type": "execute_result",
          "data": {
            "text/plain": [
              "0"
            ]
          },
          "metadata": {
            "tags": []
          },
          "execution_count": 15
        }
      ]
    },
    {
      "cell_type": "code",
      "metadata": {
        "id": "64ZXjHcqDllB"
      },
      "source": [
        "X_train, X_test, y_train, y_test = X[:60000], X[60000: ], y[:60000], y[60000:]"
      ],
      "execution_count": 16,
      "outputs": []
    },
    {
      "cell_type": "code",
      "metadata": {
        "colab": {
          "base_uri": "https://localhost:8080/"
        },
        "id": "8yhvEGQpEqFx",
        "outputId": "817c3b20-8864-4874-b241-c707f2bd8a2c"
      },
      "source": [
        "X_train.shape, X_test.shape"
      ],
      "execution_count": 17,
      "outputs": [
        {
          "output_type": "execute_result",
          "data": {
            "text/plain": [
              "((60000, 784), (10000, 784))"
            ]
          },
          "metadata": {
            "tags": []
          },
          "execution_count": 17
        }
      ]
    },
    {
      "cell_type": "code",
      "metadata": {
        "id": "8ei4p4cXEsKP"
      },
      "source": [
        "# 데이터를 섞어주는 작업 ( shuffle )\n",
        "shuffle = np.random.permutation(60000)\n",
        "X_train, y_train = X_train[shuffle], y_train[np.random.permutation(shuffle)]\n",
        "#shuffle"
      ],
      "execution_count": 18,
      "outputs": []
    },
    {
      "cell_type": "code",
      "metadata": {
        "id": "LKAUi7ABFT8w"
      },
      "source": [
        "# 테스트\n",
        "X_test, y_test"
      ],
      "execution_count": null,
      "outputs": []
    },
    {
      "cell_type": "code",
      "metadata": {
        "id": "HO9N4w_jFoSH"
      },
      "source": [
        "dt = DecisionTreeClassifier(random_state=35)\n",
        "dt.fit(X_train, y_train)\n",
        "dt_pred = dt.predict(X_test)"
      ],
      "execution_count": 20,
      "outputs": []
    },
    {
      "cell_type": "code",
      "metadata": {
        "colab": {
          "base_uri": "https://localhost:8080/"
        },
        "id": "M46ouqywLLQj",
        "outputId": "23ef6ad7-e3fd-4613-e3d6-c8fd1cfaefa6"
      },
      "source": [
        "print('tree : ', accuracy_score(y_test, dt_pred))"
      ],
      "execution_count": 21,
      "outputs": [
        {
          "output_type": "stream",
          "text": [
            "tree :  0.1016\n"
          ],
          "name": "stdout"
        }
      ]
    },
    {
      "cell_type": "code",
      "metadata": {
        "colab": {
          "base_uri": "https://localhost:8080/"
        },
        "id": "RBqe_7kjLUSW",
        "outputId": "a5eb28eb-783d-440d-b687-c3dc001af691"
      },
      "source": [
        "# 이진 분류를 위해서\n",
        "# 7\n",
        "y_train_seven = (y_train == 7)\n",
        "y_train_seven"
      ],
      "execution_count": 22,
      "outputs": [
        {
          "output_type": "execute_result",
          "data": {
            "text/plain": [
              "array([False, False, False, ..., False, False, False])"
            ]
          },
          "metadata": {
            "tags": []
          },
          "execution_count": 22
        }
      ]
    },
    {
      "cell_type": "code",
      "metadata": {
        "colab": {
          "base_uri": "https://localhost:8080/"
        },
        "id": "dNceYWxYLqZW",
        "outputId": "6e98a3cb-2f0d-4696-b70f-dd130e31f6b5"
      },
      "source": [
        "# 확률적 경사하강법(SGD) - stochastic Gradient Descent\n",
        "from sklearn.linear_model import SGDClassifier\n",
        "\n",
        "sgd_model = SGDClassifier(random_state = 50)\n",
        "sgd_model.fit(X_train, y_train_seven)"
      ],
      "execution_count": 23,
      "outputs": [
        {
          "output_type": "execute_result",
          "data": {
            "text/plain": [
              "SGDClassifier(alpha=0.0001, average=False, class_weight=None,\n",
              "              early_stopping=False, epsilon=0.1, eta0=0.0, fit_intercept=True,\n",
              "              l1_ratio=0.15, learning_rate='optimal', loss='hinge',\n",
              "              max_iter=1000, n_iter_no_change=5, n_jobs=None, penalty='l2',\n",
              "              power_t=0.5, random_state=50, shuffle=True, tol=0.001,\n",
              "              validation_fraction=0.1, verbose=0, warm_start=False)"
            ]
          },
          "metadata": {
            "tags": []
          },
          "execution_count": 23
        }
      ]
    },
    {
      "cell_type": "code",
      "metadata": {
        "colab": {
          "base_uri": "https://localhost:8080/"
        },
        "id": "4GEFVPFzNNF2",
        "outputId": "0021bbf2-601e-4a81-d852-6e44cffba089"
      },
      "source": [
        "sgd_model.predict([X[7]])"
      ],
      "execution_count": 24,
      "outputs": [
        {
          "output_type": "execute_result",
          "data": {
            "text/plain": [
              "array([False])"
            ]
          },
          "metadata": {
            "tags": []
          },
          "execution_count": 24
        }
      ]
    },
    {
      "cell_type": "code",
      "metadata": {
        "colab": {
          "base_uri": "https://localhost:8080/"
        },
        "id": "acRH81GJSVVw",
        "outputId": "70f55869-2fb0-4871-f423-110bbf3d4b33"
      },
      "source": [
        "# 교차 검증 cross_val_score()\n",
        "scores = cross_val_score(sgd_model,X_train, y_train_seven, cv=5, scoring='accuracy' )\n",
        "scores"
      ],
      "execution_count": 26,
      "outputs": [
        {
          "output_type": "execute_result",
          "data": {
            "text/plain": [
              "array([0.82116667, 0.89491667, 0.89533333, 0.87725   , 0.79566667])"
            ]
          },
          "metadata": {
            "tags": []
          },
          "execution_count": 26
        }
      ]
    },
    {
      "cell_type": "code",
      "metadata": {
        "colab": {
          "base_uri": "https://localhost:8080/"
        },
        "id": "64aHyfyrTQBW",
        "outputId": "f575022b-b246-43d5-e80d-7ce93b7cea1a"
      },
      "source": [
        "np.mean(scores)"
      ],
      "execution_count": 27,
      "outputs": [
        {
          "output_type": "execute_result",
          "data": {
            "text/plain": [
              "0.8568666666666667"
            ]
          },
          "metadata": {
            "tags": []
          },
          "execution_count": 27
        }
      ]
    },
    {
      "cell_type": "code",
      "metadata": {
        "colab": {
          "base_uri": "https://localhost:8080/"
        },
        "id": "xeoGtFtJT_sH",
        "outputId": "1d91c3c9-0f1e-475d-f5c4-77bc527b4aa4"
      },
      "source": [
        "y_scores = cross_val_predict(sgd_model,X_train, y_train_seven, cv=5, method='decision_function' )\n",
        "y_scores"
      ],
      "execution_count": 30,
      "outputs": [
        {
          "output_type": "execute_result",
          "data": {
            "text/plain": [
              "array([-2298.46572415, -1876.64962626, -1373.87822718, ...,\n",
              "       -1132.61304646,  -188.82104497, -2851.43574759])"
            ]
          },
          "metadata": {
            "tags": []
          },
          "execution_count": 30
        }
      ]
    },
    {
      "cell_type": "code",
      "metadata": {
        "colab": {
          "base_uri": "https://localhost:8080/"
        },
        "id": "3nCl4B98W5Sr",
        "outputId": "9cb39f37-0b72-4466-ce5f-f47a3858dddd"
      },
      "source": [
        "precision, recall, thresholds = precision_recall_curve(y_train_seven, y_scores)\n",
        "precision, recall, thresholds"
      ],
      "execution_count": 32,
      "outputs": [
        {
          "output_type": "execute_result",
          "data": {
            "text/plain": [
              "(array([0.10444974, 0.10443481, 0.10443655, ..., 0.        , 0.        ,\n",
              "        1.        ]),\n",
              " array([1.        , 0.99984038, 0.99984038, ..., 0.        , 0.        ,\n",
              "        0.        ]),\n",
              " array([-7415.37848368, -7390.61834108, -7385.66452227, ...,\n",
              "         2278.23211111,  2392.05263046,  2512.3113801 ]))"
            ]
          },
          "metadata": {
            "tags": []
          },
          "execution_count": 32
        }
      ]
    },
    {
      "cell_type": "code",
      "metadata": {
        "colab": {
          "base_uri": "https://localhost:8080/"
        },
        "id": "ll4kyqmuX32b",
        "outputId": "7970f40b-1f51-4c75-e122-f42240160e9d"
      },
      "source": [
        "precision.shape, recall.shape, thresholds.shape"
      ],
      "execution_count": 33,
      "outputs": [
        {
          "output_type": "execute_result",
          "data": {
            "text/plain": [
              "((59982,), (59982,), (59981,))"
            ]
          },
          "metadata": {
            "tags": []
          },
          "execution_count": 33
        }
      ]
    },
    {
      "cell_type": "code",
      "metadata": {
        "colab": {
          "base_uri": "https://localhost:8080/",
          "height": 265
        },
        "id": "4UHlp6qkYAq1",
        "outputId": "41415e34-de95-49ed-fc7d-5fbc8b5a79c4"
      },
      "source": [
        "plt.plot(thresholds, precision[:-1], label='precision')\n",
        "plt.plot(thresholds, recall[:-1], label='precision')\n",
        "plt.show()"
      ],
      "execution_count": 37,
      "outputs": [
        {
          "output_type": "display_data",
          "data": {
            "image/png": "[encoded data removed]",
            "text/plain": [
              "<Figure size 432x288 with 1 Axes>"
            ]
          },
          "metadata": {
            "tags": [],
            "needs_background": "light"
          }
        }
      ]
    },
    {
      "cell_type": "code",
      "metadata": {
        "id": "uK0lzLgHYO3n"
      },
      "source": [
        ""
      ],
      "execution_count": null,
      "outputs": []
    }
  ]
}