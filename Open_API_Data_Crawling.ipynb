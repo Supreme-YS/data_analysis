{
  "nbformat": 4,
  "nbformat_minor": 0,
  "metadata": {
    "colab": {
      "name": "Open API Data Crawling.ipynb",
      "provenance": [],
      "authorship_tag": "ABX9TyOyXRa2wCFSlcwAchdtWbvp",
      "include_colab_link": true
    },
    "kernelspec": {
      "name": "python3",
      "display_name": "Python 3"
    },
    "language_info": {
      "name": "python"
    }
  },
  "cells": [
    {
      "cell_type": "markdown",
      "metadata": {
        "id": "view-in-github",
        "colab_type": "text"
      },
      "source": [
        "<a href=\"https://colab.research.google.com/github/Supreme-YS/data_analysis/blob/master/Open_API_Data_Crawling.ipynb\" target=\"_parent\"><img src=\"https://colab.research.google.com/assets/colab-badge.svg\" alt=\"Open In Colab\"/></a>"
      ]
    },
    {
      "cell_type": "markdown",
      "metadata": {
        "id": "AX2VUNhxs31N"
      },
      "source": [
        "# 한국 환경 공단 대기 오염 정보"
      ]
    },
    {
      "cell_type": "markdown",
      "metadata": {
        "id": "cYU7YXNAs0Er"
      },
      "source": [
        "## 한국 환경 공단_측정소정보"
      ]
    },
    {
      "cell_type": "code",
      "metadata": {
        "id": "ZLAZHJiVs_Ok"
      },
      "source": [
        "from urllib.request import Request, urlopen\n",
        "from urllib.parse import urlencode, quote_plus\n",
        "\n",
        "skey = 'p91zcyDh2fk5OVrgKERwq7tW6%2FjzcZv7iOwA50V9x0ZALzRwDyH%2F6Qr%2BdrxcCZy6iZEiNntaARn9izWJbWLisQ%3D%3D'\n",
        "\n",
        "url = 'http://openapi.airkorea.or.kr/openapi/services/rest/MsrstnInfoInqireSvc/getNearbyMsrstnList'\n",
        "params = '?' + 'ServiceKey=' + skey + '&' + \\\n",
        "urlencode({quote_plus('tmX') : '244148.546388',\n",
        "           quote_plus('tmY') : '412423.75772',\n",
        "           quote_plus('ver') : '1.0' })\n",
        "\n",
        "#print(url + params)\n",
        "\n",
        "request = Request(url + params)\n",
        "request.get_method = lambda: 'GET'\n",
        "response_body = urlopen(request).read()\n",
        "#print(response_body)"
      ],
      "execution_count": 8,
      "outputs": []
    },
    {
      "cell_type": "markdown",
      "metadata": {
        "id": "HB5Ilghoukf1"
      },
      "source": [
        "XML이기 때문에 XML파일을 가져올 수 있는 모듈을 import"
      ]
    },
    {
      "cell_type": "code",
      "metadata": {
        "id": "TcWKNLg2uQXL"
      },
      "source": [
        "from xml.etree import ElementTree\n",
        "import pandas as pd"
      ],
      "execution_count": 9,
      "outputs": []
    },
    {
      "cell_type": "markdown",
      "metadata": {
        "id": "CTm0CUitui7L"
      },
      "source": [
        "XML에서 ```<item>```부분만 가져온다"
      ]
    },
    {
      "cell_type": "code",
      "metadata": {
        "id": "U5jQHu3vu087"
      },
      "source": [
        "root = ElementTree.fromstring(response_body) # 현재 response_body가 XML 형태로 들어있는 String이다.\n",
        "\n",
        "df = pd.DataFrame() # DataFrame으로 만들어주기 위함.\n",
        "\n",
        "for item in root.iter('item'): # <item>을 iter를 걸어서 가져온다.\n",
        "    item_dict = {}\n",
        "    item_dict['stationName'] = item.find('stationName').text\n",
        "    item_dict['addr'] = item.find('addr').text\n",
        "    item_dict['tm'] = item.find('tm').text\n",
        "    df = df.append(item_dict, ignore_index=True)\n",
        "\n",
        "df"
      ],
      "execution_count": null,
      "outputs": []
    },
    {
      "cell_type": "markdown",
      "metadata": {
        "id": "v0xzQMDYwBq4"
      },
      "source": [
        "## 한국 환경 공단_대기오염정보"
      ]
    },
    {
      "cell_type": "markdown",
      "metadata": {
        "id": "9bwq9YFBwYRR"
      },
      "source": [
        "### 측정소별 실시간 측정정보 조회"
      ]
    },
    {
      "cell_type": "code",
      "metadata": {
        "id": "CPbcsp1eu4oC"
      },
      "source": [
        "from urllib.request import Request, urlopen\n",
        "from urllib.parse import urlencode, quote_plus\n",
        "from xml.etree import ElementTree\n",
        "import pandas as pd\n",
        "\n",
        "skey = 'p91zcyDh2fk5OVrgKERwq7tW6%2FjzcZv7iOwA50V9x0ZALzRwDyH%2F6Qr%2BdrxcCZy6iZEiNntaARn9izWJbWLisQ%3D%3D'\n",
        "\n",
        "url = 'http://openapi.airkorea.or.kr/openapi/services/rest/ArpltnInforInqireSvc/getMsrstnAcctoRltmMesureDnsty'\n",
        "params = '?' + 'ServiceKey=' + skey + '&' + \\\n",
        "urlencode({quote_plus('numOfRows') : '10',\n",
        "           quote_plus('pageNo') : '1',\n",
        "           quote_plus('stationName') : '종로구',\n",
        "           quote_plus('dataTerm') : 'DAILY',\n",
        "           quote_plus('ver') : '1.3' })\n",
        "\n",
        "print(url + params)\n",
        "      \n",
        "request = Request(url + params)\n",
        "request.get_method = lambda: 'GET'\n",
        "response_body = urlopen(request).read()\n",
        "#print(response_body)\n",
        "\n",
        "\n",
        "root = ElementTree.fromstring(response_body) # 현재 response_body가 XML 형태로 들어있는 String이다.\n",
        "\n",
        "df = pd.DataFrame() # DataFrame으로 만들어주기 위함.\n",
        "\n",
        "for item in root.iter('item'): # <item>을 iter를 걸어서 가져온다.\n",
        "    item_dict = {}\n",
        "    item_dict['dataTime'] = item.find('dataTime').text\n",
        "    item_dict['mangName'] = item.find('mangName').text\n",
        "    item_dict['so2Value'] = item.find('so2Value').text\n",
        "    item_dict['coValue'] = item.find('coValue').text\n",
        "    item_dict['o3Value'] = item.find('o3Value').text\n",
        "    item_dict['no2Value'] = item.find('no2Value').text\n",
        "    item_dict['pm10Value'] = item.find('pm10Value').text\n",
        "    item_dict['pm10Value24'] = item.find('pm10Value24').text\n",
        "    item_dict['pm25Value'] = item.find('pm25Value').text\n",
        "    item_dict['pm25Value24'] = item.find('pm25Value24').text\n",
        "    item_dict['khaiValue'] = item.find('khaiValue').text\n",
        "    item_dict['khaiGrade'] = item.find('khaiGrade').text\n",
        "    item_dict['so2Grade'] = item.find('so2Grade').text\n",
        "    item_dict['coGrade'] = item.find('coGrade').text\n",
        "    item_dict['o3Grade'] = item.find('o3Grade').text\n",
        "    item_dict['no2Grade'] = item.find('no2Grade').text\n",
        "    item_dict['pm10Grade'] = item.find('pm10Grade').text\n",
        "    item_dict['pm25Grade'] = item.find('pm25Grade').text\n",
        "    item_dict['pm10Grade1h'] = item.find('pm10Grade1h').text\n",
        "    item_dict['pm25Grade1h'] = item.find('pm25Grade1h').text\n",
        "    df = df.append(item_dict, ignore_index=True)\n",
        "\n",
        "df"
      ],
      "execution_count": null,
      "outputs": []
    },
    {
      "cell_type": "markdown",
      "metadata": {
        "id": "cGevYaFJytCR"
      },
      "source": [
        "### 시도별 실시간 측정정보 조회"
      ]
    },
    {
      "cell_type": "code",
      "metadata": {
        "id": "bHReeHMIxTMk"
      },
      "source": [
        "from urllib.request import Request, urlopen\n",
        "from urllib.parse import urlencode, quote_plus\n",
        "from xml.etree import ElementTree\n",
        "import pandas as pd\n",
        "\n",
        "skey = 'p91zcyDh2fk5OVrgKERwq7tW6%2FjzcZv7iOwA50V9x0ZALzRwDyH%2F6Qr%2BdrxcCZy6iZEiNntaARn9izWJbWLisQ%3D%3D'\n",
        "\n",
        "url = 'http://openapi.airkorea.or.kr/openapi/services/rest/ArpltnInforInqireSvc/getCtprvnRltmMesureDnsty'\n",
        "params = '?' + 'ServiceKey=' + skey + '&' + \\\n",
        "urlencode({quote_plus('numOfRows') : '10',\n",
        "           quote_plus('pageNo') : '1',\n",
        "           quote_plus('sidoName') : '인천',\n",
        "           quote_plus('ver') : '1.3' })\n",
        "\n",
        "print(url + params)\n",
        "      \n",
        "request = Request(url + params)\n",
        "request.get_method = lambda: 'GET'\n",
        "response_body = urlopen(request).read()\n",
        "#print(response_body)\n",
        "\n",
        "\n",
        "root = ElementTree.fromstring(response_body) # 현재 response_body가 XML 형태로 들어있는 String이다.\n",
        "\n",
        "df = pd.DataFrame() # DataFrame으로 만들어주기 위함.\n",
        "\n",
        "for item in root.iter('item'): # <item>을 iter를 걸어서 가져온다.\n",
        "    item_dict = {}\n",
        "    item_dict['stationName'] = item.find('stationName').text\n",
        "    item_dict['mangName'] = item.find('mangName').text\n",
        "    item_dict['dataTime'] = item.find('dataTime').text\n",
        "    item_dict['so2Value'] = item.find('so2Value').text\n",
        "    item_dict['coValue'] = item.find('coValue').text\n",
        "    item_dict['o3Value'] = item.find('o3Value').text\n",
        "    item_dict['no2Value'] = item.find('no2Value').text\n",
        "    item_dict['pm10Value'] = item.find('pm10Value').text\n",
        "    item_dict['pm10Value24'] = item.find('pm10Value24').text\n",
        "    item_dict['pm25Value'] = item.find('pm25Value').text\n",
        "    item_dict['pm25Value24'] = item.find('pm25Value24').text\n",
        "    item_dict['khaiValue'] = item.find('khaiValue').text\n",
        "    item_dict['khaiGrade'] = item.find('khaiGrade').text\n",
        "    item_dict['so2Grade'] = item.find('so2Grade').text\n",
        "    item_dict['coGrade'] = item.find('coGrade').text\n",
        "    item_dict['o3Grade'] = item.find('o3Grade').text\n",
        "    item_dict['no2Grade'] = item.find('no2Grade').text\n",
        "    item_dict['pm10Grade'] = item.find('pm10Grade').text\n",
        "    item_dict['pm25Grade'] = item.find('pm25Grade').text\n",
        "    item_dict['pm10Grade1h'] = item.find('pm10Grade1h').text\n",
        "    item_dict['pm25Grade1h'] = item.find('pm25Grade1h').text\n",
        "    df = df.append(item_dict, ignore_index=True)\n",
        "\n",
        "df"
      ],
      "execution_count": null,
      "outputs": []
    },
    {
      "cell_type": "markdown",
      "metadata": {
        "id": "qkbaqyaQ0JSM"
      },
      "source": [
        "### 시군구별 실시간 평균정보 조회"
      ]
    },
    {
      "cell_type": "code",
      "metadata": {
        "colab": {
          "base_uri": "https://localhost:8080/",
          "height": 397
        },
        "id": "Coy7lbAszlL0",
        "outputId": "cb39d961-6da7-4cec-cb85-4430ae169780"
      },
      "source": [
        "from urllib.request import Request, urlopen\n",
        "from urllib.parse import urlencode, quote_plus\n",
        "from xml.etree import ElementTree\n",
        "import pandas as pd\n",
        "\n",
        "skey = 'p91zcyDh2fk5OVrgKERwq7tW6%2FjzcZv7iOwA50V9x0ZALzRwDyH%2F6Qr%2BdrxcCZy6iZEiNntaARn9izWJbWLisQ%3D%3D'\n",
        "\n",
        "url = 'http://openapi.airkorea.or.kr/openapi/services/rest/ArpltnInforInqireSvc/getCtprvnMesureSidoLIst'\n",
        "params = '?' + 'ServiceKey=' + skey + '&' + \\\n",
        "urlencode({quote_plus('numOfRows') : '10',\n",
        "           quote_plus('pageNo') : '1',\n",
        "           quote_plus('sidoName') : '서울',\n",
        "           quote_plus('searchCondition') : 'DAILY'})\n",
        "\n",
        "print(url + params)\n",
        "      \n",
        "request = Request(url + params)\n",
        "request.get_method = lambda: 'GET'\n",
        "response_body = urlopen(request).read()\n",
        "#print(response_body)\n",
        "\n",
        "\n",
        "root = ElementTree.fromstring(response_body) # 현재 response_body가 XML 형태로 들어있는 String이다.\n",
        "\n",
        "df = pd.DataFrame() # DataFrame으로 만들어주기 위함.\n",
        "\n",
        "for item in root.iter('item'): # <item>을 iter를 걸어서 가져온다.\n",
        "    item_dict = {}\n",
        "\n",
        "    item_dict['dataTime'] = item.find('dataTime').text\n",
        "    item_dict['cityName'] = item.find('cityName').text\n",
        "    item_dict['so2Value'] = item.find('so2Value').text\n",
        "    item_dict['coValue'] = item.find('coValue').text\n",
        "    item_dict['o3Value'] = item.find('o3Value').text\n",
        "    item_dict['no2Value'] = item.find('no2Value').text\n",
        "    item_dict['pm10Value'] = item.find('pm10Value').text\n",
        "    item_dict['pm25Value'] = item.find('pm25Value').text\n",
        "    df = df.append(item_dict, ignore_index=True)\n",
        "\n",
        "df"
      ],
      "execution_count": 24,
      "outputs": [
        {
          "output_type": "stream",
          "text": [
            "http://openapi.airkorea.or.kr/openapi/services/rest/ArpltnInforInqireSvc/getCtprvnMesureSidoLIst?ServiceKey=p91zcyDh2fk5OVrgKERwq7tW6%2FjzcZv7iOwA50V9x0ZALzRwDyH%2F6Qr%2BdrxcCZy6iZEiNntaARn9izWJbWLisQ%3D%3D&numOfRows=10&pageNo=1&sidoName=%EC%84%9C%EC%9A%B8&searchCondition=DAILY\n"
          ],
          "name": "stdout"
        },
        {
          "output_type": "execute_result",
          "data": {
            "text/html": [
              "<div>\n",
              "<style scoped>\n",
              "    .dataframe tbody tr th:only-of-type {\n",
              "        vertical-align: middle;\n",
              "    }\n",
              "\n",
              "    .dataframe tbody tr th {\n",
              "        vertical-align: top;\n",
              "    }\n",
              "\n",
              "    .dataframe thead th {\n",
              "        text-align: right;\n",
              "    }\n",
              "</style>\n",
              "<table border=\"1\" class=\"dataframe\">\n",
              "  <thead>\n",
              "    <tr style=\"text-align: right;\">\n",
              "      <th></th>\n",
              "      <th>cityName</th>\n",
              "      <th>coValue</th>\n",
              "      <th>dataTime</th>\n",
              "      <th>no2Value</th>\n",
              "      <th>o3Value</th>\n",
              "      <th>pm10Value</th>\n",
              "      <th>pm25Value</th>\n",
              "      <th>so2Value</th>\n",
              "    </tr>\n",
              "  </thead>\n",
              "  <tbody>\n",
              "    <tr>\n",
              "      <th>0</th>\n",
              "      <td>강남구</td>\n",
              "      <td>0.4</td>\n",
              "      <td>2021-03-29 15:00</td>\n",
              "      <td>0.018</td>\n",
              "      <td>0.039</td>\n",
              "      <td>149</td>\n",
              "      <td>17</td>\n",
              "      <td>0.003</td>\n",
              "    </tr>\n",
              "    <tr>\n",
              "      <th>1</th>\n",
              "      <td>강동구</td>\n",
              "      <td>0.3</td>\n",
              "      <td>2021-03-29 15:00</td>\n",
              "      <td>0.008</td>\n",
              "      <td>0.040</td>\n",
              "      <td>166</td>\n",
              "      <td>19</td>\n",
              "      <td>0.003</td>\n",
              "    </tr>\n",
              "    <tr>\n",
              "      <th>2</th>\n",
              "      <td>강북구</td>\n",
              "      <td>0.3</td>\n",
              "      <td>2021-03-29 15:00</td>\n",
              "      <td>0.009</td>\n",
              "      <td>0.039</td>\n",
              "      <td>253</td>\n",
              "      <td>28</td>\n",
              "      <td>0.003</td>\n",
              "    </tr>\n",
              "    <tr>\n",
              "      <th>3</th>\n",
              "      <td>강서구</td>\n",
              "      <td>0.3</td>\n",
              "      <td>2021-03-29 15:00</td>\n",
              "      <td>0.013</td>\n",
              "      <td>0.043</td>\n",
              "      <td>205</td>\n",
              "      <td>26</td>\n",
              "      <td>0.003</td>\n",
              "    </tr>\n",
              "    <tr>\n",
              "      <th>4</th>\n",
              "      <td>관악구</td>\n",
              "      <td>0.4</td>\n",
              "      <td>2021-03-29 15:00</td>\n",
              "      <td>0.019</td>\n",
              "      <td>0.035</td>\n",
              "      <td>162</td>\n",
              "      <td>17</td>\n",
              "      <td>0.003</td>\n",
              "    </tr>\n",
              "    <tr>\n",
              "      <th>5</th>\n",
              "      <td>광진구</td>\n",
              "      <td>0.2</td>\n",
              "      <td>2021-03-29 15:00</td>\n",
              "      <td>0.013</td>\n",
              "      <td>0.040</td>\n",
              "      <td>156</td>\n",
              "      <td>18</td>\n",
              "      <td>0.003</td>\n",
              "    </tr>\n",
              "    <tr>\n",
              "      <th>6</th>\n",
              "      <td>구로구</td>\n",
              "      <td>0.3</td>\n",
              "      <td>2021-03-29 15:00</td>\n",
              "      <td>0.014</td>\n",
              "      <td>0.040</td>\n",
              "      <td>278</td>\n",
              "      <td>26</td>\n",
              "      <td>0.003</td>\n",
              "    </tr>\n",
              "    <tr>\n",
              "      <th>7</th>\n",
              "      <td>금천구</td>\n",
              "      <td>0.3</td>\n",
              "      <td>2021-03-29 15:00</td>\n",
              "      <td>0.011</td>\n",
              "      <td>0.044</td>\n",
              "      <td>164</td>\n",
              "      <td>15</td>\n",
              "      <td>0.003</td>\n",
              "    </tr>\n",
              "    <tr>\n",
              "      <th>8</th>\n",
              "      <td>노원구</td>\n",
              "      <td>0.4</td>\n",
              "      <td>2021-03-29 15:00</td>\n",
              "      <td>0.010</td>\n",
              "      <td>0.043</td>\n",
              "      <td>230</td>\n",
              "      <td>30</td>\n",
              "      <td>0.003</td>\n",
              "    </tr>\n",
              "    <tr>\n",
              "      <th>9</th>\n",
              "      <td>도봉구</td>\n",
              "      <td>0.2</td>\n",
              "      <td>2021-03-29 15:00</td>\n",
              "      <td>0.009</td>\n",
              "      <td>0.045</td>\n",
              "      <td>194</td>\n",
              "      <td>19</td>\n",
              "      <td>0.003</td>\n",
              "    </tr>\n",
              "  </tbody>\n",
              "</table>\n",
              "</div>"
            ],
            "text/plain": [
              "  cityName coValue          dataTime  ... pm10Value pm25Value so2Value\n",
              "0      강남구     0.4  2021-03-29 15:00  ...       149        17    0.003\n",
              "1      강동구     0.3  2021-03-29 15:00  ...       166        19    0.003\n",
              "2      강북구     0.3  2021-03-29 15:00  ...       253        28    0.003\n",
              "3      강서구     0.3  2021-03-29 15:00  ...       205        26    0.003\n",
              "4      관악구     0.4  2021-03-29 15:00  ...       162        17    0.003\n",
              "5      광진구     0.2  2021-03-29 15:00  ...       156        18    0.003\n",
              "6      구로구     0.3  2021-03-29 15:00  ...       278        26    0.003\n",
              "7      금천구     0.3  2021-03-29 15:00  ...       164        15    0.003\n",
              "8      노원구     0.4  2021-03-29 15:00  ...       230        30    0.003\n",
              "9      도봉구     0.2  2021-03-29 15:00  ...       194        19    0.003\n",
              "\n",
              "[10 rows x 8 columns]"
            ]
          },
          "metadata": {
            "tags": []
          },
          "execution_count": 24
        }
      ]
    }
  ]
}