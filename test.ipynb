{
 "cells": [
  {
   "cell_type": "markdown",
   "metadata": {},
   "source": [
    "제공된 3개의 파일을 활용한 [실습]\n",
    "- ratings.dat\n",
    "- movies.dat\n",
    "- users.dat"
   ]
  },
  {
   "cell_type": "code",
   "execution_count": 1,
   "metadata": {},
   "outputs": [],
   "source": [
    "import pandas as pd\n",
    "import numpy as np"
   ]
  },
  {
   "cell_type": "code",
   "execution_count": 2,
   "metadata": {},
   "outputs": [
    {
     "name": "stderr",
     "output_type": "stream",
     "text": [
      "<ipython-input-2-2c6bf9400603>:1: ParserWarning: Falling back to the 'python' engine because the 'c' engine does not support regex separators (separators > 1 char and different from '\\s+' are interpreted as regex); you can avoid this warning by specifying engine='python'.\n",
      "  data1 = pd.read_csv('./data/ratings.dat', sep=\"::\", header=None, names=['userid', 'movieid', 'raiting', 'timestamp'])\n"
     ]
    }
   ],
   "source": [
    "data1 = pd.read_csv('./data/ratings.dat', sep=\"::\", header=None, names=['userid', 'movieid', 'raiting', 'timestamp'])"
   ]
  },
  {
   "cell_type": "code",
   "execution_count": 3,
   "metadata": {},
   "outputs": [
    {
     "name": "stderr",
     "output_type": "stream",
     "text": [
      "<ipython-input-3-646b2c68cc03>:1: ParserWarning: Falling back to the 'python' engine because the 'c' engine does not support regex separators (separators > 1 char and different from '\\s+' are interpreted as regex); you can avoid this warning by specifying engine='python'.\n",
      "  data2 = pd.read_csv('./data/movies.dat', sep=\"::\", header=None, names=['movieid', 'title', 'genres'])\n"
     ]
    }
   ],
   "source": [
    "data2 = pd.read_csv('./data/movies.dat', sep=\"::\", header=None, names=['movieid', 'title', 'genres'])"
   ]
  },
  {
   "cell_type": "code",
   "execution_count": 4,
   "metadata": {},
   "outputs": [
    {
     "name": "stderr",
     "output_type": "stream",
     "text": [
      "<ipython-input-4-526645847b83>:1: ParserWarning: Falling back to the 'python' engine because the 'c' engine does not support regex separators (separators > 1 char and different from '\\s+' are interpreted as regex); you can avoid this warning by specifying engine='python'.\n",
      "  data3 = pd.read_csv('./data/users.dat', sep=\"::\", header=None, names=['userid', 'gender','age','dummy1','dummy2'])\n"
     ]
    }
   ],
   "source": [
    "data3 = pd.read_csv('./data/users.dat', sep=\"::\", header=None, names=['userid', 'gender','age','dummy1','dummy2'])\n",
    "data3 = data3.drop(['dummy1', 'dummy2'], axis=1, inplace=False)"
   ]
  },
  {
   "cell_type": "code",
   "execution_count": 5,
   "metadata": {
    "scrolled": true
   },
   "outputs": [
    {
     "name": "stdout",
     "output_type": "stream",
     "text": [
      "<class 'pandas.core.frame.DataFrame'>\n",
      "RangeIndex: 1000209 entries, 0 to 1000208\n",
      "Data columns (total 4 columns):\n",
      " #   Column     Non-Null Count    Dtype\n",
      "---  ------     --------------    -----\n",
      " 0   userid     1000209 non-null  int64\n",
      " 1   movieid    1000209 non-null  int64\n",
      " 2   raiting    1000209 non-null  int64\n",
      " 3   timestamp  1000209 non-null  int64\n",
      "dtypes: int64(4)\n",
      "memory usage: 30.5 MB\n",
      "None\n",
      "**************************************************\n",
      "<class 'pandas.core.frame.DataFrame'>\n",
      "RangeIndex: 3883 entries, 0 to 3882\n",
      "Data columns (total 3 columns):\n",
      " #   Column   Non-Null Count  Dtype \n",
      "---  ------   --------------  ----- \n",
      " 0   movieid  3883 non-null   int64 \n",
      " 1   title    3883 non-null   object\n",
      " 2   genres   3883 non-null   object\n",
      "dtypes: int64(1), object(2)\n",
      "memory usage: 91.1+ KB\n",
      "None\n",
      "**************************************************\n",
      "<class 'pandas.core.frame.DataFrame'>\n",
      "RangeIndex: 6040 entries, 0 to 6039\n",
      "Data columns (total 3 columns):\n",
      " #   Column  Non-Null Count  Dtype \n",
      "---  ------  --------------  ----- \n",
      " 0   userid  6040 non-null   int64 \n",
      " 1   gender  6040 non-null   object\n",
      " 2   age     6040 non-null   int64 \n",
      "dtypes: int64(2), object(1)\n",
      "memory usage: 141.7+ KB\n",
      "None\n",
      "**************************************************\n"
     ]
    }
   ],
   "source": [
    "print(data1.info())\n",
    "print('*'*50)\n",
    "print(data2.info())\n",
    "print('*'*50)\n",
    "print(data3.info())\n",
    "print('*'*50)"
   ]
  },
  {
   "cell_type": "code",
   "execution_count": 6,
   "metadata": {},
   "outputs": [
    {
     "name": "stdout",
     "output_type": "stream",
     "text": [
      "   userid  movieid  raiting  timestamp\n",
      "0       1     1193        5  978300760\n",
      "1       1      661        3  978302109\n",
      "2       1      914        3  978301968\n",
      "3       1     3408        4  978300275\n",
      "4       1     2355        5  978824291\n",
      "**************************************************\n",
      "   movieid                               title                        genres\n",
      "0        1                    Toy Story (1995)   Animation|Children's|Comedy\n",
      "1        2                      Jumanji (1995)  Adventure|Children's|Fantasy\n",
      "2        3             Grumpier Old Men (1995)                Comedy|Romance\n",
      "3        4            Waiting to Exhale (1995)                  Comedy|Drama\n",
      "4        5  Father of the Bride Part II (1995)                        Comedy\n",
      "**************************************************\n",
      "   userid gender  age\n",
      "0       1      F    1\n",
      "1       2      M   56\n",
      "2       3      M   25\n",
      "3       4      M   45\n",
      "4       5      M   25\n",
      "**************************************************\n"
     ]
    }
   ],
   "source": [
    "print(data1.head())\n",
    "print('*'*50)\n",
    "print(data2.head())\n",
    "print('*'*50)\n",
    "print(data3.head())\n",
    "print('*'*50)"
   ]
  },
  {
   "cell_type": "markdown",
   "metadata": {},
   "source": [
    "data1의 userid, movieid가 있으므로 data2와 data3에 공통칼럼이 있다."
   ]
  },
  {
   "cell_type": "markdown",
   "metadata": {},
   "source": [
    "### 공통 칼럼을 활용한 데이터 병합 - 고유값을 기준으로 병합해야하니까, merge 사용"
   ]
  },
  {
   "cell_type": "code",
   "execution_count": 7,
   "metadata": {},
   "outputs": [
    {
     "data": {
      "text/html": [
       "<div>\n",
       "<style scoped>\n",
       "    .dataframe tbody tr th:only-of-type {\n",
       "        vertical-align: middle;\n",
       "    }\n",
       "\n",
       "    .dataframe tbody tr th {\n",
       "        vertical-align: top;\n",
       "    }\n",
       "\n",
       "    .dataframe thead th {\n",
       "        text-align: right;\n",
       "    }\n",
       "</style>\n",
       "<table border=\"1\" class=\"dataframe\">\n",
       "  <thead>\n",
       "    <tr style=\"text-align: right;\">\n",
       "      <th></th>\n",
       "      <th>userid</th>\n",
       "      <th>movieid</th>\n",
       "      <th>raiting</th>\n",
       "      <th>timestamp</th>\n",
       "      <th>title</th>\n",
       "      <th>genres</th>\n",
       "      <th>gender</th>\n",
       "      <th>age</th>\n",
       "    </tr>\n",
       "  </thead>\n",
       "  <tbody>\n",
       "    <tr>\n",
       "      <th>0</th>\n",
       "      <td>1</td>\n",
       "      <td>1193</td>\n",
       "      <td>5</td>\n",
       "      <td>978300760</td>\n",
       "      <td>One Flew Over the Cuckoo's Nest (1975)</td>\n",
       "      <td>Drama</td>\n",
       "      <td>F</td>\n",
       "      <td>1</td>\n",
       "    </tr>\n",
       "    <tr>\n",
       "      <th>1</th>\n",
       "      <td>1</td>\n",
       "      <td>661</td>\n",
       "      <td>3</td>\n",
       "      <td>978302109</td>\n",
       "      <td>James and the Giant Peach (1996)</td>\n",
       "      <td>Animation|Children's|Musical</td>\n",
       "      <td>F</td>\n",
       "      <td>1</td>\n",
       "    </tr>\n",
       "    <tr>\n",
       "      <th>2</th>\n",
       "      <td>1</td>\n",
       "      <td>914</td>\n",
       "      <td>3</td>\n",
       "      <td>978301968</td>\n",
       "      <td>My Fair Lady (1964)</td>\n",
       "      <td>Musical|Romance</td>\n",
       "      <td>F</td>\n",
       "      <td>1</td>\n",
       "    </tr>\n",
       "    <tr>\n",
       "      <th>3</th>\n",
       "      <td>1</td>\n",
       "      <td>3408</td>\n",
       "      <td>4</td>\n",
       "      <td>978300275</td>\n",
       "      <td>Erin Brockovich (2000)</td>\n",
       "      <td>Drama</td>\n",
       "      <td>F</td>\n",
       "      <td>1</td>\n",
       "    </tr>\n",
       "    <tr>\n",
       "      <th>4</th>\n",
       "      <td>1</td>\n",
       "      <td>2355</td>\n",
       "      <td>5</td>\n",
       "      <td>978824291</td>\n",
       "      <td>Bug's Life, A (1998)</td>\n",
       "      <td>Animation|Children's|Comedy</td>\n",
       "      <td>F</td>\n",
       "      <td>1</td>\n",
       "    </tr>\n",
       "    <tr>\n",
       "      <th>...</th>\n",
       "      <td>...</td>\n",
       "      <td>...</td>\n",
       "      <td>...</td>\n",
       "      <td>...</td>\n",
       "      <td>...</td>\n",
       "      <td>...</td>\n",
       "      <td>...</td>\n",
       "      <td>...</td>\n",
       "    </tr>\n",
       "    <tr>\n",
       "      <th>1000204</th>\n",
       "      <td>4211</td>\n",
       "      <td>3791</td>\n",
       "      <td>2</td>\n",
       "      <td>965319075</td>\n",
       "      <td>Footloose (1984)</td>\n",
       "      <td>Drama</td>\n",
       "      <td>M</td>\n",
       "      <td>45</td>\n",
       "    </tr>\n",
       "    <tr>\n",
       "      <th>1000205</th>\n",
       "      <td>4211</td>\n",
       "      <td>3806</td>\n",
       "      <td>3</td>\n",
       "      <td>965319138</td>\n",
       "      <td>MacKenna's Gold (1969)</td>\n",
       "      <td>Western</td>\n",
       "      <td>M</td>\n",
       "      <td>45</td>\n",
       "    </tr>\n",
       "    <tr>\n",
       "      <th>1000206</th>\n",
       "      <td>4211</td>\n",
       "      <td>3840</td>\n",
       "      <td>4</td>\n",
       "      <td>965319197</td>\n",
       "      <td>Pumpkinhead (1988)</td>\n",
       "      <td>Horror</td>\n",
       "      <td>M</td>\n",
       "      <td>45</td>\n",
       "    </tr>\n",
       "    <tr>\n",
       "      <th>1000207</th>\n",
       "      <td>4211</td>\n",
       "      <td>3766</td>\n",
       "      <td>2</td>\n",
       "      <td>965319138</td>\n",
       "      <td>Missing in Action (1984)</td>\n",
       "      <td>Action|War</td>\n",
       "      <td>M</td>\n",
       "      <td>45</td>\n",
       "    </tr>\n",
       "    <tr>\n",
       "      <th>1000208</th>\n",
       "      <td>4211</td>\n",
       "      <td>3834</td>\n",
       "      <td>2</td>\n",
       "      <td>965318885</td>\n",
       "      <td>Bronco Billy (1980)</td>\n",
       "      <td>Adventure|Drama|Romance</td>\n",
       "      <td>M</td>\n",
       "      <td>45</td>\n",
       "    </tr>\n",
       "  </tbody>\n",
       "</table>\n",
       "<p>1000209 rows × 8 columns</p>\n",
       "</div>"
      ],
      "text/plain": [
       "         userid  movieid  raiting  timestamp  \\\n",
       "0             1     1193        5  978300760   \n",
       "1             1      661        3  978302109   \n",
       "2             1      914        3  978301968   \n",
       "3             1     3408        4  978300275   \n",
       "4             1     2355        5  978824291   \n",
       "...         ...      ...      ...        ...   \n",
       "1000204    4211     3791        2  965319075   \n",
       "1000205    4211     3806        3  965319138   \n",
       "1000206    4211     3840        4  965319197   \n",
       "1000207    4211     3766        2  965319138   \n",
       "1000208    4211     3834        2  965318885   \n",
       "\n",
       "                                          title                        genres  \\\n",
       "0        One Flew Over the Cuckoo's Nest (1975)                         Drama   \n",
       "1              James and the Giant Peach (1996)  Animation|Children's|Musical   \n",
       "2                           My Fair Lady (1964)               Musical|Romance   \n",
       "3                        Erin Brockovich (2000)                         Drama   \n",
       "4                          Bug's Life, A (1998)   Animation|Children's|Comedy   \n",
       "...                                         ...                           ...   \n",
       "1000204                        Footloose (1984)                         Drama   \n",
       "1000205                  MacKenna's Gold (1969)                       Western   \n",
       "1000206                      Pumpkinhead (1988)                        Horror   \n",
       "1000207                Missing in Action (1984)                    Action|War   \n",
       "1000208                     Bronco Billy (1980)       Adventure|Drama|Romance   \n",
       "\n",
       "        gender  age  \n",
       "0            F    1  \n",
       "1            F    1  \n",
       "2            F    1  \n",
       "3            F    1  \n",
       "4            F    1  \n",
       "...        ...  ...  \n",
       "1000204      M   45  \n",
       "1000205      M   45  \n",
       "1000206      M   45  \n",
       "1000207      M   45  \n",
       "1000208      M   45  \n",
       "\n",
       "[1000209 rows x 8 columns]"
      ]
     },
     "execution_count": 7,
     "metadata": {},
     "output_type": "execute_result"
    }
   ],
   "source": [
    "result_inner = pd.merge(data1, data2)\n",
    "result_data = pd.merge(result_inner, data3)\n",
    "\n",
    "result_data"
   ]
  },
  {
   "cell_type": "markdown",
   "metadata": {},
   "source": [
    "### user 평점 갯수 순위 확인(sort)"
   ]
  },
  {
   "cell_type": "code",
   "execution_count": 8,
   "metadata": {},
   "outputs": [
    {
     "data": {
      "text/plain": [
       "4    348971\n",
       "3    261197\n",
       "5    226310\n",
       "2    107557\n",
       "1     56174\n",
       "Name: raiting, dtype: int64"
      ]
     },
     "execution_count": 8,
     "metadata": {},
     "output_type": "execute_result"
    }
   ],
   "source": [
    "result_data['raiting'].value_counts().sort_values(ascending=False)"
   ]
  },
  {
   "cell_type": "code",
   "execution_count": 15,
   "metadata": {},
   "outputs": [
    {
     "data": {
      "text/plain": [
       "4169    2314\n",
       "1680    1850\n",
       "4277    1743\n",
       "1941    1595\n",
       "1181    1521\n",
       "        ... \n",
       "761       20\n",
       "1493      20\n",
       "5533      20\n",
       "2714      20\n",
       "2696      20\n",
       "Name: userid, Length: 6040, dtype: int64"
      ]
     },
     "execution_count": 15,
     "metadata": {},
     "output_type": "execute_result"
    }
   ],
   "source": [
    "result_data['raiting_cnt'] = result_data['userid'].sort_values().value_counts()\n",
    "raiting_cnt"
   ]
  },
  {
   "cell_type": "markdown",
   "metadata": {},
   "source": [
    "### 평점이 200개 이상인 영화들의 성별 평균 평점"
   ]
  },
  {
   "cell_type": "code",
   "execution_count": 17,
   "metadata": {},
   "outputs": [],
   "source": [
    "def check_cnt(x):\n",
    "    if raiting_cnt > 200 :\n",
    "        return raiting_cnt"
   ]
  },
  {
   "cell_type": "code",
   "execution_count": 18,
   "metadata": {},
   "outputs": [],
   "source": [
    "result = result_data.groupby('gender').mean(check_cnt)"
   ]
  },
  {
   "cell_type": "code",
   "execution_count": 129,
   "metadata": {},
   "outputs": [
    {
     "data": {
      "text/plain": [
       "gender\n",
       "F    3.620366\n",
       "M    3.568879\n",
       "Name: raiting, dtype: float64"
      ]
     },
     "execution_count": 129,
     "metadata": {},
     "output_type": "execute_result"
    }
   ],
   "source": [
    "result['raiting']"
   ]
  },
  {
   "cell_type": "markdown",
   "metadata": {},
   "source": [
    "### 여성이 가장 좋아하는 영화 순위"
   ]
  },
  {
   "cell_type": "code",
   "execution_count": 16,
   "metadata": {},
   "outputs": [
    {
     "data": {
      "text/html": [
       "<div>\n",
       "<style scoped>\n",
       "    .dataframe tbody tr th:only-of-type {\n",
       "        vertical-align: middle;\n",
       "    }\n",
       "\n",
       "    .dataframe tbody tr th {\n",
       "        vertical-align: top;\n",
       "    }\n",
       "\n",
       "    .dataframe thead th {\n",
       "        text-align: right;\n",
       "    }\n",
       "</style>\n",
       "<table border=\"1\" class=\"dataframe\">\n",
       "  <thead>\n",
       "    <tr style=\"text-align: right;\">\n",
       "      <th></th>\n",
       "      <th>userid</th>\n",
       "      <th>movieid</th>\n",
       "      <th>raiting</th>\n",
       "      <th>timestamp</th>\n",
       "      <th>title</th>\n",
       "      <th>genres</th>\n",
       "      <th>gender</th>\n",
       "      <th>age</th>\n",
       "      <th>raiting_cnt</th>\n",
       "    </tr>\n",
       "  </thead>\n",
       "  <tbody>\n",
       "    <tr>\n",
       "      <th>0</th>\n",
       "      <td>1</td>\n",
       "      <td>1193</td>\n",
       "      <td>5</td>\n",
       "      <td>978300760</td>\n",
       "      <td>One Flew Over the Cuckoo's Nest (1975)</td>\n",
       "      <td>Drama</td>\n",
       "      <td>F</td>\n",
       "      <td>1</td>\n",
       "      <td>NaN</td>\n",
       "    </tr>\n",
       "    <tr>\n",
       "      <th>1</th>\n",
       "      <td>1</td>\n",
       "      <td>661</td>\n",
       "      <td>3</td>\n",
       "      <td>978302109</td>\n",
       "      <td>James and the Giant Peach (1996)</td>\n",
       "      <td>Animation|Children's|Musical</td>\n",
       "      <td>F</td>\n",
       "      <td>1</td>\n",
       "      <td>53.0</td>\n",
       "    </tr>\n",
       "    <tr>\n",
       "      <th>2</th>\n",
       "      <td>1</td>\n",
       "      <td>914</td>\n",
       "      <td>3</td>\n",
       "      <td>978301968</td>\n",
       "      <td>My Fair Lady (1964)</td>\n",
       "      <td>Musical|Romance</td>\n",
       "      <td>F</td>\n",
       "      <td>1</td>\n",
       "      <td>129.0</td>\n",
       "    </tr>\n",
       "    <tr>\n",
       "      <th>3</th>\n",
       "      <td>1</td>\n",
       "      <td>3408</td>\n",
       "      <td>4</td>\n",
       "      <td>978300275</td>\n",
       "      <td>Erin Brockovich (2000)</td>\n",
       "      <td>Drama</td>\n",
       "      <td>F</td>\n",
       "      <td>1</td>\n",
       "      <td>51.0</td>\n",
       "    </tr>\n",
       "    <tr>\n",
       "      <th>4</th>\n",
       "      <td>1</td>\n",
       "      <td>2355</td>\n",
       "      <td>5</td>\n",
       "      <td>978824291</td>\n",
       "      <td>Bug's Life, A (1998)</td>\n",
       "      <td>Animation|Children's|Comedy</td>\n",
       "      <td>F</td>\n",
       "      <td>1</td>\n",
       "      <td>21.0</td>\n",
       "    </tr>\n",
       "    <tr>\n",
       "      <th>...</th>\n",
       "      <td>...</td>\n",
       "      <td>...</td>\n",
       "      <td>...</td>\n",
       "      <td>...</td>\n",
       "      <td>...</td>\n",
       "      <td>...</td>\n",
       "      <td>...</td>\n",
       "      <td>...</td>\n",
       "      <td>...</td>\n",
       "    </tr>\n",
       "    <tr>\n",
       "      <th>1000204</th>\n",
       "      <td>4211</td>\n",
       "      <td>3791</td>\n",
       "      <td>2</td>\n",
       "      <td>965319075</td>\n",
       "      <td>Footloose (1984)</td>\n",
       "      <td>Drama</td>\n",
       "      <td>M</td>\n",
       "      <td>45</td>\n",
       "      <td>NaN</td>\n",
       "    </tr>\n",
       "    <tr>\n",
       "      <th>1000205</th>\n",
       "      <td>4211</td>\n",
       "      <td>3806</td>\n",
       "      <td>3</td>\n",
       "      <td>965319138</td>\n",
       "      <td>MacKenna's Gold (1969)</td>\n",
       "      <td>Western</td>\n",
       "      <td>M</td>\n",
       "      <td>45</td>\n",
       "      <td>NaN</td>\n",
       "    </tr>\n",
       "    <tr>\n",
       "      <th>1000206</th>\n",
       "      <td>4211</td>\n",
       "      <td>3840</td>\n",
       "      <td>4</td>\n",
       "      <td>965319197</td>\n",
       "      <td>Pumpkinhead (1988)</td>\n",
       "      <td>Horror</td>\n",
       "      <td>M</td>\n",
       "      <td>45</td>\n",
       "      <td>NaN</td>\n",
       "    </tr>\n",
       "    <tr>\n",
       "      <th>1000207</th>\n",
       "      <td>4211</td>\n",
       "      <td>3766</td>\n",
       "      <td>2</td>\n",
       "      <td>965319138</td>\n",
       "      <td>Missing in Action (1984)</td>\n",
       "      <td>Action|War</td>\n",
       "      <td>M</td>\n",
       "      <td>45</td>\n",
       "      <td>NaN</td>\n",
       "    </tr>\n",
       "    <tr>\n",
       "      <th>1000208</th>\n",
       "      <td>4211</td>\n",
       "      <td>3834</td>\n",
       "      <td>2</td>\n",
       "      <td>965318885</td>\n",
       "      <td>Bronco Billy (1980)</td>\n",
       "      <td>Adventure|Drama|Romance</td>\n",
       "      <td>M</td>\n",
       "      <td>45</td>\n",
       "      <td>NaN</td>\n",
       "    </tr>\n",
       "  </tbody>\n",
       "</table>\n",
       "<p>1000209 rows × 9 columns</p>\n",
       "</div>"
      ],
      "text/plain": [
       "         userid  movieid  raiting  timestamp  \\\n",
       "0             1     1193        5  978300760   \n",
       "1             1      661        3  978302109   \n",
       "2             1      914        3  978301968   \n",
       "3             1     3408        4  978300275   \n",
       "4             1     2355        5  978824291   \n",
       "...         ...      ...      ...        ...   \n",
       "1000204    4211     3791        2  965319075   \n",
       "1000205    4211     3806        3  965319138   \n",
       "1000206    4211     3840        4  965319197   \n",
       "1000207    4211     3766        2  965319138   \n",
       "1000208    4211     3834        2  965318885   \n",
       "\n",
       "                                          title                        genres  \\\n",
       "0        One Flew Over the Cuckoo's Nest (1975)                         Drama   \n",
       "1              James and the Giant Peach (1996)  Animation|Children's|Musical   \n",
       "2                           My Fair Lady (1964)               Musical|Romance   \n",
       "3                        Erin Brockovich (2000)                         Drama   \n",
       "4                          Bug's Life, A (1998)   Animation|Children's|Comedy   \n",
       "...                                         ...                           ...   \n",
       "1000204                        Footloose (1984)                         Drama   \n",
       "1000205                  MacKenna's Gold (1969)                       Western   \n",
       "1000206                      Pumpkinhead (1988)                        Horror   \n",
       "1000207                Missing in Action (1984)                    Action|War   \n",
       "1000208                     Bronco Billy (1980)       Adventure|Drama|Romance   \n",
       "\n",
       "        gender  age  raiting_cnt  \n",
       "0            F    1          NaN  \n",
       "1            F    1         53.0  \n",
       "2            F    1        129.0  \n",
       "3            F    1         51.0  \n",
       "4            F    1         21.0  \n",
       "...        ...  ...          ...  \n",
       "1000204      M   45          NaN  \n",
       "1000205      M   45          NaN  \n",
       "1000206      M   45          NaN  \n",
       "1000207      M   45          NaN  \n",
       "1000208      M   45          NaN  \n",
       "\n",
       "[1000209 rows x 9 columns]"
      ]
     },
     "execution_count": 16,
     "metadata": {},
     "output_type": "execute_result"
    }
   ],
   "source": [
    "result_data"
   ]
  },
  {
   "cell_type": "code",
   "execution_count": 31,
   "metadata": {},
   "outputs": [],
   "source": [
    "female_data = result_data[result_data['gender'] == 'F']\n",
    "male_data = result_data[result_data['gender'] == 'M']"
   ]
  },
  {
   "cell_type": "code",
   "execution_count": 33,
   "metadata": {},
   "outputs": [
    {
     "data": {
      "text/html": [
       "<div>\n",
       "<style scoped>\n",
       "    .dataframe tbody tr th:only-of-type {\n",
       "        vertical-align: middle;\n",
       "    }\n",
       "\n",
       "    .dataframe tbody tr th {\n",
       "        vertical-align: top;\n",
       "    }\n",
       "\n",
       "    .dataframe thead th {\n",
       "        text-align: right;\n",
       "    }\n",
       "</style>\n",
       "<table border=\"1\" class=\"dataframe\">\n",
       "  <thead>\n",
       "    <tr style=\"text-align: right;\">\n",
       "      <th></th>\n",
       "      <th>userid</th>\n",
       "      <th>movieid</th>\n",
       "      <th>raiting</th>\n",
       "      <th>timestamp</th>\n",
       "      <th>title</th>\n",
       "      <th>genres</th>\n",
       "      <th>gender</th>\n",
       "      <th>age</th>\n",
       "      <th>raiting_cnt</th>\n",
       "    </tr>\n",
       "  </thead>\n",
       "  <tbody>\n",
       "    <tr>\n",
       "      <th>0</th>\n",
       "      <td>1</td>\n",
       "      <td>1193</td>\n",
       "      <td>5</td>\n",
       "      <td>978300760</td>\n",
       "      <td>One Flew Over the Cuckoo's Nest (1975)</td>\n",
       "      <td>Drama</td>\n",
       "      <td>F</td>\n",
       "      <td>1</td>\n",
       "      <td>NaN</td>\n",
       "    </tr>\n",
       "    <tr>\n",
       "      <th>1</th>\n",
       "      <td>1</td>\n",
       "      <td>661</td>\n",
       "      <td>3</td>\n",
       "      <td>978302109</td>\n",
       "      <td>James and the Giant Peach (1996)</td>\n",
       "      <td>Animation|Children's|Musical</td>\n",
       "      <td>F</td>\n",
       "      <td>1</td>\n",
       "      <td>53.0</td>\n",
       "    </tr>\n",
       "    <tr>\n",
       "      <th>2</th>\n",
       "      <td>1</td>\n",
       "      <td>914</td>\n",
       "      <td>3</td>\n",
       "      <td>978301968</td>\n",
       "      <td>My Fair Lady (1964)</td>\n",
       "      <td>Musical|Romance</td>\n",
       "      <td>F</td>\n",
       "      <td>1</td>\n",
       "      <td>129.0</td>\n",
       "    </tr>\n",
       "    <tr>\n",
       "      <th>3</th>\n",
       "      <td>1</td>\n",
       "      <td>3408</td>\n",
       "      <td>4</td>\n",
       "      <td>978300275</td>\n",
       "      <td>Erin Brockovich (2000)</td>\n",
       "      <td>Drama</td>\n",
       "      <td>F</td>\n",
       "      <td>1</td>\n",
       "      <td>51.0</td>\n",
       "    </tr>\n",
       "    <tr>\n",
       "      <th>4</th>\n",
       "      <td>1</td>\n",
       "      <td>2355</td>\n",
       "      <td>5</td>\n",
       "      <td>978824291</td>\n",
       "      <td>Bug's Life, A (1998)</td>\n",
       "      <td>Animation|Children's|Comedy</td>\n",
       "      <td>F</td>\n",
       "      <td>1</td>\n",
       "      <td>21.0</td>\n",
       "    </tr>\n",
       "    <tr>\n",
       "      <th>...</th>\n",
       "      <td>...</td>\n",
       "      <td>...</td>\n",
       "      <td>...</td>\n",
       "      <td>...</td>\n",
       "      <td>...</td>\n",
       "      <td>...</td>\n",
       "      <td>...</td>\n",
       "      <td>...</td>\n",
       "      <td>...</td>\n",
       "    </tr>\n",
       "    <tr>\n",
       "      <th>1000030</th>\n",
       "      <td>1615</td>\n",
       "      <td>2769</td>\n",
       "      <td>3</td>\n",
       "      <td>974729219</td>\n",
       "      <td>Yards, The (1999)</td>\n",
       "      <td>Crime|Mystery</td>\n",
       "      <td>F</td>\n",
       "      <td>45</td>\n",
       "      <td>NaN</td>\n",
       "    </tr>\n",
       "    <tr>\n",
       "      <th>1000031</th>\n",
       "      <td>1615</td>\n",
       "      <td>117</td>\n",
       "      <td>3</td>\n",
       "      <td>974729037</td>\n",
       "      <td>Young Poisoner's Handbook, The (1995)</td>\n",
       "      <td>Crime</td>\n",
       "      <td>F</td>\n",
       "      <td>45</td>\n",
       "      <td>NaN</td>\n",
       "    </tr>\n",
       "    <tr>\n",
       "      <th>1000032</th>\n",
       "      <td>1615</td>\n",
       "      <td>3950</td>\n",
       "      <td>3</td>\n",
       "      <td>974729219</td>\n",
       "      <td>Tigerland (2000)</td>\n",
       "      <td>Drama</td>\n",
       "      <td>F</td>\n",
       "      <td>45</td>\n",
       "      <td>NaN</td>\n",
       "    </tr>\n",
       "    <tr>\n",
       "      <th>1000033</th>\n",
       "      <td>1615</td>\n",
       "      <td>3951</td>\n",
       "      <td>3</td>\n",
       "      <td>974729219</td>\n",
       "      <td>Two Family House (2000)</td>\n",
       "      <td>Drama</td>\n",
       "      <td>F</td>\n",
       "      <td>45</td>\n",
       "      <td>NaN</td>\n",
       "    </tr>\n",
       "    <tr>\n",
       "      <th>1000034</th>\n",
       "      <td>1615</td>\n",
       "      <td>2158</td>\n",
       "      <td>3</td>\n",
       "      <td>974729037</td>\n",
       "      <td>Henry: Portrait of a Serial Killer, Part 2 (1996)</td>\n",
       "      <td>Crime|Horror</td>\n",
       "      <td>F</td>\n",
       "      <td>45</td>\n",
       "      <td>NaN</td>\n",
       "    </tr>\n",
       "  </tbody>\n",
       "</table>\n",
       "<p>246440 rows × 9 columns</p>\n",
       "</div>"
      ],
      "text/plain": [
       "         userid  movieid  raiting  timestamp  \\\n",
       "0             1     1193        5  978300760   \n",
       "1             1      661        3  978302109   \n",
       "2             1      914        3  978301968   \n",
       "3             1     3408        4  978300275   \n",
       "4             1     2355        5  978824291   \n",
       "...         ...      ...      ...        ...   \n",
       "1000030    1615     2769        3  974729219   \n",
       "1000031    1615      117        3  974729037   \n",
       "1000032    1615     3950        3  974729219   \n",
       "1000033    1615     3951        3  974729219   \n",
       "1000034    1615     2158        3  974729037   \n",
       "\n",
       "                                                     title  \\\n",
       "0                   One Flew Over the Cuckoo's Nest (1975)   \n",
       "1                         James and the Giant Peach (1996)   \n",
       "2                                      My Fair Lady (1964)   \n",
       "3                                   Erin Brockovich (2000)   \n",
       "4                                     Bug's Life, A (1998)   \n",
       "...                                                    ...   \n",
       "1000030                                  Yards, The (1999)   \n",
       "1000031              Young Poisoner's Handbook, The (1995)   \n",
       "1000032                                   Tigerland (2000)   \n",
       "1000033                            Two Family House (2000)   \n",
       "1000034  Henry: Portrait of a Serial Killer, Part 2 (1996)   \n",
       "\n",
       "                               genres gender  age  raiting_cnt  \n",
       "0                               Drama      F    1          NaN  \n",
       "1        Animation|Children's|Musical      F    1         53.0  \n",
       "2                     Musical|Romance      F    1        129.0  \n",
       "3                               Drama      F    1         51.0  \n",
       "4         Animation|Children's|Comedy      F    1         21.0  \n",
       "...                               ...    ...  ...          ...  \n",
       "1000030                 Crime|Mystery      F   45          NaN  \n",
       "1000031                         Crime      F   45          NaN  \n",
       "1000032                         Drama      F   45          NaN  \n",
       "1000033                         Drama      F   45          NaN  \n",
       "1000034                  Crime|Horror      F   45          NaN  \n",
       "\n",
       "[246440 rows x 9 columns]"
      ]
     },
     "execution_count": 33,
     "metadata": {},
     "output_type": "execute_result"
    }
   ],
   "source": [
    "female_data"
   ]
  },
  {
   "cell_type": "code",
   "execution_count": 52,
   "metadata": {},
   "outputs": [],
   "source": [
    "female_most_movie = female_data.groupby('title')['raiting'].sum().rank(method='max', ascending=False)"
   ]
  },
  {
   "cell_type": "code",
   "execution_count": 53,
   "metadata": {},
   "outputs": [
    {
     "data": {
      "text/plain": [
       "title\n",
       "Wirey Spindell (1999)                                3481.0\n",
       "Alan Smithee Film: Burn Hollywood Burn, An (1997)    3481.0\n",
       "Destiny Turns on the Radio (1995)                    3481.0\n",
       "Loves of Carmen, The (1948)                          3481.0\n",
       "Stalingrad (1993)                                    3481.0\n",
       "                                                      ...  \n",
       "Shawshank Redemption, The (1994)                        5.0\n",
       "Sixth Sense, The (1999)                                 4.0\n",
       "Silence of the Lambs, The (1991)                        3.0\n",
       "Shakespeare in Love (1998)                              2.0\n",
       "American Beauty (1999)                                  1.0\n",
       "Name: raiting, Length: 3481, dtype: float64"
      ]
     },
     "execution_count": 53,
     "metadata": {},
     "output_type": "execute_result"
    }
   ],
   "source": [
    "female_most_movie.sort_values(ascending = False)"
   ]
  },
  {
   "cell_type": "markdown",
   "metadata": {},
   "source": [
    "### 남녀간의 평균 평점 차이"
   ]
  },
  {
   "cell_type": "code",
   "execution_count": 107,
   "metadata": {},
   "outputs": [
    {
     "data": {
      "text/html": [
       "<div>\n",
       "<style scoped>\n",
       "    .dataframe tbody tr th:only-of-type {\n",
       "        vertical-align: middle;\n",
       "    }\n",
       "\n",
       "    .dataframe tbody tr th {\n",
       "        vertical-align: top;\n",
       "    }\n",
       "\n",
       "    .dataframe thead th {\n",
       "        text-align: right;\n",
       "    }\n",
       "</style>\n",
       "<table border=\"1\" class=\"dataframe\">\n",
       "  <thead>\n",
       "    <tr style=\"text-align: right;\">\n",
       "      <th>gender</th>\n",
       "      <th>F</th>\n",
       "      <th>M</th>\n",
       "    </tr>\n",
       "    <tr>\n",
       "      <th>title</th>\n",
       "      <th></th>\n",
       "      <th></th>\n",
       "    </tr>\n",
       "  </thead>\n",
       "  <tbody>\n",
       "    <tr>\n",
       "      <th>$1,000,000 Duck (1971)</th>\n",
       "      <td>3.375000</td>\n",
       "      <td>2.761905</td>\n",
       "    </tr>\n",
       "    <tr>\n",
       "      <th>'Night Mother (1986)</th>\n",
       "      <td>3.388889</td>\n",
       "      <td>3.352941</td>\n",
       "    </tr>\n",
       "    <tr>\n",
       "      <th>'Til There Was You (1997)</th>\n",
       "      <td>2.675676</td>\n",
       "      <td>2.733333</td>\n",
       "    </tr>\n",
       "    <tr>\n",
       "      <th>'burbs, The (1989)</th>\n",
       "      <td>2.793478</td>\n",
       "      <td>2.962085</td>\n",
       "    </tr>\n",
       "    <tr>\n",
       "      <th>...And Justice for All (1979)</th>\n",
       "      <td>3.828571</td>\n",
       "      <td>3.689024</td>\n",
       "    </tr>\n",
       "  </tbody>\n",
       "</table>\n",
       "</div>"
      ],
      "text/plain": [
       "gender                                F         M\n",
       "title                                            \n",
       "$1,000,000 Duck (1971)         3.375000  2.761905\n",
       "'Night Mother (1986)           3.388889  3.352941\n",
       "'Til There Was You (1997)      2.675676  2.733333\n",
       "'burbs, The (1989)             2.793478  2.962085\n",
       "...And Justice for All (1979)  3.828571  3.689024"
      ]
     },
     "execution_count": 107,
     "metadata": {},
     "output_type": "execute_result"
    }
   ],
   "source": [
    "mean_ratings = result_data.pivot_table('raiting', index='title', columns='gender', aggfunc='mean', fill_value=0)\n",
    "mean_ratings.head()"
   ]
  },
  {
   "cell_type": "code",
   "execution_count": 111,
   "metadata": {},
   "outputs": [
    {
     "data": {
      "text/plain": [
       "title\n",
       "$1,000,000 Duck (1971)           0.613095\n",
       "'Night Mother (1986)             0.035948\n",
       "'Til There Was You (1997)       -0.057658\n",
       "'burbs, The (1989)              -0.168607\n",
       "...And Justice for All (1979)    0.139547\n",
       "Name: diff, dtype: float64"
      ]
     },
     "execution_count": 111,
     "metadata": {},
     "output_type": "execute_result"
    }
   ],
   "source": [
    "mean_ratings['diff'] = mean_ratings['F'] - mean_ratings['M']\n",
    "mean_ratings['diff'].head()"
   ]
  },
  {
   "cell_type": "markdown",
   "metadata": {},
   "source": [
    "Comedy영화 중 가장 평점이 낮은 영화의 제목\n"
   ]
  },
  {
   "cell_type": "code",
   "execution_count": 96,
   "metadata": {},
   "outputs": [
    {
     "data": {
      "text/plain": [
       "152                            Get Shorty (1995)\n",
       "180                           Nurse Betty (2000)\n",
       "266                             Bowfinger (1999)\n",
       "292           Four Weddings and a Funeral (1994)\n",
       "716                           Mystery Men (1999)\n",
       "                           ...                  \n",
       "1000154    Nutty Professor II: The Klumps (2000)\n",
       "1000159                         Road Trip (2000)\n",
       "1000162                          Kid, The (2000)\n",
       "1000194                         Hairspray (1988)\n",
       "1000197                       Spice World (1997)\n",
       "Name: title, Length: 21616, dtype: object"
      ]
     },
     "execution_count": 96,
     "metadata": {},
     "output_type": "execute_result"
    }
   ],
   "source": [
    "# comedy 장르가 포함된 모든 행값 \n",
    "comedy_data = result_data.loc[result_data['genres'].str.contains('Comedy')]\n",
    "# comedy_data 에서 평점이 낮은 영화 제목\n",
    "min_comedy_data = comedy_data[comedy_data['raiting'] == comedy_data['raiting'].min()]\n",
    "min_comedy_data['title']"
   ]
  },
  {
   "cell_type": "markdown",
   "metadata": {},
   "source": [
    "### 평균 평점이 가장 높은 영화의 제목(동률이 있을 경우 모두 출력)"
   ]
  },
  {
   "cell_type": "code",
   "execution_count": 100,
   "metadata": {},
   "outputs": [
    {
     "data": {
      "text/html": [
       "<div>\n",
       "<style scoped>\n",
       "    .dataframe tbody tr th:only-of-type {\n",
       "        vertical-align: middle;\n",
       "    }\n",
       "\n",
       "    .dataframe tbody tr th {\n",
       "        vertical-align: top;\n",
       "    }\n",
       "\n",
       "    .dataframe thead th {\n",
       "        text-align: right;\n",
       "    }\n",
       "</style>\n",
       "<table border=\"1\" class=\"dataframe\">\n",
       "  <thead>\n",
       "    <tr style=\"text-align: right;\">\n",
       "      <th></th>\n",
       "      <th>raiting</th>\n",
       "    </tr>\n",
       "    <tr>\n",
       "      <th>title</th>\n",
       "      <th></th>\n",
       "    </tr>\n",
       "  </thead>\n",
       "  <tbody>\n",
       "    <tr>\n",
       "      <th>$1,000,000 Duck (1971)</th>\n",
       "      <td>3.027027</td>\n",
       "    </tr>\n",
       "    <tr>\n",
       "      <th>'Night Mother (1986)</th>\n",
       "      <td>3.371429</td>\n",
       "    </tr>\n",
       "    <tr>\n",
       "      <th>'Til There Was You (1997)</th>\n",
       "      <td>2.692308</td>\n",
       "    </tr>\n",
       "    <tr>\n",
       "      <th>'burbs, The (1989)</th>\n",
       "      <td>2.910891</td>\n",
       "    </tr>\n",
       "    <tr>\n",
       "      <th>...And Justice for All (1979)</th>\n",
       "      <td>3.713568</td>\n",
       "    </tr>\n",
       "    <tr>\n",
       "      <th>...</th>\n",
       "      <td>...</td>\n",
       "    </tr>\n",
       "    <tr>\n",
       "      <th>Zed &amp; Two Noughts, A (1985)</th>\n",
       "      <td>3.413793</td>\n",
       "    </tr>\n",
       "    <tr>\n",
       "      <th>Zero Effect (1998)</th>\n",
       "      <td>3.750831</td>\n",
       "    </tr>\n",
       "    <tr>\n",
       "      <th>Zero Kelvin (Kj?lighetens kj?ere) (1995)</th>\n",
       "      <td>3.500000</td>\n",
       "    </tr>\n",
       "    <tr>\n",
       "      <th>Zeus and Roxanne (1997)</th>\n",
       "      <td>2.521739</td>\n",
       "    </tr>\n",
       "    <tr>\n",
       "      <th>eXistenZ (1999)</th>\n",
       "      <td>3.256098</td>\n",
       "    </tr>\n",
       "  </tbody>\n",
       "</table>\n",
       "<p>3706 rows × 1 columns</p>\n",
       "</div>"
      ],
      "text/plain": [
       "                                           raiting\n",
       "title                                             \n",
       "$1,000,000 Duck (1971)                    3.027027\n",
       "'Night Mother (1986)                      3.371429\n",
       "'Til There Was You (1997)                 2.692308\n",
       "'burbs, The (1989)                        2.910891\n",
       "...And Justice for All (1979)             3.713568\n",
       "...                                            ...\n",
       "Zed & Two Noughts, A (1985)               3.413793\n",
       "Zero Effect (1998)                        3.750831\n",
       "Zero Kelvin (Kj?lighetens kj?ere) (1995)  3.500000\n",
       "Zeus and Roxanne (1997)                   2.521739\n",
       "eXistenZ (1999)                           3.256098\n",
       "\n",
       "[3706 rows x 1 columns]"
      ]
     },
     "execution_count": 100,
     "metadata": {},
     "output_type": "execute_result"
    }
   ],
   "source": []
  },
  {
   "cell_type": "markdown",
   "metadata": {},
   "source": [
    "### 각 영화별 평균 평점"
   ]
  },
  {
   "cell_type": "code",
   "execution_count": 113,
   "metadata": {},
   "outputs": [
    {
     "data": {
      "text/html": [
       "<div>\n",
       "<style scoped>\n",
       "    .dataframe tbody tr th:only-of-type {\n",
       "        vertical-align: middle;\n",
       "    }\n",
       "\n",
       "    .dataframe tbody tr th {\n",
       "        vertical-align: top;\n",
       "    }\n",
       "\n",
       "    .dataframe thead th {\n",
       "        text-align: right;\n",
       "    }\n",
       "</style>\n",
       "<table border=\"1\" class=\"dataframe\">\n",
       "  <thead>\n",
       "    <tr style=\"text-align: right;\">\n",
       "      <th></th>\n",
       "      <th>raiting</th>\n",
       "    </tr>\n",
       "    <tr>\n",
       "      <th>title</th>\n",
       "      <th></th>\n",
       "    </tr>\n",
       "  </thead>\n",
       "  <tbody>\n",
       "    <tr>\n",
       "      <th>$1,000,000 Duck (1971)</th>\n",
       "      <td>3.027027</td>\n",
       "    </tr>\n",
       "    <tr>\n",
       "      <th>'Night Mother (1986)</th>\n",
       "      <td>3.371429</td>\n",
       "    </tr>\n",
       "    <tr>\n",
       "      <th>'Til There Was You (1997)</th>\n",
       "      <td>2.692308</td>\n",
       "    </tr>\n",
       "    <tr>\n",
       "      <th>'burbs, The (1989)</th>\n",
       "      <td>2.910891</td>\n",
       "    </tr>\n",
       "    <tr>\n",
       "      <th>...And Justice for All (1979)</th>\n",
       "      <td>3.713568</td>\n",
       "    </tr>\n",
       "  </tbody>\n",
       "</table>\n",
       "</div>"
      ],
      "text/plain": [
       "                                raiting\n",
       "title                                  \n",
       "$1,000,000 Duck (1971)         3.027027\n",
       "'Night Mother (1986)           3.371429\n",
       "'Til There Was You (1997)      2.692308\n",
       "'burbs, The (1989)             2.910891\n",
       "...And Justice for All (1979)  3.713568"
      ]
     },
     "execution_count": 113,
     "metadata": {},
     "output_type": "execute_result"
    }
   ],
   "source": [
    "mean_ratings_movie = result_data.pivot_table('raiting', index='title', aggfunc='mean', fill_value=0)\n",
    "mean_ratings_movie.head()"
   ]
  },
  {
   "cell_type": "markdown",
   "metadata": {},
   "source": [
    "### 각 영화의 성별 평균 평점"
   ]
  },
  {
   "cell_type": "code",
   "execution_count": 105,
   "metadata": {},
   "outputs": [
    {
     "data": {
      "text/html": [
       "<div>\n",
       "<style scoped>\n",
       "    .dataframe tbody tr th:only-of-type {\n",
       "        vertical-align: middle;\n",
       "    }\n",
       "\n",
       "    .dataframe tbody tr th {\n",
       "        vertical-align: top;\n",
       "    }\n",
       "\n",
       "    .dataframe thead th {\n",
       "        text-align: right;\n",
       "    }\n",
       "</style>\n",
       "<table border=\"1\" class=\"dataframe\">\n",
       "  <thead>\n",
       "    <tr style=\"text-align: right;\">\n",
       "      <th>gender</th>\n",
       "      <th>F</th>\n",
       "      <th>M</th>\n",
       "    </tr>\n",
       "    <tr>\n",
       "      <th>title</th>\n",
       "      <th></th>\n",
       "      <th></th>\n",
       "    </tr>\n",
       "  </thead>\n",
       "  <tbody>\n",
       "    <tr>\n",
       "      <th>$1,000,000 Duck (1971)</th>\n",
       "      <td>3.375000</td>\n",
       "      <td>2.761905</td>\n",
       "    </tr>\n",
       "    <tr>\n",
       "      <th>'Night Mother (1986)</th>\n",
       "      <td>3.388889</td>\n",
       "      <td>3.352941</td>\n",
       "    </tr>\n",
       "    <tr>\n",
       "      <th>'Til There Was You (1997)</th>\n",
       "      <td>2.675676</td>\n",
       "      <td>2.733333</td>\n",
       "    </tr>\n",
       "    <tr>\n",
       "      <th>'burbs, The (1989)</th>\n",
       "      <td>2.793478</td>\n",
       "      <td>2.962085</td>\n",
       "    </tr>\n",
       "    <tr>\n",
       "      <th>...And Justice for All (1979)</th>\n",
       "      <td>3.828571</td>\n",
       "      <td>3.689024</td>\n",
       "    </tr>\n",
       "  </tbody>\n",
       "</table>\n",
       "</div>"
      ],
      "text/plain": [
       "gender                                F         M\n",
       "title                                            \n",
       "$1,000,000 Duck (1971)         3.375000  2.761905\n",
       "'Night Mother (1986)           3.388889  3.352941\n",
       "'Til There Was You (1997)      2.675676  2.733333\n",
       "'burbs, The (1989)             2.793478  2.962085\n",
       "...And Justice for All (1979)  3.828571  3.689024"
      ]
     },
     "execution_count": 105,
     "metadata": {},
     "output_type": "execute_result"
    }
   ],
   "source": [
    "mean_gender_ratings = result_data.pivot_table('raiting', index='title', columns='gender', aggfunc='mean', fill_value=0)\n",
    "mean_gender_ratings.head()"
   ]
  },
  {
   "cell_type": "markdown",
   "metadata": {},
   "source": [
    "### 평점이 220개 이상인 영화만 필터링"
   ]
  },
  {
   "cell_type": "code",
   "execution_count": 128,
   "metadata": {},
   "outputs": [
    {
     "data": {
      "text/plain": [
       "Index([''burbs, The (1989)', '10 Things I Hate About You (1999)',\n",
       "       '101 Dalmatians (1961)', '101 Dalmatians (1996)', '12 Angry Men (1957)',\n",
       "       '13th Warrior, The (1999)', '2 Days in the Valley (1996)',\n",
       "       '20,000 Leagues Under the Sea (1954)', '2001: A Space Odyssey (1968)',\n",
       "       '2010 (1984)',\n",
       "       ...\n",
       "       'X-Men (2000)', 'Year of Living Dangerously (1982)',\n",
       "       'Yellow Submarine (1968)', 'You've Got Mail (1998)',\n",
       "       'Young Frankenstein (1974)', 'Young Guns (1988)',\n",
       "       'Young Guns II (1990)', 'Young Sherlock Holmes (1985)',\n",
       "       'Zero Effect (1998)', 'eXistenZ (1999)'],\n",
       "      dtype='object', name='title', length=1332)"
      ]
     },
     "execution_count": 128,
     "metadata": {},
     "output_type": "execute_result"
    }
   ],
   "source": [
    "ratings_by_title = result_data.groupby('title').size()\n",
    "type(ratings_by_title) # Series\n",
    "\n",
    "# over 220 ratings\n",
    "ratings_by_title >= 220 # boolean으로 리턴\n",
    "\n",
    "active_titles = ratings_by_title.index[ratings_by_title >= 220]\n",
    "active_titles"
   ]
  },
  {
   "cell_type": "markdown",
   "metadata": {},
   "source": [
    "### 평점의 표준편차가 큰 영화"
   ]
  },
  {
   "cell_type": "code",
   "execution_count": 150,
   "metadata": {},
   "outputs": [
    {
     "data": {
      "text/plain": [
       "2.8284271247461903"
      ]
     },
     "execution_count": 150,
     "metadata": {},
     "output_type": "execute_result"
    }
   ],
   "source": [
    "ratings_by_sd = result_data.groupby('title')['raiting'].std()\n",
    "print(ratings_by_sd)\n",
    "max_ratings_by_sd = ratings_by_sd.loc[active_titles].max()\n",
    "max_ratings_by_sd"
   ]
  },
  {
   "cell_type": "code",
   "execution_count": null,
   "metadata": {},
   "outputs": [],
   "source": []
  }
 ],
 "metadata": {
  "kernelspec": {
   "display_name": "Python 3",
   "language": "python",
   "name": "python3"
  },
  "language_info": {
   "codemirror_mode": {
    "name": "ipython",
    "version": 3
   },
   "file_extension": ".py",
   "mimetype": "text/x-python",
   "name": "python",
   "nbconvert_exporter": "python",
   "pygments_lexer": "ipython3",
   "version": "3.8.5"
  }
 },
 "nbformat": 4,
 "nbformat_minor": 4
}
