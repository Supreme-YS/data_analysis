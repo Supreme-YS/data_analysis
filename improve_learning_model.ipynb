{
  "nbformat": 4,
  "nbformat_minor": 0,
  "metadata": {
    "colab": {
      "name": "improve learning model.ipynb",
      "provenance": [],
      "collapsed_sections": [],
      "authorship_tag": "ABX9TyMoZEfk4DIcCnTNC2YHQkjU",
      "include_colab_link": true
    },
    "kernelspec": {
      "name": "python3",
      "display_name": "Python 3"
    },
    "language_info": {
      "name": "python"
    }
  },
  "cells": [
    {
      "cell_type": "markdown",
      "metadata": {
        "id": "view-in-github",
        "colab_type": "text"
      },
      "source": [
        "<a href=\"https://colab.research.google.com/github/Supreme-YS/data_analysis/blob/master/improve_learning_model.ipynb\" target=\"_parent\"><img src=\"https://colab.research.google.com/assets/colab-badge.svg\" alt=\"Open In Colab\"/></a>"
      ]
    },
    {
      "cell_type": "markdown",
      "metadata": {
        "id": "RGGHp72pnZVv"
      },
      "source": [
        "- Weight Initialization\n",
        "- Activation Function\n",
        "- Optimizer"
      ]
    },
    {
      "cell_type": "code",
      "metadata": {
        "id": "TllXkfwfnT2u"
      },
      "source": [
        "from tensorflow.keras.datasets   import boston_housing\n",
        "from tensorflow.keras.models     import Sequential \n",
        "from tensorflow.keras.layers     import Activation , Dense, BatchNormalization, Dropout\n",
        "from tensorflow.keras.optimizers import SGD , Adam\n",
        "from tensorflow.keras.utils      import plot_model, to_categorical\n",
        "from tensorflow.keras.callbacks  import EarlyStopping, ModelCheckpoint\n",
        "\n",
        "\n",
        "from sklearn.model_selection     import train_test_split\n",
        "from sklearn.preprocessing       import StandardScaler , MinMaxScaler , LabelEncoder\n",
        "from sklearn.datasets            import load_breast_cancer\n",
        "from sklearn.model_selection     import KFold\n",
        "\n",
        "import matplotlib.pyplot as plt\n",
        "\n",
        "import pandas  as pd\n",
        "import numpy   as np\n",
        "import seaborn as sns"
      ],
      "execution_count": 86,
      "outputs": []
    },
    {
      "cell_type": "code",
      "metadata": {
        "id": "OpllD4dnnGXM"
      },
      "source": [
        "# dataset\n",
        "from tensorflow.keras.datasets.mnist import load_data"
      ],
      "execution_count": 3,
      "outputs": []
    },
    {
      "cell_type": "code",
      "metadata": {
        "colab": {
          "base_uri": "https://localhost:8080/"
        },
        "id": "AYhg-IIIpP3q",
        "outputId": "72e0a207-c444-4eb3-c861-b0fe65d6d7d8"
      },
      "source": [
        "# dataload\n",
        "(X_train, y_train) , (X_test, y_test) = load_data()\n",
        "X_train.shape, y_train.shape, X_test.shape, y_test.shape"
      ],
      "execution_count": 4,
      "outputs": [
        {
          "output_type": "stream",
          "text": [
            "Downloading data from https://storage.googleapis.com/tensorflow/tf-keras-datasets/mnist.npz\n",
            "11493376/11490434 [==============================] - 0s 0us/step\n"
          ],
          "name": "stdout"
        },
        {
          "output_type": "execute_result",
          "data": {
            "text/plain": [
              "((60000, 28, 28), (60000,), (10000, 28, 28), (10000,))"
            ]
          },
          "metadata": {
            "tags": []
          },
          "execution_count": 4
        }
      ]
    },
    {
      "cell_type": "code",
      "metadata": {
        "colab": {
          "base_uri": "https://localhost:8080/",
          "height": 283
        },
        "id": "io0_RILepbMb",
        "outputId": "e0876a99-0ee4-4af4-9f1d-876125e41e7e"
      },
      "source": [
        "plt.imshow(X_train[0])\n",
        "plt.show()\n",
        "print('target ->', y_train[0])"
      ],
      "execution_count": 10,
      "outputs": [
        {
          "output_type": "display_data",
          "data": {
            "image/png": "[encoded data removed]",
            "text/plain": [
              "<Figure size 432x288 with 1 Axes>"
            ]
          },
          "metadata": {
            "tags": [],
            "needs_background": "light"
          }
        },
        {
          "output_type": "stream",
          "text": [
            "target -> 5\n"
          ],
          "name": "stdout"
        }
      ]
    },
    {
      "cell_type": "code",
      "metadata": {
        "id": "qX6U-66ipyxa"
      },
      "source": [
        "X_train = X_train.reshape(60000, 28*28)\n",
        "X_test = X_test.reshape(10000, 28*28)"
      ],
      "execution_count": 12,
      "outputs": []
    },
    {
      "cell_type": "code",
      "metadata": {
        "colab": {
          "base_uri": "https://localhost:8080/"
        },
        "id": "HHX0ftzzrdK2",
        "outputId": "9d702cd1-aef3-4a19-88ef-d1ed0d0389cf"
      },
      "source": [
        "X_train.shape, X_test.shape"
      ],
      "execution_count": 13,
      "outputs": [
        {
          "output_type": "execute_result",
          "data": {
            "text/plain": [
              "((60000, 784), (10000, 784))"
            ]
          },
          "metadata": {
            "tags": []
          },
          "execution_count": 13
        }
      ]
    },
    {
      "cell_type": "code",
      "metadata": {
        "id": "4LGisbZ2rlTB"
      },
      "source": [
        "y_train = to_categorical(y_train, 10)\n",
        "y_test = to_categorical(y_test, 10)"
      ],
      "execution_count": 15,
      "outputs": []
    },
    {
      "cell_type": "code",
      "metadata": {
        "colab": {
          "base_uri": "https://localhost:8080/"
        },
        "id": "PqM6N6hCs27B",
        "outputId": "802490cd-c055-44af-cbac-8eba3d7a7434"
      },
      "source": [
        "print(y_train[0])\n",
        "print(y_test[0])"
      ],
      "execution_count": 19,
      "outputs": [
        {
          "output_type": "stream",
          "text": [
            "[0. 0. 0. 0. 0. 1. 0. 0. 0. 0.]\n",
            "[0. 0. 0. 0. 0. 0. 0. 1. 0. 0.]\n"
          ],
          "name": "stdout"
        }
      ]
    },
    {
      "cell_type": "code",
      "metadata": {
        "id": "qnBaoRNMs4DJ"
      },
      "source": [
        "X_train , _ , y_train , _ = train_test_split(X_train, y_train, test_size = 0.7, random_state = 100)"
      ],
      "execution_count": 20,
      "outputs": []
    },
    {
      "cell_type": "code",
      "metadata": {
        "colab": {
          "base_uri": "https://localhost:8080/"
        },
        "id": "yUSN5BASuacz",
        "outputId": "7ec6f75b-6aad-4569-e00a-d0ba84d0c43c"
      },
      "source": [
        "# 60000 -> 18000건 \n",
        "X_train.shape, y_train.shape"
      ],
      "execution_count": 21,
      "outputs": [
        {
          "output_type": "execute_result",
          "data": {
            "text/plain": [
              "((18000, 784), (18000, 10))"
            ]
          },
          "metadata": {
            "tags": []
          },
          "execution_count": 21
        }
      ]
    },
    {
      "cell_type": "code",
      "metadata": {
        "colab": {
          "base_uri": "https://localhost:8080/"
        },
        "id": "mWD5ImA6ut3B",
        "outputId": "bea70bd7-49a9-40da-b918-4d21632109ec"
      },
      "source": [
        "X_train.shape, y_train.shape, X_test.shape, y_test.shape"
      ],
      "execution_count": 23,
      "outputs": [
        {
          "output_type": "execute_result",
          "data": {
            "text/plain": [
              "((18000, 784), (18000, 10), (10000, 784), (10000, 10))"
            ]
          },
          "metadata": {
            "tags": []
          },
          "execution_count": 23
        }
      ]
    },
    {
      "cell_type": "code",
      "metadata": {
        "id": "KrS9m9r-vMaj"
      },
      "source": [
        "def get_model():\n",
        "    model = Sequential()\n",
        "\n",
        "    model.add(Dense(50, activation='sigmoid', input_shape=(784,)))\n",
        "    model.add(Dense(50, activation='sigmoid'))\n",
        "    model.add(Dense(50, activation='sigmoid'))\n",
        "    model.add(Dense(50, activation='sigmoid'))\n",
        "\n",
        "    model.add(Dense(10, activation='softmax'))\n",
        "\n",
        "    return model"
      ],
      "execution_count": 32,
      "outputs": []
    },
    {
      "cell_type": "code",
      "metadata": {
        "colab": {
          "base_uri": "https://localhost:8080/"
        },
        "id": "Yi8W7yyhz1k0",
        "outputId": "a82d7ddc-8e5c-42eb-cf37-f848cf112fea"
      },
      "source": [
        "model = get_model()\n",
        "\n",
        "optimizer = SGD(learning_rate=0.01)\n",
        "model.compile(optimizer = optimizer,\n",
        "              loss ='categorical_crossentropy',\n",
        "              metrics = ['accuracy'])\n",
        "model.summary()"
      ],
      "execution_count": 34,
      "outputs": [
        {
          "output_type": "stream",
          "text": [
            "Model: \"sequential_1\"\n",
            "_________________________________________________________________\n",
            "Layer (type)                 Output Shape              Param #   \n",
            "=================================================================\n",
            "dense_5 (Dense)              (None, 50)                39250     \n",
            "_________________________________________________________________\n",
            "dense_6 (Dense)              (None, 50)                2550      \n",
            "_________________________________________________________________\n",
            "dense_7 (Dense)              (None, 50)                2550      \n",
            "_________________________________________________________________\n",
            "dense_8 (Dense)              (None, 50)                2550      \n",
            "_________________________________________________________________\n",
            "dense_9 (Dense)              (None, 10)                510       \n",
            "=================================================================\n",
            "Total params: 47,410\n",
            "Trainable params: 47,410\n",
            "Non-trainable params: 0\n",
            "_________________________________________________________________\n"
          ],
          "name": "stdout"
        }
      ]
    },
    {
      "cell_type": "code",
      "metadata": {
        "id": "mm_yn9df0Bdh"
      },
      "source": [
        "history = model.fit(X_train, y_train, batch_size=256, validation_split=0.3, epochs=100, verbose=1)"
      ],
      "execution_count": null,
      "outputs": []
    },
    {
      "cell_type": "code",
      "metadata": {
        "colab": {
          "base_uri": "https://localhost:8080/"
        },
        "id": "sH0B-EFr1JsX",
        "outputId": "c034032b-632a-457a-e3cf-337d832e2b54"
      },
      "source": [
        "history.history.keys()"
      ],
      "execution_count": 37,
      "outputs": [
        {
          "output_type": "execute_result",
          "data": {
            "text/plain": [
              "dict_keys(['loss', 'accuracy', 'val_loss', 'val_accuracy'])"
            ]
          },
          "metadata": {
            "tags": []
          },
          "execution_count": 37
        }
      ]
    },
    {
      "cell_type": "code",
      "metadata": {
        "colab": {
          "base_uri": "https://localhost:8080/",
          "height": 265
        },
        "id": "JrF-JdCI1jj6",
        "outputId": "a2b778a9-53f0-4d98-d448-e7774c30cdaf"
      },
      "source": [
        "plt.plot(history.history['accuracy'])\n",
        "plt.plot(history.history['val_accuracy'])\n",
        "plt.legend(['train', 'val'], loc = 'best')\n",
        "plt.show()"
      ],
      "execution_count": 38,
      "outputs": [
        {
          "output_type": "display_data",
          "data": {
            "image/png": "[encoded data removed]",
            "text/plain": [
              "<Figure size 432x288 with 1 Axes>"
            ]
          },
          "metadata": {
            "tags": [],
            "needs_background": "light"
          }
        }
      ]
    },
    {
      "cell_type": "code",
      "metadata": {
        "colab": {
          "base_uri": "https://localhost:8080/"
        },
        "id": "UmD4lPr91vPs",
        "outputId": "b98e51c5-b004-4e8e-ed2c-046e09603ad8"
      },
      "source": [
        "result = model.evaluate(X_test, y_test)\n",
        "print('Test accuracy :', result[1]) # result는 loss, accuracy 정보를 담고 있다.\n",
        "# underfitting 된 모습을 연출해봄."
      ],
      "execution_count": 39,
      "outputs": [
        {
          "output_type": "stream",
          "text": [
            "313/313 [==============================] - 0s 1ms/step - loss: 2.2611 - accuracy: 0.1941\n",
            "Test accuracy : 0.1941000074148178\n"
          ],
          "name": "stdout"
        }
      ]
    },
    {
      "cell_type": "markdown",
      "metadata": {
        "id": "5EdWnlPP3I-w"
      },
      "source": [
        "ResNet - 가중치를 초기화 하는 he_normal"
      ]
    },
    {
      "cell_type": "code",
      "metadata": {
        "id": "9MCfRf092FAS"
      },
      "source": [
        "# sigmoid == tanh , AlexNet -> relu(Rectified Linear Unit)\n",
        "def improve_get_model():\n",
        "    model = Sequential()\n",
        "\n",
        "    model.add(Dense(50, activation='sigmoid', input_shape=(784,), kernel_initializer='he_normal'))\n",
        "    model.add(Dense(50, activation='sigmoid', kernel_initializer='he_normal'))\n",
        "    model.add(Dense(50, activation='sigmoid', kernel_initializer='he_normal'))\n",
        "    model.add(Dense(50, activation='sigmoid', kernel_initializer='he_normal'))\n",
        "\n",
        "    model.add(Dense(10, activation='softmax'))\n",
        "\n",
        "    optimizer = SGD(learning_rate=0.01)\n",
        "    model.compile(optimizer = optimizer,\n",
        "                  loss ='categorical_crossentropy',\n",
        "                  metrics = ['accuracy'])\n",
        "    return model"
      ],
      "execution_count": 42,
      "outputs": []
    },
    {
      "cell_type": "code",
      "metadata": {
        "colab": {
          "base_uri": "https://localhost:8080/"
        },
        "id": "bIJlOJc-4FuH",
        "outputId": "630fd2b4-6261-4084-b00f-877c1a924e49"
      },
      "source": [
        "model = improve_get_model()\n",
        "model.summary()"
      ],
      "execution_count": 45,
      "outputs": [
        {
          "output_type": "stream",
          "text": [
            "Model: \"sequential_2\"\n",
            "_________________________________________________________________\n",
            "Layer (type)                 Output Shape              Param #   \n",
            "=================================================================\n",
            "dense_10 (Dense)             (None, 50)                39250     \n",
            "_________________________________________________________________\n",
            "dense_11 (Dense)             (None, 50)                2550      \n",
            "_________________________________________________________________\n",
            "dense_12 (Dense)             (None, 50)                2550      \n",
            "_________________________________________________________________\n",
            "dense_13 (Dense)             (None, 50)                2550      \n",
            "_________________________________________________________________\n",
            "dense_14 (Dense)             (None, 10)                510       \n",
            "=================================================================\n",
            "Total params: 47,410\n",
            "Trainable params: 47,410\n",
            "Non-trainable params: 0\n",
            "_________________________________________________________________\n"
          ],
          "name": "stdout"
        }
      ]
    },
    {
      "cell_type": "code",
      "metadata": {
        "id": "5LWKCwNf38O2"
      },
      "source": [
        "history = model.fit(X_train, y_train, batch_size=256, validation_split=0.3, epochs=100, verbose=1)"
      ],
      "execution_count": null,
      "outputs": []
    },
    {
      "cell_type": "code",
      "metadata": {
        "colab": {
          "base_uri": "https://localhost:8080/",
          "height": 265
        },
        "id": "lQuWg4Kv4mni",
        "outputId": "5236e23b-ac5b-4cef-e0fe-10c80dafa68e"
      },
      "source": [
        "plt.plot(history.history['accuracy'])\n",
        "plt.plot(history.history['val_accuracy'])\n",
        "plt.legend(['train', 'val'], loc = 'best')\n",
        "plt.show()"
      ],
      "execution_count": 47,
      "outputs": [
        {
          "output_type": "display_data",
          "data": {
            "image/png": "[encoded data removed]",
            "text/plain": [
              "<Figure size 432x288 with 1 Axes>"
            ]
          },
          "metadata": {
            "tags": [],
            "needs_background": "light"
          }
        }
      ]
    },
    {
      "cell_type": "code",
      "metadata": {
        "colab": {
          "base_uri": "https://localhost:8080/"
        },
        "id": "lfhmyeUD438B",
        "outputId": "763e963f-d103-4a33-d920-17f0cb1920b3"
      },
      "source": [
        "result = model.evaluate(X_test, y_test)\n",
        "print('Test accuracy :', result[1])"
      ],
      "execution_count": 48,
      "outputs": [
        {
          "output_type": "stream",
          "text": [
            "313/313 [==============================] - 0s 1ms/step - loss: 1.7706 - accuracy: 0.4480\n",
            "Test accuracy : 0.4480000138282776\n"
          ],
          "name": "stdout"
        }
      ]
    },
    {
      "cell_type": "code",
      "metadata": {
        "id": "ixF2VuZJ5B0L"
      },
      "source": [
        "# sigmoid == tanh , AlexNet -> relu(Rectified Linear Unit)\n",
        "def improve_activation_get_model():\n",
        "    model = Sequential()\n",
        "\n",
        "    model.add(Dense(50, activation='relu', input_shape=(784,)))\n",
        "    model.add(Dense(50, activation='relu'))\n",
        "    model.add(Dense(50, activation='relu'))\n",
        "    model.add(Dense(50, activation='relu'))\n",
        "\n",
        "    model.add(Dense(10, activation='softmax'))\n",
        "\n",
        "    optimizer = SGD(learning_rate=0.01)\n",
        "    model.compile(optimizer = optimizer,\n",
        "                  loss ='categorical_crossentropy',\n",
        "                  metrics = ['accuracy'])\n",
        "    return model\n",
        "\n",
        "model = improve_activation_get_model()\n",
        "model.summary()"
      ],
      "execution_count": null,
      "outputs": []
    },
    {
      "cell_type": "code",
      "metadata": {
        "id": "7Wgx0Bir7BYM"
      },
      "source": [
        "history = model.fit(X_train, y_train, batch_size=256, validation_split=0.3, epochs=100, verbose=1)"
      ],
      "execution_count": null,
      "outputs": []
    },
    {
      "cell_type": "code",
      "metadata": {
        "colab": {
          "base_uri": "https://localhost:8080/",
          "height": 265
        },
        "id": "nVMvl2p97Q6r",
        "outputId": "0210fcb1-fc47-48cf-acd5-80754b60ed9c"
      },
      "source": [
        "plt.plot(history.history['accuracy'])\n",
        "plt.plot(history.history['val_accuracy'])\n",
        "plt.legend(['train', 'val'], loc = 'best')\n",
        "plt.show()"
      ],
      "execution_count": 55,
      "outputs": [
        {
          "output_type": "display_data",
          "data": {
            "image/png": "[encoded data removed]",
            "text/plain": [
              "<Figure size 432x288 with 1 Axes>"
            ]
          },
          "metadata": {
            "tags": [],
            "needs_background": "light"
          }
        }
      ]
    },
    {
      "cell_type": "code",
      "metadata": {
        "colab": {
          "base_uri": "https://localhost:8080/"
        },
        "id": "oJixjkvp7rQB",
        "outputId": "a46bde8b-66d4-4b9f-c6b7-832fae7a1c60"
      },
      "source": [
        "result = model.evaluate(X_test, y_test)\n",
        "print('Test accuracy :', result[1])"
      ],
      "execution_count": 56,
      "outputs": [
        {
          "output_type": "stream",
          "text": [
            "313/313 [==============================] - 0s 1ms/step - loss: 0.4335 - accuracy: 0.8989\n",
            "Test accuracy : 0.8988999724388123\n"
          ],
          "name": "stdout"
        }
      ]
    },
    {
      "cell_type": "code",
      "metadata": {
        "colab": {
          "base_uri": "https://localhost:8080/"
        },
        "id": "glRr7nOF7s4R",
        "outputId": "e38731d4-e964-4e68-c27f-248c3067cb5c"
      },
      "source": [
        "# adaptive learning methods => Adam , RMSprop\n",
        "def improve_optimization_get_model():\n",
        "    model = Sequential()\n",
        "\n",
        "    model.add(Dense(50, activation='relu', input_shape=(784,)))\n",
        "    model.add(Dense(50, activation='relu'))\n",
        "    model.add(Dense(50, activation='relu'))\n",
        "    model.add(Dense(50, activation='relu'))\n",
        "\n",
        "    model.add(Dense(10, activation='softmax'))\n",
        "\n",
        "    optimizer = Adam(learning_rate=0.01)\n",
        "    model.compile(optimizer = optimizer,\n",
        "                  loss ='categorical_crossentropy',\n",
        "                  metrics = ['accuracy'])\n",
        "    return model\n",
        "\n",
        "model = improve_optimization_get_model()\n",
        "model.summary()"
      ],
      "execution_count": 60,
      "outputs": [
        {
          "output_type": "stream",
          "text": [
            "Model: \"sequential_4\"\n",
            "_________________________________________________________________\n",
            "Layer (type)                 Output Shape              Param #   \n",
            "=================================================================\n",
            "dense_20 (Dense)             (None, 50)                39250     \n",
            "_________________________________________________________________\n",
            "dense_21 (Dense)             (None, 50)                2550      \n",
            "_________________________________________________________________\n",
            "dense_22 (Dense)             (None, 50)                2550      \n",
            "_________________________________________________________________\n",
            "dense_23 (Dense)             (None, 50)                2550      \n",
            "_________________________________________________________________\n",
            "dense_24 (Dense)             (None, 10)                510       \n",
            "=================================================================\n",
            "Total params: 47,410\n",
            "Trainable params: 47,410\n",
            "Non-trainable params: 0\n",
            "_________________________________________________________________\n"
          ],
          "name": "stdout"
        }
      ]
    },
    {
      "cell_type": "code",
      "metadata": {
        "id": "elJ_FdfZ9G8y"
      },
      "source": [
        "history = model.fit(X_train, y_train, batch_size=256, validation_split=0.3, epochs=100, verbose=1)"
      ],
      "execution_count": null,
      "outputs": []
    },
    {
      "cell_type": "code",
      "metadata": {
        "colab": {
          "base_uri": "https://localhost:8080/",
          "height": 265
        },
        "id": "7yaG2TJR9OvZ",
        "outputId": "7d65f0be-23ff-4835-d983-869c9cc50c71"
      },
      "source": [
        "plt.plot(history.history['accuracy'])\n",
        "plt.plot(history.history['val_accuracy'])\n",
        "plt.legend(['train', 'val'], loc = 'best')\n",
        "plt.show()"
      ],
      "execution_count": 62,
      "outputs": [
        {
          "output_type": "display_data",
          "data": {
            "image/png": "[encoded data removed]",
            "text/plain": [
              "<Figure size 432x288 with 1 Axes>"
            ]
          },
          "metadata": {
            "tags": [],
            "needs_background": "light"
          }
        }
      ]
    },
    {
      "cell_type": "code",
      "metadata": {
        "colab": {
          "base_uri": "https://localhost:8080/"
        },
        "id": "CQ-wXxKx9udY",
        "outputId": "1cac5715-3c4c-4b31-df00-544b1a1b7347"
      },
      "source": [
        "result = model.evaluate(X_test, y_test)\n",
        "print('Test accuracy :', result[1])"
      ],
      "execution_count": 63,
      "outputs": [
        {
          "output_type": "stream",
          "text": [
            "313/313 [==============================] - 0s 1ms/step - loss: 0.5189 - accuracy: 0.9180\n",
            "Test accuracy : 0.9179999828338623\n"
          ],
          "name": "stdout"
        }
      ]
    },
    {
      "cell_type": "markdown",
      "metadata": {
        "id": "Rk8bZ-70BnX9"
      },
      "source": [
        "- 배치 정규화\n",
        "- 평균 0, 분산 1 정규화를 통해서 학습이 잘 일어나도록 도와주는 방식\n",
        "- 각 피쳐별 배치정규화를 진행"
      ]
    },
    {
      "cell_type": "code",
      "metadata": {
        "id": "FAxzjEns9vK3"
      },
      "source": [
        "def normalization_get_model():\n",
        "    model = Sequential()\n",
        "\n",
        "    model.add( Dense (50, input_shape=(784,) ) )\n",
        "    model.add( BatchNormalization() )\n",
        "    model.add( Activation('sigmoid') )\n",
        "\n",
        "    model.add(Dense (50) )\n",
        "    model.add( BatchNormalization() )\n",
        "    model.add( Activation('sigmoid') )\n",
        "\n",
        "    model.add(Dense (50) )\n",
        "    model.add( BatchNormalization() )\n",
        "    model.add( Activation('sigmoid') )\n",
        "\n",
        "    model.add(Dense (50) )\n",
        "    model.add( BatchNormalization() )\n",
        "    model.add( Activation('sigmoid') )\n",
        "\n",
        "    model.add(Dense(10, activation='softmax'))\n",
        "\n",
        "    optimizer = Adam(learning_rate=0.01)\n",
        "    model.compile(optimizer = optimizer,\n",
        "                  loss ='categorical_crossentropy',\n",
        "                  metrics = ['accuracy'])\n",
        "    return model"
      ],
      "execution_count": 69,
      "outputs": []
    },
    {
      "cell_type": "code",
      "metadata": {
        "id": "5m1cCbS_EC4i"
      },
      "source": [
        "model = normalization_get_model()\n",
        "model.summary()"
      ],
      "execution_count": null,
      "outputs": []
    },
    {
      "cell_type": "code",
      "metadata": {
        "id": "5NjwnIQdEGyS"
      },
      "source": [
        "history = model.fit(X_train, y_train, validation_split=0.3, epochs=100, verbose=1)"
      ],
      "execution_count": null,
      "outputs": []
    },
    {
      "cell_type": "code",
      "metadata": {
        "colab": {
          "base_uri": "https://localhost:8080/"
        },
        "id": "PfHkcl4yEZf8",
        "outputId": "49788b86-069b-4afb-f913-f888a3405177"
      },
      "source": [
        "result = model.evaluate(X_test, y_test)\n",
        "print('Test accuracy :', result[1])"
      ],
      "execution_count": 78,
      "outputs": [
        {
          "output_type": "stream",
          "text": [
            "313/313 [==============================] - 0s 1ms/step - loss: 0.9389 - accuracy: 0.6978\n",
            "Test accuracy : 0.6977999806404114\n"
          ],
          "name": "stdout"
        }
      ]
    },
    {
      "cell_type": "code",
      "metadata": {
        "colab": {
          "base_uri": "https://localhost:8080/",
          "height": 265
        },
        "id": "B64k5sZaHzKY",
        "outputId": "263c1b4a-2622-4dea-aeee-60c308ef2a11"
      },
      "source": [
        "plt.plot(history.history['accuracy'])\n",
        "plt.plot(history.history['val_accuracy'])\n",
        "plt.legend(['train', 'val'], loc = 'best')\n",
        "plt.show()"
      ],
      "execution_count": 79,
      "outputs": [
        {
          "output_type": "display_data",
          "data": {
            "image/png": "[encoded data removed]",
            "text/plain": [
              "<Figure size 432x288 with 1 Axes>"
            ]
          },
          "metadata": {
            "tags": [],
            "needs_background": "light"
          }
        }
      ]
    },
    {
      "cell_type": "markdown",
      "metadata": {
        "id": "GBSwOYNJF7eG"
      },
      "source": [
        "- dropout, earlystopping"
      ]
    },
    {
      "cell_type": "code",
      "metadata": {
        "id": "-1oy9NtGFPwE"
      },
      "source": [
        "def dropout_get_model():\n",
        "    model = Sequential()\n",
        "\n",
        "    model.add( Dense (50, input_shape=(784,) ) )\n",
        "    model.add( Activation('sigmoid') )\n",
        "    model.add( Dropout(0.2) )\n",
        "\n",
        "    model.add(Dense (50) )\n",
        "    model.add( Activation('sigmoid') )\n",
        "    model.add( Dropout(0.2) )\n",
        "\n",
        "    model.add(Dense (50) )\n",
        "    model.add( Activation('sigmoid') )\n",
        "    model.add( Dropout(0.2) )\n",
        "\n",
        "    model.add(Dense (50) )\n",
        "    model.add( Activation('sigmoid') )\n",
        "    model.add( Dropout(0.2) )\n",
        "\n",
        "    model.add(Dense(10, activation='softmax'))\n",
        "\n",
        "    optimizer = Adam(learning_rate=0.01)\n",
        "    model.compile(optimizer = optimizer,\n",
        "                  loss ='categorical_crossentropy',\n",
        "                  metrics = ['accuracy'])\n",
        "    return model"
      ],
      "execution_count": 74,
      "outputs": []
    },
    {
      "cell_type": "code",
      "metadata": {
        "id": "SarcJ4EwHCrE"
      },
      "source": [
        "model = dropout_get_model()\n",
        "model.summary()"
      ],
      "execution_count": null,
      "outputs": []
    },
    {
      "cell_type": "code",
      "metadata": {
        "id": "SEvPpk7qHFZA"
      },
      "source": [
        "history = model.fit(X_train, y_train, validation_split=0.3, epochs=100, verbose=1)"
      ],
      "execution_count": null,
      "outputs": []
    },
    {
      "cell_type": "code",
      "metadata": {
        "colab": {
          "base_uri": "https://localhost:8080/"
        },
        "id": "Hu6cSidVHJI2",
        "outputId": "010e62e1-80bb-4693-c440-22399b66c317"
      },
      "source": [
        "result = model.evaluate(X_test, y_test)\n",
        "print('Test accuracy :', result[1])"
      ],
      "execution_count": 77,
      "outputs": [
        {
          "output_type": "stream",
          "text": [
            "313/313 [==============================] - 0s 1ms/step - loss: 0.9389 - accuracy: 0.6978\n",
            "Test accuracy : 0.6977999806404114\n"
          ],
          "name": "stdout"
        }
      ]
    },
    {
      "cell_type": "code",
      "metadata": {
        "colab": {
          "base_uri": "https://localhost:8080/",
          "height": 265
        },
        "id": "QDW2FCdWHx80",
        "outputId": "6b19d5ea-9aa7-4341-9dc6-0fb2d8ecdec7"
      },
      "source": [
        "plt.plot(history.history['accuracy'])\n",
        "plt.plot(history.history['val_accuracy'])\n",
        "plt.legend(['train', 'val'], loc = 'best')\n",
        "plt.show()"
      ],
      "execution_count": 80,
      "outputs": [
        {
          "output_type": "display_data",
          "data": {
            "image/png": "[encoded data removed]",
            "text/plain": [
              "<Figure size 432x288 with 1 Axes>"
            ]
          },
          "metadata": {
            "tags": [],
            "needs_background": "light"
          }
        }
      ]
    },
    {
      "cell_type": "code",
      "metadata": {
        "id": "IjywtftoH12R"
      },
      "source": [
        "def dropout_batchnormalization_get_model():\n",
        "    model = Sequential()\n",
        "\n",
        "    model.add( Dense (50, input_shape=(784,) ) )\n",
        "    model.add( BatchNormalization() )\n",
        "    model.add( Activation('sigmoid') )\n",
        "    model.add( Dropout(0.2) )\n",
        "\n",
        "    model.add(Dense (50) )\n",
        "    model.add( BatchNormalization() )\n",
        "    model.add( Activation('sigmoid') )\n",
        "    model.add( Dropout(0.2) )\n",
        "\n",
        "    model.add(Dense (50) )\n",
        "    model.add( BatchNormalization() )\n",
        "    model.add( Activation('sigmoid') )\n",
        "    model.add( Dropout(0.2) )\n",
        "\n",
        "    model.add(Dense (50) )\n",
        "    model.add( BatchNormalization() )\n",
        "    model.add( Activation('sigmoid') )\n",
        "    model.add( Dropout(0.2) )\n",
        "\n",
        "    model.add(Dense(10, activation='softmax'))\n",
        "\n",
        "    optimizer = Adam(learning_rate=0.01)\n",
        "    model.compile(optimizer = optimizer,\n",
        "                  loss ='categorical_crossentropy',\n",
        "                  metrics = ['accuracy'])\n",
        "    return model"
      ],
      "execution_count": 81,
      "outputs": []
    },
    {
      "cell_type": "code",
      "metadata": {
        "id": "dZ2OqbF0IVSb"
      },
      "source": [
        "model = dropout_batchnormalization_get_model()\n",
        "model.summary()"
      ],
      "execution_count": null,
      "outputs": []
    },
    {
      "cell_type": "code",
      "metadata": {
        "id": "Hr6Ti0o2IZAP"
      },
      "source": [
        "history = model.fit(X_train, y_train, validation_split=0.3, epochs=100, verbose=1)"
      ],
      "execution_count": null,
      "outputs": []
    },
    {
      "cell_type": "code",
      "metadata": {
        "colab": {
          "base_uri": "https://localhost:8080/"
        },
        "id": "XnUCXhAkIbJU",
        "outputId": "80ff6b70-e7a8-4b2b-cc98-06e25666c78a"
      },
      "source": [
        "result = model.evaluate(X_test, y_test)\n",
        "print('Test accuracy :', result[1])"
      ],
      "execution_count": 84,
      "outputs": [
        {
          "output_type": "stream",
          "text": [
            "313/313 [==============================] - 0s 1ms/step - loss: 0.1586 - accuracy: 0.9604\n",
            "Test accuracy : 0.9603999853134155\n"
          ],
          "name": "stdout"
        }
      ]
    },
    {
      "cell_type": "code",
      "metadata": {
        "colab": {
          "base_uri": "https://localhost:8080/",
          "height": 265
        },
        "id": "bkfk05hDIfFf",
        "outputId": "b8d1bb7f-7683-4b51-82f2-5c0f5b21a90d"
      },
      "source": [
        "plt.plot(history.history['accuracy'])\n",
        "plt.plot(history.history['val_accuracy'])\n",
        "plt.legend(['train', 'val'], loc = 'best')\n",
        "plt.show()"
      ],
      "execution_count": 85,
      "outputs": [
        {
          "output_type": "display_data",
          "data": {
            "image/png": "[encoded data removed]",
            "text/plain": [
              "<Figure size 432x288 with 1 Axes>"
            ]
          },
          "metadata": {
            "tags": [],
            "needs_background": "light"
          }
        }
      ]
    },
    {
      "cell_type": "code",
      "metadata": {
        "colab": {
          "base_uri": "https://localhost:8080/"
        },
        "id": "N0YZySbpI7Mq",
        "outputId": "99811070-b818-4791-b8ea-5af065241e82"
      },
      "source": [
        "callbacks = [EarlyStopping(monitor='val_accuracy', patience=3)]\n",
        "history = model.fit(X_train, y_train, validation_split=0.3, epochs=100, verbose=1, callbacks=callbacks)"
      ],
      "execution_count": 87,
      "outputs": [
        {
          "output_type": "stream",
          "text": [
            "Epoch 1/100\n",
            "394/394 [==============================] - 1s 3ms/step - loss: 0.1196 - accuracy: 0.9629 - val_loss: 0.1613 - val_accuracy: 0.9585\n",
            "Epoch 2/100\n",
            "394/394 [==============================] - 1s 3ms/step - loss: 0.1185 - accuracy: 0.9646 - val_loss: 0.1663 - val_accuracy: 0.9570\n",
            "Epoch 3/100\n",
            "394/394 [==============================] - 1s 3ms/step - loss: 0.1249 - accuracy: 0.9622 - val_loss: 0.1670 - val_accuracy: 0.9569\n",
            "Epoch 4/100\n",
            "394/394 [==============================] - 1s 3ms/step - loss: 0.1155 - accuracy: 0.9638 - val_loss: 0.1752 - val_accuracy: 0.9548\n"
          ],
          "name": "stdout"
        }
      ]
    },
    {
      "cell_type": "code",
      "metadata": {
        "id": "AkIq6JdmKRLZ"
      },
      "source": [
        ""
      ],
      "execution_count": null,
      "outputs": []
    }
  ]
}