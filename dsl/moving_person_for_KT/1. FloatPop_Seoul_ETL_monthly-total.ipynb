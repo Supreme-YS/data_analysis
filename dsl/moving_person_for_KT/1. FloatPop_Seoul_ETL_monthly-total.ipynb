{
 "cells": [
  {
   "cell_type": "code",
   "execution_count": 1,
   "metadata": {},
   "outputs": [
    {
     "name": "stdout",
     "output_type": "stream",
     "text": [
      ">>> 본 소스 작성 시 사용된 라이브러리 버전에 유의하세요!\n"
     ]
    },
    {
     "data": {
      "text/plain": [
       "'pd : 1.0.5  |  np : 1.16.5  |  tqdm : 4.47.0'"
      ]
     },
     "execution_count": 1,
     "metadata": {},
     "output_type": "execute_result"
    }
   ],
   "source": [
    "import pandas as pd\n",
    "import numpy as np\n",
    "\n",
    "import glob\n",
    "import tqdm\n",
    "import gc\n",
    "\n",
    "print('>>> 본 소스 작성 시 사용된 라이브러리 버전에 유의하세요!')\n",
    "f'pd : {pd.__version__}  |  np : {np.__version__}  |  tqdm : {tqdm.__version__}'"
   ]
  },
  {
   "cell_type": "markdown",
   "metadata": {},
   "source": [
    "## 셀-행정동 매핑자료 로드 (서울특별시 전체)"
   ]
  },
  {
   "cell_type": "code",
   "execution_count": 2,
   "metadata": {},
   "outputs": [
    {
     "data": {
      "text/html": [
       "<div>\n",
       "<style scoped>\n",
       "    .dataframe tbody tr th:only-of-type {\n",
       "        vertical-align: middle;\n",
       "    }\n",
       "\n",
       "    .dataframe tbody tr th {\n",
       "        vertical-align: top;\n",
       "    }\n",
       "\n",
       "    .dataframe thead th {\n",
       "        text-align: right;\n",
       "    }\n",
       "</style>\n",
       "<table border=\"1\" class=\"dataframe\">\n",
       "  <thead>\n",
       "    <tr style=\"text-align: right;\">\n",
       "      <th></th>\n",
       "      <th>sgg_cd</th>\n",
       "      <th>sgg_nm</th>\n",
       "      <th>admdong_cd</th>\n",
       "      <th>admdong_nm</th>\n",
       "    </tr>\n",
       "  </thead>\n",
       "  <tbody>\n",
       "    <tr>\n",
       "      <th>0</th>\n",
       "      <td>11110</td>\n",
       "      <td>종로구</td>\n",
       "      <td>11110540</td>\n",
       "      <td>삼청동</td>\n",
       "    </tr>\n",
       "    <tr>\n",
       "      <th>1</th>\n",
       "      <td>11110</td>\n",
       "      <td>종로구</td>\n",
       "      <td>11110615</td>\n",
       "      <td>종로1.2.3.4가동</td>\n",
       "    </tr>\n",
       "    <tr>\n",
       "      <th>2</th>\n",
       "      <td>11110</td>\n",
       "      <td>종로구</td>\n",
       "      <td>11110650</td>\n",
       "      <td>혜화동</td>\n",
       "    </tr>\n",
       "    <tr>\n",
       "      <th>3</th>\n",
       "      <td>11110</td>\n",
       "      <td>종로구</td>\n",
       "      <td>11110680</td>\n",
       "      <td>창신2동</td>\n",
       "    </tr>\n",
       "    <tr>\n",
       "      <th>4</th>\n",
       "      <td>11110</td>\n",
       "      <td>종로구</td>\n",
       "      <td>11110700</td>\n",
       "      <td>숭인1동</td>\n",
       "    </tr>\n",
       "  </tbody>\n",
       "</table>\n",
       "</div>"
      ],
      "text/plain": [
       "   sgg_cd sgg_nm  admdong_cd   admdong_nm\n",
       "0   11110    종로구    11110540          삼청동\n",
       "1   11110    종로구    11110615  종로1.2.3.4가동\n",
       "2   11110    종로구    11110650          혜화동\n",
       "3   11110    종로구    11110680         창신2동\n",
       "4   11110    종로구    11110700         숭인1동"
      ]
     },
     "metadata": {},
     "output_type": "display_data"
    },
    {
     "name": "stdout",
     "output_type": "stream",
     "text": [
      "서울특별시 소속 50셀 코드 수 : 424\n",
      "서울특별시 소속 행정동 코드 (상위 5개) : [11110540, 11110615, 11110650, 11110680, 11110700] ...\n"
     ]
    }
   ],
   "source": [
    "region_name_map = pd.read_csv('2_ADMDONG_CD-ADMDONG_NM.csv')\n",
    "region_name_map = region_name_map[(region_name_map.sido_nm == '서울특별시')].reset_index(drop=True).drop(columns=['sido_cd', 'sido_nm'])\n",
    "\n",
    "display(region_name_map.head())\n",
    "print('서울특별시 소속 50셀 코드 수 :', region_name_map.shape[0])\n",
    "print(f'서울특별시 소속 행정동 코드 (상위 5개) : {list(region_name_map.admdong_cd)[:5]} ...')"
   ]
  },
  {
   "cell_type": "code",
   "execution_count": 3,
   "metadata": {},
   "outputs": [
    {
     "data": {
      "text/html": [
       "<div>\n",
       "<style scoped>\n",
       "    .dataframe tbody tr th:only-of-type {\n",
       "        vertical-align: middle;\n",
       "    }\n",
       "\n",
       "    .dataframe tbody tr th {\n",
       "        vertical-align: top;\n",
       "    }\n",
       "\n",
       "    .dataframe thead th {\n",
       "        text-align: right;\n",
       "    }\n",
       "</style>\n",
       "<table border=\"1\" class=\"dataframe\">\n",
       "  <thead>\n",
       "    <tr style=\"text-align: right;\">\n",
       "      <th></th>\n",
       "      <th>id</th>\n",
       "      <th>admdong_cd</th>\n",
       "    </tr>\n",
       "  </thead>\n",
       "  <tbody>\n",
       "    <tr>\n",
       "      <th>757529</th>\n",
       "      <td>46047699</td>\n",
       "      <td>11500620</td>\n",
       "    </tr>\n",
       "    <tr>\n",
       "      <th>758464</th>\n",
       "      <td>46059888</td>\n",
       "      <td>11500620</td>\n",
       "    </tr>\n",
       "    <tr>\n",
       "      <th>758465</th>\n",
       "      <td>46059889</td>\n",
       "      <td>11500620</td>\n",
       "    </tr>\n",
       "    <tr>\n",
       "      <th>759402</th>\n",
       "      <td>46072077</td>\n",
       "      <td>11500620</td>\n",
       "    </tr>\n",
       "    <tr>\n",
       "      <th>759403</th>\n",
       "      <td>46072078</td>\n",
       "      <td>11500620</td>\n",
       "    </tr>\n",
       "  </tbody>\n",
       "</table>\n",
       "</div>"
      ],
      "text/plain": [
       "              id  admdong_cd\n",
       "757529  46047699    11500620\n",
       "758464  46059888    11500620\n",
       "758465  46059889    11500620\n",
       "759402  46072077    11500620\n",
       "759403  46072078    11500620"
      ]
     },
     "metadata": {},
     "output_type": "display_data"
    },
    {
     "name": "stdout",
     "output_type": "stream",
     "text": [
      "서울특별시 소속 50셀 코드 수 : 242363\n",
      "서울특별시 소속 50셀 코드 (상위 5개) : [46047699, 46059888, 46059889, 46072077, 46072078] ...\n"
     ]
    }
   ],
   "source": [
    "cell_code_map = pd.read_csv('1_50CELL-ADMDONG_CD.csv').drop(columns=['x_axis', 'y_axis'])\n",
    "cell_code_map = cell_code_map[cell_code_map.admdong_cd.isin(region_name_map.admdong_cd)]\n",
    "\n",
    "display(cell_code_map.head())\n",
    "print('서울특별시 소속 50셀 코드 수 :', cell_code_map.shape[0])\n",
    "print(f'서울특별시 소속 50셀 코드 (상위 5개) : {list(cell_code_map.id)[:5]} ...')"
   ]
  },
  {
   "cell_type": "markdown",
   "metadata": {},
   "source": [
    "## 행정동별 월별 유동인구 총합 계산 (1월만)"
   ]
  },
  {
   "cell_type": "code",
   "execution_count": 4,
   "metadata": {},
   "outputs": [],
   "source": [
    "# filename = 'SEOUL_201901*.csv'\n",
    "# file_list = glob.glob(filename)\n",
    "# year = int(filename[6:10])\n",
    "# month = int(filename[10:12])\n",
    "\n",
    "# df_list = []\n",
    "# for file in file_list:\n",
    "#     tmp_df = pd.read_csv(file, usecols=['id', 'total'])\n",
    "#     tmp_df = pd.merge(tmp_df, cell_code_map, how='left', on='id').groupby('admdong_cd')['total'].sum().reset_index()\n",
    "#     df_list.append(tmp_df)\n",
    "#     pass\n",
    "\n",
    "# month_df = pd.merge(df_list[0], df_list[1], how='outer', on='admdong_cd')\n",
    "# month_df = pd.merge(month_df, df_list[2], how='outer', on='admdong_cd')\n",
    "# month_df['year'] = year\n",
    "# month_df['month'] = month\n",
    "# month_df['total'] = month_df[['total_x', 'total_y', 'total']].sum(axis=1)\n",
    "\n",
    "# month_df = month_df[['admdong_cd', 'year', 'month', 'total']]\n",
    "# month_df = region_name_map.merge(month_df, how='left', on='admdong_cd')\n",
    "# month_df"
   ]
  },
  {
   "cell_type": "markdown",
   "metadata": {},
   "source": [
    "## 행정동별 월별 유동인구 총합 계산 (19년 1월-4월, 20년 1-4월)"
   ]
  },
  {
   "cell_type": "code",
   "execution_count": 5,
   "metadata": {},
   "outputs": [
    {
     "name": "stderr",
     "output_type": "stream",
     "text": [
      "C:\\Users\\dslab01\\anaconda3\\envs\\gis_prac\\lib\\site-packages\\ipykernel_launcher.py:4: TqdmDeprecationWarning: This function will be removed in tqdm==5.0.0\n",
      "Please use `tqdm.notebook.tqdm` instead of `tqdm.tqdm_notebook`\n",
      "  after removing the cwd from sys.path.\n"
     ]
    },
    {
     "data": {
      "application/vnd.jupyter.widget-view+json": {
       "model_id": "013f316b6f694ed1a7831b9912c6553f",
       "version_major": 2,
       "version_minor": 0
      },
      "text/plain": [
       "HBox(children=(FloatProgress(value=0.0, max=4.0), HTML(value='')))"
      ]
     },
     "metadata": {},
     "output_type": "display_data"
    },
    {
     "name": "stdout",
     "output_type": "stream",
     "text": [
      "\n"
     ]
    },
    {
     "data": {
      "application/vnd.jupyter.widget-view+json": {
       "model_id": "d47f3f17454c4c9294ff4e9fa58b0218",
       "version_major": 2,
       "version_minor": 0
      },
      "text/plain": [
       "HBox(children=(FloatProgress(value=0.0, max=4.0), HTML(value='')))"
      ]
     },
     "metadata": {},
     "output_type": "display_data"
    },
    {
     "name": "stdout",
     "output_type": "stream",
     "text": [
      "\n"
     ]
    }
   ],
   "source": [
    "result_list = []\n",
    "\n",
    "for year in [2019, 2020]:\n",
    "    for month in tqdm.tqdm_notebook(range(1, 5)):\n",
    "        month_str = f'0{month}'[-2:]\n",
    "        filename = f'SEOUL_{year}{month_str}*.csv'\n",
    "        file_list = glob.glob(filename)\n",
    "\n",
    "        df_list = []\n",
    "        for file in file_list:\n",
    "            tmp_df = pd.read_csv(file, usecols=['id', 'total'])\n",
    "            tmp_df = pd.merge(tmp_df, cell_code_map, how='left', on='id').groupby('admdong_cd')['total'].sum().reset_index()\n",
    "            df_list.append(tmp_df)\n",
    "            pass\n",
    "\n",
    "        month_df = pd.merge(df_list[0], df_list[1], how='outer', on='admdong_cd')\n",
    "        month_df = pd.merge(month_df, df_list[2], how='outer', on='admdong_cd')\n",
    "        month_df['year'] = year\n",
    "        month_df['month'] = month\n",
    "        month_df['total'] = month_df[['total_x', 'total_y', 'total']].sum(axis=1)\n",
    "\n",
    "        month_df = month_df[['admdong_cd', 'year', 'month', 'total']]\n",
    "        month_df = region_name_map.merge(month_df, how='left', on='admdong_cd')\n",
    "        \n",
    "        result_list.append(month_df)\n",
    "        gc.collect()"
   ]
  },
  {
   "cell_type": "markdown",
   "metadata": {},
   "source": [
    "## 최종 데이터프레임 결측치 확인 및 저장"
   ]
  },
  {
   "cell_type": "code",
   "execution_count": 6,
   "metadata": {},
   "outputs": [
    {
     "data": {
      "text/html": [
       "<div>\n",
       "<style scoped>\n",
       "    .dataframe tbody tr th:only-of-type {\n",
       "        vertical-align: middle;\n",
       "    }\n",
       "\n",
       "    .dataframe tbody tr th {\n",
       "        vertical-align: top;\n",
       "    }\n",
       "\n",
       "    .dataframe thead th {\n",
       "        text-align: right;\n",
       "    }\n",
       "</style>\n",
       "<table border=\"1\" class=\"dataframe\">\n",
       "  <thead>\n",
       "    <tr style=\"text-align: right;\">\n",
       "      <th></th>\n",
       "      <th>sgg_cd</th>\n",
       "      <th>sgg_nm</th>\n",
       "      <th>admdong_cd</th>\n",
       "      <th>admdong_nm</th>\n",
       "      <th>year</th>\n",
       "      <th>month</th>\n",
       "      <th>total</th>\n",
       "    </tr>\n",
       "  </thead>\n",
       "  <tbody>\n",
       "    <tr>\n",
       "      <th>0</th>\n",
       "      <td>11110</td>\n",
       "      <td>종로구</td>\n",
       "      <td>11110540</td>\n",
       "      <td>삼청동</td>\n",
       "      <td>2019</td>\n",
       "      <td>1</td>\n",
       "      <td>5881315</td>\n",
       "    </tr>\n",
       "    <tr>\n",
       "      <th>1</th>\n",
       "      <td>11110</td>\n",
       "      <td>종로구</td>\n",
       "      <td>11110615</td>\n",
       "      <td>종로1.2.3.4가동</td>\n",
       "      <td>2019</td>\n",
       "      <td>1</td>\n",
       "      <td>61377525</td>\n",
       "    </tr>\n",
       "    <tr>\n",
       "      <th>2</th>\n",
       "      <td>11110</td>\n",
       "      <td>종로구</td>\n",
       "      <td>11110650</td>\n",
       "      <td>혜화동</td>\n",
       "      <td>2019</td>\n",
       "      <td>1</td>\n",
       "      <td>16015862</td>\n",
       "    </tr>\n",
       "    <tr>\n",
       "      <th>3</th>\n",
       "      <td>11110</td>\n",
       "      <td>종로구</td>\n",
       "      <td>11110680</td>\n",
       "      <td>창신2동</td>\n",
       "      <td>2019</td>\n",
       "      <td>1</td>\n",
       "      <td>2451402</td>\n",
       "    </tr>\n",
       "    <tr>\n",
       "      <th>4</th>\n",
       "      <td>11110</td>\n",
       "      <td>종로구</td>\n",
       "      <td>11110700</td>\n",
       "      <td>숭인1동</td>\n",
       "      <td>2019</td>\n",
       "      <td>1</td>\n",
       "      <td>7420365</td>\n",
       "    </tr>\n",
       "    <tr>\n",
       "      <th>...</th>\n",
       "      <td>...</td>\n",
       "      <td>...</td>\n",
       "      <td>...</td>\n",
       "      <td>...</td>\n",
       "      <td>...</td>\n",
       "      <td>...</td>\n",
       "      <td>...</td>\n",
       "    </tr>\n",
       "    <tr>\n",
       "      <th>3387</th>\n",
       "      <td>11710</td>\n",
       "      <td>송파구</td>\n",
       "      <td>11710710</td>\n",
       "      <td>잠실6동</td>\n",
       "      <td>2020</td>\n",
       "      <td>4</td>\n",
       "      <td>31576430</td>\n",
       "    </tr>\n",
       "    <tr>\n",
       "      <th>3388</th>\n",
       "      <td>11740</td>\n",
       "      <td>강동구</td>\n",
       "      <td>11740540</td>\n",
       "      <td>명일2동</td>\n",
       "      <td>2020</td>\n",
       "      <td>4</td>\n",
       "      <td>8103775</td>\n",
       "    </tr>\n",
       "    <tr>\n",
       "      <th>3389</th>\n",
       "      <td>11740</td>\n",
       "      <td>강동구</td>\n",
       "      <td>11740590</td>\n",
       "      <td>암사3동</td>\n",
       "      <td>2020</td>\n",
       "      <td>4</td>\n",
       "      <td>9953712</td>\n",
       "    </tr>\n",
       "    <tr>\n",
       "      <th>3390</th>\n",
       "      <td>11740</td>\n",
       "      <td>강동구</td>\n",
       "      <td>11740610</td>\n",
       "      <td>천호2동</td>\n",
       "      <td>2020</td>\n",
       "      <td>4</td>\n",
       "      <td>23695173</td>\n",
       "    </tr>\n",
       "    <tr>\n",
       "      <th>3391</th>\n",
       "      <td>11740</td>\n",
       "      <td>강동구</td>\n",
       "      <td>11740650</td>\n",
       "      <td>성내2동</td>\n",
       "      <td>2020</td>\n",
       "      <td>4</td>\n",
       "      <td>15440134</td>\n",
       "    </tr>\n",
       "  </tbody>\n",
       "</table>\n",
       "<p>3392 rows × 7 columns</p>\n",
       "</div>"
      ],
      "text/plain": [
       "      sgg_cd sgg_nm  admdong_cd   admdong_nm  year  month     total\n",
       "0      11110    종로구    11110540          삼청동  2019      1   5881315\n",
       "1      11110    종로구    11110615  종로1.2.3.4가동  2019      1  61377525\n",
       "2      11110    종로구    11110650          혜화동  2019      1  16015862\n",
       "3      11110    종로구    11110680         창신2동  2019      1   2451402\n",
       "4      11110    종로구    11110700         숭인1동  2019      1   7420365\n",
       "...      ...    ...         ...          ...   ...    ...       ...\n",
       "3387   11710    송파구    11710710         잠실6동  2020      4  31576430\n",
       "3388   11740    강동구    11740540         명일2동  2020      4   8103775\n",
       "3389   11740    강동구    11740590         암사3동  2020      4   9953712\n",
       "3390   11740    강동구    11740610         천호2동  2020      4  23695173\n",
       "3391   11740    강동구    11740650         성내2동  2020      4  15440134\n",
       "\n",
       "[3392 rows x 7 columns]"
      ]
     },
     "execution_count": 6,
     "metadata": {},
     "output_type": "execute_result"
    }
   ],
   "source": [
    "result_df = pd.concat(result_list, ignore_index=True)\n",
    "result_df"
   ]
  },
  {
   "cell_type": "code",
   "execution_count": 11,
   "metadata": {},
   "outputs": [
    {
     "data": {
      "text/plain": [
       "sgg_cd        0\n",
       "sgg_nm        0\n",
       "admdong_cd    0\n",
       "admdong_nm    0\n",
       "year          0\n",
       "month         0\n",
       "total         0\n",
       "dtype: int64"
      ]
     },
     "execution_count": 11,
     "metadata": {},
     "output_type": "execute_result"
    }
   ],
   "source": [
    "result_df.isna().sum()"
   ]
  },
  {
   "cell_type": "code",
   "execution_count": 9,
   "metadata": {},
   "outputs": [],
   "source": [
    "result_df.to_pickle('서울특별시_월별_행정동별_총합.pkl')"
   ]
  },
  {
   "cell_type": "code",
   "execution_count": null,
   "metadata": {},
   "outputs": [],
   "source": []
  }
 ],
 "metadata": {
  "kernelspec": {
   "display_name": "Python 3",
   "language": "python",
   "name": "python3"
  },
  "language_info": {
   "codemirror_mode": {
    "name": "ipython",
    "version": 3
   },
   "file_extension": ".py",
   "mimetype": "text/x-python",
   "name": "python",
   "nbconvert_exporter": "python",
   "pygments_lexer": "ipython3",
   "version": "3.7.7"
  }
 },
 "nbformat": 4,
 "nbformat_minor": 4
}
