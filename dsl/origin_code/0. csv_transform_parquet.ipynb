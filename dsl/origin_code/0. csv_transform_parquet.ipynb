{
 "cells": [
  {
   "cell_type": "code",
   "execution_count": 4,
   "id": "56025ff0",
   "metadata": {
    "collapsed": true
   },
   "outputs": [
    {
     "ename": "SyntaxError",
     "evalue": "invalid syntax (<ipython-input-4-c58ee18b10a3>, line 2)",
     "output_type": "error",
     "traceback": [
      "\u001b[1;36m  File \u001b[1;32m\"<ipython-input-4-c58ee18b10a3>\"\u001b[1;36m, line \u001b[1;32m2\u001b[0m\n\u001b[1;33m    pip install pandas pyarrow\u001b[0m\n\u001b[1;37m        ^\u001b[0m\n\u001b[1;31mSyntaxError\u001b[0m\u001b[1;31m:\u001b[0m invalid syntax\n"
     ]
    }
   ],
   "source": [
    "# 라이브러리 설치\n",
    "pip install pandas pyarrow"
   ]
  },
  {
   "cell_type": "code",
   "execution_count": 63,
   "id": "f211debf",
   "metadata": {},
   "outputs": [],
   "source": [
    "# csv_to_parquet.py\n",
    "import pandas as pd\n",
    "import pyarrow as pa\n",
    "import pyarrow.parquet as pq\n",
    "import os\n",
    "path_dir = 'C:/Users/dudtj/busan_moving_person/data/csv_data'\n",
    "parquet_path = 'C:/Users/dudtj/busan_moving_person/data/parquet_data'\n",
    " \n",
    "file_list = os.listdir(path_dir)"
   ]
  },
  {
   "cell_type": "code",
   "execution_count": 66,
   "id": "10fdee01",
   "metadata": {},
   "outputs": [
    {
     "name": "stdout",
     "output_type": "stream",
     "text": [
      "C:\\Users\\dudtj\\busan_moving_person\\data\\csv_data\n"
     ]
    }
   ],
   "source": [
    "cd csv_data/"
   ]
  },
  {
   "cell_type": "code",
   "execution_count": null,
   "id": "158019ea",
   "metadata": {},
   "outputs": [],
   "source": [
    "parquet_lists = []\n",
    "for i in range(len(file_list)):\n",
    "    parquet = file_list[i]\n",
    "    parquet_list = parquet.replace('.csv', '.parquet')\n",
    "    parquet_lists.append(parquet_list)\n",
    "    \n",
    "print(parquet_lists)"
   ]
  },
  {
   "cell_type": "code",
   "execution_count": 67,
   "id": "7369653a",
   "metadata": {},
   "outputs": [
    {
     "name": "stdout",
     "output_type": "stream",
     "text": [
      "done :)\n",
      "done :)\n",
      "done :)\n",
      "done :)\n",
      "done :)\n",
      "done :)\n",
      "done :)\n",
      "done :)\n",
      "done :)\n",
      "done :)\n",
      "done :)\n",
      "done :)\n"
     ]
    }
   ],
   "source": [
    "for i in range(len(file_list)):\n",
    "    csv_file = file_list[i]\n",
    "    df = pd.read_csv(csv_file)\n",
    "    df.to_parquet(parquet_lists[i])\n",
    "    print('done :)')"
   ]
  },
  {
   "cell_type": "code",
   "execution_count": 71,
   "id": "be04779d",
   "metadata": {},
   "outputs": [
    {
     "name": "stdout",
     "output_type": "stream",
     "text": [
      " C 드라이브의 볼륨에는 이름이 없습니다.\n",
      " 볼륨 일련 번호: CE27-0A82\n",
      "\n",
      " C:\\Users\\dudtj\\busan_moving_person\\data\\parquet_data 디렉터리\n",
      "\n",
      "2021-07-27  오전 11:54    <DIR>          .\n",
      "2021-07-27  오전 11:54    <DIR>          ..\n",
      "2021-07-27  오전 11:49       260,785,408 50CELL_BUSANJINGU_2019_201901.parquet\n",
      "2021-07-27  오전 11:50       236,806,065 50CELL_BUSANJINGU_2019_201902.parquet\n",
      "2021-07-27  오전 11:50       263,380,168 50CELL_BUSANJINGU_2019_201903.parquet\n",
      "2021-07-27  오전 11:51       252,563,400 50CELL_BUSANJINGU_2019_201904.parquet\n",
      "2021-07-27  오전 11:51       266,670,194 50CELL_BUSANJINGU_2019_201905.parquet\n",
      "2021-07-27  오전 11:51       258,967,895 50CELL_BUSANJINGU_2019_201906.parquet\n",
      "2021-07-27  오전 11:52       266,659,381 50CELL_BUSANJINGU_2019_201907.parquet\n",
      "2021-07-27  오전 11:52       267,440,974 50CELL_BUSANJINGU_2019_201908.parquet\n",
      "2021-07-27  오전 11:53       261,806,861 50CELL_BUSANJINGU_2019_201909.parquet\n",
      "2021-07-27  오전 11:53       272,770,824 50CELL_BUSANJINGU_2019_201910.parquet\n",
      "2021-07-27  오전 11:54       264,121,311 50CELL_BUSANJINGU_2019_201911.parquet\n",
      "2021-07-27  오전 11:54       272,475,636 50CELL_BUSANJINGU_2019_201912.parquet\n",
      "              12개 파일       3,144,448,117 바이트\n",
      "               2개 디렉터리  126,780,211,200 바이트 남음\n"
     ]
    }
   ],
   "source": []
  },
  {
   "cell_type": "code",
   "execution_count": 72,
   "id": "bc89e70c",
   "metadata": {},
   "outputs": [],
   "source": [
    "parquet_path_dir = 'C:/Users/dudtj/busan_moving_person/data/parquet_data/'"
   ]
  },
  {
   "cell_type": "code",
   "execution_count": 73,
   "id": "3785d2f8",
   "metadata": {},
   "outputs": [
    {
     "name": "stdout",
     "output_type": "stream",
     "text": [
      "['50CELL_BUSANJINGU_2019_201901.parquet', '50CELL_BUSANJINGU_2019_201902.parquet', '50CELL_BUSANJINGU_2019_201903.parquet', '50CELL_BUSANJINGU_2019_201904.parquet', '50CELL_BUSANJINGU_2019_201905.parquet', '50CELL_BUSANJINGU_2019_201906.parquet', '50CELL_BUSANJINGU_2019_201907.parquet', '50CELL_BUSANJINGU_2019_201908.parquet', '50CELL_BUSANJINGU_2019_201909.parquet', '50CELL_BUSANJINGU_2019_201910.parquet', '50CELL_BUSANJINGU_2019_201911.parquet', '50CELL_BUSANJINGU_2019_201912.parquet']\n"
     ]
    }
   ],
   "source": [
    "parquet_data_list = os.listdir(parquet_path_dir)\n",
    "print(parquet_data_list)"
   ]
  },
  {
   "cell_type": "code",
   "execution_count": 78,
   "id": "48c723e7",
   "metadata": {},
   "outputs": [
    {
     "name": "stdout",
     "output_type": "stream",
     "text": [
      "(5696323, 35)\n",
      "(5156065, 35)\n",
      "(5746980, 35)\n",
      "(5547176, 35)\n",
      "(5806656, 35)\n",
      "(5668147, 35)\n",
      "(5805766, 35)\n",
      "(5811705, 35)\n",
      "(5712185, 35)\n",
      "(5963830, 35)\n",
      "(5780788, 35)\n",
      "(5921809, 35)\n"
     ]
    }
   ],
   "source": [
    "for i in range(len(parquet_data_list)):\n",
    "    parquet_shape = pd.read_parquet(parquet_data_list[i])\n",
    "    print(parquet_shape.shape)"
   ]
  },
  {
   "cell_type": "code",
   "execution_count": 81,
   "id": "3d9f9b5f",
   "metadata": {},
   "outputs": [
    {
     "name": "stdout",
     "output_type": "stream",
     "text": [
      "['50CELL_BUSANJINGU_2019_201901.csv', '50CELL_BUSANJINGU_2019_201902.csv', '50CELL_BUSANJINGU_2019_201903.csv', '50CELL_BUSANJINGU_2019_201904.csv', '50CELL_BUSANJINGU_2019_201905.csv', '50CELL_BUSANJINGU_2019_201906.csv', '50CELL_BUSANJINGU_2019_201907.csv', '50CELL_BUSANJINGU_2019_201908.csv', '50CELL_BUSANJINGU_2019_201909.csv', '50CELL_BUSANJINGU_2019_201910.csv', '50CELL_BUSANJINGU_2019_201911.csv', '50CELL_BUSANJINGU_2019_201912.csv']\n"
     ]
    }
   ],
   "source": [
    "csv_data_list = os.listdir(path_dir)\n",
    "print(csv_data_list)"
   ]
  },
  {
   "cell_type": "code",
   "execution_count": 82,
   "id": "ab4e4309",
   "metadata": {},
   "outputs": [
    {
     "name": "stdout",
     "output_type": "stream",
     "text": [
      "(5696323, 35)\n",
      "(5156065, 35)\n",
      "(5746980, 35)\n",
      "(5547176, 35)\n",
      "(5806656, 35)\n",
      "(5668147, 35)\n",
      "(5805766, 35)\n",
      "(5811705, 35)\n",
      "(5712185, 35)\n",
      "(5963830, 35)\n",
      "(5780788, 35)\n",
      "(5921809, 35)\n"
     ]
    }
   ],
   "source": [
    "for i in range(len(csv_data_list)):\n",
    "    csv_shape = pd.read_csv(csv_data_list[i])\n",
    "    print(csv_shape.shape)"
   ]
  },
  {
   "cell_type": "code",
   "execution_count": 27,
   "id": "d79e8603",
   "metadata": {
    "collapsed": true
   },
   "outputs": [
    {
     "data": {
      "text/plain": [
       "(5696323, 1)"
      ]
     },
     "execution_count": 27,
     "metadata": {},
     "output_type": "execute_result"
    }
   ],
   "source": []
  },
  {
   "cell_type": "code",
   "execution_count": null,
   "id": "5a0a1c55",
   "metadata": {},
   "outputs": [],
   "source": []
  }
 ],
 "metadata": {
  "kernelspec": {
   "display_name": "Python 3",
   "language": "python",
   "name": "python3"
  },
  "language_info": {
   "codemirror_mode": {
    "name": "ipython",
    "version": 3
   },
   "file_extension": ".py",
   "mimetype": "text/x-python",
   "name": "python",
   "nbconvert_exporter": "python",
   "pygments_lexer": "ipython3",
   "version": "3.8.8"
  }
 },
 "nbformat": 4,
 "nbformat_minor": 5
}
