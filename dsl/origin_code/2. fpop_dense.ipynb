{
 "cells": [
  {
   "cell_type": "code",
   "execution_count": 1,
   "metadata": {},
   "outputs": [],
   "source": [
    "import pandas as pd\n",
    "import numpy as np\n",
    "import os\n",
    "\n",
    "from folium.features import DivIcon\n",
    "import folium\n",
    "import pyproj\n",
    "from pyproj import Proj, transform\n",
    "\n",
    "%matplotlib inline  \n",
    "import matplotlib.pyplot as plt \n",
    "import seaborn as sns \n",
    "\n",
    "import warnings\n",
    "warnings.filterwarnings(action='ignore')\n",
    "\n",
    "def katec_to_wgs84(x, y):\n",
    "    inProj  = Proj('+proj=tmerc +lat_0=38 +lon_0=128 +k=0.9999 +x_0=400000 +y_0=600000 +ellps=bessel +units=m +no_defs +towgs84=-115.80,474.99,674.11,1.16,-2.31,-1.63,6.43')\n",
    "    outProj = Proj({ 'proj':'latlong', 'datum':'WGS84', 'ellps':'WGS84' })\n",
    "    return transform( inProj, outProj, x, y )\n",
    "\n",
    "WGS84 = { 'proj':'latlong', 'datum':'WGS84', 'ellps':'WGS84', }\n",
    "KATEC = { 'proj':'tmerc', 'lat_0':'38N', 'lon_0':'128E', 'ellps':'bessel','x_0':'400000', 'y_0':'600000', 'k':'0.9999','towgs84':'-115.80,474.99,674.11,1.16,-2.31,-1.63,6.43'}\n",
    "def wgs84_to_katec(longitude, latitude):\n",
    "    return transform( Proj(**WGS84), Proj(**KATEC), longitude, latitude )"
   ]
  },
  {
   "cell_type": "code",
   "execution_count": 7,
   "metadata": {},
   "outputs": [
    {
     "data": {
      "text/plain": [
       "'C:\\\\Users\\\\dudtj\\\\busan_moving_person\\\\data\\\\parquet_data'"
      ]
     },
     "execution_count": 7,
     "metadata": {},
     "output_type": "execute_result"
    }
   ],
   "source": [
    "pwd"
   ]
  },
  {
   "cell_type": "code",
   "execution_count": 6,
   "metadata": {},
   "outputs": [
    {
     "name": "stdout",
     "output_type": "stream",
     "text": [
      "[WinError 3] 지정된 경로를 찾을 수 없습니다: 'data/parquet_data/'\n",
      "C:\\Users\\dudtj\\busan_moving_person\\data\\parquet_data\n"
     ]
    }
   ],
   "source": [
    "cd data/parquet_data/"
   ]
  },
  {
   "cell_type": "code",
   "execution_count": 154,
   "metadata": {},
   "outputs": [],
   "source": [
    "kcelldf = pd.read_parquet('50CELL_BUSANJINGU_2019_201912.parquet')\n",
    "# kcelldf.head()"
   ]
  },
  {
   "cell_type": "code",
   "execution_count": 155,
   "metadata": {},
   "outputs": [],
   "source": [
    "tdf = pd.DataFrame(kcelldf['total'].groupby(kcelldf['id']).sum()).reset_index()\n",
    "geodf = pd.merge(tdf, kcelldf[['id', 'x', 'y']] , how = 'left', on = 'id')[['id', 'x', 'y', 'total']].drop_duplicates()"
   ]
  },
  {
   "cell_type": "code",
   "execution_count": 156,
   "metadata": {},
   "outputs": [
    {
     "data": {
      "text/html": [
       "<div>\n",
       "<style scoped>\n",
       "    .dataframe tbody tr th:only-of-type {\n",
       "        vertical-align: middle;\n",
       "    }\n",
       "\n",
       "    .dataframe tbody tr th {\n",
       "        vertical-align: top;\n",
       "    }\n",
       "\n",
       "    .dataframe thead th {\n",
       "        text-align: right;\n",
       "    }\n",
       "</style>\n",
       "<table border=\"1\" class=\"dataframe\">\n",
       "  <thead>\n",
       "    <tr style=\"text-align: right;\">\n",
       "      <th></th>\n",
       "      <th>id</th>\n",
       "      <th>x</th>\n",
       "      <th>y</th>\n",
       "      <th>total</th>\n",
       "    </tr>\n",
       "  </thead>\n",
       "  <tbody>\n",
       "    <tr>\n",
       "      <th>0</th>\n",
       "      <td>95139666</td>\n",
       "      <td>492452</td>\n",
       "      <td>284793</td>\n",
       "      <td>6182.78</td>\n",
       "    </tr>\n",
       "    <tr>\n",
       "      <th>744</th>\n",
       "      <td>95151810</td>\n",
       "      <td>492502</td>\n",
       "      <td>282543</td>\n",
       "      <td>2797.52</td>\n",
       "    </tr>\n",
       "    <tr>\n",
       "      <th>1488</th>\n",
       "      <td>95151811</td>\n",
       "      <td>492502</td>\n",
       "      <td>282593</td>\n",
       "      <td>2797.52</td>\n",
       "    </tr>\n",
       "    <tr>\n",
       "      <th>2232</th>\n",
       "      <td>95151812</td>\n",
       "      <td>492502</td>\n",
       "      <td>282643</td>\n",
       "      <td>2797.52</td>\n",
       "    </tr>\n",
       "    <tr>\n",
       "      <th>2976</th>\n",
       "      <td>95151854</td>\n",
       "      <td>492502</td>\n",
       "      <td>284743</td>\n",
       "      <td>6182.78</td>\n",
       "    </tr>\n",
       "    <tr>\n",
       "      <th>...</th>\n",
       "      <td>...</td>\n",
       "      <td>...</td>\n",
       "      <td>...</td>\n",
       "      <td>...</td>\n",
       "    </tr>\n",
       "    <tr>\n",
       "      <th>5919210</th>\n",
       "      <td>96675484</td>\n",
       "      <td>498752</td>\n",
       "      <td>284993</td>\n",
       "      <td>9.77</td>\n",
       "    </tr>\n",
       "    <tr>\n",
       "      <th>5919219</th>\n",
       "      <td>96675511</td>\n",
       "      <td>498752</td>\n",
       "      <td>286343</td>\n",
       "      <td>1704.96</td>\n",
       "    </tr>\n",
       "    <tr>\n",
       "      <th>5919818</th>\n",
       "      <td>96675512</td>\n",
       "      <td>498752</td>\n",
       "      <td>286393</td>\n",
       "      <td>2761.27</td>\n",
       "    </tr>\n",
       "    <tr>\n",
       "      <th>5920558</th>\n",
       "      <td>96687671</td>\n",
       "      <td>498802</td>\n",
       "      <td>284893</td>\n",
       "      <td>2696.86</td>\n",
       "    </tr>\n",
       "    <tr>\n",
       "      <th>5921221</th>\n",
       "      <td>96687672</td>\n",
       "      <td>498802</td>\n",
       "      <td>284943</td>\n",
       "      <td>1866.50</td>\n",
       "    </tr>\n",
       "  </tbody>\n",
       "</table>\n",
       "<p>9880 rows × 4 columns</p>\n",
       "</div>"
      ],
      "text/plain": [
       "               id       x       y    total\n",
       "0        95139666  492452  284793  6182.78\n",
       "744      95151810  492502  282543  2797.52\n",
       "1488     95151811  492502  282593  2797.52\n",
       "2232     95151812  492502  282643  2797.52\n",
       "2976     95151854  492502  284743  6182.78\n",
       "...           ...     ...     ...      ...\n",
       "5919210  96675484  498752  284993     9.77\n",
       "5919219  96675511  498752  286343  1704.96\n",
       "5919818  96675512  498752  286393  2761.27\n",
       "5920558  96687671  498802  284893  2696.86\n",
       "5921221  96687672  498802  284943  1866.50\n",
       "\n",
       "[9880 rows x 4 columns]"
      ]
     },
     "execution_count": 156,
     "metadata": {},
     "output_type": "execute_result"
    }
   ],
   "source": [
    "geodf"
   ]
  },
  {
   "cell_type": "code",
   "execution_count": 157,
   "metadata": {},
   "outputs": [],
   "source": [
    "geodf.to_csv('201912_busan_dense.csv', index=False)"
   ]
  },
  {
   "cell_type": "code",
   "execution_count": 158,
   "metadata": {},
   "outputs": [
    {
     "data": {
      "text/plain": [
       "count      9880.000000\n",
       "mean       8736.398596\n",
       "std       18648.012677\n",
       "min           1.000000\n",
       "25%        1212.707500\n",
       "50%        3939.690000\n",
       "75%        8979.807500\n",
       "max      563194.950000\n",
       "Name: total, dtype: float64"
      ]
     },
     "execution_count": 158,
     "metadata": {},
     "output_type": "execute_result"
    }
   ],
   "source": [
    "geodf['total'].describe()"
   ]
  },
  {
   "cell_type": "code",
   "execution_count": 159,
   "metadata": {},
   "outputs": [
    {
     "data": {
      "text/html": [
       "<div>\n",
       "<style scoped>\n",
       "    .dataframe tbody tr th:only-of-type {\n",
       "        vertical-align: middle;\n",
       "    }\n",
       "\n",
       "    .dataframe tbody tr th {\n",
       "        vertical-align: top;\n",
       "    }\n",
       "\n",
       "    .dataframe thead th {\n",
       "        text-align: right;\n",
       "    }\n",
       "</style>\n",
       "<table border=\"1\" class=\"dataframe\">\n",
       "  <thead>\n",
       "    <tr style=\"text-align: right;\">\n",
       "      <th></th>\n",
       "      <th>id</th>\n",
       "      <th>x</th>\n",
       "      <th>y</th>\n",
       "      <th>total</th>\n",
       "    </tr>\n",
       "  </thead>\n",
       "  <tbody>\n",
       "    <tr>\n",
       "      <th>count</th>\n",
       "      <td>2.470000e+03</td>\n",
       "      <td>2470.000000</td>\n",
       "      <td>2470.000000</td>\n",
       "      <td>2470.000000</td>\n",
       "    </tr>\n",
       "    <tr>\n",
       "      <th>mean</th>\n",
       "      <td>9.592762e+07</td>\n",
       "      <td>495684.226721</td>\n",
       "      <td>284971.481781</td>\n",
       "      <td>25813.804166</td>\n",
       "    </tr>\n",
       "    <tr>\n",
       "      <th>std</th>\n",
       "      <td>3.730191e+05</td>\n",
       "      <td>1530.117485</td>\n",
       "      <td>1113.899955</td>\n",
       "      <td>31333.956016</td>\n",
       "    </tr>\n",
       "    <tr>\n",
       "      <th>min</th>\n",
       "      <td>9.521280e+07</td>\n",
       "      <td>492752.000000</td>\n",
       "      <td>282843.000000</td>\n",
       "      <td>8987.000000</td>\n",
       "    </tr>\n",
       "    <tr>\n",
       "      <th>25%</th>\n",
       "      <td>9.561503e+07</td>\n",
       "      <td>494402.000000</td>\n",
       "      <td>284093.000000</td>\n",
       "      <td>11441.050000</td>\n",
       "    </tr>\n",
       "    <tr>\n",
       "      <th>50%</th>\n",
       "      <td>9.600513e+07</td>\n",
       "      <td>496002.000000</td>\n",
       "      <td>284793.000000</td>\n",
       "      <td>15858.830000</td>\n",
       "    </tr>\n",
       "    <tr>\n",
       "      <th>75%</th>\n",
       "      <td>9.623668e+07</td>\n",
       "      <td>496952.000000</td>\n",
       "      <td>285880.500000</td>\n",
       "      <td>26914.367500</td>\n",
       "    </tr>\n",
       "    <tr>\n",
       "      <th>max</th>\n",
       "      <td>9.665113e+07</td>\n",
       "      <td>498652.000000</td>\n",
       "      <td>287743.000000</td>\n",
       "      <td>563194.950000</td>\n",
       "    </tr>\n",
       "  </tbody>\n",
       "</table>\n",
       "</div>"
      ],
      "text/plain": [
       "                 id              x              y          total\n",
       "count  2.470000e+03    2470.000000    2470.000000    2470.000000\n",
       "mean   9.592762e+07  495684.226721  284971.481781   25813.804166\n",
       "std    3.730191e+05    1530.117485    1113.899955   31333.956016\n",
       "min    9.521280e+07  492752.000000  282843.000000    8987.000000\n",
       "25%    9.561503e+07  494402.000000  284093.000000   11441.050000\n",
       "50%    9.600513e+07  496002.000000  284793.000000   15858.830000\n",
       "75%    9.623668e+07  496952.000000  285880.500000   26914.367500\n",
       "max    9.665113e+07  498652.000000  287743.000000  563194.950000"
      ]
     },
     "execution_count": 159,
     "metadata": {},
     "output_type": "execute_result"
    }
   ],
   "source": [
    "geodf[geodf['total'] > 8979.807500].describe()"
   ]
  },
  {
   "cell_type": "code",
   "execution_count": 160,
   "metadata": {},
   "outputs": [],
   "source": [
    "def f_color(x):\n",
    "    if x > 26914.367500:        # 기존 75%를 넘는 범위에서의 4사분위수 \n",
    "        a = '#FF4F00'        \n",
    "    elif x > 8979.807500:      # 75%를 기준으로 설정\n",
    "        a = '#FCB100'   \n",
    "    elif x > 3939.690000:      # 50%를 기준으로 설정\n",
    "        a = '#E0F500' \n",
    "    elif x > 1212.707500:      # 25%를 기준으로 설정\n",
    "        a = '#8CF700'  \n",
    "    else:\n",
    "        a = '#00F000'\n",
    "    return a\n",
    "\n",
    "geodf['cell_color']= geodf['total'].apply(lambda x : f_color(x))"
   ]
  },
  {
   "cell_type": "code",
   "execution_count": 161,
   "metadata": {},
   "outputs": [],
   "source": [
    "cell_size = 55\n",
    "a = cell_size//2\n",
    "x = geodf\n",
    "x['nwx'], x['nwy'] = x['x']-a, x['y']+a\n",
    "x['nex'], x['ney'] = x['x']+a, x['y']+a\n",
    "x['swx'], x['swy'] = x['x']-a, x['y']-a\n",
    "x['sex'], x['sey'] = x['x']+a ,x['y']-a\n",
    "\n",
    "x['lng'], x['lat'] = katec_to_wgs84(x.x.to_list(), x.y.to_list())\n",
    "x['nwlng'], x['nwlat'] = katec_to_wgs84(x.nwx.to_list(), x.nwy.to_list())\n",
    "x['nelng'], x['nelat'] = katec_to_wgs84(x.nex.to_list(), x.ney.to_list())\n",
    "x['swlng'], x['swlat'] = katec_to_wgs84(x.swx.to_list(), x.swy.to_list())\n",
    "x['selng'], x['selat'] = katec_to_wgs84(x.sex.to_list(), x.sey.to_list())"
   ]
  },
  {
   "cell_type": "code",
   "execution_count": 162,
   "metadata": {},
   "outputs": [
    {
     "name": "stdout",
     "output_type": "stream",
     "text": [
      "done :)\n"
     ]
    }
   ],
   "source": [
    "map = folium.Map(location=[geodf['lat'].mean(), geodf['lng'].mean()], zoom_start=13)#, tiles='stamentoner')\n",
    "\n",
    "for n in x.index:\n",
    "    nw, ne, sw, se = [x.loc[n, 'nwlat'],x.loc[n, 'nwlng']],[x.loc[n, 'nelat'],x.loc[n, 'nelng']],[x.loc[n, 'swlat'],x.loc[n, 'swlng']],[x.loc[n, 'selat'],x.loc[n, 'selng']]\n",
    "    cell_color = x.loc[n, 'cell_color']\n",
    "    loc_name = 'ID:'+str(round(x.loc[n, 'id'],3)) + '       Total:'+ str(round(x.loc[n, 'total'],3))\n",
    "    folium.Polygon(locations=[nw, sw, se, ne],\n",
    "                   color='white',\n",
    "                   popup=loc_name,\n",
    "                   weight=0.1,\n",
    "                   fill=True,\n",
    "                   fill_color=cell_color,\n",
    "                   fill_opacity=0.6\n",
    "     ).add_to(map)\n",
    "\n",
    "map.save('201912_busan_dense.html')\n",
    "# map\n",
    "print(\"done :)\")"
   ]
  },
  {
   "cell_type": "code",
   "execution_count": null,
   "metadata": {},
   "outputs": [],
   "source": []
  }
 ],
 "metadata": {
  "kernelspec": {
   "display_name": "Python 3",
   "language": "python",
   "name": "python3"
  },
  "language_info": {
   "codemirror_mode": {
    "name": "ipython",
    "version": 3
   },
   "file_extension": ".py",
   "mimetype": "text/x-python",
   "name": "python",
   "nbconvert_exporter": "python",
   "pygments_lexer": "ipython3",
   "version": "3.8.8"
  }
 },
 "nbformat": 4,
 "nbformat_minor": 4
}
