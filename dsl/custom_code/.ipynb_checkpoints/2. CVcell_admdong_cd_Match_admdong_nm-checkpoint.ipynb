{
 "cells": [
  {
   "cell_type": "code",
   "execution_count": 2,
   "id": "598e3b7d",
   "metadata": {},
   "outputs": [],
   "source": [
    "import pandas as pd\n",
    "import numpy as np\n",
    "import os\n",
    "from tqdm.notebook import tqdm"
   ]
  },
  {
   "cell_type": "code",
   "execution_count": null,
   "id": "1c2bf731",
   "metadata": {},
   "outputs": [],
   "source": []
  },
  {
   "cell_type": "code",
   "execution_count": 3,
   "id": "68733864",
   "metadata": {},
   "outputs": [
    {
     "name": "stdout",
     "output_type": "stream",
     "text": [
      "['CV500_50CELL_BUSANJINGU_2019_201901.csv', 'CV500_50CELL_BUSANJINGU_2019_201902.csv', 'CV500_50CELL_BUSANJINGU_2019_201903.csv', 'CV500_50CELL_BUSANJINGU_2019_201904.csv', 'CV500_50CELL_BUSANJINGU_2019_201905.csv', 'CV500_50CELL_BUSANJINGU_2019_201906.csv', 'CV500_50CELL_BUSANJINGU_2019_201907.csv', 'CV500_50CELL_BUSANJINGU_2019_201908.csv', 'CV500_50CELL_BUSANJINGU_2019_201909.csv', 'CV500_50CELL_BUSANJINGU_2019_201910.csv', 'CV500_50CELL_BUSANJINGU_2019_201911.csv', 'CV500_50CELL_BUSANJINGU_2019_201912.csv']\n"
     ]
    }
   ],
   "source": [
    "path = f\"C:\\\\Users\\\\dudtj\\\\busan_moving_person\\\\data\\\\csv_data\\\\500\\\\500셀_부산진구 유동인구 데이터_변환\" #원천데이터 파일위치\n",
    "os.chdir(path)\n",
    "file_list = os.listdir(path)\n",
    "f_list = [file for file in file_list if file.endswith(\".csv\")]\n",
    "print(f_list)"
   ]
  },
  {
   "cell_type": "code",
   "execution_count": 34,
   "id": "0b0caea9",
   "metadata": {},
   "outputs": [
    {
     "data": {
      "text/plain": [
       "Index(['id', 'x', 'y', 'timezn_cd', 'm00', 'm10', 'm15', 'm20', 'm25', 'm30',\n",
       "       'm35', 'm40', 'm45', 'm50', 'm55', 'm60', 'm65', 'm70', 'f00', 'f10',\n",
       "       'f15', 'f20', 'f25', 'f30', 'f35', 'f40', 'f45', 'f50', 'f55', 'f60',\n",
       "       'f65', 'f70', 'total', 'admdong_cd', 'etl_ymd'],\n",
       "      dtype='object')"
      ]
     },
     "execution_count": 34,
     "metadata": {},
     "output_type": "execute_result"
    }
   ],
   "source": [
    "test_df = pd.read_csv('CV500_50CELL_BUSANJINGU_2019_201901.csv')\n",
    "test_df.columns"
   ]
  },
  {
   "cell_type": "code",
   "execution_count": 37,
   "id": "af372f2f",
   "metadata": {},
   "outputs": [
    {
     "name": "stdout",
     "output_type": "stream",
     "text": [
      "35\n"
     ]
    }
   ],
   "source": [
    "# 칼럼 명 < 500cell 변환한 데이터의 칼럼 확인 필요 > \n",
    "col_name = ['id', 'x', 'y', 'timezn_cd', 'm00', 'm10', 'm15', 'm20', 'm25', 'm30',\n",
    "       'm35', 'm40', 'm45', 'm50', 'm55', 'm60', 'm65', 'm70', 'f00', 'f10',\n",
    "       'f15', 'f20', 'f25', 'f30', 'f35', 'f40', 'f45', 'f50', 'f55', 'f60',\n",
    "       'f65', 'f70', 'total', 'admdong_cd', 'etl_ymd']\n",
    "print(len(col_name))"
   ]
  },
  {
   "cell_type": "code",
   "execution_count": 44,
   "id": "10bb30fc",
   "metadata": {
    "scrolled": true
   },
   "outputs": [
    {
     "name": "stdout",
     "output_type": "stream",
     "text": [
      "C:\\Users\\dudtj\\busan_moving_person\n"
     ]
    }
   ],
   "source": [
    "cd .."
   ]
  },
  {
   "cell_type": "code",
   "execution_count": 46,
   "id": "5d0d0f1d",
   "metadata": {},
   "outputs": [
    {
     "data": {
      "text/html": [
       "<div>\n",
       "<style scoped>\n",
       "    .dataframe tbody tr th:only-of-type {\n",
       "        vertical-align: middle;\n",
       "    }\n",
       "\n",
       "    .dataframe tbody tr th {\n",
       "        vertical-align: top;\n",
       "    }\n",
       "\n",
       "    .dataframe thead th {\n",
       "        text-align: right;\n",
       "    }\n",
       "</style>\n",
       "<table border=\"1\" class=\"dataframe\">\n",
       "  <thead>\n",
       "    <tr style=\"text-align: right;\">\n",
       "      <th></th>\n",
       "      <th>admdong_cd</th>\n",
       "      <th>admdong_nm</th>\n",
       "    </tr>\n",
       "  </thead>\n",
       "  <tbody>\n",
       "    <tr>\n",
       "      <th>0</th>\n",
       "      <td>26230700</td>\n",
       "      <td>당감4동</td>\n",
       "    </tr>\n",
       "    <tr>\n",
       "      <th>1</th>\n",
       "      <td>26230760</td>\n",
       "      <td>개금3동</td>\n",
       "    </tr>\n",
       "    <tr>\n",
       "      <th>2</th>\n",
       "      <td>26230750</td>\n",
       "      <td>개금2동</td>\n",
       "    </tr>\n",
       "    <tr>\n",
       "      <th>3</th>\n",
       "      <td>26230740</td>\n",
       "      <td>개금1동</td>\n",
       "    </tr>\n",
       "    <tr>\n",
       "      <th>4</th>\n",
       "      <td>26230520</td>\n",
       "      <td>부전2동</td>\n",
       "    </tr>\n",
       "    <tr>\n",
       "      <th>5</th>\n",
       "      <td>26230510</td>\n",
       "      <td>부전1동</td>\n",
       "    </tr>\n",
       "    <tr>\n",
       "      <th>6</th>\n",
       "      <td>26230540</td>\n",
       "      <td>연지동</td>\n",
       "    </tr>\n",
       "    <tr>\n",
       "      <th>7</th>\n",
       "      <td>26230780</td>\n",
       "      <td>범천2동</td>\n",
       "    </tr>\n",
       "    <tr>\n",
       "      <th>8</th>\n",
       "      <td>26230770</td>\n",
       "      <td>범천1동</td>\n",
       "    </tr>\n",
       "    <tr>\n",
       "      <th>9</th>\n",
       "      <td>26230680</td>\n",
       "      <td>당감2동</td>\n",
       "    </tr>\n",
       "    <tr>\n",
       "      <th>10</th>\n",
       "      <td>26230670</td>\n",
       "      <td>당감1동</td>\n",
       "    </tr>\n",
       "    <tr>\n",
       "      <th>11</th>\n",
       "      <td>26230550</td>\n",
       "      <td>초읍동</td>\n",
       "    </tr>\n",
       "    <tr>\n",
       "      <th>12</th>\n",
       "      <td>26230610</td>\n",
       "      <td>전포2동</td>\n",
       "    </tr>\n",
       "    <tr>\n",
       "      <th>13</th>\n",
       "      <td>26230600</td>\n",
       "      <td>전포1동</td>\n",
       "    </tr>\n",
       "    <tr>\n",
       "      <th>14</th>\n",
       "      <td>26230720</td>\n",
       "      <td>가야2동</td>\n",
       "    </tr>\n",
       "    <tr>\n",
       "      <th>15</th>\n",
       "      <td>26230710</td>\n",
       "      <td>가야1동</td>\n",
       "    </tr>\n",
       "    <tr>\n",
       "      <th>16</th>\n",
       "      <td>26230660</td>\n",
       "      <td>부암3동</td>\n",
       "    </tr>\n",
       "    <tr>\n",
       "      <th>17</th>\n",
       "      <td>26230570</td>\n",
       "      <td>양정2동</td>\n",
       "    </tr>\n",
       "    <tr>\n",
       "      <th>18</th>\n",
       "      <td>26230560</td>\n",
       "      <td>양정1동</td>\n",
       "    </tr>\n",
       "    <tr>\n",
       "      <th>19</th>\n",
       "      <td>26230640</td>\n",
       "      <td>부암1동</td>\n",
       "    </tr>\n",
       "  </tbody>\n",
       "</table>\n",
       "</div>"
      ],
      "text/plain": [
       "    admdong_cd admdong_nm\n",
       "0     26230700       당감4동\n",
       "1     26230760       개금3동\n",
       "2     26230750       개금2동\n",
       "3     26230740       개금1동\n",
       "4     26230520       부전2동\n",
       "5     26230510       부전1동\n",
       "6     26230540        연지동\n",
       "7     26230780       범천2동\n",
       "8     26230770       범천1동\n",
       "9     26230680       당감2동\n",
       "10    26230670       당감1동\n",
       "11    26230550        초읍동\n",
       "12    26230610       전포2동\n",
       "13    26230600       전포1동\n",
       "14    26230720       가야2동\n",
       "15    26230710       가야1동\n",
       "16    26230660       부암3동\n",
       "17    26230570       양정2동\n",
       "18    26230560       양정1동\n",
       "19    26230640       부암1동"
      ]
     },
     "execution_count": 46,
     "metadata": {},
     "output_type": "execute_result"
    }
   ],
   "source": [
    "# admdong_cd <-> admdong_nm matching\n",
    "matchDF = pd.read_csv('./data/BUSAN_ADMDONG_CD-ADMDONG_NM.csv')\n",
    "matchDF = matchDF.drop(['sido_cd', 'sido_nm', 'sgg_cd', 'sgg_nm'], axis=1)\n",
    "matchDF"
   ]
  },
  {
   "cell_type": "code",
   "execution_count": 67,
   "id": "c14a50fd",
   "metadata": {},
   "outputs": [
    {
     "data": {
      "application/vnd.jupyter.widget-view+json": {
       "model_id": "808dc068b3f843ce90d607b4342d89cf",
       "version_major": 2,
       "version_minor": 0
      },
      "text/plain": [
       "  0%|          | 0/12 [00:00<?, ?it/s]"
      ]
     },
     "metadata": {},
     "output_type": "display_data"
    },
    {
     "name": "stdout",
     "output_type": "stream",
     "text": [
      "CV500_50CELL_BUSANJINGU_2019_201901.csv\n",
      "done :)\n",
      "CV500_50CELL_BUSANJINGU_2019_201902.csv\n",
      "done :)\n",
      "CV500_50CELL_BUSANJINGU_2019_201903.csv\n",
      "done :)\n",
      "CV500_50CELL_BUSANJINGU_2019_201904.csv\n",
      "done :)\n",
      "CV500_50CELL_BUSANJINGU_2019_201905.csv\n",
      "done :)\n",
      "CV500_50CELL_BUSANJINGU_2019_201906.csv\n",
      "done :)\n",
      "CV500_50CELL_BUSANJINGU_2019_201907.csv\n",
      "done :)\n",
      "CV500_50CELL_BUSANJINGU_2019_201908.csv\n",
      "done :)\n",
      "CV500_50CELL_BUSANJINGU_2019_201909.csv\n",
      "done :)\n",
      "CV500_50CELL_BUSANJINGU_2019_201910.csv\n",
      "done :)\n",
      "CV500_50CELL_BUSANJINGU_2019_201911.csv\n",
      "done :)\n",
      "CV500_50CELL_BUSANJINGU_2019_201912.csv\n",
      "done :)\n"
     ]
    }
   ],
   "source": [
    "for i in tqdm(range(len(f_list))):\n",
    "    print(f_list[i])\n",
    "    celldf = pd.read_csv(f_list[i],encoding='UTF-8')\n",
    "    celldf = pd.merge(celldf, matchDF ,how='left',on='admdong_cd')\n",
    "    celldf.to_csv(f'./N_'+f_list[i],encoding = \"euc-kr\" ,index = False)\n",
    "    print(\"done :)\")"
   ]
  }
 ],
 "metadata": {
  "kernelspec": {
   "display_name": "Python 3",
   "language": "python",
   "name": "python3"
  },
  "language_info": {
   "codemirror_mode": {
    "name": "ipython",
    "version": 3
   },
   "file_extension": ".py",
   "mimetype": "text/x-python",
   "name": "python",
   "nbconvert_exporter": "python",
   "pygments_lexer": "ipython3",
   "version": "3.8.8"
  }
 },
 "nbformat": 4,
 "nbformat_minor": 5
}
