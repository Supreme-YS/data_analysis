{
 "cells": [
  {
   "cell_type": "code",
   "execution_count": 93,
   "metadata": {},
   "outputs": [],
   "source": [
    "import pandas as pd\n",
    "import numpy as np\n",
    "import os\n",
    "\n",
    "from folium.features import DivIcon\n",
    "import folium\n",
    "import pyproj\n",
    "from pyproj import Proj, transform\n",
    "\n",
    "%matplotlib inline  \n",
    "import matplotlib.pyplot as plt \n",
    "import seaborn as sns \n",
    "\n",
    "import warnings\n",
    "warnings.filterwarnings(action='ignore')\n",
    "\n",
    "def katec_to_wgs84(x, y):\n",
    "    inProj  = Proj('+proj=tmerc +lat_0=38 +lon_0=128 +k=0.9999 +x_0=400000 +y_0=600000 +ellps=bessel +units=m +no_defs +towgs84=-115.80,474.99,674.11,1.16,-2.31,-1.63,6.43')\n",
    "    outProj = Proj({ 'proj':'latlong', 'datum':'WGS84', 'ellps':'WGS84' })\n",
    "    return transform( inProj, outProj, x, y )\n",
    "\n",
    "WGS84 = { 'proj':'latlong', 'datum':'WGS84', 'ellps':'WGS84', }\n",
    "KATEC = { 'proj':'tmerc', 'lat_0':'38N', 'lon_0':'128E', 'ellps':'bessel','x_0':'400000', 'y_0':'600000', 'k':'0.9999','towgs84':'-115.80,474.99,674.11,1.16,-2.31,-1.63,6.43'}\n",
    "def wgs84_to_katec(longitude, latitude):\n",
    "    return transform( Proj(**WGS84), Proj(**KATEC), longitude, latitude )"
   ]
  },
  {
   "cell_type": "markdown",
   "metadata": {},
   "source": [
    "##### 현재 작업 위치 확인\n"
   ]
  },
  {
   "cell_type": "code",
   "execution_count": 103,
   "metadata": {},
   "outputs": [
    {
     "name": "stdout",
     "output_type": "stream",
     "text": [
      "C:\\Users\\dudtj\\busan_moving_person\\data\n"
     ]
    }
   ],
   "source": [
    "cd .."
   ]
  },
  {
   "cell_type": "code",
   "execution_count": 104,
   "metadata": {
    "scrolled": true
   },
   "outputs": [
    {
     "name": "stdout",
     "output_type": "stream",
     "text": [
      "C:\\Users\\dudtj\\busan_moving_person\\data\\csv_data\\100\n"
     ]
    }
   ],
   "source": [
    "cd ../data/csv_data/100/"
   ]
  },
  {
   "cell_type": "code",
   "execution_count": 105,
   "metadata": {},
   "outputs": [
    {
     "name": "stdout",
     "output_type": "stream",
     "text": [
      " C 드라이브의 볼륨에는 이름이 없습니다.\n",
      " 볼륨 일련 번호: CE27-0A82\n",
      "\n",
      " C:\\Users\\dudtj\\busan_moving_person\\data\\csv_data\\100 디렉터리\n",
      "\n",
      "2021-08-13  오후 04:23    <DIR>          .\n",
      "2021-08-13  오후 04:23    <DIR>          ..\n",
      "2021-08-13  오후 06:11    <DIR>          100dense_csv\n",
      "2021-08-13  오후 06:11    <DIR>          100dense_html\n",
      "2021-08-13  오후 01:58       442,647,942 CV100_50CELL_BUSANJINGU_2019_201901.csv\n",
      "2021-08-13  오후 02:01       400,562,489 CV100_50CELL_BUSANJINGU_2019_201902.csv\n",
      "2021-08-13  오후 02:05       444,648,089 CV100_50CELL_BUSANJINGU_2019_201903.csv\n",
      "2021-08-13  오후 02:08       429,000,374 CV100_50CELL_BUSANJINGU_2019_201904.csv\n",
      "2021-08-13  오후 02:12       449,576,640 CV100_50CELL_BUSANJINGU_2019_201905.csv\n",
      "2021-08-13  오후 02:15       438,168,666 CV100_50CELL_BUSANJINGU_2019_201906.csv\n",
      "2021-08-13  오후 02:19       450,346,480 CV100_50CELL_BUSANJINGU_2019_201907.csv\n",
      "2021-08-13  오후 02:23       450,880,325 CV100_50CELL_BUSANJINGU_2019_201908.csv\n",
      "2021-08-13  오후 02:26       440,095,044 CV100_50CELL_BUSANJINGU_2019_201909.csv\n",
      "2021-08-13  오후 02:30       457,918,316 CV100_50CELL_BUSANJINGU_2019_201910.csv\n",
      "2021-08-13  오후 02:34       443,927,817 CV100_50CELL_BUSANJINGU_2019_201911.csv\n",
      "2021-08-13  오후 02:38       456,090,980 CV100_50CELL_BUSANJINGU_2019_201912.csv\n",
      "              12개 파일       5,303,863,162 바이트\n",
      "               4개 디렉터리  111,931,367,424 바이트 남음\n"
     ]
    }
   ],
   "source": [
    "ls"
   ]
  },
  {
   "cell_type": "code",
   "execution_count": 100,
   "metadata": {},
   "outputs": [
    {
     "name": "stdout",
     "output_type": "stream",
     "text": [
      "making success :)\n",
      "function success :)\n",
      "done :)\n",
      "Wall time: 3.26 s\n"
     ]
    }
   ],
   "source": [
    "%%time\n",
    "# 이름 순차적으로 변경하기\n",
    "kcelldf = pd.read_csv('CV100_50CELL_BUSANJINGU_2019_201901.csv', encoding='UTF-8') # 이름변경필요부분\n",
    "tdf = pd.DataFrame(kcelldf['total'].groupby(kcelldf['id']).sum()).reset_index()\n",
    "geodf = pd.merge(tdf, kcelldf[['id', 'x', 'y']] , how = 'left', on = 'id')[['id', 'x', 'y', 'total']].drop_duplicates()\n",
    "geodf.to_csv('./100dense_csv/100c_201901_busan_dense.csv', index=False, encoding='UTF-8') # 이름변경필요부분\n",
    "print(\"making success :)\")\n",
    "def f_color(x):\n",
    "    if x > geodf[geodf['total'] > geodf['total'].describe()[6]]['total'].describe()[6]:        # 기존 75%를 넘는 범위에서의 4사분위수 \n",
    "        a = '#FF4F00'        \n",
    "    elif x > geodf['total'].describe()[6]:      # 75%를 기준으로 설정\n",
    "        a = '#FCB100'   \n",
    "    elif x > geodf['total'].describe()[5]:      # 50%를 기준으로 설정\n",
    "        a = '#E0F500' \n",
    "    elif x > geodf['total'].describe()[4]:      # 25%를 기준으로 설정\n",
    "        a = '#8CF700'  \n",
    "    else:\n",
    "        a = '#00F000'\n",
    "    return a\n",
    "\n",
    "geodf['cell_color']= geodf['total'].apply(lambda x : f_color(x))\n",
    "print(\"function success :)\")\n",
    "###################################################################\n",
    "### 셀 수 변경###\n",
    "cell_size = 100 #\n",
    "#################\n",
    "a = cell_size//2\n",
    "x = geodf\n",
    "x['nwx'], x['nwy'] = x['x']-a, x['y']+a\n",
    "x['nex'], x['ney'] = x['x']+a, x['y']+a\n",
    "x['swx'], x['swy'] = x['x']-a, x['y']-a\n",
    "x['sex'], x['sey'] = x['x']+a ,x['y']-a\n",
    "\n",
    "x['lng'], x['lat'] = katec_to_wgs84(x.x.to_list(), x.y.to_list())\n",
    "x['nwlng'], x['nwlat'] = katec_to_wgs84(x.nwx.to_list(), x.nwy.to_list())\n",
    "x['nelng'], x['nelat'] = katec_to_wgs84(x.nex.to_list(), x.ney.to_list())\n",
    "x['swlng'], x['swlat'] = katec_to_wgs84(x.swx.to_list(), x.swy.to_list())\n",
    "x['selng'], x['selat'] = katec_to_wgs84(x.sex.to_list(), x.sey.to_list())\n",
    "\n",
    "map = folium.Map(location=[geodf['lat'].mean(), geodf['lng'].mean()], zoom_start=13)#, tiles='stamentoner')\n",
    "\n",
    "for n in x.index:\n",
    "    nw, ne, sw, se = [x.loc[n, 'nwlat'],x.loc[n, 'nwlng']],[x.loc[n, 'nelat'],x.loc[n, 'nelng']],[x.loc[n, 'swlat'],x.loc[n, 'swlng']],[x.loc[n, 'selat'],x.loc[n, 'selng']]\n",
    "    cell_color = x.loc[n, 'cell_color']\n",
    "    loc_name = 'ID:'+str(round(x.loc[n, 'id'],3)) + '       Total:'+ str(round(x.loc[n, 'total'],3))\n",
    "    folium.Polygon(locations=[nw, sw, se, ne],\n",
    "                   color='white',\n",
    "                   popup=loc_name,\n",
    "                   weight=0.55,\n",
    "                   fill=True,\n",
    "                   fill_color=cell_color,\n",
    "                   fill_opacity=0.6\n",
    "     ).add_to(map)\n",
    "\n",
    "map.save('./100dense_html/100c_201901_busan_dense.html') ###### 이름변경필요부분\n",
    "# map\n",
    "print(\"done :)\")"
   ]
  },
  {
   "cell_type": "code",
   "execution_count": null,
   "metadata": {},
   "outputs": [],
   "source": []
  }
 ],
 "metadata": {
  "kernelspec": {
   "display_name": "Python 3",
   "language": "python",
   "name": "python3"
  },
  "language_info": {
   "codemirror_mode": {
    "name": "ipython",
    "version": 3
   },
   "file_extension": ".py",
   "mimetype": "text/x-python",
   "name": "python",
   "nbconvert_exporter": "python",
   "pygments_lexer": "ipython3",
   "version": "3.8.8"
  }
 },
 "nbformat": 4,
 "nbformat_minor": 4
}
