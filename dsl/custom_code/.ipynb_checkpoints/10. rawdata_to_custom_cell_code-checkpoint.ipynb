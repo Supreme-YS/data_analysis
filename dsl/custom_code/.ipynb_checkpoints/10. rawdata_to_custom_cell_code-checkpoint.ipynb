{
 "cells": [
  {
   "cell_type": "code",
   "execution_count": 30,
   "id": "a11cac64",
   "metadata": {},
   "outputs": [],
   "source": [
    "import pandas as pd\n",
    "import numpy as np\n",
    "import os\n",
    "from tqdm.notebook import tqdm\n",
    "\n",
    "#### 변경 셀 사이즈 및 KATECH 좌표 원점 ####\n",
    "#### x_base, y_base는 지역에 상관없이 고정값 ####\n",
    "cell_size = 300\n",
    "x_base,y_base = 400000,600000\n",
    "\n",
    "def cv_cell(x,y):  ### 셀 사이즈 변경 함수 정의 ###\n",
    "    a = ((x - x_base)//cell_size)*cell_size + (cell_size//2 -25) + x_base\n",
    "    b = ((y - y_base)//cell_size)*cell_size + (cell_size//2 -25) + y_base\n",
    "    c = (a//100)*10000 + (b//100)\n",
    "    return(c,a,b)"
   ]
  },
  {
   "cell_type": "code",
   "execution_count": 31,
   "id": "c9d287e9",
   "metadata": {
    "scrolled": true
   },
   "outputs": [
    {
     "name": "stdout",
     "output_type": "stream",
     "text": [
      "['50CELL_BUSANJINGU_2019_201901.csv', '50CELL_BUSANJINGU_2019_201902.csv', '50CELL_BUSANJINGU_2019_201903.csv', '50CELL_BUSANJINGU_2019_201904.csv', '50CELL_BUSANJINGU_2019_201905.csv', '50CELL_BUSANJINGU_2019_201906.csv', '50CELL_BUSANJINGU_2019_201907.csv', '50CELL_BUSANJINGU_2019_201908.csv', '50CELL_BUSANJINGU_2019_201909.csv', '50CELL_BUSANJINGU_2019_201910.csv', '50CELL_BUSANJINGU_2019_201911.csv', '50CELL_BUSANJINGU_2019_201912.csv']\n"
     ]
    }
   ],
   "source": [
    "path = f\"C:\\\\Users\\\\dudtj\\\\busan_moving_person\\\\data\\\\csv_data\" #원천데이터 파일위치\n",
    "os.chdir(path)\n",
    "file_list = os.listdir(path)\n",
    "f_list = [file for file in file_list if file.endswith(\".csv\")]\n",
    "print(f_list)"
   ]
  },
  {
   "cell_type": "code",
   "execution_count": 32,
   "id": "145881ed",
   "metadata": {},
   "outputs": [
    {
     "name": "stdout",
     "output_type": "stream",
     "text": [
      "col_name 칼럼 수 확인 :  35\n",
      "raw_data 칼럼 수 확인 :  35\n"
     ]
    }
   ],
   "source": [
    "# 칼럼 명 < 원천 데이터 확인 필요 > \n",
    "col_name = ['id', 'x', 'y', 'timezn_cd', 'm00', 'm10', 'm15', 'm20', 'm25', 'm30',\n",
    "       'm35', 'm40', 'm45', 'm50', 'm55', 'm60', 'm65', 'm70', 'f00', 'f10',\n",
    "       'f15', 'f20', 'f25', 'f30', 'f35', 'f40', 'f45', 'f50', 'f55', 'f60',\n",
    "       'f65', 'f70', 'total', 'admi_cd', 'etl_ymd']\n",
    "\n",
    "# 칼럼 수 Test & Check\n",
    "test_df = pd.read_csv(f_list[0], encoding=\"UTF-8\")\n",
    "print(\"col_name 칼럼 수 확인 : \", len(col_name))\n",
    "print(\"raw_data 칼럼 수 확인 : \", len(test_df.columns))"
   ]
  },
  {
   "cell_type": "code",
   "execution_count": 35,
   "id": "4f5965ec",
   "metadata": {},
   "outputs": [
    {
     "data": {
      "text/plain": [
       "Index(['id', 'x', 'y', 'timezn_cd', 'm00', 'm10', 'm15', 'm20', 'm25', 'm30',\n",
       "       'm35', 'm40', 'm45', 'm50', 'm55', 'm60', 'm65', 'm70', 'f00', 'f10',\n",
       "       'f15', 'f20', 'f25', 'f30', 'f35', 'f40', 'f45', 'f50', 'f55', 'f60',\n",
       "       'f65', 'f70', 'total', 'admi_cd', 'etl_ymd'],\n",
       "      dtype='object')"
      ]
     },
     "execution_count": 35,
     "metadata": {},
     "output_type": "execute_result"
    }
   ],
   "source": [
    "test_df.columns"
   ]
  },
  {
   "cell_type": "code",
   "execution_count": 36,
   "id": "69ccf4be",
   "metadata": {},
   "outputs": [
    {
     "data": {
      "application/vnd.jupyter.widget-view+json": {
       "model_id": "d85d81da29b34860bf08b2959a11da21",
       "version_major": 2,
       "version_minor": 0
      },
      "text/plain": [
       "  0%|          | 0/12 [00:00<?, ?it/s]"
      ]
     },
     "metadata": {},
     "output_type": "display_data"
    },
    {
     "name": "stdout",
     "output_type": "stream",
     "text": [
      "50CELL_BUSANJINGU_2019_201901.csv\n"
     ]
    },
    {
     "data": {
      "application/vnd.jupyter.widget-view+json": {
       "model_id": "eee99b51a2a1480e96cb131c3ce2af7f",
       "version_major": 2,
       "version_minor": 0
      },
      "text/plain": [
       "0it [00:00, ?it/s]"
      ]
     },
     "metadata": {},
     "output_type": "display_data"
    },
    {
     "name": "stdout",
     "output_type": "stream",
     "text": [
      "0 (500000, 35)\n",
      "1 (500000, 35)\n",
      "2 (500000, 35)\n",
      "3 (500000, 35)\n",
      "4 (500000, 35)\n",
      "5 (500000, 35)\n",
      "6 (500000, 35)\n",
      "7 (500000, 35)\n",
      "8 (500000, 35)\n",
      "9 (500000, 35)\n",
      "10 (500000, 35)\n",
      "11 (196323, 35)\n",
      "### 파일을 통합합니다. ###\n",
      "./300/CV300_50CELL_BUSANJINGU_2019_2019011.csv\n",
      "50CELL_BUSANJINGU_2019_201902.csv\n"
     ]
    },
    {
     "data": {
      "application/vnd.jupyter.widget-view+json": {
       "model_id": "edab658dfd4c4598a67b78cb9c825af4",
       "version_major": 2,
       "version_minor": 0
      },
      "text/plain": [
       "0it [00:00, ?it/s]"
      ]
     },
     "metadata": {},
     "output_type": "display_data"
    },
    {
     "name": "stdout",
     "output_type": "stream",
     "text": [
      "0 (500000, 35)\n",
      "1 (500000, 35)\n",
      "2 (500000, 35)\n",
      "3 (500000, 35)\n",
      "4 (500000, 35)\n",
      "5 (500000, 35)\n",
      "6 (500000, 35)\n",
      "7 (500000, 35)\n",
      "8 (500000, 35)\n",
      "9 (500000, 35)\n",
      "10 (156065, 35)\n",
      "### 파일을 통합합니다. ###\n",
      "./300/CV300_50CELL_BUSANJINGU_2019_2019021.csv\n",
      "50CELL_BUSANJINGU_2019_201903.csv\n"
     ]
    },
    {
     "data": {
      "application/vnd.jupyter.widget-view+json": {
       "model_id": "e7d96d14d7594ee49ae72d30694c4ce7",
       "version_major": 2,
       "version_minor": 0
      },
      "text/plain": [
       "0it [00:00, ?it/s]"
      ]
     },
     "metadata": {},
     "output_type": "display_data"
    },
    {
     "name": "stdout",
     "output_type": "stream",
     "text": [
      "0 (500000, 35)\n",
      "1 (500000, 35)\n",
      "2 (500000, 35)\n",
      "3 (500000, 35)\n",
      "4 (500000, 35)\n",
      "5 (500000, 35)\n",
      "6 (500000, 35)\n",
      "7 (500000, 35)\n",
      "8 (500000, 35)\n",
      "9 (500000, 35)\n",
      "10 (500000, 35)\n",
      "11 (246980, 35)\n",
      "### 파일을 통합합니다. ###\n",
      "./300/CV300_50CELL_BUSANJINGU_2019_2019031.csv\n",
      "50CELL_BUSANJINGU_2019_201904.csv\n"
     ]
    },
    {
     "data": {
      "application/vnd.jupyter.widget-view+json": {
       "model_id": "8f9b3748224248aca02075d7aa576499",
       "version_major": 2,
       "version_minor": 0
      },
      "text/plain": [
       "0it [00:00, ?it/s]"
      ]
     },
     "metadata": {},
     "output_type": "display_data"
    },
    {
     "name": "stdout",
     "output_type": "stream",
     "text": [
      "0 (500000, 35)\n",
      "1 (500000, 35)\n",
      "2 (500000, 35)\n",
      "3 (500000, 35)\n",
      "4 (500000, 35)\n",
      "5 (500000, 35)\n",
      "6 (500000, 35)\n",
      "7 (500000, 35)\n",
      "8 (500000, 35)\n",
      "9 (500000, 35)\n",
      "10 (500000, 35)\n",
      "11 (47176, 35)\n",
      "### 파일을 통합합니다. ###\n",
      "./300/CV300_50CELL_BUSANJINGU_2019_2019041.csv\n",
      "50CELL_BUSANJINGU_2019_201905.csv\n"
     ]
    },
    {
     "data": {
      "application/vnd.jupyter.widget-view+json": {
       "model_id": "4d646367f304485eafe24b5cf1dd24e6",
       "version_major": 2,
       "version_minor": 0
      },
      "text/plain": [
       "0it [00:00, ?it/s]"
      ]
     },
     "metadata": {},
     "output_type": "display_data"
    },
    {
     "name": "stdout",
     "output_type": "stream",
     "text": [
      "0 (500000, 35)\n",
      "1 (500000, 35)\n",
      "2 (500000, 35)\n",
      "3 (500000, 35)\n",
      "4 (500000, 35)\n",
      "5 (500000, 35)\n",
      "6 (500000, 35)\n",
      "7 (500000, 35)\n",
      "8 (500000, 35)\n",
      "9 (500000, 35)\n",
      "10 (500000, 35)\n",
      "11 (306656, 35)\n",
      "### 파일을 통합합니다. ###\n",
      "./300/CV300_50CELL_BUSANJINGU_2019_2019051.csv\n",
      "50CELL_BUSANJINGU_2019_201906.csv\n"
     ]
    },
    {
     "data": {
      "application/vnd.jupyter.widget-view+json": {
       "model_id": "af699e2a5474431d94da7cf851a717ac",
       "version_major": 2,
       "version_minor": 0
      },
      "text/plain": [
       "0it [00:00, ?it/s]"
      ]
     },
     "metadata": {},
     "output_type": "display_data"
    },
    {
     "name": "stdout",
     "output_type": "stream",
     "text": [
      "0 (500000, 35)\n",
      "1 (500000, 35)\n",
      "2 (500000, 35)\n",
      "3 (500000, 35)\n",
      "4 (500000, 35)\n",
      "5 (500000, 35)\n",
      "6 (500000, 35)\n",
      "7 (500000, 35)\n",
      "8 (500000, 35)\n",
      "9 (500000, 35)\n",
      "10 (500000, 35)\n",
      "11 (168147, 35)\n",
      "### 파일을 통합합니다. ###\n",
      "./300/CV300_50CELL_BUSANJINGU_2019_2019061.csv\n",
      "50CELL_BUSANJINGU_2019_201907.csv\n"
     ]
    },
    {
     "data": {
      "application/vnd.jupyter.widget-view+json": {
       "model_id": "7bceca71e5de44f69220eaebf39c99a1",
       "version_major": 2,
       "version_minor": 0
      },
      "text/plain": [
       "0it [00:00, ?it/s]"
      ]
     },
     "metadata": {},
     "output_type": "display_data"
    },
    {
     "name": "stdout",
     "output_type": "stream",
     "text": [
      "0 (500000, 35)\n",
      "1 (500000, 35)\n",
      "2 (500000, 35)\n",
      "3 (500000, 35)\n",
      "4 (500000, 35)\n",
      "5 (500000, 35)\n",
      "6 (500000, 35)\n",
      "7 (500000, 35)\n",
      "8 (500000, 35)\n",
      "9 (500000, 35)\n",
      "10 (500000, 35)\n",
      "11 (305766, 35)\n",
      "### 파일을 통합합니다. ###\n",
      "./300/CV300_50CELL_BUSANJINGU_2019_2019071.csv\n",
      "50CELL_BUSANJINGU_2019_201908.csv\n"
     ]
    },
    {
     "data": {
      "application/vnd.jupyter.widget-view+json": {
       "model_id": "302a6dd352ba4d3f939d8573eb7a4127",
       "version_major": 2,
       "version_minor": 0
      },
      "text/plain": [
       "0it [00:00, ?it/s]"
      ]
     },
     "metadata": {},
     "output_type": "display_data"
    },
    {
     "name": "stdout",
     "output_type": "stream",
     "text": [
      "0 (500000, 35)\n",
      "1 (500000, 35)\n",
      "2 (500000, 35)\n",
      "3 (500000, 35)\n",
      "4 (500000, 35)\n",
      "5 (500000, 35)\n",
      "6 (500000, 35)\n",
      "7 (500000, 35)\n",
      "8 (500000, 35)\n",
      "9 (500000, 35)\n",
      "10 (500000, 35)\n",
      "11 (311705, 35)\n",
      "### 파일을 통합합니다. ###\n",
      "./300/CV300_50CELL_BUSANJINGU_2019_2019081.csv\n",
      "50CELL_BUSANJINGU_2019_201909.csv\n"
     ]
    },
    {
     "data": {
      "application/vnd.jupyter.widget-view+json": {
       "model_id": "4a8e14a026fc46a2892db264b4d82194",
       "version_major": 2,
       "version_minor": 0
      },
      "text/plain": [
       "0it [00:00, ?it/s]"
      ]
     },
     "metadata": {},
     "output_type": "display_data"
    },
    {
     "name": "stdout",
     "output_type": "stream",
     "text": [
      "0 (500000, 35)\n",
      "1 (500000, 35)\n",
      "2 (500000, 35)\n",
      "3 (500000, 35)\n",
      "4 (500000, 35)\n",
      "5 (500000, 35)\n",
      "6 (500000, 35)\n",
      "7 (500000, 35)\n",
      "8 (500000, 35)\n",
      "9 (500000, 35)\n",
      "10 (500000, 35)\n",
      "11 (212185, 35)\n",
      "### 파일을 통합합니다. ###\n",
      "./300/CV300_50CELL_BUSANJINGU_2019_2019091.csv\n",
      "50CELL_BUSANJINGU_2019_201910.csv\n"
     ]
    },
    {
     "data": {
      "application/vnd.jupyter.widget-view+json": {
       "model_id": "43991dc50d024ab4b04464681b833e98",
       "version_major": 2,
       "version_minor": 0
      },
      "text/plain": [
       "0it [00:00, ?it/s]"
      ]
     },
     "metadata": {},
     "output_type": "display_data"
    },
    {
     "name": "stdout",
     "output_type": "stream",
     "text": [
      "0 (500000, 35)\n",
      "1 (500000, 35)\n",
      "2 (500000, 35)\n",
      "3 (500000, 35)\n",
      "4 (500000, 35)\n",
      "5 (500000, 35)\n",
      "6 (500000, 35)\n",
      "7 (500000, 35)\n",
      "8 (500000, 35)\n",
      "9 (500000, 35)\n",
      "10 (500000, 35)\n",
      "11 (463830, 35)\n",
      "### 파일을 통합합니다. ###\n",
      "./300/CV300_50CELL_BUSANJINGU_2019_2019101.csv\n",
      "50CELL_BUSANJINGU_2019_201911.csv\n"
     ]
    },
    {
     "data": {
      "application/vnd.jupyter.widget-view+json": {
       "model_id": "91e00c9f03634a7dbdc89b49398f9387",
       "version_major": 2,
       "version_minor": 0
      },
      "text/plain": [
       "0it [00:00, ?it/s]"
      ]
     },
     "metadata": {},
     "output_type": "display_data"
    },
    {
     "name": "stdout",
     "output_type": "stream",
     "text": [
      "0 (500000, 35)\n",
      "1 (500000, 35)\n",
      "2 (500000, 35)\n",
      "3 (500000, 35)\n",
      "4 (500000, 35)\n",
      "5 (500000, 35)\n",
      "6 (500000, 35)\n",
      "7 (500000, 35)\n",
      "8 (500000, 35)\n",
      "9 (500000, 35)\n",
      "10 (500000, 35)\n",
      "11 (280788, 35)\n",
      "### 파일을 통합합니다. ###\n",
      "./300/CV300_50CELL_BUSANJINGU_2019_2019111.csv\n",
      "50CELL_BUSANJINGU_2019_201912.csv\n"
     ]
    },
    {
     "data": {
      "application/vnd.jupyter.widget-view+json": {
       "model_id": "26805c3d47254eeaa9f4379311d7e865",
       "version_major": 2,
       "version_minor": 0
      },
      "text/plain": [
       "0it [00:00, ?it/s]"
      ]
     },
     "metadata": {},
     "output_type": "display_data"
    },
    {
     "name": "stdout",
     "output_type": "stream",
     "text": [
      "0 (500000, 35)\n",
      "1 (500000, 35)\n",
      "2 (500000, 35)\n",
      "3 (500000, 35)\n",
      "4 (500000, 35)\n",
      "5 (500000, 35)\n",
      "6 (500000, 35)\n",
      "7 (500000, 35)\n",
      "8 (500000, 35)\n",
      "9 (500000, 35)\n",
      "10 (500000, 35)\n",
      "11 (421809, 35)\n",
      "### 파일을 통합합니다. ###\n",
      "./300/CV300_50CELL_BUSANJINGU_2019_2019121.csv\n"
     ]
    }
   ],
   "source": [
    "for filename in tqdm(f_list):\n",
    "    print(filename)\n",
    "\n",
    "##########################################################\n",
    "\n",
    "    chunksize = 500000  ### 1번에 처리할 행의 갯수 정의 ##\n",
    "    \n",
    "##########################################################    \n",
    "    \n",
    "    cnt_list=[]\n",
    "    for cnt, celldf in tqdm(enumerate(pd.read_csv(filename, header = 0, names=col_name, encoding = \"UTF-8\", chunksize=chunksize))):\n",
    "        print(cnt, celldf.shape)\n",
    "         \n",
    "        a=[]\n",
    "        cellar = celldf[['x','y']].values\n",
    "        for rows in cellar:\n",
    "            a.append(cv_cell(rows[0], rows[1]))\n",
    "        \n",
    "        celldf[['id','x','y']] = a\n",
    "        celldf = celldf.groupby(['id', 'x', 'y', 'timezn_cd', 'etl_ymd'], as_index = False).sum()\n",
    "        columns = ['id', 'x', 'y', 'timezn_cd', 'm00', 'm10', 'm15', 'm20', 'm25', 'm30',\n",
    "       'm35', 'm40', 'm45', 'm50', 'm55', 'm60', 'm65', 'm70', 'f00', 'f10',\n",
    "       'f15', 'f20', 'f25', 'f30', 'f35', 'f40', 'f45', 'f50', 'f55', 'f60',\n",
    "       'f65', 'f70', 'total', 'etl_ymd']\n",
    "        celldf = celldf[columns]\n",
    "        \n",
    "        cnt_filename = filename[:-4]+str(cnt)+filename[-4:]\n",
    "        cnt_list.append(cnt_filename)\n",
    "        celldf.to_csv(cnt_filename, encoding = \"UTF-8\" ,index = False)\n",
    "    \n",
    "    celldf = pd.DataFrame(columns=columns)\n",
    "    print('### 파일을 통합합니다. ###')\n",
    "    \n",
    "    for filename in cnt_list:\n",
    "        adf = pd.read_csv(filename, header = 0, encoding = \"UTF-8\")\n",
    "        celldf = pd.concat([celldf,adf])\n",
    "        os.remove(filename)\n",
    "        \n",
    "    celldf = celldf.groupby(['id', 'x', 'y', 'timezn_cd','etl_ymd'], as_index = False).sum()\n",
    "    celldf = celldf[columns]\n",
    "    \n",
    "    mg_filename = './300/CV300_'+filename[:-5]+'.csv'\n",
    "    print(mg_filename)\n",
    "    celldf.to_csv(mg_filename, encoding = \"UTF-8\" ,index = False)"
   ]
  },
  {
   "cell_type": "code",
   "execution_count": null,
   "id": "d33b76ec",
   "metadata": {},
   "outputs": [],
   "source": []
  }
 ],
 "metadata": {
  "kernelspec": {
   "display_name": "Python 3",
   "language": "python",
   "name": "python3"
  },
  "language_info": {
   "codemirror_mode": {
    "name": "ipython",
    "version": 3
   },
   "file_extension": ".py",
   "mimetype": "text/x-python",
   "name": "python",
   "nbconvert_exporter": "python",
   "pygments_lexer": "ipython3",
   "version": "3.8.8"
  }
 },
 "nbformat": 4,
 "nbformat_minor": 5
}
