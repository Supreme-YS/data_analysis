{
 "cells": [
  {
   "cell_type": "code",
   "execution_count": 14,
   "metadata": {},
   "outputs": [],
   "source": [
    "import pandas as pd\n",
    "import numpy as np\n",
    "import os\n",
    "\n",
    "from folium.features import DivIcon\n",
    "import folium\n",
    "import pyproj\n",
    "from pyproj import Proj, transform\n",
    "\n",
    "%matplotlib inline  \n",
    "import matplotlib.pyplot as plt \n",
    "import seaborn as sns \n",
    "\n",
    "import warnings\n",
    "warnings.filterwarnings(action='ignore')\n",
    "\n",
    "def katec_to_wgs84(x, y):\n",
    "    inProj  = Proj('+proj=tmerc +lat_0=38 +lon_0=128 +k=0.9999 +x_0=400000 +y_0=600000 +ellps=bessel +units=m +no_defs +towgs84=-115.80,474.99,674.11,1.16,-2.31,-1.63,6.43')\n",
    "    outProj = Proj({ 'proj':'latlong', 'datum':'WGS84', 'ellps':'WGS84' })\n",
    "    return transform( inProj, outProj, x, y )\n",
    "\n",
    "WGS84 = { 'proj':'latlong', 'datum':'WGS84', 'ellps':'WGS84', }\n",
    "KATEC = { 'proj':'tmerc', 'lat_0':'38N', 'lon_0':'128E', 'ellps':'bessel','x_0':'400000', 'y_0':'600000', 'k':'0.9999','towgs84':'-115.80,474.99,674.11,1.16,-2.31,-1.63,6.43'}\n",
    "def wgs84_to_katec(longitude, latitude):\n",
    "    return transform( Proj(**WGS84), Proj(**KATEC), longitude, latitude )"
   ]
  },
  {
   "cell_type": "markdown",
   "metadata": {},
   "source": [
    "##### 현재 작업 위치 확인\n"
   ]
  },
  {
   "cell_type": "code",
   "execution_count": 4,
   "metadata": {},
   "outputs": [
    {
     "name": "stdout",
     "output_type": "stream",
     "text": [
      "C:\\Users\\dudtj\\busan_moving_person\\data\\store_data\\100test\n"
     ]
    }
   ],
   "source": [
    "cd ../data/store_data/100test/"
   ]
  },
  {
   "cell_type": "code",
   "execution_count": 5,
   "metadata": {
    "scrolled": true
   },
   "outputs": [
    {
     "name": "stdout",
     "output_type": "stream",
     "text": [
      " C 드라이브의 볼륨에는 이름이 없습니다.\n",
      " 볼륨 일련 번호: CE27-0A82\n",
      "\n",
      " C:\\Users\\dudtj\\busan_moving_person\\data\\store_data\\100test 디렉터리\n",
      "\n",
      "2021-08-18  오전 09:25    <DIR>          .\n",
      "2021-08-18  오전 09:25    <DIR>          ..\n",
      "2021-08-18  오전 09:25            32,892 CV100_NEW_FPR_BUSANJINGU_STORE_20213.csv\n",
      "2021-08-18  오전 09:18         1,289,979 NEW_FPR_BUSANJINGU_STORE_2021.csv\n",
      "               2개 파일           1,322,871 바이트\n",
      "               2개 디렉터리  103,249,575,936 바이트 남음\n"
     ]
    }
   ],
   "source": [
    "ls"
   ]
  },
  {
   "cell_type": "code",
   "execution_count": 6,
   "metadata": {},
   "outputs": [
    {
     "name": "stdout",
     "output_type": "stream",
     "text": [
      "Wall time: 5.55 ms\n"
     ]
    },
    {
     "data": {
      "text/plain": [
       "Index(['id', 'x', 'y', 'total'], dtype='object')"
      ]
     },
     "execution_count": 6,
     "metadata": {},
     "output_type": "execute_result"
    }
   ],
   "source": [
    "%%time\n",
    "# 이름 순차적으로 변경하기\n",
    "kcelldf = pd.read_csv('CV100_NEW_FPR_BUSANJINGU_STORE_20213.csv', encoding='UTF-8') # 이름변경필요부분\n",
    "kcelldf.columns"
   ]
  },
  {
   "cell_type": "code",
   "execution_count": 7,
   "metadata": {
    "scrolled": true
   },
   "outputs": [
    {
     "name": "stdout",
     "output_type": "stream",
     "text": [
      "making success :)\n"
     ]
    }
   ],
   "source": [
    "kcelldf = pd.read_csv('CV100_NEW_FPR_BUSANJINGU_STORE_20213.csv', encoding='UTF-8') # 이름변경필요부분\n",
    "tdf = pd.DataFrame(kcelldf['total'].groupby(kcelldf['id']).sum()).reset_index()\n",
    "geodf = pd.merge(tdf, kcelldf[['id', 'x', 'y']] , how = 'left', on = 'id')[['id', 'x', 'y', 'total']].drop_duplicates()\n",
    "geodf.to_csv('./100c_busan_store_dense.csv', index=False, encoding='UTF-8') # 이름변경필요부분\n",
    "print(\"making success :)\")"
   ]
  },
  {
   "cell_type": "code",
   "execution_count": 8,
   "metadata": {},
   "outputs": [],
   "source": [
    "geodf = pd.read_csv('100c_busan_store_dense.csv', encoding='UTF-8')"
   ]
  },
  {
   "cell_type": "code",
   "execution_count": 11,
   "metadata": {
    "scrolled": true
   },
   "outputs": [
    {
     "data": {
      "text/html": [
       "<div>\n",
       "<style scoped>\n",
       "    .dataframe tbody tr th:only-of-type {\n",
       "        vertical-align: middle;\n",
       "    }\n",
       "\n",
       "    .dataframe tbody tr th {\n",
       "        vertical-align: top;\n",
       "    }\n",
       "\n",
       "    .dataframe thead th {\n",
       "        text-align: right;\n",
       "    }\n",
       "</style>\n",
       "<table border=\"1\" class=\"dataframe\">\n",
       "  <thead>\n",
       "    <tr style=\"text-align: right;\">\n",
       "      <th></th>\n",
       "      <th>id</th>\n",
       "      <th>x</th>\n",
       "      <th>y</th>\n",
       "      <th>total</th>\n",
       "    </tr>\n",
       "  </thead>\n",
       "  <tbody>\n",
       "    <tr>\n",
       "      <th>count</th>\n",
       "      <td>1.246000e+03</td>\n",
       "      <td>1246.000000</td>\n",
       "      <td>1246.000000</td>\n",
       "      <td>1246.000000</td>\n",
       "    </tr>\n",
       "    <tr>\n",
       "      <th>mean</th>\n",
       "      <td>4.957546e+07</td>\n",
       "      <td>495751.083467</td>\n",
       "      <td>285187.439807</td>\n",
       "      <td>13.755217</td>\n",
       "    </tr>\n",
       "    <tr>\n",
       "      <th>std</th>\n",
       "      <td>1.465505e+05</td>\n",
       "      <td>1465.474768</td>\n",
       "      <td>1177.316458</td>\n",
       "      <td>34.445701</td>\n",
       "    </tr>\n",
       "    <tr>\n",
       "      <th>min</th>\n",
       "      <td>4.926283e+07</td>\n",
       "      <td>492625.000000</td>\n",
       "      <td>283025.000000</td>\n",
       "      <td>1.000000</td>\n",
       "    </tr>\n",
       "    <tr>\n",
       "      <th>25%</th>\n",
       "      <td>4.945284e+07</td>\n",
       "      <td>494525.000000</td>\n",
       "      <td>284225.000000</td>\n",
       "      <td>2.000000</td>\n",
       "    </tr>\n",
       "    <tr>\n",
       "      <th>50%</th>\n",
       "      <td>4.959287e+07</td>\n",
       "      <td>495925.000000</td>\n",
       "      <td>285125.000000</td>\n",
       "      <td>6.000000</td>\n",
       "    </tr>\n",
       "    <tr>\n",
       "      <th>75%</th>\n",
       "      <td>4.969285e+07</td>\n",
       "      <td>496925.000000</td>\n",
       "      <td>286125.000000</td>\n",
       "      <td>17.000000</td>\n",
       "    </tr>\n",
       "    <tr>\n",
       "      <th>max</th>\n",
       "      <td>4.986286e+07</td>\n",
       "      <td>498625.000000</td>\n",
       "      <td>288225.000000</td>\n",
       "      <td>984.000000</td>\n",
       "    </tr>\n",
       "  </tbody>\n",
       "</table>\n",
       "</div>"
      ],
      "text/plain": [
       "                 id              x              y        total\n",
       "count  1.246000e+03    1246.000000    1246.000000  1246.000000\n",
       "mean   4.957546e+07  495751.083467  285187.439807    13.755217\n",
       "std    1.465505e+05    1465.474768    1177.316458    34.445701\n",
       "min    4.926283e+07  492625.000000  283025.000000     1.000000\n",
       "25%    4.945284e+07  494525.000000  284225.000000     2.000000\n",
       "50%    4.959287e+07  495925.000000  285125.000000     6.000000\n",
       "75%    4.969285e+07  496925.000000  286125.000000    17.000000\n",
       "max    4.986286e+07  498625.000000  288225.000000   984.000000"
      ]
     },
     "execution_count": 11,
     "metadata": {},
     "output_type": "execute_result"
    }
   ],
   "source": [
    "geodf.describe()"
   ]
  },
  {
   "cell_type": "code",
   "execution_count": 12,
   "metadata": {},
   "outputs": [],
   "source": [
    "def f_color(x):\n",
    "    if x > geodf[geodf['total'] > geodf['total'].describe()[6]]['total'].describe()[6]: # 기존 75%를 넘는 범위에서의 4사분위수 \n",
    "        a = '#FF4F00'        \n",
    "    elif x > geodf['total'].describe()[6]:      # 75%를 기준으로 설정\n",
    "        a = '#FCB100'   \n",
    "    elif x > geodf['total'].describe()[5]:      # 50%를 기준으로 설정\n",
    "        a = '#E0F500' \n",
    "    elif x > geodf['total'].describe()[4]:      # 25%를 기준으로 설정\n",
    "        a = '#8CF700'  \n",
    "    else:\n",
    "        a = '#00F000'\n",
    "    return a"
   ]
  },
  {
   "cell_type": "code",
   "execution_count": 13,
   "metadata": {},
   "outputs": [
    {
     "name": "stdout",
     "output_type": "stream",
     "text": [
      "function success :)\n",
      "done :)\n"
     ]
    }
   ],
   "source": [
    "geodf['cell_color']= geodf['total'].apply(lambda x : f_color(x))\n",
    "print(\"function success :)\")\n",
    "###################################################################\n",
    "### 셀 수 변경###\n",
    "cell_size = 100 #\n",
    "#################\n",
    "a = cell_size//2\n",
    "x = geodf\n",
    "x['nwx'], x['nwy'] = x['x']-a, x['y']+a\n",
    "x['nex'], x['ney'] = x['x']+a, x['y']+a\n",
    "x['swx'], x['swy'] = x['x']-a, x['y']-a\n",
    "x['sex'], x['sey'] = x['x']+a ,x['y']-a\n",
    "\n",
    "x['lng'], x['lat'] = katec_to_wgs84(x.x.to_list(), x.y.to_list())\n",
    "x['nwlng'], x['nwlat'] = katec_to_wgs84(x.nwx.to_list(), x.nwy.to_list())\n",
    "x['nelng'], x['nelat'] = katec_to_wgs84(x.nex.to_list(), x.ney.to_list())\n",
    "x['swlng'], x['swlat'] = katec_to_wgs84(x.swx.to_list(), x.swy.to_list())\n",
    "x['selng'], x['selat'] = katec_to_wgs84(x.sex.to_list(), x.sey.to_list())\n",
    "\n",
    "map = folium.Map(location=[geodf['lat'].mean(), geodf['lng'].mean()], zoom_start=13)#, tiles='stamentoner')\n",
    "\n",
    "for n in x.index:\n",
    "    nw, ne, sw, se = [x.loc[n, 'nwlat'],x.loc[n, 'nwlng']],[x.loc[n, 'nelat'],x.loc[n, 'nelng']],[x.loc[n, 'swlat'],x.loc[n, 'swlng']],[x.loc[n, 'selat'],x.loc[n, 'selng']]\n",
    "    cell_color = x.loc[n, 'cell_color']\n",
    "    loc_name = 'ID:'+str(round(x.loc[n, 'id'],3)) + '       Total:'+ str(round(x.loc[n, 'total'],3))\n",
    "    folium.Polygon(locations=[nw, sw, se, ne],\n",
    "                   color='white',\n",
    "                   popup=loc_name,\n",
    "                   weight=0.55,\n",
    "                   fill=True,\n",
    "                   fill_color=cell_color,\n",
    "                   fill_opacity=0.6\n",
    "     ).add_to(map)\n",
    "\n",
    "map.save('./100c_busan_store_dense.html') ###### 이름변경필요부분\n",
    "# map\n",
    "print(\"done :)\")"
   ]
  },
  {
   "cell_type": "code",
   "execution_count": 158,
   "metadata": {},
   "outputs": [],
   "source": [
    "# def f_color(x):\n",
    "#     if x in geodf['count'].sort_values(ascending=False)[:25].values:        # 기존 75%를 넘는 범위에서의 4사분위수 \n",
    "#         a = '#FF4F00'        \n",
    "#     elif x in geodf['count'].sort_values(ascending=False)[25:75].values:      # 75%를 기준으로 설정\n",
    "#         a = '#FCB100'   \n",
    "#     elif x in geodf['count'].sort_values(ascending=False)[75:125].values:      # 50%를 기준으로 설정\n",
    "#         a = '#E0F500' \n",
    "#     elif x in geodf['count'].sort_values(ascending=False)[125:200].values:      # 25%를 기준으로 설정\n",
    "#         a = '#8CF700'  \n",
    "#     else:\n",
    "#         a = '#00F000'\n",
    "#     return a"
   ]
  },
  {
   "cell_type": "code",
   "execution_count": 159,
   "metadata": {},
   "outputs": [
    {
     "name": "stdout",
     "output_type": "stream",
     "text": [
      "function success :)\n",
      "done :)\n"
     ]
    }
   ],
   "source": [
    "geodf['cell_color']= geodf['count'].sort_values(ascending=False)[:200].apply(lambda x : f_color(x))\n",
    "print(\"function success :)\")\n",
    "###################################################################\n",
    "### 셀 수 변경###\n",
    "cell_size = 100 #\n",
    "#################\n",
    "a = cell_size//2\n",
    "x = geodf\n",
    "x['nwx'], x['nwy'] = x['x']-a, x['y']+a\n",
    "x['nex'], x['ney'] = x['x']+a, x['y']+a\n",
    "x['swx'], x['swy'] = x['x']-a, x['y']-a\n",
    "x['sex'], x['sey'] = x['x']+a ,x['y']-a\n",
    "\n",
    "x['lng'], x['lat'] = katec_to_wgs84(x.x.to_list(), x.y.to_list())\n",
    "x['nwlng'], x['nwlat'] = katec_to_wgs84(x.nwx.to_list(), x.nwy.to_list())\n",
    "x['nelng'], x['nelat'] = katec_to_wgs84(x.nex.to_list(), x.ney.to_list())\n",
    "x['swlng'], x['swlat'] = katec_to_wgs84(x.swx.to_list(), x.swy.to_list())\n",
    "x['selng'], x['selat'] = katec_to_wgs84(x.sex.to_list(), x.sey.to_list())\n",
    "\n",
    "map = folium.Map(location=[geodf['lat'].mean(), geodf['lng'].mean()], zoom_start=13, tiles=\"Stamen Toner\")#, tiles='stamentoner')\n",
    "\n",
    "for n in x.index:\n",
    "    nw, ne, sw, se = [x.loc[n, 'nwlat'],x.loc[n, 'nwlng']],[x.loc[n, 'nelat'],x.loc[n, 'nelng']],[x.loc[n, 'swlat'],x.loc[n, 'swlng']],[x.loc[n, 'selat'],x.loc[n, 'selng']]\n",
    "    cell_color = x.loc[n, 'cell_color']\n",
    "    loc_name = 'ID:'+str(round(x.loc[n, 'id'],3)) + '       Total:'+ str(round(x.loc[n, 'count'],3))\n",
    "    folium.Polygon(locations=[nw, sw, se, ne],\n",
    "                   color='white',\n",
    "                   popup=loc_name,\n",
    "                   weight=0.55,\n",
    "                   fill=True,\n",
    "                   fill_color=cell_color,\n",
    "                   fill_opacity=0.6\n",
    "     ).add_to(map)\n",
    "\n",
    "map.save('./top200_100c_busan_store.html') ###### 이름변경필요부분\n",
    "# map\n",
    "print(\"done :)\")"
   ]
  },
  {
   "cell_type": "code",
   "execution_count": null,
   "metadata": {},
   "outputs": [],
   "source": []
  }
 ],
 "metadata": {
  "kernelspec": {
   "display_name": "Python 3",
   "language": "python",
   "name": "python3"
  },
  "language_info": {
   "codemirror_mode": {
    "name": "ipython",
    "version": 3
   },
   "file_extension": ".py",
   "mimetype": "text/x-python",
   "name": "python",
   "nbconvert_exporter": "python",
   "pygments_lexer": "ipython3",
   "version": "3.8.8"
  }
 },
 "nbformat": 4,
 "nbformat_minor": 4
}
