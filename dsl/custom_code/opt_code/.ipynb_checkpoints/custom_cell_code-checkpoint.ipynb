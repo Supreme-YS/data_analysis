{
 "cells": [
  {
   "cell_type": "code",
   "execution_count": 2,
   "id": "a11cac64",
   "metadata": {},
   "outputs": [],
   "source": [
    "import pandas as pd\n",
    "import numpy as np\n",
    "import os\n",
    "from tqdm.notebook import tqdm\n",
    "\n",
    "#### 변경 셀 사이즈 및 KATECH 좌표 원점 ####\n",
    "#### x_base, y_base는 지역에 상관없이 고정값 ####\n",
    "cell_size = 100\n",
    "x_base,y_base = 400000,600000\n",
    "\n",
    "def cv_cell(x,y):  ### 셀 사이즈 변경 함수 정의 ###\n",
    "    a = ((x - x_base)//cell_size)*cell_size + (cell_size//2 -25) + x_base\n",
    "    b = ((y - y_base)//cell_size)*cell_size + (cell_size//2 -25) + y_base\n",
    "    c = (a//100)*10000 + (b//100)\n",
    "    return(c,a,b)"
   ]
  },
  {
   "cell_type": "code",
   "execution_count": 5,
   "id": "c9d287e9",
   "metadata": {
    "scrolled": true
   },
   "outputs": [
    {
     "name": "stdout",
     "output_type": "stream",
     "text": [
      "['50CELL_SUWON_2020_202007.csv', '50CELL_SUWON_2020_202008.csv', '50CELL_SUWON_2020_202009.csv', '50CELL_SUWON_2020_202010.csv', '50CELL_SUWON_2020_202011.csv', '50CELL_SUWON_2020_202012.csv', '50CELL_SUWON_2021_202101.csv', '50CELL_SUWON_2021_202102.csv', '50CELL_SUWON_2021_202103.csv', '50CELL_SUWON_2021_202104.csv', '50CELL_SUWON_2021_202105.csv', '50CELL_SUWON_2021_202106.csv']\n"
     ]
    }
   ],
   "source": [
    "path = f\"C:\\\\Users\\\\dudtj\\\\suwon_moving_person\\\\data\" #원천데이터 파일위치\n",
    "os.chdir(path)\n",
    "file_list = os.listdir(path)\n",
    "f_list = [file for file in file_list if file.endswith(\".csv\")]\n",
    "print(f_list)"
   ]
  },
  {
   "cell_type": "code",
   "execution_count": 6,
   "id": "145881ed",
   "metadata": {},
   "outputs": [
    {
     "name": "stdout",
     "output_type": "stream",
     "text": [
      "col_name 칼럼 수 확인 :  35\n",
      "raw_data 칼럼 수 확인 :  35\n"
     ]
    }
   ],
   "source": [
    "# 칼럼 명 < 원천 데이터 확인 필요 > \n",
    "col_name = ['id', 'x', 'y', 'timezn_cd', 'm00', 'm10', 'm15', 'm20', 'm25', 'm30',\n",
    "       'm35', 'm40', 'm45', 'm50', 'm55', 'm60', 'm65', 'm70', 'f00', 'f10',\n",
    "       'f15', 'f20', 'f25', 'f30', 'f35', 'f40', 'f45', 'f50', 'f55', 'f60',\n",
    "       'f65', 'f70', 'total', 'admi_cd', 'etl_ymd']\n",
    "\n",
    "# 칼럼 수 Test & Check\n",
    "test_df = pd.read_csv(f_list[0], encoding=\"UTF-8\")\n",
    "print(\"col_name 칼럼 수 확인 : \", len(col_name))\n",
    "print(\"raw_data 칼럼 수 확인 : \", len(test_df.columns))"
   ]
  },
  {
   "cell_type": "code",
   "execution_count": 7,
   "id": "4f5965ec",
   "metadata": {},
   "outputs": [
    {
     "data": {
      "text/plain": [
       "Index(['id', 'x', 'y', 'timezn_cd', 'm00', 'm10', 'm15', 'm20', 'm25', 'm30',\n",
       "       'm35', 'm40', 'm45', 'm50', 'm55', 'm60', 'm65', 'm70', 'f00', 'f10',\n",
       "       'f15', 'f20', 'f25', 'f30', 'f35', 'f40', 'f45', 'f50', 'f55', 'f60',\n",
       "       'f65', 'f70', 'total', 'admi_cd', 'etl_ymd'],\n",
       "      dtype='object')"
      ]
     },
     "execution_count": 7,
     "metadata": {},
     "output_type": "execute_result"
    }
   ],
   "source": [
    "test_df.columns"
   ]
  },
  {
   "cell_type": "code",
   "execution_count": 16,
   "id": "69ccf4be",
   "metadata": {
    "scrolled": true
   },
   "outputs": [
    {
     "data": {
      "application/vnd.jupyter.widget-view+json": {
       "model_id": "c708813323a941b1bec5e7c0a080d8b3",
       "version_major": 2,
       "version_minor": 0
      },
      "text/plain": [
       "  0%|          | 0/12 [00:00<?, ?it/s]"
      ]
     },
     "metadata": {},
     "output_type": "display_data"
    },
    {
     "name": "stdout",
     "output_type": "stream",
     "text": [
      "50CELL_SUWON_2020_202007.csv\n"
     ]
    },
    {
     "data": {
      "application/vnd.jupyter.widget-view+json": {
       "model_id": "56a8a77f71d341ccaa6572b6af90c162",
       "version_major": 2,
       "version_minor": 0
      },
      "text/plain": [
       "0it [00:00, ?it/s]"
      ]
     },
     "metadata": {},
     "output_type": "display_data"
    },
    {
     "name": "stdout",
     "output_type": "stream",
     "text": [
      "0 (500000, 35)\n",
      "1 (500000, 35)\n",
      "2 (500000, 35)\n",
      "3 (500000, 35)\n",
      "4 (500000, 35)\n",
      "5 (500000, 35)\n",
      "6 (500000, 35)\n",
      "7 (500000, 35)\n",
      "8 (500000, 35)\n",
      "9 (500000, 35)\n",
      "10 (500000, 35)\n",
      "11 (500000, 35)\n",
      "12 (500000, 35)\n",
      "13 (500000, 35)\n",
      "14 (500000, 35)\n",
      "15 (500000, 35)\n",
      "16 (500000, 35)\n",
      "17 (500000, 35)\n",
      "18 (500000, 35)\n",
      "19 (500000, 35)\n",
      "20 (500000, 35)\n",
      "21 (500000, 35)\n",
      "22 (500000, 35)\n",
      "23 (500000, 35)\n",
      "24 (500000, 35)\n",
      "25 (500000, 35)\n",
      "26 (500000, 35)\n",
      "27 (500000, 35)\n",
      "28 (500000, 35)\n",
      "29 (500000, 35)\n",
      "30 (500000, 35)\n",
      "31 (500000, 35)\n",
      "32 (500000, 35)\n",
      "33 (500000, 35)\n",
      "34 (500000, 35)\n",
      "35 (500000, 35)\n",
      "36 (500000, 35)\n",
      "37 (500000, 35)\n",
      "38 (500000, 35)\n",
      "39 (424434, 35)\n",
      "### 파일을 통합합니다. ###\n"
     ]
    },
    {
     "ename": "MemoryError",
     "evalue": "Unable to allocate 1.05 GiB for an array with shape (29, 4846881) and data type float64",
     "output_type": "error",
     "traceback": [
      "\u001b[1;31m---------------------------------------------------------------------------\u001b[0m",
      "\u001b[1;31mMemoryError\u001b[0m                               Traceback (most recent call last)",
      "\u001b[1;32m<ipython-input-16-c29f64c8546c>\u001b[0m in \u001b[0;36m<module>\u001b[1;34m\u001b[0m\n\u001b[0;32m     34\u001b[0m     \u001b[1;32mfor\u001b[0m \u001b[0mfilename\u001b[0m \u001b[1;32min\u001b[0m \u001b[0mcnt_list\u001b[0m\u001b[1;33m:\u001b[0m\u001b[1;33m\u001b[0m\u001b[1;33m\u001b[0m\u001b[0m\n\u001b[0;32m     35\u001b[0m         \u001b[0madf\u001b[0m \u001b[1;33m=\u001b[0m \u001b[0mpd\u001b[0m\u001b[1;33m.\u001b[0m\u001b[0mread_csv\u001b[0m\u001b[1;33m(\u001b[0m\u001b[0mfilename\u001b[0m\u001b[1;33m,\u001b[0m \u001b[0mheader\u001b[0m \u001b[1;33m=\u001b[0m \u001b[1;36m0\u001b[0m\u001b[1;33m,\u001b[0m \u001b[0mencoding\u001b[0m \u001b[1;33m=\u001b[0m \u001b[1;34m\"UTF-8\"\u001b[0m\u001b[1;33m)\u001b[0m\u001b[1;33m\u001b[0m\u001b[1;33m\u001b[0m\u001b[0m\n\u001b[1;32m---> 36\u001b[1;33m         \u001b[0mcelldf\u001b[0m \u001b[1;33m=\u001b[0m \u001b[0mpd\u001b[0m\u001b[1;33m.\u001b[0m\u001b[0mconcat\u001b[0m\u001b[1;33m(\u001b[0m\u001b[1;33m[\u001b[0m\u001b[0mcelldf\u001b[0m\u001b[1;33m,\u001b[0m\u001b[0madf\u001b[0m\u001b[1;33m]\u001b[0m\u001b[1;33m)\u001b[0m\u001b[1;33m\u001b[0m\u001b[1;33m\u001b[0m\u001b[0m\n\u001b[0m\u001b[0;32m     37\u001b[0m         \u001b[0mos\u001b[0m\u001b[1;33m.\u001b[0m\u001b[0mremove\u001b[0m\u001b[1;33m(\u001b[0m\u001b[0mfilename\u001b[0m\u001b[1;33m)\u001b[0m\u001b[1;33m\u001b[0m\u001b[1;33m\u001b[0m\u001b[0m\n\u001b[0;32m     38\u001b[0m \u001b[1;33m\u001b[0m\u001b[0m\n",
      "\u001b[1;32m~\\anaconda3\\lib\\site-packages\\pandas\\core\\reshape\\concat.py\u001b[0m in \u001b[0;36mconcat\u001b[1;34m(objs, axis, join, ignore_index, keys, levels, names, verify_integrity, sort, copy)\u001b[0m\n\u001b[0;32m    296\u001b[0m     )\n\u001b[0;32m    297\u001b[0m \u001b[1;33m\u001b[0m\u001b[0m\n\u001b[1;32m--> 298\u001b[1;33m     \u001b[1;32mreturn\u001b[0m \u001b[0mop\u001b[0m\u001b[1;33m.\u001b[0m\u001b[0mget_result\u001b[0m\u001b[1;33m(\u001b[0m\u001b[1;33m)\u001b[0m\u001b[1;33m\u001b[0m\u001b[1;33m\u001b[0m\u001b[0m\n\u001b[0m\u001b[0;32m    299\u001b[0m \u001b[1;33m\u001b[0m\u001b[0m\n\u001b[0;32m    300\u001b[0m \u001b[1;33m\u001b[0m\u001b[0m\n",
      "\u001b[1;32m~\\anaconda3\\lib\\site-packages\\pandas\\core\\reshape\\concat.py\u001b[0m in \u001b[0;36mget_result\u001b[1;34m(self)\u001b[0m\n\u001b[0;32m    518\u001b[0m                 \u001b[0mmgrs_indexers\u001b[0m\u001b[1;33m.\u001b[0m\u001b[0mappend\u001b[0m\u001b[1;33m(\u001b[0m\u001b[1;33m(\u001b[0m\u001b[0mobj\u001b[0m\u001b[1;33m.\u001b[0m\u001b[0m_mgr\u001b[0m\u001b[1;33m,\u001b[0m \u001b[0mindexers\u001b[0m\u001b[1;33m)\u001b[0m\u001b[1;33m)\u001b[0m\u001b[1;33m\u001b[0m\u001b[1;33m\u001b[0m\u001b[0m\n\u001b[0;32m    519\u001b[0m \u001b[1;33m\u001b[0m\u001b[0m\n\u001b[1;32m--> 520\u001b[1;33m             new_data = concatenate_block_managers(\n\u001b[0m\u001b[0;32m    521\u001b[0m                 \u001b[0mmgrs_indexers\u001b[0m\u001b[1;33m,\u001b[0m \u001b[0mself\u001b[0m\u001b[1;33m.\u001b[0m\u001b[0mnew_axes\u001b[0m\u001b[1;33m,\u001b[0m \u001b[0mconcat_axis\u001b[0m\u001b[1;33m=\u001b[0m\u001b[0mself\u001b[0m\u001b[1;33m.\u001b[0m\u001b[0mbm_axis\u001b[0m\u001b[1;33m,\u001b[0m \u001b[0mcopy\u001b[0m\u001b[1;33m=\u001b[0m\u001b[0mself\u001b[0m\u001b[1;33m.\u001b[0m\u001b[0mcopy\u001b[0m\u001b[1;33m\u001b[0m\u001b[1;33m\u001b[0m\u001b[0m\n\u001b[0;32m    522\u001b[0m             )\n",
      "\u001b[1;32m~\\anaconda3\\lib\\site-packages\\pandas\\core\\internals\\concat.py\u001b[0m in \u001b[0;36mconcatenate_block_managers\u001b[1;34m(mgrs_indexers, axes, concat_axis, copy)\u001b[0m\n\u001b[0;32m     71\u001b[0m \u001b[1;33m\u001b[0m\u001b[0m\n\u001b[0;32m     72\u001b[0m             \u001b[1;32mif\u001b[0m \u001b[1;32mnot\u001b[0m \u001b[0mblk\u001b[0m\u001b[1;33m.\u001b[0m\u001b[0mis_extension\u001b[0m\u001b[1;33m:\u001b[0m\u001b[1;33m\u001b[0m\u001b[1;33m\u001b[0m\u001b[0m\n\u001b[1;32m---> 73\u001b[1;33m                 \u001b[0mvalues\u001b[0m \u001b[1;33m=\u001b[0m \u001b[0mconcat_compat\u001b[0m\u001b[1;33m(\u001b[0m\u001b[0mvals\u001b[0m\u001b[1;33m,\u001b[0m \u001b[0maxis\u001b[0m\u001b[1;33m=\u001b[0m\u001b[0mblk\u001b[0m\u001b[1;33m.\u001b[0m\u001b[0mndim\u001b[0m \u001b[1;33m-\u001b[0m \u001b[1;36m1\u001b[0m\u001b[1;33m)\u001b[0m\u001b[1;33m\u001b[0m\u001b[1;33m\u001b[0m\u001b[0m\n\u001b[0m\u001b[0;32m     74\u001b[0m             \u001b[1;32melse\u001b[0m\u001b[1;33m:\u001b[0m\u001b[1;33m\u001b[0m\u001b[1;33m\u001b[0m\u001b[0m\n\u001b[0;32m     75\u001b[0m                 \u001b[1;31m# TODO(EA2D): special-casing not needed with 2D EAs\u001b[0m\u001b[1;33m\u001b[0m\u001b[1;33m\u001b[0m\u001b[1;33m\u001b[0m\u001b[0m\n",
      "\u001b[1;32m~\\anaconda3\\lib\\site-packages\\pandas\\core\\dtypes\\concat.py\u001b[0m in \u001b[0;36mconcat_compat\u001b[1;34m(to_concat, axis)\u001b[0m\n\u001b[0;32m    169\u001b[0m                 \u001b[0mto_concat\u001b[0m \u001b[1;33m=\u001b[0m \u001b[1;33m[\u001b[0m\u001b[0mx\u001b[0m\u001b[1;33m.\u001b[0m\u001b[0mastype\u001b[0m\u001b[1;33m(\u001b[0m\u001b[1;34m\"object\"\u001b[0m\u001b[1;33m)\u001b[0m \u001b[1;32mfor\u001b[0m \u001b[0mx\u001b[0m \u001b[1;32min\u001b[0m \u001b[0mto_concat\u001b[0m\u001b[1;33m]\u001b[0m\u001b[1;33m\u001b[0m\u001b[1;33m\u001b[0m\u001b[0m\n\u001b[0;32m    170\u001b[0m \u001b[1;33m\u001b[0m\u001b[0m\n\u001b[1;32m--> 171\u001b[1;33m     \u001b[1;32mreturn\u001b[0m \u001b[0mnp\u001b[0m\u001b[1;33m.\u001b[0m\u001b[0mconcatenate\u001b[0m\u001b[1;33m(\u001b[0m\u001b[0mto_concat\u001b[0m\u001b[1;33m,\u001b[0m \u001b[0maxis\u001b[0m\u001b[1;33m=\u001b[0m\u001b[0maxis\u001b[0m\u001b[1;33m)\u001b[0m\u001b[1;33m\u001b[0m\u001b[1;33m\u001b[0m\u001b[0m\n\u001b[0m\u001b[0;32m    172\u001b[0m \u001b[1;33m\u001b[0m\u001b[0m\n\u001b[0;32m    173\u001b[0m \u001b[1;33m\u001b[0m\u001b[0m\n",
      "\u001b[1;32m<__array_function__ internals>\u001b[0m in \u001b[0;36mconcatenate\u001b[1;34m(*args, **kwargs)\u001b[0m\n",
      "\u001b[1;31mMemoryError\u001b[0m: Unable to allocate 1.05 GiB for an array with shape (29, 4846881) and data type float64"
     ]
    }
   ],
   "source": [
    "for filename in tqdm(f_list):\n",
    "    print(filename)\n",
    "\n",
    "##########################################################\n",
    "\n",
    "    chunksize = 500000  ### 1번에 처리할 행의 갯수 정의 ##\n",
    "    \n",
    "##########################################################    \n",
    "    \n",
    "    cnt_list=[]\n",
    "    for cnt, celldf in tqdm(enumerate(pd.read_csv(filename, header = 0, names=col_name, encoding = \"UTF-8\", chunksize=chunksize))):\n",
    "        print(cnt, celldf.shape)\n",
    "         \n",
    "        a=[]\n",
    "        cellar = celldf[['x','y']].values\n",
    "        for rows in cellar:\n",
    "            a.append(cv_cell(rows[0], rows[1]))\n",
    "        \n",
    "        celldf[['id','x','y']] = a\n",
    "        celldf = celldf.groupby(['id', 'x', 'y', 'timezn_cd', 'etl_ymd'], as_index = False).sum()\n",
    "        columns = ['id', 'x', 'y', 'timezn_cd', 'm00', 'm10', 'm15', 'm20', 'm25', 'm30',\n",
    "       'm35', 'm40', 'm45', 'm50', 'm55', 'm60', 'm65', 'm70', 'f00', 'f10',\n",
    "       'f15', 'f20', 'f25', 'f30', 'f35', 'f40', 'f45', 'f50', 'f55', 'f60',\n",
    "       'f65', 'f70', 'total', 'etl_ymd']\n",
    "        celldf = celldf[columns]\n",
    "        \n",
    "        cnt_filename = filename[:-4]+str(cnt)+filename[-4:]\n",
    "        cnt_list.append(cnt_filename)\n",
    "        celldf.to_csv(cnt_filename, encoding = \"UTF-8\" ,index = False)\n",
    "    \n",
    "    celldf = pd.DataFrame(columns=columns)\n",
    "    print('### 파일을 통합합니다. ###')\n",
    "    \n",
    "    for filename in cnt_list:\n",
    "        adf = pd.read_csv(filename, header = 0, encoding = \"UTF-8\")\n",
    "        celldf = pd.concat([celldf,adf])\n",
    "        os.remove(filename)\n",
    "        \n",
    "    celldf = celldf.groupby(['id', 'x', 'y', 'timezn_cd','etl_ymd'], as_index = False).sum()\n",
    "    celldf = celldf[columns]\n",
    "    \n",
    "    mg_filename = './100/CV100_'+filename[:-5]+'.csv'\n",
    "    print(mg_filename)\n",
    "    celldf.to_csv(mg_filename, encoding = \"UTF-8\" ,index = False)"
   ]
  }
 ],
 "metadata": {
  "kernelspec": {
   "display_name": "Python 3",
   "language": "python",
   "name": "python3"
  },
  "language_info": {
   "codemirror_mode": {
    "name": "ipython",
    "version": 3
   },
   "file_extension": ".py",
   "mimetype": "text/x-python",
   "name": "python",
   "nbconvert_exporter": "python",
   "pygments_lexer": "ipython3",
   "version": "3.8.8"
  }
 },
 "nbformat": 4,
 "nbformat_minor": 5
}
