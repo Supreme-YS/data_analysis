{
 "cells": [
  {
   "cell_type": "code",
   "execution_count": 1,
   "metadata": {},
   "outputs": [],
   "source": [
    "import warnings\n",
    "warnings.filterwarnings(action=\"ignore\")\n",
    "import numpy as np\n",
    "import pandas as pd\n",
    "import matplotlib.pyplot as plt\n",
    "%matplotlib inline"
   ]
  },
  {
   "cell_type": "code",
   "execution_count": 2,
   "metadata": {},
   "outputs": [],
   "source": [
    "# 한글 폰트 문제 해결\n",
    "import platform\n",
    "\n",
    "from matplotlib import font_manager, rc\n",
    "\n",
    "if platform.system() == 'Darwin':\n",
    "    rc('font', family='AppleGothic')\n",
    "elif platform.system() == 'Windows':\n",
    "    path = \"c:/Windows/Fonts/malgun.ttf\"\n",
    "    font_name = font_manager.FontProperties(fname=path).get_name()\n",
    "    rc('font', family=font_name)\n",
    "else:\n",
    "    print('Unknown system... sorry~~~~') \n",
    "\n",
    "\n",
    "# 차트 축 <- 음수 부호 지원\n",
    "import matplotlib\n",
    "matplotlib.rcParams['axes.unicode_minus'] = False"
   ]
  },
  {
   "cell_type": "markdown",
   "metadata": {},
   "source": [
    "## pie chart : 카테고리별 값의 상대적 비교"
   ]
  },
  {
   "cell_type": "code",
   "execution_count": 3,
   "metadata": {},
   "outputs": [
    {
     "data": {
      "text/plain": [
       "{'aliceblue': '#F0F8FF',\n",
       " 'antiquewhite': '#FAEBD7',\n",
       " 'aqua': '#00FFFF',\n",
       " 'aquamarine': '#7FFFD4',\n",
       " 'azure': '#F0FFFF',\n",
       " 'beige': '#F5F5DC',\n",
       " 'bisque': '#FFE4C4',\n",
       " 'black': '#000000',\n",
       " 'blanchedalmond': '#FFEBCD',\n",
       " 'blue': '#0000FF',\n",
       " 'blueviolet': '#8A2BE2',\n",
       " 'brown': '#A52A2A',\n",
       " 'burlywood': '#DEB887',\n",
       " 'cadetblue': '#5F9EA0',\n",
       " 'chartreuse': '#7FFF00',\n",
       " 'chocolate': '#D2691E',\n",
       " 'coral': '#FF7F50',\n",
       " 'cornflowerblue': '#6495ED',\n",
       " 'cornsilk': '#FFF8DC',\n",
       " 'crimson': '#DC143C',\n",
       " 'cyan': '#00FFFF',\n",
       " 'darkblue': '#00008B',\n",
       " 'darkcyan': '#008B8B',\n",
       " 'darkgoldenrod': '#B8860B',\n",
       " 'darkgray': '#A9A9A9',\n",
       " 'darkgreen': '#006400',\n",
       " 'darkgrey': '#A9A9A9',\n",
       " 'darkkhaki': '#BDB76B',\n",
       " 'darkmagenta': '#8B008B',\n",
       " 'darkolivegreen': '#556B2F',\n",
       " 'darkorange': '#FF8C00',\n",
       " 'darkorchid': '#9932CC',\n",
       " 'darkred': '#8B0000',\n",
       " 'darksalmon': '#E9967A',\n",
       " 'darkseagreen': '#8FBC8F',\n",
       " 'darkslateblue': '#483D8B',\n",
       " 'darkslategray': '#2F4F4F',\n",
       " 'darkslategrey': '#2F4F4F',\n",
       " 'darkturquoise': '#00CED1',\n",
       " 'darkviolet': '#9400D3',\n",
       " 'deeppink': '#FF1493',\n",
       " 'deepskyblue': '#00BFFF',\n",
       " 'dimgray': '#696969',\n",
       " 'dimgrey': '#696969',\n",
       " 'dodgerblue': '#1E90FF',\n",
       " 'firebrick': '#B22222',\n",
       " 'floralwhite': '#FFFAF0',\n",
       " 'forestgreen': '#228B22',\n",
       " 'fuchsia': '#FF00FF',\n",
       " 'gainsboro': '#DCDCDC',\n",
       " 'ghostwhite': '#F8F8FF',\n",
       " 'gold': '#FFD700',\n",
       " 'goldenrod': '#DAA520',\n",
       " 'gray': '#808080',\n",
       " 'green': '#008000',\n",
       " 'greenyellow': '#ADFF2F',\n",
       " 'grey': '#808080',\n",
       " 'honeydew': '#F0FFF0',\n",
       " 'hotpink': '#FF69B4',\n",
       " 'indianred': '#CD5C5C',\n",
       " 'indigo': '#4B0082',\n",
       " 'ivory': '#FFFFF0',\n",
       " 'khaki': '#F0E68C',\n",
       " 'lavender': '#E6E6FA',\n",
       " 'lavenderblush': '#FFF0F5',\n",
       " 'lawngreen': '#7CFC00',\n",
       " 'lemonchiffon': '#FFFACD',\n",
       " 'lightblue': '#ADD8E6',\n",
       " 'lightcoral': '#F08080',\n",
       " 'lightcyan': '#E0FFFF',\n",
       " 'lightgoldenrodyellow': '#FAFAD2',\n",
       " 'lightgray': '#D3D3D3',\n",
       " 'lightgreen': '#90EE90',\n",
       " 'lightgrey': '#D3D3D3',\n",
       " 'lightpink': '#FFB6C1',\n",
       " 'lightsalmon': '#FFA07A',\n",
       " 'lightseagreen': '#20B2AA',\n",
       " 'lightskyblue': '#87CEFA',\n",
       " 'lightslategray': '#778899',\n",
       " 'lightslategrey': '#778899',\n",
       " 'lightsteelblue': '#B0C4DE',\n",
       " 'lightyellow': '#FFFFE0',\n",
       " 'lime': '#00FF00',\n",
       " 'limegreen': '#32CD32',\n",
       " 'linen': '#FAF0E6',\n",
       " 'magenta': '#FF00FF',\n",
       " 'maroon': '#800000',\n",
       " 'mediumaquamarine': '#66CDAA',\n",
       " 'mediumblue': '#0000CD',\n",
       " 'mediumorchid': '#BA55D3',\n",
       " 'mediumpurple': '#9370DB',\n",
       " 'mediumseagreen': '#3CB371',\n",
       " 'mediumslateblue': '#7B68EE',\n",
       " 'mediumspringgreen': '#00FA9A',\n",
       " 'mediumturquoise': '#48D1CC',\n",
       " 'mediumvioletred': '#C71585',\n",
       " 'midnightblue': '#191970',\n",
       " 'mintcream': '#F5FFFA',\n",
       " 'mistyrose': '#FFE4E1',\n",
       " 'moccasin': '#FFE4B5',\n",
       " 'navajowhite': '#FFDEAD',\n",
       " 'navy': '#000080',\n",
       " 'oldlace': '#FDF5E6',\n",
       " 'olive': '#808000',\n",
       " 'olivedrab': '#6B8E23',\n",
       " 'orange': '#FFA500',\n",
       " 'orangered': '#FF4500',\n",
       " 'orchid': '#DA70D6',\n",
       " 'palegoldenrod': '#EEE8AA',\n",
       " 'palegreen': '#98FB98',\n",
       " 'paleturquoise': '#AFEEEE',\n",
       " 'palevioletred': '#DB7093',\n",
       " 'papayawhip': '#FFEFD5',\n",
       " 'peachpuff': '#FFDAB9',\n",
       " 'peru': '#CD853F',\n",
       " 'pink': '#FFC0CB',\n",
       " 'plum': '#DDA0DD',\n",
       " 'powderblue': '#B0E0E6',\n",
       " 'purple': '#800080',\n",
       " 'rebeccapurple': '#663399',\n",
       " 'red': '#FF0000',\n",
       " 'rosybrown': '#BC8F8F',\n",
       " 'royalblue': '#4169E1',\n",
       " 'saddlebrown': '#8B4513',\n",
       " 'salmon': '#FA8072',\n",
       " 'sandybrown': '#F4A460',\n",
       " 'seagreen': '#2E8B57',\n",
       " 'seashell': '#FFF5EE',\n",
       " 'sienna': '#A0522D',\n",
       " 'silver': '#C0C0C0',\n",
       " 'skyblue': '#87CEEB',\n",
       " 'slateblue': '#6A5ACD',\n",
       " 'slategray': '#708090',\n",
       " 'slategrey': '#708090',\n",
       " 'snow': '#FFFAFA',\n",
       " 'springgreen': '#00FF7F',\n",
       " 'steelblue': '#4682B4',\n",
       " 'tan': '#D2B48C',\n",
       " 'teal': '#008080',\n",
       " 'thistle': '#D8BFD8',\n",
       " 'tomato': '#FF6347',\n",
       " 'turquoise': '#40E0D0',\n",
       " 'violet': '#EE82EE',\n",
       " 'wheat': '#F5DEB3',\n",
       " 'white': '#FFFFFF',\n",
       " 'whitesmoke': '#F5F5F5',\n",
       " 'yellow': '#FFFF00',\n",
       " 'yellowgreen': '#9ACD32'}"
      ]
     },
     "execution_count": 3,
     "metadata": {},
     "output_type": "execute_result"
    }
   ],
   "source": [
    "matplotlib.colors.cnames"
   ]
  },
  {
   "cell_type": "code",
   "execution_count": 4,
   "metadata": {},
   "outputs": [],
   "source": [
    "# pie chart 01\n",
    "\n",
    "labels = ['샤넬','생로랑','티파니','펜디','에르메o스']\n",
    "datas = [15, 15, 20, 25, 25]\n",
    "colors = ['whitesmoke','gold','skyblue','rosybrown','orange']"
   ]
  },
  {
   "cell_type": "code",
   "execution_count": 5,
   "metadata": {},
   "outputs": [
    {
     "data": {
      "image/png": "[encoded data removed]",
      "text/plain": [
       "<Figure size 432x288 with 1 Axes>"
      ]
     },
     "metadata": {},
     "output_type": "display_data"
    }
   ],
   "source": [
    "plt.figure()\n",
    "\n",
    "# (autopct=% %)-->(autopct='% 1.1f% %')-->실수형으로 뒤의 한자리까지 %로 나타냄 \n",
    "plt.pie(datas, labels=labels, colors=colors, shadow=True, autopct='%1.1f%%')\n",
    "\n",
    "plt.show()\n",
    "plt.close()"
   ]
  },
  {
   "cell_type": "code",
   "execution_count": 6,
   "metadata": {},
   "outputs": [],
   "source": [
    "# pie chart 02\n",
    "\n",
    "pieDF = pd.read_csv('./data/auto-mpg.csv', header=None)\n",
    "pieDF.columns = ['mpg','cylinders','displacement','horsepower','weight',\n",
    "              'acceleration','model year','origin','name']"
   ]
  },
  {
   "cell_type": "code",
   "execution_count": 7,
   "metadata": {},
   "outputs": [],
   "source": [
    "# count를 세기위한 파생변수 만들기\n",
    "\n",
    "pieDF['cnt']=1"
   ]
  },
  {
   "cell_type": "code",
   "execution_count": 8,
   "metadata": {
    "collapsed": true
   },
   "outputs": [
    {
     "data": {
      "text/html": [
       "<div>\n",
       "<style scoped>\n",
       "    .dataframe tbody tr th:only-of-type {\n",
       "        vertical-align: middle;\n",
       "    }\n",
       "\n",
       "    .dataframe tbody tr th {\n",
       "        vertical-align: top;\n",
       "    }\n",
       "\n",
       "    .dataframe thead th {\n",
       "        text-align: right;\n",
       "    }\n",
       "</style>\n",
       "<table border=\"1\" class=\"dataframe\">\n",
       "  <thead>\n",
       "    <tr style=\"text-align: right;\">\n",
       "      <th></th>\n",
       "      <th>mpg</th>\n",
       "      <th>cylinders</th>\n",
       "      <th>displacement</th>\n",
       "      <th>horsepower</th>\n",
       "      <th>weight</th>\n",
       "      <th>acceleration</th>\n",
       "      <th>model year</th>\n",
       "      <th>origin</th>\n",
       "      <th>name</th>\n",
       "      <th>cnt</th>\n",
       "    </tr>\n",
       "  </thead>\n",
       "  <tbody>\n",
       "    <tr>\n",
       "      <th>0</th>\n",
       "      <td>18.0</td>\n",
       "      <td>8</td>\n",
       "      <td>307.0</td>\n",
       "      <td>130.0</td>\n",
       "      <td>3504.0</td>\n",
       "      <td>12.0</td>\n",
       "      <td>70</td>\n",
       "      <td>1</td>\n",
       "      <td>chevrolet chevelle malibu</td>\n",
       "      <td>1</td>\n",
       "    </tr>\n",
       "    <tr>\n",
       "      <th>1</th>\n",
       "      <td>15.0</td>\n",
       "      <td>8</td>\n",
       "      <td>350.0</td>\n",
       "      <td>165.0</td>\n",
       "      <td>3693.0</td>\n",
       "      <td>11.5</td>\n",
       "      <td>70</td>\n",
       "      <td>1</td>\n",
       "      <td>buick skylark 320</td>\n",
       "      <td>1</td>\n",
       "    </tr>\n",
       "    <tr>\n",
       "      <th>2</th>\n",
       "      <td>18.0</td>\n",
       "      <td>8</td>\n",
       "      <td>318.0</td>\n",
       "      <td>150.0</td>\n",
       "      <td>3436.0</td>\n",
       "      <td>11.0</td>\n",
       "      <td>70</td>\n",
       "      <td>1</td>\n",
       "      <td>plymouth satellite</td>\n",
       "      <td>1</td>\n",
       "    </tr>\n",
       "    <tr>\n",
       "      <th>3</th>\n",
       "      <td>16.0</td>\n",
       "      <td>8</td>\n",
       "      <td>304.0</td>\n",
       "      <td>150.0</td>\n",
       "      <td>3433.0</td>\n",
       "      <td>12.0</td>\n",
       "      <td>70</td>\n",
       "      <td>1</td>\n",
       "      <td>amc rebel sst</td>\n",
       "      <td>1</td>\n",
       "    </tr>\n",
       "    <tr>\n",
       "      <th>4</th>\n",
       "      <td>17.0</td>\n",
       "      <td>8</td>\n",
       "      <td>302.0</td>\n",
       "      <td>140.0</td>\n",
       "      <td>3449.0</td>\n",
       "      <td>10.5</td>\n",
       "      <td>70</td>\n",
       "      <td>1</td>\n",
       "      <td>ford torino</td>\n",
       "      <td>1</td>\n",
       "    </tr>\n",
       "    <tr>\n",
       "      <th>...</th>\n",
       "      <td>...</td>\n",
       "      <td>...</td>\n",
       "      <td>...</td>\n",
       "      <td>...</td>\n",
       "      <td>...</td>\n",
       "      <td>...</td>\n",
       "      <td>...</td>\n",
       "      <td>...</td>\n",
       "      <td>...</td>\n",
       "      <td>...</td>\n",
       "    </tr>\n",
       "    <tr>\n",
       "      <th>393</th>\n",
       "      <td>27.0</td>\n",
       "      <td>4</td>\n",
       "      <td>140.0</td>\n",
       "      <td>86.00</td>\n",
       "      <td>2790.0</td>\n",
       "      <td>15.6</td>\n",
       "      <td>82</td>\n",
       "      <td>1</td>\n",
       "      <td>ford mustang gl</td>\n",
       "      <td>1</td>\n",
       "    </tr>\n",
       "    <tr>\n",
       "      <th>394</th>\n",
       "      <td>44.0</td>\n",
       "      <td>4</td>\n",
       "      <td>97.0</td>\n",
       "      <td>52.00</td>\n",
       "      <td>2130.0</td>\n",
       "      <td>24.6</td>\n",
       "      <td>82</td>\n",
       "      <td>2</td>\n",
       "      <td>vw pickup</td>\n",
       "      <td>1</td>\n",
       "    </tr>\n",
       "    <tr>\n",
       "      <th>395</th>\n",
       "      <td>32.0</td>\n",
       "      <td>4</td>\n",
       "      <td>135.0</td>\n",
       "      <td>84.00</td>\n",
       "      <td>2295.0</td>\n",
       "      <td>11.6</td>\n",
       "      <td>82</td>\n",
       "      <td>1</td>\n",
       "      <td>dodge rampage</td>\n",
       "      <td>1</td>\n",
       "    </tr>\n",
       "    <tr>\n",
       "      <th>396</th>\n",
       "      <td>28.0</td>\n",
       "      <td>4</td>\n",
       "      <td>120.0</td>\n",
       "      <td>79.00</td>\n",
       "      <td>2625.0</td>\n",
       "      <td>18.6</td>\n",
       "      <td>82</td>\n",
       "      <td>1</td>\n",
       "      <td>ford ranger</td>\n",
       "      <td>1</td>\n",
       "    </tr>\n",
       "    <tr>\n",
       "      <th>397</th>\n",
       "      <td>31.0</td>\n",
       "      <td>4</td>\n",
       "      <td>119.0</td>\n",
       "      <td>82.00</td>\n",
       "      <td>2720.0</td>\n",
       "      <td>19.4</td>\n",
       "      <td>82</td>\n",
       "      <td>1</td>\n",
       "      <td>chevy s-10</td>\n",
       "      <td>1</td>\n",
       "    </tr>\n",
       "  </tbody>\n",
       "</table>\n",
       "<p>398 rows × 10 columns</p>\n",
       "</div>"
      ],
      "text/plain": [
       "      mpg  cylinders  displacement horsepower  weight  acceleration  \\\n",
       "0    18.0          8         307.0      130.0  3504.0          12.0   \n",
       "1    15.0          8         350.0      165.0  3693.0          11.5   \n",
       "2    18.0          8         318.0      150.0  3436.0          11.0   \n",
       "3    16.0          8         304.0      150.0  3433.0          12.0   \n",
       "4    17.0          8         302.0      140.0  3449.0          10.5   \n",
       "..    ...        ...           ...        ...     ...           ...   \n",
       "393  27.0          4         140.0      86.00  2790.0          15.6   \n",
       "394  44.0          4          97.0      52.00  2130.0          24.6   \n",
       "395  32.0          4         135.0      84.00  2295.0          11.6   \n",
       "396  28.0          4         120.0      79.00  2625.0          18.6   \n",
       "397  31.0          4         119.0      82.00  2720.0          19.4   \n",
       "\n",
       "     model year  origin                       name  cnt  \n",
       "0            70       1  chevrolet chevelle malibu    1  \n",
       "1            70       1          buick skylark 320    1  \n",
       "2            70       1         plymouth satellite    1  \n",
       "3            70       1              amc rebel sst    1  \n",
       "4            70       1                ford torino    1  \n",
       "..          ...     ...                        ...  ...  \n",
       "393          82       1            ford mustang gl    1  \n",
       "394          82       2                  vw pickup    1  \n",
       "395          82       1              dodge rampage    1  \n",
       "396          82       1                ford ranger    1  \n",
       "397          82       1                 chevy s-10    1  \n",
       "\n",
       "[398 rows x 10 columns]"
      ]
     },
     "execution_count": 8,
     "metadata": {},
     "output_type": "execute_result"
    }
   ],
   "source": [
    "pieDF"
   ]
  },
  {
   "cell_type": "code",
   "execution_count": 9,
   "metadata": {},
   "outputs": [
    {
     "data": {
      "text/plain": [
       "Int64Index([1, 2, 3], dtype='int64', name='origin')"
      ]
     },
     "execution_count": 9,
     "metadata": {},
     "output_type": "execute_result"
    }
   ],
   "source": [
    "# 제조 국가별(origin) 차량갯수를 %로 나타내기\n",
    "\n",
    "originDF = pieDF.groupby('origin').sum()\n",
    "originDF.index "
   ]
  },
  {
   "cell_type": "code",
   "execution_count": 10,
   "metadata": {},
   "outputs": [
    {
     "data": {
      "text/plain": [
       "Index(['USA', 'EU', 'KOR'], dtype='object')"
      ]
     },
     "execution_count": 10,
     "metadata": {},
     "output_type": "execute_result"
    }
   ],
   "source": [
    "# pie chart의 labels로 쓰려고 했지만[1,2,3]이여서 인덱스의 이름을 정해야함\n",
    "\n",
    "originDF.index = ['USA','EU',\"KOR\"]\n",
    "originDF.index"
   ]
  },
  {
   "cell_type": "code",
   "execution_count": 11,
   "metadata": {},
   "outputs": [
    {
     "data": {
      "image/png": "[encoded data removed]",
      "text/plain": [
       "<Figure size 432x288 with 1 Axes>"
      ]
     },
     "metadata": {},
     "output_type": "display_data"
    }
   ],
   "source": [
    "# dataframe으로 바로적용\n",
    "\n",
    "plt.figure()\n",
    "\n",
    "originDF['cnt'].plot(kind='pie', autopct='%1.1f%%', startangle=20, shadow=True) # startangle-->pie를 나누는 시작점\n",
    "plt.title('model cnt', size=20)\n",
    "plt.legend(labels=originDF.index, loc='upper right')\n",
    "plt.axis('equal') # pie를 원형에 가깝게 만듦\n",
    "\n",
    "plt.show()\n",
    "plt.close()"
   ]
  },
  {
   "cell_type": "code",
   "execution_count": 12,
   "metadata": {},
   "outputs": [
    {
     "data": {
      "image/png": "[encoded data removed]",
      "text/plain": [
       "<Figure size 432x288 with 1 Axes>"
      ]
     },
     "metadata": {},
     "output_type": "display_data"
    }
   ],
   "source": [
    "# ple.pie()로 적용\n",
    "\n",
    "plt.figure()\n",
    "\n",
    "plt.pie(originDF['cnt'].values, labels=originDF.index, shadow=True, autopct='%1.1f%%')\n",
    "plt.title('model cnt', size=20)\n",
    "plt.legend(labels=originDF.index, loc='upper right')\n",
    "plt.axis('equal')\n",
    "\n",
    "plt.show()\n",
    "plt.close()"
   ]
  },
  {
   "cell_type": "code",
   "execution_count": 13,
   "metadata": {},
   "outputs": [
    {
     "data": {
      "text/html": [
       "<div>\n",
       "<style scoped>\n",
       "    .dataframe tbody tr th:only-of-type {\n",
       "        vertical-align: middle;\n",
       "    }\n",
       "\n",
       "    .dataframe tbody tr th {\n",
       "        vertical-align: top;\n",
       "    }\n",
       "\n",
       "    .dataframe thead th {\n",
       "        text-align: right;\n",
       "    }\n",
       "</style>\n",
       "<table border=\"1\" class=\"dataframe\">\n",
       "  <thead>\n",
       "    <tr style=\"text-align: right;\">\n",
       "      <th></th>\n",
       "      <th>mpg</th>\n",
       "      <th>displacement</th>\n",
       "      <th>weight</th>\n",
       "      <th>acceleration</th>\n",
       "      <th>model year</th>\n",
       "      <th>origin</th>\n",
       "      <th>cnt</th>\n",
       "    </tr>\n",
       "  </thead>\n",
       "  <tbody>\n",
       "    <tr>\n",
       "      <th>cyl3</th>\n",
       "      <td>82.2</td>\n",
       "      <td>290.0</td>\n",
       "      <td>9594.0</td>\n",
       "      <td>53.0</td>\n",
       "      <td>302</td>\n",
       "      <td>12</td>\n",
       "      <td>4</td>\n",
       "    </tr>\n",
       "    <tr>\n",
       "      <th>cyl4</th>\n",
       "      <td>5974.5</td>\n",
       "      <td>22398.5</td>\n",
       "      <td>470858.0</td>\n",
       "      <td>3386.7</td>\n",
       "      <td>15723</td>\n",
       "      <td>405</td>\n",
       "      <td>204</td>\n",
       "    </tr>\n",
       "    <tr>\n",
       "      <th>cyl5</th>\n",
       "      <td>82.1</td>\n",
       "      <td>435.0</td>\n",
       "      <td>9310.0</td>\n",
       "      <td>55.9</td>\n",
       "      <td>237</td>\n",
       "      <td>6</td>\n",
       "      <td>3</td>\n",
       "    </tr>\n",
       "    <tr>\n",
       "      <th>cyl6</th>\n",
       "      <td>1678.8</td>\n",
       "      <td>18324.0</td>\n",
       "      <td>268651.0</td>\n",
       "      <td>1366.1</td>\n",
       "      <td>6378</td>\n",
       "      <td>100</td>\n",
       "      <td>84</td>\n",
       "    </tr>\n",
       "    <tr>\n",
       "      <th>cyl8</th>\n",
       "      <td>1541.2</td>\n",
       "      <td>35536.0</td>\n",
       "      <td>423816.0</td>\n",
       "      <td>1334.4</td>\n",
       "      <td>7612</td>\n",
       "      <td>103</td>\n",
       "      <td>103</td>\n",
       "    </tr>\n",
       "  </tbody>\n",
       "</table>\n",
       "</div>"
      ],
      "text/plain": [
       "         mpg  displacement    weight  acceleration  model year  origin  cnt\n",
       "cyl3    82.2         290.0    9594.0          53.0         302      12    4\n",
       "cyl4  5974.5       22398.5  470858.0        3386.7       15723     405  204\n",
       "cyl5    82.1         435.0    9310.0          55.9         237       6    3\n",
       "cyl6  1678.8       18324.0  268651.0        1366.1        6378     100   84\n",
       "cyl8  1541.2       35536.0  423816.0        1334.4        7612     103  103"
      ]
     },
     "execution_count": 13,
     "metadata": {},
     "output_type": "execute_result"
    }
   ],
   "source": [
    "# cylinders별 차량갯수를 %로 나타내기\n",
    "\n",
    "cylinderDF = pieDF.groupby('cylinders').sum()\n",
    "cylinderDF.index = ['cyl3','cyl4','cyl5','cyl6','cyl8']\n",
    "cylinderDF"
   ]
  },
  {
   "cell_type": "code",
   "execution_count": 14,
   "metadata": {},
   "outputs": [
    {
     "data": {
      "image/png": "[encoded data removed]",
      "text/plain": [
       "<Figure size 432x288 with 2 Axes>"
      ]
     },
     "metadata": {},
     "output_type": "display_data"
    }
   ],
   "source": [
    "# 제조 국가별(origin) 차량갯수와 cylinders별 차량갯수를 subplot을 이용해 나타내기\n",
    "\n",
    "fig = plt.figure()\n",
    "\n",
    "ax01 = fig.add_subplot(1,2,1)\n",
    "ax02 = fig.add_subplot(1,2,2)\n",
    "\n",
    "ax01.pie(originDF['cnt'].values, labels=originDF.index, shadow=True, autopct='%1.1f%%')\n",
    "ax02.pie(cylinderDF['cnt'].values, labels=cylinderDF.index, shadow=True, autopct='%1.1f%%')\n",
    "plt.title('model cnt & cylinder cnt', size=20)\n",
    "\n",
    "plt.show()\n",
    "plt.close()"
   ]
  },
  {
   "cell_type": "markdown",
   "metadata": {},
   "source": [
    "## histogram : 구간에 대한 데이터 집계\n",
    "- 변수가 하나인 단변수 데이터의 빈도 수를 시각화"
   ]
  },
  {
   "cell_type": "code",
   "execution_count": 15,
   "metadata": {},
   "outputs": [
    {
     "data": {
      "text/plain": [
       "array([ 1.15669148e+00,  1.40100656e+00, -8.14499255e-01, -4.05349513e-01,\n",
       "       -2.43691375e-01, -1.65119264e+00,  3.03744757e-01, -1.20828622e+00,\n",
       "       -5.42571490e-01,  4.55663468e-01, -3.21089781e-02,  7.79884633e-02,\n",
       "        2.53409778e+00,  1.23796757e+00, -6.35811314e-01,  1.47759441e+00,\n",
       "       -3.22074052e-01,  1.44038279e-01,  2.27093850e+00, -2.09962502e+00,\n",
       "       -1.50491990e+00,  7.75999611e-01, -1.85846428e+00, -3.67417038e-01,\n",
       "       -3.40524369e-01,  7.52093884e-01,  1.42639764e+00, -8.60355271e-01,\n",
       "        1.74205530e+00,  3.12892604e-01, -1.44857067e+00, -1.42184602e+00,\n",
       "       -1.36192128e+00,  2.66806120e-01,  1.94054532e-01, -5.55617617e-01,\n",
       "       -5.34889892e-01,  2.36624566e-01, -8.51740519e-02,  2.79509744e-01,\n",
       "        6.44018374e-01, -2.55453233e+00,  1.89470393e-01,  1.58261562e+00,\n",
       "        9.46103768e-01,  3.76464755e-01, -5.64246012e-01,  9.97037653e-01,\n",
       "        4.73926922e-01,  1.28256606e+00, -3.98577621e-01,  2.35754275e+00,\n",
       "       -8.41211207e-02, -7.74263617e-01, -8.92380500e-02,  1.35733172e+00,\n",
       "       -2.56931689e-02,  3.20896875e-01, -1.78237909e+00, -2.39357481e-02,\n",
       "       -1.70953260e-01,  1.26893439e-02,  1.47888356e+00,  6.59931357e-01,\n",
       "        1.44702975e+00,  1.13928614e+00,  1.76401641e+00, -7.79096032e-01,\n",
       "       -7.21694379e-02, -8.49522166e-01, -3.22374502e-01,  1.13946892e+00,\n",
       "        2.64786088e-01,  1.78107251e+00,  2.28617920e-01, -2.28750771e-01,\n",
       "       -1.18838528e+00,  1.74133006e+00, -1.10260137e-01, -7.60693291e-01,\n",
       "        9.42198220e-01,  8.75085542e-01,  3.30716243e-01,  4.89092752e-02,\n",
       "       -3.00943514e-02,  3.96794642e-01,  3.29158270e-01,  8.09994893e-01,\n",
       "       -7.88581290e-01, -3.47952490e-01,  6.06277639e-01,  2.80039950e-02,\n",
       "        5.06246045e-01,  2.80296871e-01, -2.43609660e-01, -7.66682046e-01,\n",
       "       -6.52301624e-01,  7.20739287e-01, -7.71025661e-01,  8.45318670e-01,\n",
       "        4.61437851e-01, -4.99577767e-01, -1.48627574e+00,  1.16656686e+00,\n",
       "       -1.78925211e-01,  7.59502175e-01, -6.12690422e-01, -6.95581820e-02,\n",
       "        1.64952802e+00,  1.85583091e+00,  8.75360188e-01,  4.28040782e-02,\n",
       "        7.04331268e-01, -1.63483629e-02, -8.10203984e-01,  1.26038250e+00,\n",
       "       -1.80951452e-01, -1.46786183e-01,  7.75818947e-01,  2.03688195e+00,\n",
       "       -3.72750603e-01,  4.72636399e-01,  9.32036479e-02, -2.16147653e-01,\n",
       "        8.79857645e-01, -5.15490353e-01,  1.45220094e+00,  1.58776073e+00,\n",
       "        8.14512207e-01,  3.88133086e-01,  5.89217891e-01,  1.33483601e+00,\n",
       "       -1.64596873e+00, -3.86015972e-01, -3.50517879e-01,  2.75097722e-01,\n",
       "       -6.00181894e-01,  1.65294498e-01,  7.45784259e-01,  2.31387972e+00,\n",
       "       -1.32680574e+00,  1.00047793e+00,  6.57895654e-01,  6.72477626e-01,\n",
       "       -1.52952995e+00,  2.10999744e+00,  1.79064011e+00,  1.93495338e+00,\n",
       "       -8.75241901e-01,  1.20247554e+00, -1.15631809e+00, -6.30201480e-01,\n",
       "       -7.55066088e-01, -7.48204266e-01,  5.45502584e-01,  1.44331905e+00,\n",
       "       -6.64924268e-01, -6.16668563e-01, -5.19296086e-02, -2.08865396e+00,\n",
       "       -1.47684401e+00, -1.05232643e+00, -7.37316633e-01,  4.53501855e-01,\n",
       "       -6.09415122e-01,  2.06275130e+00,  5.97007159e-01,  3.69166016e-01,\n",
       "       -4.23592480e-01,  8.62631534e-01, -5.76861042e-01,  9.85921687e-01,\n",
       "        5.49868200e-01,  1.21939429e-01,  1.71350141e+00, -9.02994183e-02,\n",
       "        3.39384719e-01,  3.98548113e-01,  3.88038708e-02,  8.76361113e-01,\n",
       "       -8.21244453e-01,  4.61769340e-01, -3.21379181e-01, -7.34425752e-02,\n",
       "        6.48731797e-01, -1.27922899e+00, -2.43876708e+00, -8.37315949e-02,\n",
       "       -1.58775269e+00, -1.07799836e+00,  4.55958579e-01,  1.01356743e+00,\n",
       "        1.08167254e+00,  1.11824757e+00, -2.00056238e-01,  2.62696592e-02,\n",
       "        8.74762624e-01,  9.21208829e-01, -6.87247369e-01,  1.69229946e-01,\n",
       "        1.70618509e-01, -4.00880103e-01,  1.79634518e+00,  2.14723358e-01,\n",
       "        8.72470271e-02,  4.11488393e-01,  6.39867782e-01, -4.38984899e-01,\n",
       "        1.46116239e+00, -2.05964717e+00,  4.38996900e-01,  5.19870910e-01,\n",
       "        7.81454429e-01, -2.06370360e+00,  6.13878437e-01, -1.31153534e+00,\n",
       "        1.39364480e+00, -7.51577582e-01, -1.84143575e-01,  3.44847661e-01,\n",
       "        5.42679853e-01, -9.64987828e-01, -1.43621931e-01,  4.87286128e-01,\n",
       "       -2.13103279e-01,  7.70579160e-01, -6.48411806e-01,  6.31467705e-01,\n",
       "       -1.55701472e-01, -5.32677939e-01, -1.01966340e+00, -3.93034194e-01,\n",
       "       -2.63727729e-02, -4.90457101e-01,  1.57555082e+00,  1.16528025e+00,\n",
       "        8.11175423e-01, -9.97896096e-01,  4.88660058e-01,  8.52750548e-03,\n",
       "        1.83969358e-01, -3.67682708e-01,  5.20981682e-02,  1.52239082e+00,\n",
       "       -9.64851961e-02,  2.58397770e-01,  1.37321347e-01, -1.66841752e+00,\n",
       "       -5.34799269e-03, -1.37402645e-01, -5.82062743e-01, -5.08203597e-01,\n",
       "        1.52927023e-01, -6.83275968e-01,  3.94425567e-01, -3.93425410e-01,\n",
       "        6.18755993e-01, -1.30059085e+00,  1.21184059e+00,  9.66486031e-01,\n",
       "       -3.62615017e-01,  5.49117856e-01, -6.40239210e-01,  2.11823569e-02,\n",
       "       -7.71074225e-01, -2.07849378e+00, -7.10545987e-01, -2.09846844e-01,\n",
       "        6.41917975e-01, -3.15269932e-01, -1.15556828e+00, -3.45688578e-01,\n",
       "        2.87972739e-01,  9.98587110e-01,  2.78892531e-01, -4.48717136e-01,\n",
       "        1.25548356e+00, -9.68710377e-02, -3.07243436e-01,  1.22448784e+00,\n",
       "        8.70215710e-01,  8.35899221e-01,  5.10359332e-01, -1.34097233e-01,\n",
       "       -1.00575542e+00, -3.33070028e-01,  7.33209949e-02, -1.91195315e+00,\n",
       "        1.43835513e+00,  2.70164849e-02,  7.69237509e-01, -5.55242851e-01,\n",
       "       -1.06390419e+00,  6.70387343e-01, -3.79849008e-01, -7.02887464e-01,\n",
       "        2.97499999e-02, -4.70980212e-01, -8.33947806e-01,  1.25912280e+00,\n",
       "        1.19490269e-01, -2.29216143e+00,  1.57066974e-01,  1.62141547e+00,\n",
       "       -7.31345328e-01, -1.20878389e+00,  1.55389042e+00, -2.20035114e+00,\n",
       "       -2.09640461e-01, -5.07784849e-01, -6.04937869e-01,  1.81909977e+00,\n",
       "        8.53188862e-01,  1.00748979e+00, -6.68093753e-01,  2.39566426e-01,\n",
       "        1.17373652e+00,  4.97387343e-01, -7.55730250e-01,  1.52001921e-01,\n",
       "       -5.93443432e-01,  1.05234895e+00,  8.57117744e-01, -6.25518088e-01,\n",
       "        1.05349526e+00, -9.39412178e-02, -1.11875201e+00,  4.88039891e-01,\n",
       "        1.28183988e+00,  2.47239022e+00, -2.55825800e-01, -1.01369627e-01,\n",
       "        4.27292478e-02,  5.22344938e-01, -2.37598948e-01,  1.16759686e-02,\n",
       "        6.68166391e-01,  6.82994559e-01, -2.57501054e+00,  1.20030633e-01,\n",
       "       -6.41760319e-01,  2.11477808e+00, -8.32215496e-01,  2.12720934e+00,\n",
       "        1.78055793e+00, -4.03596475e-01, -1.24556806e+00,  3.27807951e-01,\n",
       "        2.71457672e+00, -1.77545815e-01,  1.93162518e-01, -4.59191350e-01,\n",
       "       -1.95221687e+00, -1.62599723e+00,  1.24600318e+00, -2.02254843e+00,\n",
       "       -7.54062841e-01, -1.29260425e+00, -1.32971538e-01, -2.65816055e-01,\n",
       "       -2.39512992e+00,  1.61613445e+00,  6.77659541e-02, -3.39486856e-01,\n",
       "       -2.03452642e+00, -6.04732848e-01,  1.63488351e+00, -5.06212889e-01,\n",
       "        9.52031321e-01, -1.58225507e+00,  1.71480409e+00, -2.45230297e+00,\n",
       "       -3.57282944e-01, -5.92428894e-02, -2.07827812e-01, -4.80540305e-01,\n",
       "        6.84513871e-01,  1.80296649e+00, -8.45083542e-01, -1.53630333e+00,\n",
       "        2.78451845e-01, -2.75733301e-01,  7.76329741e-01, -1.53297788e-01,\n",
       "       -1.21109226e+00,  8.18411258e-01,  1.09489498e+00,  6.85049068e-01,\n",
       "       -4.44602286e-01,  9.28096782e-01, -8.16577253e-01, -1.13035198e+00,\n",
       "        7.01067083e-01,  1.22239959e-01,  5.64011753e-01, -2.08922874e+00,\n",
       "       -9.09679409e-01, -1.68645041e+00, -7.46479953e-01, -2.94136881e-01,\n",
       "        3.81011097e-01,  1.58859786e-01,  5.51004395e-02,  1.78702333e+00,\n",
       "        4.72892099e-01, -3.49216942e-01, -1.06078409e-01,  6.57471028e-01,\n",
       "       -8.23088123e-01, -1.56442058e+00, -1.81619214e+00,  1.71807957e-01,\n",
       "       -7.46633023e-01, -2.66805239e+00,  6.74246439e-01,  5.97204784e-01,\n",
       "       -9.65757377e-01, -7.83323746e-01,  9.43169080e-01,  1.92616644e+00,\n",
       "        9.96907714e-01,  1.94270265e+00, -1.50076088e+00, -1.12906220e+00,\n",
       "        7.23906473e-01,  4.52332430e-01, -1.01628813e+00, -5.35664204e-01,\n",
       "       -1.41198338e+00,  4.70629062e-01,  1.25812899e+00, -1.62872299e+00,\n",
       "       -1.57867605e+00,  4.64178781e-01,  4.26524854e-01, -6.59836356e-01,\n",
       "        4.05391011e-01,  4.47190770e-02,  4.73779513e-01, -6.34873633e-01,\n",
       "        3.11231175e-01,  8.56784044e-01, -7.74815481e-01, -6.91924611e-01,\n",
       "       -2.20376908e-01,  1.02946313e+00, -1.04352908e+00, -3.23213458e-01,\n",
       "       -1.80653394e+00, -5.88620138e-01, -8.83757245e-01, -1.65600468e+00,\n",
       "        1.62303141e-01, -1.02818836e+00,  3.12214987e-01,  7.86214414e-01,\n",
       "        1.14664054e+00, -6.68243665e-01, -1.06489262e+00,  1.45126636e-01,\n",
       "       -1.02897960e+00,  5.69026896e-01, -9.01883555e-01,  1.43589125e+00,\n",
       "       -5.87428061e-01,  1.21860540e+00,  1.03918344e+00, -5.05334829e-01,\n",
       "        1.90694607e+00, -1.48470921e+00, -4.97333345e-01, -6.06636092e-01,\n",
       "        4.15562881e-01, -5.70083037e-01, -3.75037732e-01,  4.78011165e-01,\n",
       "       -2.93563144e-01, -1.16824505e+00, -4.62075662e-01,  2.44269741e-01,\n",
       "       -7.26762700e-01, -2.23759785e+00,  3.96564789e-01, -1.48084033e+00,\n",
       "       -5.37790342e-01, -8.09106700e-02, -1.45056541e+00,  1.61647127e+00,\n",
       "        1.82118891e-01,  1.85562101e+00, -5.85125873e-01,  1.85076830e-02,\n",
       "       -7.85523480e-01,  7.50847788e-02, -1.26837283e+00, -2.64039709e+00,\n",
       "        5.27110921e-02,  9.11532536e-01, -1.39776278e+00,  4.92174380e-04,\n",
       "       -7.87615172e-02, -5.93747516e-01, -2.40300345e+00,  2.11559503e+00,\n",
       "        1.94181339e+00, -7.60347512e-01,  4.08441870e-01,  5.00560679e-01,\n",
       "       -1.41916198e+00,  8.45390146e-01,  6.83932766e-01, -7.61508380e-01,\n",
       "       -1.99792620e+00, -9.29134010e-01,  1.75086820e+00, -9.81741252e-02,\n",
       "       -8.38442505e-01, -1.46134519e+00, -6.83985750e-01,  6.39806888e-01,\n",
       "       -1.92549793e+00,  1.26663465e-01,  1.10359919e+00, -4.41039360e-01,\n",
       "       -2.56984402e-01, -9.81961542e-01,  1.86344029e+00, -4.12370141e-01,\n",
       "       -1.06973577e+00,  2.32997591e+00,  1.85475622e+00, -1.91532994e+00,\n",
       "       -1.84188653e+00,  6.93262031e-01,  1.41587414e+00,  7.34616086e-01,\n",
       "        1.92747597e+00,  5.57496077e-01,  4.43379425e-01, -3.22572229e-01,\n",
       "        4.24440960e-01,  1.57545990e+00,  1.68887525e-01, -4.65626826e-01,\n",
       "        5.22211022e-01, -9.87119566e-01,  6.65557940e-02,  1.66202041e+00,\n",
       "        3.38602548e-01,  1.70764476e+00,  1.46676023e+00, -3.74860978e-01,\n",
       "       -1.09558662e+00, -6.80277711e-01, -1.18774284e+00, -1.72024937e-02,\n",
       "        1.54899140e+00, -9.19575432e-02, -5.23315549e-01,  3.16675849e-01,\n",
       "       -3.86532229e-01,  4.28795991e-01,  1.69121815e+00,  2.58575423e-01,\n",
       "        1.32778896e-02,  1.10703870e+00, -5.87280596e-02, -1.49196544e+00,\n",
       "        3.98555730e-01, -6.40517771e-01, -7.45080746e-01, -2.64768255e-01,\n",
       "        1.65179154e-01, -1.07434524e+00, -2.41157744e-01, -5.05443642e-02,\n",
       "       -1.14153249e+00, -1.05134966e-01, -1.82712844e+00, -1.46892909e+00,\n",
       "       -1.06109141e+00, -1.40725688e-02, -4.84717680e-01, -7.52433414e-01,\n",
       "       -9.52173103e-01,  4.15917919e-01,  7.07540755e-01, -1.33583323e-01,\n",
       "        2.19440852e-01, -5.93373030e-01,  1.17125058e-01,  1.70255155e-01,\n",
       "       -1.25009057e+00, -2.83022561e-01,  2.20329340e-01,  1.22426971e+00,\n",
       "        1.57980478e+00,  1.18462881e-01,  1.44976757e+00,  3.66054204e-01,\n",
       "       -1.80619466e-02, -4.26922199e-01,  1.74506643e+00,  1.07593043e+00,\n",
       "       -1.08408226e-02,  5.26274833e-01, -6.18541509e-01, -8.89102771e-01,\n",
       "       -1.08720754e+00,  1.13504391e-01,  1.20425683e+00, -2.03097291e-01,\n",
       "        1.20908597e+00, -1.48588313e+00, -6.44726058e-01,  3.72618433e-01,\n",
       "       -2.68167080e-01,  5.93719143e-01,  1.40122919e+00,  6.77211038e-02,\n",
       "        4.70660631e-01, -3.87038985e-01, -3.23708647e-01, -1.92133815e+00,\n",
       "        3.31245179e-01, -2.27019482e-01,  2.25611331e+00, -8.60994613e-01,\n",
       "        1.87414854e-01, -5.47531353e-01, -7.56114409e-01, -4.16099389e-04,\n",
       "        2.19002575e+00, -1.39614355e-01, -5.54014639e-01, -4.57290592e-01,\n",
       "        1.80303125e-01,  7.69260643e-01,  2.07952611e+00, -1.03214064e+00,\n",
       "        5.69400081e-01, -1.15387441e+00,  5.73287654e-01,  1.78516910e-01,\n",
       "        1.43955360e+00,  5.11166759e-02, -4.10481968e-01, -1.77382543e+00,\n",
       "       -5.86753394e-01, -2.33927504e-01,  4.35127024e-01,  2.56135817e-01,\n",
       "        9.39942247e-01, -1.18968842e+00,  2.18100485e+00, -2.29192619e+00,\n",
       "       -2.83100527e-01, -8.77366804e-01, -7.70825519e-01,  6.12280062e-01,\n",
       "       -1.15519861e+00,  4.20174802e-01,  2.53434739e+00, -7.34932480e-01,\n",
       "        1.93352134e-01,  2.00246012e+00, -1.33493162e+00, -2.02397777e-01,\n",
       "        3.46249711e-03,  1.14905163e+00,  1.13708654e+00,  7.87045133e-01,\n",
       "        1.28011078e+00, -3.80704644e-01, -5.01277363e-02, -9.52560559e-01,\n",
       "        2.58528335e-01,  1.26220934e+00,  4.68713035e-01, -2.24095520e-01,\n",
       "       -3.78313318e-01,  5.21219316e-01, -9.94421468e-01, -2.38107154e-02,\n",
       "        1.85101221e+00, -8.68759120e-02, -4.44310428e-01, -4.79261149e-01,\n",
       "       -1.03508561e+00, -1.27398740e+00, -6.68434787e-01,  2.45835411e-01,\n",
       "       -6.62661625e-01,  2.00585879e+00,  7.09279891e-02,  4.77982600e-01,\n",
       "       -6.74029804e-01, -2.41628162e+00,  3.66452772e-01, -1.05192538e+00,\n",
       "        2.75057220e-01, -1.73157532e+00, -1.60839697e+00,  6.28788106e-01,\n",
       "       -1.25009185e+00,  8.63643915e-01, -4.21064297e-01,  8.89875946e-02,\n",
       "       -4.09995476e-01, -6.54441061e-03, -1.85253444e-01, -9.07732688e-01,\n",
       "       -7.72454732e-02,  2.59298106e-01, -1.95272596e-01,  3.53876537e-01,\n",
       "       -7.01834237e-01,  3.53756428e-01,  1.26422889e+00, -1.30507627e+00,\n",
       "        5.02162231e-02,  1.16036454e+00,  3.03818261e-01, -1.36528523e+00,\n",
       "       -6.97509140e-01,  5.11249943e-01,  1.25248483e+00,  7.05162515e-03,\n",
       "       -2.65614350e+00, -6.09479929e-01,  4.11176566e-01, -1.52719036e+00,\n",
       "        6.53242006e-01,  5.74721337e-01,  3.17848258e-01,  1.40472542e+00,\n",
       "        3.33372830e-01,  5.79166908e-01,  1.17119966e+00, -3.06795006e+00,\n",
       "       -1.51968031e-01,  2.48957114e-01,  1.97634993e-01,  1.30587938e-02,\n",
       "       -4.69544695e-01,  8.09948293e-01,  7.95007950e-01,  1.46887559e+00,\n",
       "        5.12133536e-01, -5.51678132e-01, -9.76020739e-01, -5.81382034e-01,\n",
       "       -2.79989315e-01,  1.22508891e+00,  2.54100455e-01,  7.40609470e-01,\n",
       "       -4.04519372e-01, -3.41006249e-01, -1.92929885e-01,  1.89886752e-01,\n",
       "       -1.02704927e+00, -7.41707256e-01,  8.69268964e-01,  2.28309141e+00,\n",
       "       -2.90516636e-01, -5.80978971e-01,  2.69666084e+00,  1.26010768e-01,\n",
       "       -2.61974920e+00,  2.60740703e-01, -5.52463729e-03, -5.61155514e-01,\n",
       "       -7.13814730e-01,  1.38327566e+00,  5.38105729e-01, -5.42167424e-01,\n",
       "        3.16013596e-01, -5.50913012e-03,  9.85736069e-02, -8.80534168e-01,\n",
       "        4.87857409e-01, -1.29712647e+00, -2.97824086e-01,  1.57735367e-01,\n",
       "       -1.23910074e-01,  5.87873404e-01, -1.21872068e-01,  3.98408656e-01,\n",
       "       -2.03618330e+00,  5.44706196e-01,  1.20495808e+00, -2.81788301e-01,\n",
       "       -1.21159494e+00, -2.25064189e-02,  1.75334428e-01,  5.39305761e-01,\n",
       "        3.64695811e-01,  1.50915701e+00, -6.44741266e-01,  4.05075465e-01,\n",
       "       -1.20721476e-01, -5.93606123e-01, -4.51350518e-01, -8.05515941e-01,\n",
       "        1.13508269e-01, -8.64260791e-01,  7.51341181e-01,  8.90775547e-01,\n",
       "       -5.04788347e-01,  1.66723327e-01, -5.48839556e-01,  1.16525252e+00,\n",
       "        1.94660494e+00,  1.24573327e+00,  5.56159491e-01,  1.32991980e+00,\n",
       "       -2.37689402e-01, -1.05278855e+00, -6.58407754e-01,  1.04711447e+00,\n",
       "        3.60363286e-01, -9.23477233e-02,  4.97544765e-01,  1.43233387e+00,\n",
       "        1.42268347e+00,  1.92699584e-01, -2.59771269e-01, -1.16296574e+00,\n",
       "       -3.17653275e-01,  1.72882775e+00,  4.86358348e-01, -7.84234086e-02,\n",
       "       -6.42929709e-02, -7.25596871e-01,  9.54106205e-01,  2.69490405e-01,\n",
       "        7.75887480e-01,  3.08753970e-01, -4.33233247e-01, -8.22727277e-01,\n",
       "       -1.22821637e-01, -7.19762795e-01,  3.86716038e-01,  3.78461501e-01,\n",
       "        5.35741002e-01,  1.66082974e-01, -5.19721932e-02, -4.73813842e-01,\n",
       "       -1.90321078e+00, -4.32701596e-01,  7.52394754e-01,  1.25272410e+00,\n",
       "        1.11109387e+00, -4.04219249e-02, -1.35558243e+00,  1.03131737e+00,\n",
       "       -7.20798846e-01,  5.34998211e-01,  4.73326845e-01, -6.82818024e-01,\n",
       "       -4.48777099e-01,  2.94695290e-01,  3.17813297e-02, -1.39497256e+00,\n",
       "       -2.17773672e-02, -1.70752496e-01, -7.84825671e-01,  6.44649786e-01,\n",
       "       -1.84126556e+00,  1.25901661e+00, -2.01722678e-01, -5.79540710e-01,\n",
       "       -1.45100582e+00, -2.25547911e-01,  1.47767137e-01,  1.14086648e+00,\n",
       "       -8.26863463e-01, -8.34117238e-01,  1.20590304e+00,  5.15483251e-01,\n",
       "        1.44540893e-01, -3.56309970e-01,  3.46531351e-01,  3.60725830e-01,\n",
       "       -2.13689591e+00,  1.22833219e+00, -1.25953298e+00, -8.32293643e-01,\n",
       "       -1.02534671e+00,  1.82560027e+00, -1.73089082e-01, -7.77285055e-01,\n",
       "        8.67297664e-01, -2.00067336e+00,  1.63287376e+00,  1.08483942e+00,\n",
       "        1.27481865e-01, -1.05747266e+00, -8.69517333e-01, -3.10873108e-01,\n",
       "        5.14151823e-01, -2.77285453e-01,  4.18007646e-01,  8.45066238e-01,\n",
       "        2.26047045e-01,  2.76592321e-02, -1.01673195e+00,  9.64748023e-01,\n",
       "       -1.30851255e+00, -8.66598268e-01,  1.78766613e-01,  1.53845572e-01,\n",
       "        8.86242961e-01,  1.44115852e+00, -1.17413871e+00,  1.44027513e+00,\n",
       "       -6.81575072e-01, -6.95144020e-01, -2.55332630e-01, -1.36431822e-01,\n",
       "       -2.99557365e-01, -1.44171164e+00,  6.86173211e-01, -2.22833312e-01,\n",
       "       -1.39236405e+00, -1.91858702e+00,  4.31078575e-01, -3.31456556e-01,\n",
       "        6.43838374e-01,  8.25880906e-01, -4.02817911e-01,  1.27439324e+00,\n",
       "       -7.96079897e-01,  3.47424753e-01, -8.90411669e-01, -9.82079987e-01,\n",
       "        5.42086976e-01, -4.17648381e-01, -4.96418595e-01,  1.44092335e+00,\n",
       "        1.75521781e+00, -5.23683723e-01,  9.76164945e-01,  1.08143956e+00,\n",
       "        7.33718725e-01, -2.79722025e-01,  1.70461910e+00, -5.33925494e-01,\n",
       "        1.23468339e+00, -7.48380599e-01, -1.38189253e+00, -1.80744030e+00,\n",
       "        8.93798948e-02, -1.59928989e+00, -4.97390966e-01, -1.94345605e+00,\n",
       "       -1.61652577e+00,  1.53763130e+00, -9.92592261e-01, -8.74124284e-01,\n",
       "       -1.84287288e+00, -5.75355647e-01, -5.82373820e-01, -3.20037752e-01,\n",
       "       -1.06743042e+00,  1.66288354e+00,  1.66048125e-01, -1.02383293e+00,\n",
       "       -6.48491164e-01,  1.75137307e-01, -1.83163923e-01,  2.71968241e-01,\n",
       "       -1.54978391e+00,  2.68982324e+00, -3.26425878e-01,  6.70727217e-01,\n",
       "       -7.68585407e-01, -3.54138952e-02, -1.04597276e+00,  6.41361046e-01,\n",
       "       -6.16415255e-01, -1.03688504e-01, -2.14010363e-01,  5.00005502e-01,\n",
       "       -7.10480503e-01,  5.14159194e-01, -2.09174433e+00,  9.01625594e-02,\n",
       "       -1.19125348e+00, -1.64546340e+00,  2.37300707e+00,  1.72311471e+00,\n",
       "       -1.30928154e-02, -8.33890546e-01,  2.00840543e+00,  3.72294489e-01,\n",
       "       -3.73557573e-01,  5.45207091e-01,  4.06052884e-01,  2.40441843e-01])"
      ]
     },
     "execution_count": 15,
     "metadata": {},
     "output_type": "execute_result"
    }
   ],
   "source": [
    "# histogram 01\n",
    "\n",
    "datas = np.random.randn(1000)\n",
    "datas"
   ]
  },
  {
   "cell_type": "code",
   "execution_count": 16,
   "metadata": {},
   "outputs": [
    {
     "data": {
      "image/png": "[encoded data removed]",
      "text/plain": [
       "<Figure size 432x288 with 1 Axes>"
      ]
     },
     "metadata": {
      "needs_background": "light"
     },
     "output_type": "display_data"
    }
   ],
   "source": [
    "plt.figure()\n",
    "\n",
    "plt.hist(datas, bins=20) # bins-->막대의 width, 클수록 막대가 촘촘해짐\n",
    "\n",
    "plt.show()\n",
    "plt.close()"
   ]
  },
  {
   "cell_type": "code",
   "execution_count": 17,
   "metadata": {},
   "outputs": [
    {
     "data": {
      "image/png": "[encoded data removed]",
      "text/plain": [
       "<Figure size 432x288 with 1 Axes>"
      ]
     },
     "metadata": {
      "needs_background": "light"
     },
     "output_type": "display_data"
    }
   ],
   "source": [
    "# histogram 02\n",
    "\n",
    "pieDF['mpg'].plot(kind='hist', color='coral')\n",
    "\n",
    "plt.show()\n",
    "plt.close()"
   ]
  },
  {
   "cell_type": "markdown",
   "metadata": {},
   "source": [
    "## koweps_visualization.xlsx[test]"
   ]
  },
  {
   "cell_type": "code",
   "execution_count": 19,
   "metadata": {
    "scrolled": true
   },
   "outputs": [
    {
     "ename": "KeyboardInterrupt",
     "evalue": "",
     "output_type": "error",
     "traceback": [
      "\u001b[1;31m---------------------------------------------------------------------------\u001b[0m",
      "\u001b[1;31mKeyboardInterrupt\u001b[0m                         Traceback (most recent call last)",
      "\u001b[1;32m<ipython-input-19-2ca237d810c6>\u001b[0m in \u001b[0;36m<module>\u001b[1;34m\u001b[0m\n\u001b[1;32m----> 1\u001b[1;33m \u001b[0mrowDF\u001b[0m \u001b[1;33m=\u001b[0m \u001b[0mpd\u001b[0m\u001b[1;33m.\u001b[0m\u001b[0mread_excel\u001b[0m\u001b[1;33m(\u001b[0m\u001b[1;34m'./data/koweps_visualization.xlsx'\u001b[0m\u001b[1;33m)\u001b[0m\u001b[1;33m\u001b[0m\u001b[1;33m\u001b[0m\u001b[0m\n\u001b[0m\u001b[0;32m      2\u001b[0m \u001b[0mrowDF\u001b[0m\u001b[1;33m\u001b[0m\u001b[1;33m\u001b[0m\u001b[0m\n",
      "\u001b[1;32m~\\anaconda3\\lib\\site-packages\\pandas\\util\\_decorators.py\u001b[0m in \u001b[0;36mwrapper\u001b[1;34m(*args, **kwargs)\u001b[0m\n\u001b[0;32m    294\u001b[0m                 )\n\u001b[0;32m    295\u001b[0m                 \u001b[0mwarnings\u001b[0m\u001b[1;33m.\u001b[0m\u001b[0mwarn\u001b[0m\u001b[1;33m(\u001b[0m\u001b[0mmsg\u001b[0m\u001b[1;33m,\u001b[0m \u001b[0mFutureWarning\u001b[0m\u001b[1;33m,\u001b[0m \u001b[0mstacklevel\u001b[0m\u001b[1;33m=\u001b[0m\u001b[0mstacklevel\u001b[0m\u001b[1;33m)\u001b[0m\u001b[1;33m\u001b[0m\u001b[1;33m\u001b[0m\u001b[0m\n\u001b[1;32m--> 296\u001b[1;33m             \u001b[1;32mreturn\u001b[0m \u001b[0mfunc\u001b[0m\u001b[1;33m(\u001b[0m\u001b[1;33m*\u001b[0m\u001b[0margs\u001b[0m\u001b[1;33m,\u001b[0m \u001b[1;33m**\u001b[0m\u001b[0mkwargs\u001b[0m\u001b[1;33m)\u001b[0m\u001b[1;33m\u001b[0m\u001b[1;33m\u001b[0m\u001b[0m\n\u001b[0m\u001b[0;32m    297\u001b[0m \u001b[1;33m\u001b[0m\u001b[0m\n\u001b[0;32m    298\u001b[0m         \u001b[1;32mreturn\u001b[0m \u001b[0mwrapper\u001b[0m\u001b[1;33m\u001b[0m\u001b[1;33m\u001b[0m\u001b[0m\n",
      "\u001b[1;32m~\\anaconda3\\lib\\site-packages\\pandas\\io\\excel\\_base.py\u001b[0m in \u001b[0;36mread_excel\u001b[1;34m(io, sheet_name, header, names, index_col, usecols, squeeze, dtype, engine, converters, true_values, false_values, skiprows, nrows, na_values, keep_default_na, na_filter, verbose, parse_dates, date_parser, thousands, comment, skipfooter, convert_float, mangle_dupe_cols)\u001b[0m\n\u001b[0;32m    302\u001b[0m \u001b[1;33m\u001b[0m\u001b[0m\n\u001b[0;32m    303\u001b[0m     \u001b[1;32mif\u001b[0m \u001b[1;32mnot\u001b[0m \u001b[0misinstance\u001b[0m\u001b[1;33m(\u001b[0m\u001b[0mio\u001b[0m\u001b[1;33m,\u001b[0m \u001b[0mExcelFile\u001b[0m\u001b[1;33m)\u001b[0m\u001b[1;33m:\u001b[0m\u001b[1;33m\u001b[0m\u001b[1;33m\u001b[0m\u001b[0m\n\u001b[1;32m--> 304\u001b[1;33m         \u001b[0mio\u001b[0m \u001b[1;33m=\u001b[0m \u001b[0mExcelFile\u001b[0m\u001b[1;33m(\u001b[0m\u001b[0mio\u001b[0m\u001b[1;33m,\u001b[0m \u001b[0mengine\u001b[0m\u001b[1;33m=\u001b[0m\u001b[0mengine\u001b[0m\u001b[1;33m)\u001b[0m\u001b[1;33m\u001b[0m\u001b[1;33m\u001b[0m\u001b[0m\n\u001b[0m\u001b[0;32m    305\u001b[0m     \u001b[1;32melif\u001b[0m \u001b[0mengine\u001b[0m \u001b[1;32mand\u001b[0m \u001b[0mengine\u001b[0m \u001b[1;33m!=\u001b[0m \u001b[0mio\u001b[0m\u001b[1;33m.\u001b[0m\u001b[0mengine\u001b[0m\u001b[1;33m:\u001b[0m\u001b[1;33m\u001b[0m\u001b[1;33m\u001b[0m\u001b[0m\n\u001b[0;32m    306\u001b[0m         raise ValueError(\n",
      "\u001b[1;32m~\\anaconda3\\lib\\site-packages\\pandas\\io\\excel\\_base.py\u001b[0m in \u001b[0;36m__init__\u001b[1;34m(self, path_or_buffer, engine)\u001b[0m\n\u001b[0;32m    865\u001b[0m         \u001b[0mself\u001b[0m\u001b[1;33m.\u001b[0m\u001b[0m_io\u001b[0m \u001b[1;33m=\u001b[0m \u001b[0mstringify_path\u001b[0m\u001b[1;33m(\u001b[0m\u001b[0mpath_or_buffer\u001b[0m\u001b[1;33m)\u001b[0m\u001b[1;33m\u001b[0m\u001b[1;33m\u001b[0m\u001b[0m\n\u001b[0;32m    866\u001b[0m \u001b[1;33m\u001b[0m\u001b[0m\n\u001b[1;32m--> 867\u001b[1;33m         \u001b[0mself\u001b[0m\u001b[1;33m.\u001b[0m\u001b[0m_reader\u001b[0m \u001b[1;33m=\u001b[0m \u001b[0mself\u001b[0m\u001b[1;33m.\u001b[0m\u001b[0m_engines\u001b[0m\u001b[1;33m[\u001b[0m\u001b[0mengine\u001b[0m\u001b[1;33m]\u001b[0m\u001b[1;33m(\u001b[0m\u001b[0mself\u001b[0m\u001b[1;33m.\u001b[0m\u001b[0m_io\u001b[0m\u001b[1;33m)\u001b[0m\u001b[1;33m\u001b[0m\u001b[1;33m\u001b[0m\u001b[0m\n\u001b[0m\u001b[0;32m    868\u001b[0m \u001b[1;33m\u001b[0m\u001b[0m\n\u001b[0;32m    869\u001b[0m     \u001b[1;32mdef\u001b[0m \u001b[0m__fspath__\u001b[0m\u001b[1;33m(\u001b[0m\u001b[0mself\u001b[0m\u001b[1;33m)\u001b[0m\u001b[1;33m:\u001b[0m\u001b[1;33m\u001b[0m\u001b[1;33m\u001b[0m\u001b[0m\n",
      "\u001b[1;32m~\\anaconda3\\lib\\site-packages\\pandas\\io\\excel\\_xlrd.py\u001b[0m in \u001b[0;36m__init__\u001b[1;34m(self, filepath_or_buffer)\u001b[0m\n\u001b[0;32m     20\u001b[0m         \u001b[0merr_msg\u001b[0m \u001b[1;33m=\u001b[0m \u001b[1;34m\"Install xlrd >= 1.0.0 for Excel support\"\u001b[0m\u001b[1;33m\u001b[0m\u001b[1;33m\u001b[0m\u001b[0m\n\u001b[0;32m     21\u001b[0m         \u001b[0mimport_optional_dependency\u001b[0m\u001b[1;33m(\u001b[0m\u001b[1;34m\"xlrd\"\u001b[0m\u001b[1;33m,\u001b[0m \u001b[0mextra\u001b[0m\u001b[1;33m=\u001b[0m\u001b[0merr_msg\u001b[0m\u001b[1;33m)\u001b[0m\u001b[1;33m\u001b[0m\u001b[1;33m\u001b[0m\u001b[0m\n\u001b[1;32m---> 22\u001b[1;33m         \u001b[0msuper\u001b[0m\u001b[1;33m(\u001b[0m\u001b[1;33m)\u001b[0m\u001b[1;33m.\u001b[0m\u001b[0m__init__\u001b[0m\u001b[1;33m(\u001b[0m\u001b[0mfilepath_or_buffer\u001b[0m\u001b[1;33m)\u001b[0m\u001b[1;33m\u001b[0m\u001b[1;33m\u001b[0m\u001b[0m\n\u001b[0m\u001b[0;32m     23\u001b[0m \u001b[1;33m\u001b[0m\u001b[0m\n\u001b[0;32m     24\u001b[0m     \u001b[1;33m@\u001b[0m\u001b[0mproperty\u001b[0m\u001b[1;33m\u001b[0m\u001b[1;33m\u001b[0m\u001b[0m\n",
      "\u001b[1;32m~\\anaconda3\\lib\\site-packages\\pandas\\io\\excel\\_base.py\u001b[0m in \u001b[0;36m__init__\u001b[1;34m(self, filepath_or_buffer)\u001b[0m\n\u001b[0;32m    351\u001b[0m             \u001b[0mself\u001b[0m\u001b[1;33m.\u001b[0m\u001b[0mbook\u001b[0m \u001b[1;33m=\u001b[0m \u001b[0mself\u001b[0m\u001b[1;33m.\u001b[0m\u001b[0mload_workbook\u001b[0m\u001b[1;33m(\u001b[0m\u001b[0mfilepath_or_buffer\u001b[0m\u001b[1;33m)\u001b[0m\u001b[1;33m\u001b[0m\u001b[1;33m\u001b[0m\u001b[0m\n\u001b[0;32m    352\u001b[0m         \u001b[1;32melif\u001b[0m \u001b[0misinstance\u001b[0m\u001b[1;33m(\u001b[0m\u001b[0mfilepath_or_buffer\u001b[0m\u001b[1;33m,\u001b[0m \u001b[0mstr\u001b[0m\u001b[1;33m)\u001b[0m\u001b[1;33m:\u001b[0m\u001b[1;33m\u001b[0m\u001b[1;33m\u001b[0m\u001b[0m\n\u001b[1;32m--> 353\u001b[1;33m             \u001b[0mself\u001b[0m\u001b[1;33m.\u001b[0m\u001b[0mbook\u001b[0m \u001b[1;33m=\u001b[0m \u001b[0mself\u001b[0m\u001b[1;33m.\u001b[0m\u001b[0mload_workbook\u001b[0m\u001b[1;33m(\u001b[0m\u001b[0mfilepath_or_buffer\u001b[0m\u001b[1;33m)\u001b[0m\u001b[1;33m\u001b[0m\u001b[1;33m\u001b[0m\u001b[0m\n\u001b[0m\u001b[0;32m    354\u001b[0m         \u001b[1;32melif\u001b[0m \u001b[0misinstance\u001b[0m\u001b[1;33m(\u001b[0m\u001b[0mfilepath_or_buffer\u001b[0m\u001b[1;33m,\u001b[0m \u001b[0mbytes\u001b[0m\u001b[1;33m)\u001b[0m\u001b[1;33m:\u001b[0m\u001b[1;33m\u001b[0m\u001b[1;33m\u001b[0m\u001b[0m\n\u001b[0;32m    355\u001b[0m             \u001b[0mself\u001b[0m\u001b[1;33m.\u001b[0m\u001b[0mbook\u001b[0m \u001b[1;33m=\u001b[0m \u001b[0mself\u001b[0m\u001b[1;33m.\u001b[0m\u001b[0mload_workbook\u001b[0m\u001b[1;33m(\u001b[0m\u001b[0mBytesIO\u001b[0m\u001b[1;33m(\u001b[0m\u001b[0mfilepath_or_buffer\u001b[0m\u001b[1;33m)\u001b[0m\u001b[1;33m)\u001b[0m\u001b[1;33m\u001b[0m\u001b[1;33m\u001b[0m\u001b[0m\n",
      "\u001b[1;32m~\\anaconda3\\lib\\site-packages\\pandas\\io\\excel\\_xlrd.py\u001b[0m in \u001b[0;36mload_workbook\u001b[1;34m(self, filepath_or_buffer)\u001b[0m\n\u001b[0;32m     35\u001b[0m             \u001b[1;32mreturn\u001b[0m \u001b[0mopen_workbook\u001b[0m\u001b[1;33m(\u001b[0m\u001b[0mfile_contents\u001b[0m\u001b[1;33m=\u001b[0m\u001b[0mdata\u001b[0m\u001b[1;33m)\u001b[0m\u001b[1;33m\u001b[0m\u001b[1;33m\u001b[0m\u001b[0m\n\u001b[0;32m     36\u001b[0m         \u001b[1;32melse\u001b[0m\u001b[1;33m:\u001b[0m\u001b[1;33m\u001b[0m\u001b[1;33m\u001b[0m\u001b[0m\n\u001b[1;32m---> 37\u001b[1;33m             \u001b[1;32mreturn\u001b[0m \u001b[0mopen_workbook\u001b[0m\u001b[1;33m(\u001b[0m\u001b[0mfilepath_or_buffer\u001b[0m\u001b[1;33m)\u001b[0m\u001b[1;33m\u001b[0m\u001b[1;33m\u001b[0m\u001b[0m\n\u001b[0m\u001b[0;32m     38\u001b[0m \u001b[1;33m\u001b[0m\u001b[0m\n\u001b[0;32m     39\u001b[0m     \u001b[1;33m@\u001b[0m\u001b[0mproperty\u001b[0m\u001b[1;33m\u001b[0m\u001b[1;33m\u001b[0m\u001b[0m\n",
      "\u001b[1;32m~\\anaconda3\\lib\\site-packages\\xlrd\\__init__.py\u001b[0m in \u001b[0;36mopen_workbook\u001b[1;34m(filename, logfile, verbosity, use_mmap, file_contents, encoding_override, formatting_info, on_demand, ragged_rows)\u001b[0m\n\u001b[0;32m    128\u001b[0m         \u001b[1;32mif\u001b[0m \u001b[1;34m'xl/workbook.xml'\u001b[0m \u001b[1;32min\u001b[0m \u001b[0mcomponent_names\u001b[0m\u001b[1;33m:\u001b[0m\u001b[1;33m\u001b[0m\u001b[1;33m\u001b[0m\u001b[0m\n\u001b[0;32m    129\u001b[0m             \u001b[1;32mfrom\u001b[0m \u001b[1;33m.\u001b[0m \u001b[1;32mimport\u001b[0m \u001b[0mxlsx\u001b[0m\u001b[1;33m\u001b[0m\u001b[1;33m\u001b[0m\u001b[0m\n\u001b[1;32m--> 130\u001b[1;33m             bk = xlsx.open_workbook_2007_xml(\n\u001b[0m\u001b[0;32m    131\u001b[0m                 \u001b[0mzf\u001b[0m\u001b[1;33m,\u001b[0m\u001b[1;33m\u001b[0m\u001b[1;33m\u001b[0m\u001b[0m\n\u001b[0;32m    132\u001b[0m                 \u001b[0mcomponent_names\u001b[0m\u001b[1;33m,\u001b[0m\u001b[1;33m\u001b[0m\u001b[1;33m\u001b[0m\u001b[0m\n",
      "\u001b[1;32m~\\anaconda3\\lib\\site-packages\\xlrd\\xlsx.py\u001b[0m in \u001b[0;36mopen_workbook_2007_xml\u001b[1;34m(zf, component_names, logfile, verbosity, use_mmap, formatting_info, on_demand, ragged_rows)\u001b[0m\n\u001b[0;32m    839\u001b[0m         \u001b[0mx12sheet\u001b[0m \u001b[1;33m=\u001b[0m \u001b[0mX12Sheet\u001b[0m\u001b[1;33m(\u001b[0m\u001b[0msheet\u001b[0m\u001b[1;33m,\u001b[0m \u001b[0mlogfile\u001b[0m\u001b[1;33m,\u001b[0m \u001b[0mverbosity\u001b[0m\u001b[1;33m)\u001b[0m\u001b[1;33m\u001b[0m\u001b[1;33m\u001b[0m\u001b[0m\n\u001b[0;32m    840\u001b[0m         \u001b[0mheading\u001b[0m \u001b[1;33m=\u001b[0m \u001b[1;34m\"Sheet %r (sheetx=%d) from %r\"\u001b[0m \u001b[1;33m%\u001b[0m \u001b[1;33m(\u001b[0m\u001b[0msheet\u001b[0m\u001b[1;33m.\u001b[0m\u001b[0mname\u001b[0m\u001b[1;33m,\u001b[0m \u001b[0msheetx\u001b[0m\u001b[1;33m,\u001b[0m \u001b[0mfname\u001b[0m\u001b[1;33m)\u001b[0m\u001b[1;33m\u001b[0m\u001b[1;33m\u001b[0m\u001b[0m\n\u001b[1;32m--> 841\u001b[1;33m         \u001b[0mx12sheet\u001b[0m\u001b[1;33m.\u001b[0m\u001b[0mprocess_stream\u001b[0m\u001b[1;33m(\u001b[0m\u001b[0mzflo\u001b[0m\u001b[1;33m,\u001b[0m \u001b[0mheading\u001b[0m\u001b[1;33m)\u001b[0m\u001b[1;33m\u001b[0m\u001b[1;33m\u001b[0m\u001b[0m\n\u001b[0m\u001b[0;32m    842\u001b[0m         \u001b[1;32mdel\u001b[0m \u001b[0mzflo\u001b[0m\u001b[1;33m\u001b[0m\u001b[1;33m\u001b[0m\u001b[0m\n\u001b[0;32m    843\u001b[0m \u001b[1;33m\u001b[0m\u001b[0m\n",
      "\u001b[1;32m~\\anaconda3\\lib\\site-packages\\xlrd\\xlsx.py\u001b[0m in \u001b[0;36mown_process_stream\u001b[1;34m(self, stream, heading)\u001b[0m\n\u001b[0;32m    546\u001b[0m         \u001b[0mrow_tag\u001b[0m \u001b[1;33m=\u001b[0m \u001b[0mU_SSML12\u001b[0m \u001b[1;33m+\u001b[0m \u001b[1;34m\"row\"\u001b[0m\u001b[1;33m\u001b[0m\u001b[1;33m\u001b[0m\u001b[0m\n\u001b[0;32m    547\u001b[0m         \u001b[0mself_do_row\u001b[0m \u001b[1;33m=\u001b[0m \u001b[0mself\u001b[0m\u001b[1;33m.\u001b[0m\u001b[0mdo_row\u001b[0m\u001b[1;33m\u001b[0m\u001b[1;33m\u001b[0m\u001b[0m\n\u001b[1;32m--> 548\u001b[1;33m         \u001b[1;32mfor\u001b[0m \u001b[0mevent\u001b[0m\u001b[1;33m,\u001b[0m \u001b[0melem\u001b[0m \u001b[1;32min\u001b[0m \u001b[0mET\u001b[0m\u001b[1;33m.\u001b[0m\u001b[0miterparse\u001b[0m\u001b[1;33m(\u001b[0m\u001b[0mstream\u001b[0m\u001b[1;33m)\u001b[0m\u001b[1;33m:\u001b[0m\u001b[1;33m\u001b[0m\u001b[1;33m\u001b[0m\u001b[0m\n\u001b[0m\u001b[0;32m    549\u001b[0m             \u001b[1;32mif\u001b[0m \u001b[0melem\u001b[0m\u001b[1;33m.\u001b[0m\u001b[0mtag\u001b[0m \u001b[1;33m==\u001b[0m \u001b[0mrow_tag\u001b[0m\u001b[1;33m:\u001b[0m\u001b[1;33m\u001b[0m\u001b[1;33m\u001b[0m\u001b[0m\n\u001b[0;32m    550\u001b[0m                 \u001b[0mself_do_row\u001b[0m\u001b[1;33m(\u001b[0m\u001b[0melem\u001b[0m\u001b[1;33m)\u001b[0m\u001b[1;33m\u001b[0m\u001b[1;33m\u001b[0m\u001b[0m\n",
      "\u001b[1;32m~\\anaconda3\\lib\\xml\\etree\\ElementTree.py\u001b[0m in \u001b[0;36miterator\u001b[1;34m()\u001b[0m\n\u001b[0;32m   1230\u001b[0m                 \u001b[1;32mif\u001b[0m \u001b[1;32mnot\u001b[0m \u001b[0mdata\u001b[0m\u001b[1;33m:\u001b[0m\u001b[1;33m\u001b[0m\u001b[1;33m\u001b[0m\u001b[0m\n\u001b[0;32m   1231\u001b[0m                     \u001b[1;32mbreak\u001b[0m\u001b[1;33m\u001b[0m\u001b[1;33m\u001b[0m\u001b[0m\n\u001b[1;32m-> 1232\u001b[1;33m                 \u001b[0mpullparser\u001b[0m\u001b[1;33m.\u001b[0m\u001b[0mfeed\u001b[0m\u001b[1;33m(\u001b[0m\u001b[0mdata\u001b[0m\u001b[1;33m)\u001b[0m\u001b[1;33m\u001b[0m\u001b[1;33m\u001b[0m\u001b[0m\n\u001b[0m\u001b[0;32m   1233\u001b[0m             \u001b[0mroot\u001b[0m \u001b[1;33m=\u001b[0m \u001b[0mpullparser\u001b[0m\u001b[1;33m.\u001b[0m\u001b[0m_close_and_return_root\u001b[0m\u001b[1;33m(\u001b[0m\u001b[1;33m)\u001b[0m\u001b[1;33m\u001b[0m\u001b[1;33m\u001b[0m\u001b[0m\n\u001b[0;32m   1234\u001b[0m             \u001b[1;32myield\u001b[0m \u001b[1;32mfrom\u001b[0m \u001b[0mpullparser\u001b[0m\u001b[1;33m.\u001b[0m\u001b[0mread_events\u001b[0m\u001b[1;33m(\u001b[0m\u001b[1;33m)\u001b[0m\u001b[1;33m\u001b[0m\u001b[1;33m\u001b[0m\u001b[0m\n",
      "\u001b[1;32m~\\anaconda3\\lib\\xml\\etree\\ElementTree.py\u001b[0m in \u001b[0;36mfeed\u001b[1;34m(self, data)\u001b[0m\n\u001b[0;32m   1272\u001b[0m         \u001b[1;32mif\u001b[0m \u001b[0mdata\u001b[0m\u001b[1;33m:\u001b[0m\u001b[1;33m\u001b[0m\u001b[1;33m\u001b[0m\u001b[0m\n\u001b[0;32m   1273\u001b[0m             \u001b[1;32mtry\u001b[0m\u001b[1;33m:\u001b[0m\u001b[1;33m\u001b[0m\u001b[1;33m\u001b[0m\u001b[0m\n\u001b[1;32m-> 1274\u001b[1;33m                 \u001b[0mself\u001b[0m\u001b[1;33m.\u001b[0m\u001b[0m_parser\u001b[0m\u001b[1;33m.\u001b[0m\u001b[0mfeed\u001b[0m\u001b[1;33m(\u001b[0m\u001b[0mdata\u001b[0m\u001b[1;33m)\u001b[0m\u001b[1;33m\u001b[0m\u001b[1;33m\u001b[0m\u001b[0m\n\u001b[0m\u001b[0;32m   1275\u001b[0m             \u001b[1;32mexcept\u001b[0m \u001b[0mSyntaxError\u001b[0m \u001b[1;32mas\u001b[0m \u001b[0mexc\u001b[0m\u001b[1;33m:\u001b[0m\u001b[1;33m\u001b[0m\u001b[1;33m\u001b[0m\u001b[0m\n\u001b[0;32m   1276\u001b[0m                 \u001b[0mself\u001b[0m\u001b[1;33m.\u001b[0m\u001b[0m_events_queue\u001b[0m\u001b[1;33m.\u001b[0m\u001b[0mappend\u001b[0m\u001b[1;33m(\u001b[0m\u001b[0mexc\u001b[0m\u001b[1;33m)\u001b[0m\u001b[1;33m\u001b[0m\u001b[1;33m\u001b[0m\u001b[0m\n",
      "\u001b[1;32m~\\anaconda3\\lib\\xml\\etree\\ElementTree.py\u001b[0m in \u001b[0;36mfeed\u001b[1;34m(self, data)\u001b[0m\n\u001b[0;32m   1691\u001b[0m         \u001b[1;34m\"\"\"Feed encoded data to parser.\"\"\"\u001b[0m\u001b[1;33m\u001b[0m\u001b[1;33m\u001b[0m\u001b[0m\n\u001b[0;32m   1692\u001b[0m         \u001b[1;32mtry\u001b[0m\u001b[1;33m:\u001b[0m\u001b[1;33m\u001b[0m\u001b[1;33m\u001b[0m\u001b[0m\n\u001b[1;32m-> 1693\u001b[1;33m             \u001b[0mself\u001b[0m\u001b[1;33m.\u001b[0m\u001b[0mparser\u001b[0m\u001b[1;33m.\u001b[0m\u001b[0mParse\u001b[0m\u001b[1;33m(\u001b[0m\u001b[0mdata\u001b[0m\u001b[1;33m,\u001b[0m \u001b[1;36m0\u001b[0m\u001b[1;33m)\u001b[0m\u001b[1;33m\u001b[0m\u001b[1;33m\u001b[0m\u001b[0m\n\u001b[0m\u001b[0;32m   1694\u001b[0m         \u001b[1;32mexcept\u001b[0m \u001b[0mself\u001b[0m\u001b[1;33m.\u001b[0m\u001b[0m_error\u001b[0m \u001b[1;32mas\u001b[0m \u001b[0mv\u001b[0m\u001b[1;33m:\u001b[0m\u001b[1;33m\u001b[0m\u001b[1;33m\u001b[0m\u001b[0m\n\u001b[0;32m   1695\u001b[0m             \u001b[0mself\u001b[0m\u001b[1;33m.\u001b[0m\u001b[0m_raiseerror\u001b[0m\u001b[1;33m(\u001b[0m\u001b[0mv\u001b[0m\u001b[1;33m)\u001b[0m\u001b[1;33m\u001b[0m\u001b[1;33m\u001b[0m\u001b[0m\n",
      "\u001b[1;32mc:\\ci\\python_1599185818579\\work\\modules\\pyexpat.c\u001b[0m in \u001b[0;36mStartElement\u001b[1;34m()\u001b[0m\n",
      "\u001b[1;32m~\\anaconda3\\lib\\xml\\etree\\ElementTree.py\u001b[0m in \u001b[0;36m_start\u001b[1;34m(self, tag, attr_list)\u001b[0m\n\u001b[0;32m   1623\u001b[0m         \u001b[1;31m# is set, the attributes are reported as a list of alternating\u001b[0m\u001b[1;33m\u001b[0m\u001b[1;33m\u001b[0m\u001b[1;33m\u001b[0m\u001b[0m\n\u001b[0;32m   1624\u001b[0m         \u001b[1;31m# attribute name,value.\u001b[0m\u001b[1;33m\u001b[0m\u001b[1;33m\u001b[0m\u001b[1;33m\u001b[0m\u001b[0m\n\u001b[1;32m-> 1625\u001b[1;33m         \u001b[0mfixname\u001b[0m \u001b[1;33m=\u001b[0m \u001b[0mself\u001b[0m\u001b[1;33m.\u001b[0m\u001b[0m_fixname\u001b[0m\u001b[1;33m\u001b[0m\u001b[1;33m\u001b[0m\u001b[0m\n\u001b[0m\u001b[0;32m   1626\u001b[0m         \u001b[0mtag\u001b[0m \u001b[1;33m=\u001b[0m \u001b[0mfixname\u001b[0m\u001b[1;33m(\u001b[0m\u001b[0mtag\u001b[0m\u001b[1;33m)\u001b[0m\u001b[1;33m\u001b[0m\u001b[1;33m\u001b[0m\u001b[0m\n\u001b[0;32m   1627\u001b[0m         \u001b[0mattrib\u001b[0m \u001b[1;33m=\u001b[0m \u001b[1;33m{\u001b[0m\u001b[1;33m}\u001b[0m\u001b[1;33m\u001b[0m\u001b[1;33m\u001b[0m\u001b[0m\n",
      "\u001b[1;31mKeyboardInterrupt\u001b[0m: "
     ]
    }
   ],
   "source": [
    "rowDF = pd.read_excel('./data/koweps_visualization.xlsx')\n",
    "rowDF"
   ]
  },
  {
   "cell_type": "code",
   "execution_count": null,
   "metadata": {},
   "outputs": [],
   "source": [
    "rowDF.info()"
   ]
  },
  {
   "cell_type": "code",
   "execution_count": null,
   "metadata": {},
   "outputs": [],
   "source": [
    "from IPython.display import Image\n",
    "\n",
    "Image('c:/Users/ruby/Jupyter/numpy_img/koweps_img.png', width = 500)"
   ]
  },
  {
   "cell_type": "markdown",
   "metadata": {},
   "source": [
    "### 문제1."
   ]
  },
  {
   "cell_type": "code",
   "execution_count": null,
   "metadata": {},
   "outputs": [],
   "source": [
    "subsetDF = rowDF[['h12_g3', 'h12_g4', 'h12_g10', 'h12_g11', 'h12_eco9', 'p1202_8aq1', 'h12_reg7']] \n",
    "subsetDF.columns = ['성별', '태어난 연도', '혼인상태', '종교', '직종', '일한달의 월 평균 임금', '7개 권역별 지역구분']\n",
    "subsetDF.head()"
   ]
  },
  {
   "cell_type": "code",
   "execution_count": null,
   "metadata": {},
   "outputs": [],
   "source": [
    "# 데이터 분석 (조사 대상자들에 대한 성별 분포)\n",
    "\n",
    "genderDF = subsetDF.filter(['성별'])\n",
    "genderDF.head()"
   ]
  },
  {
   "cell_type": "code",
   "execution_count": null,
   "metadata": {},
   "outputs": [],
   "source": [
    "# 성별의 값을 남녀로 바꿔서 확인\n",
    "np.where(subsetDF.filter(['성별']) == 1, '남자', '여자')\n",
    "\n",
    "# 성별의 값을 남녀로 바꿔서 확인한 값을 성별2 라는 새로운 컬럼에 추가\n",
    "genderDF['성별2'] = np.where(subsetDF.filter(['성별']) == 1, '남자', '여자')\n",
    "genderDF.head()"
   ]
  },
  {
   "cell_type": "code",
   "execution_count": null,
   "metadata": {},
   "outputs": [],
   "source": [
    "# 성별의 데이터 분포 확인\n",
    "genderDF['성별'].value_counts()\n",
    "\n",
    "# 성별2의 데이터 분포확인을 데이터프레임 형식으로 표현\n",
    "gender_cnt_df = pd.DataFrame(genderDF['성별2'].value_counts())\n",
    "gender_cnt_df"
   ]
  },
  {
   "cell_type": "code",
   "execution_count": null,
   "metadata": {},
   "outputs": [],
   "source": [
    "# 성별2의 컬럼명을 인원 수를 알수있는 명으로 바꿈\n",
    "\n",
    "gender_cnt_df.rename(columns={'성별2' : '명'}, inplace=True)\n",
    "gender_cnt_df"
   ]
  },
  {
   "cell_type": "code",
   "execution_count": null,
   "metadata": {},
   "outputs": [],
   "source": [
    "# 성별을 비율순으로 정렬\n",
    "\n",
    "gender_cnt_df.sort_values('명',ascending=True, inplace=True)\n",
    "gender_cnt_df"
   ]
  },
  {
   "cell_type": "code",
   "execution_count": null,
   "metadata": {},
   "outputs": [],
   "source": [
    "# 데이터 시각화(bar)\n",
    "\n",
    "plt.figure()\n",
    "\n",
    "gender_cnt_df.plot.bar(rot=0)\n",
    "\n",
    "plt.title('성별분포', size=20)\n",
    "plt.xlabel('성별')\n",
    "plt.ylabel('명')\n",
    "\n",
    "# 그래프 중앙에 글씨 넣기\n",
    "for idx, value in enumerate(list(gender_cnt_df['명'])) :\n",
    "    txt = '%d명' % value\n",
    "    plt.text(idx, value, txt, horizontalalignment='center', verticalalignment='bottom', color='red')\n",
    "\n",
    "plt.show()\n",
    "plt.close()"
   ]
  },
  {
   "cell_type": "code",
   "execution_count": null,
   "metadata": {},
   "outputs": [],
   "source": [
    "# 데이터 시각화(pie chart)\n",
    "\n",
    "plt.figure()\n",
    "\n",
    "gender_cnt_df['명'].plot.pie(labels=gender_cnt_df.index, autopct='%1.1f%%', legend=True)\n",
    "\n",
    "plt.title('성별분포', size=20) \n",
    "plt.legend(labels=gender_cnt_df.index, loc='upper right')\n",
    "plt.axis('equal')\n",
    "\n",
    "plt.show()\n",
    "plt.close()"
   ]
  },
  {
   "cell_type": "markdown",
   "metadata": {},
   "source": [
    "### 문제2. 성별에 따른 일한달의 월 평균 임금의 차이를 분석하여 시각화\n",
    "\n",
    "- 성별과 일한달의 월 평균 임금 데이터 추출\n",
    "- 성별을 남자와 여자 변경\n",
    "- 데이터 정제(결측값 확인, 제거)\n",
    "- 데이터 분석(성별로 그룹화 그룹별 평균)\n",
    "- 데이터 시각화"
   ]
  },
  {
   "cell_type": "code",
   "execution_count": null,
   "metadata": {},
   "outputs": [],
   "source": [
    "# 성별과 일한달의 월 평균 임금 데이터 추출\n",
    "\n",
    "payDF = subsetDF[['성별', '일한달의 월 평균 임금']]\n",
    "payDF.head()"
   ]
  },
  {
   "cell_type": "code",
   "execution_count": null,
   "metadata": {},
   "outputs": [],
   "source": [
    "# 성별을 남자와 여자로 변경\n",
    "\n",
    "payDF['성별'] = np.where(payDF.filter(['성별']) == 1, '남자', '여자')\n",
    "payDF"
   ]
  },
  {
   "cell_type": "code",
   "execution_count": null,
   "metadata": {},
   "outputs": [],
   "source": [
    "# 데이터 정제(결측값 확인, 제거)\n",
    "\n",
    "payDF.isna().sum()\n",
    "payDF.dropna(inplace=True)\n",
    "payDF"
   ]
  },
  {
   "cell_type": "code",
   "execution_count": null,
   "metadata": {},
   "outputs": [],
   "source": [
    "# 데이터 분석(성별로 그룹화, 그룹별 평균)\n",
    "\n",
    "gender_pay_df = payDF.groupby(['성별']).mean()\n",
    "gender_pay_df"
   ]
  },
  {
   "cell_type": "code",
   "execution_count": null,
   "metadata": {},
   "outputs": [],
   "source": [
    "# 원하는 차트로 데이터 시각화\n",
    "\n",
    "plt.figure()\n",
    "\n",
    "gender_pay_df.plot.bar(rot=0, color='pink')\n",
    "\n",
    "plt.title('성별분포', size=20)\n",
    "plt.xlabel('성별')\n",
    "plt.ylabel('월 평균 임금')\n",
    "\n",
    "# 그래프 중앙에 글씨 넣기\n",
    "for idx, value in enumerate(list(gender_pay_df['일한달의 월 평균 임금'])) :\n",
    "    txt = '%d만원' % value\n",
    "    plt.text(idx, value, txt, horizontalalignment='center', verticalalignment='bottom', color='black')\n",
    "\n",
    "plt.show()\n",
    "plt.close()"
   ]
  },
  {
   "cell_type": "markdown",
   "metadata": {},
   "source": [
    "### 문제3.\n",
    "- 나이에 따른 평균 급여 변화\n",
    "- 데이터 전처리(태어난 년도, 월급에 대한 컬럼 추출, 나이를 계산하여 파생변수 추가)\n",
    "- 데이터 정제(결측값 확인, 결측값 제거, 이상치 결측 처리)\n",
    "- 데이터 분석(나이별 따른 급여평균)\n",
    "- 데이터 시각화"
   ]
  },
  {
   "cell_type": "code",
   "execution_count": null,
   "metadata": {},
   "outputs": [],
   "source": [
    "# 데이터 전처리(태어난 년도, 월급에 대한 컬럼 추출, 나이를 계산하여 파생변수 추가)\n",
    "\n",
    "ageDF = subsetDF[['태어난 연도', '일한달의 월 평균 임금']]\n",
    "ageDF['나이'] = 2021 - subsetDF['태어난 연도'] + 1\n",
    "ageDF.head()"
   ]
  },
  {
   "cell_type": "code",
   "execution_count": null,
   "metadata": {},
   "outputs": [],
   "source": [
    "# 데이터 정제(결측값 확인, 결측값 제거, 이상치 결측 처리)\n",
    "\n",
    "ageDF.isna().sum()\n",
    "ageDF.dropna(inplace=True)\n",
    "ageDF.head()"
   ]
  },
  {
   "cell_type": "code",
   "execution_count": null,
   "metadata": {},
   "outputs": [],
   "source": [
    "# 데이터 분석(나이별 따른 급여평균)\n",
    "\n",
    "age_pay_df = pd.DataFrame(ageDF.groupby('나이')['일한달의 월 평균 임금'].mean())\n",
    "age_pay_df"
   ]
  },
  {
   "cell_type": "code",
   "execution_count": null,
   "metadata": {},
   "outputs": [],
   "source": [
    "# 데이터 시각화\n",
    "\n",
    "plt.figure()\n",
    "\n",
    "plt.plot(age_pay_df, marker='o', markersize=5, color='pink', markerfacecolor='hotpink')\n",
    "plt.title('나이에 따른 평균 급여 변화', size=20)\n",
    "plt.xlabel('나이', size=15)\n",
    "plt.ylabel('평균 급여', size=15)\n",
    "plt.legend(labels=['나이'], loc='best')\n",
    "\n",
    "plt.show()\n",
    "plt.close()"
   ]
  },
  {
   "cell_type": "markdown",
   "metadata": {},
   "source": [
    "### 문제4.\n",
    "- 연령대에 따른 분포\n",
    "- 연령대별 평균 급여 변화\n",
    "- 성별과 연령대 분포\n",
    "- 성별과 연령대에 따른 평균 급여 변화\n",
    "- 지역별 연령층 분포와 연령층별 지역 비율\n"
   ]
  },
  {
   "cell_type": "code",
   "execution_count": null,
   "metadata": {
    "scrolled": true
   },
   "outputs": [],
   "source": [
    "subsetDF['성별'] = pd.DataFrame(np.where(subsetDF.filter(['성별']) == 1, '남자', '여자'))\n",
    "subsetDF['나이'] = 2021 - subsetDF['태어난 연도'] + 1\n",
    "subsetDF['연령대'] = (subsetDF['나이'] // 10) * 10\n",
    "subsetDF.head()"
   ]
  },
  {
   "cell_type": "code",
   "execution_count": null,
   "metadata": {},
   "outputs": [],
   "source": [
    "# 연령대별 평균 급여 변화\n",
    "\n",
    "avg_pay_df = pd.DataFrame(subsetDF.groupby('연령대')['일한달의 월 평균 임금'].mean())\n",
    "avg_pay"
   ]
  },
  {
   "cell_type": "code",
   "execution_count": null,
   "metadata": {},
   "outputs": [],
   "source": [
    "# 연령대별 평균 급여 변화 시각화\n",
    "\n",
    "plt.figure()\n",
    "\n",
    "plt.plot(avg_pay_df, marker='o', markersize=10, color='pink', markerfacecolor='hotpink')\n",
    "plt.title('연령대별 평균 급여 변화', size=20)\n",
    "plt.xlabel('연령대', size=15)\n",
    "plt.ylabel('평균급여', size=15)\n",
    "plt.legend(labels=['연령대'], loc='best')\n",
    "\n",
    "plt.show()\n",
    "plt.close()"
   ]
  },
  {
   "cell_type": "code",
   "execution_count": null,
   "metadata": {
    "scrolled": true
   },
   "outputs": [],
   "source": [
    "# 성별과 연령대에 따른 평균 급여 변화\n",
    "\n",
    "sex_pay_df = pd.DataFrame(subsetDF.groupby(['연령대','성별'])['일한달의 월 평균 임금'].mean())\n",
    "sex_pay_df"
   ]
  },
  {
   "cell_type": "code",
   "execution_count": null,
   "metadata": {},
   "outputs": [],
   "source": [
    "# 성별과 연령대에 따른 평균 급여 변화 시각화\n",
    "\n"
   ]
  },
  {
   "cell_type": "code",
   "execution_count": null,
   "metadata": {},
   "outputs": [],
   "source": [
    "# 지역별 연령층 분포와 연령층별 지역 비율"
   ]
  },
  {
   "cell_type": "code",
   "execution_count": null,
   "metadata": {},
   "outputs": [],
   "source": []
  },
  {
   "cell_type": "markdown",
   "metadata": {},
   "source": [
    "### 이상치정제"
   ]
  },
  {
   "cell_type": "code",
   "execution_count": 20,
   "metadata": {},
   "outputs": [
    {
     "name": "stdout",
     "output_type": "stream",
     "text": [
      "<class 'pandas.core.frame.DataFrame'>\n",
      "RangeIndex: 234 entries, 0 to 233\n",
      "Data columns (total 12 columns):\n",
      " #   Column        Non-Null Count  Dtype  \n",
      "---  ------        --------------  -----  \n",
      " 0   Unnamed: 0    234 non-null    int64  \n",
      " 1   manufacturer  234 non-null    object \n",
      " 2   model         234 non-null    object \n",
      " 3   displ         234 non-null    float64\n",
      " 4   year          234 non-null    int64  \n",
      " 5   cyl           234 non-null    int64  \n",
      " 6   trans         234 non-null    object \n",
      " 7   drv           234 non-null    object \n",
      " 8   cty           234 non-null    int64  \n",
      " 9   hwy           234 non-null    int64  \n",
      " 10  fl            234 non-null    object \n",
      " 11  class         234 non-null    object \n",
      "dtypes: float64(1), int64(5), object(6)\n",
      "memory usage: 22.1+ KB\n"
     ]
    }
   ],
   "source": [
    "xls = pd.ExcelFile('./data/car_mpg.xlsx')\n",
    "dataDF = xls.parse(xls.sheet_names[0])\n",
    "dataDF.info()"
   ]
  },
  {
   "cell_type": "code",
   "execution_count": 21,
   "metadata": {},
   "outputs": [
    {
     "data": {
      "text/html": [
       "<div>\n",
       "<style scoped>\n",
       "    .dataframe tbody tr th:only-of-type {\n",
       "        vertical-align: middle;\n",
       "    }\n",
       "\n",
       "    .dataframe tbody tr th {\n",
       "        vertical-align: top;\n",
       "    }\n",
       "\n",
       "    .dataframe thead th {\n",
       "        text-align: right;\n",
       "    }\n",
       "</style>\n",
       "<table border=\"1\" class=\"dataframe\">\n",
       "  <thead>\n",
       "    <tr style=\"text-align: right;\">\n",
       "      <th></th>\n",
       "      <th>Unnamed: 0</th>\n",
       "      <th>displ</th>\n",
       "      <th>year</th>\n",
       "      <th>cyl</th>\n",
       "      <th>cty</th>\n",
       "      <th>hwy</th>\n",
       "    </tr>\n",
       "  </thead>\n",
       "  <tbody>\n",
       "    <tr>\n",
       "      <th>count</th>\n",
       "      <td>234.000000</td>\n",
       "      <td>234.000000</td>\n",
       "      <td>234.000000</td>\n",
       "      <td>234.000000</td>\n",
       "      <td>234.000000</td>\n",
       "      <td>234.000000</td>\n",
       "    </tr>\n",
       "    <tr>\n",
       "      <th>mean</th>\n",
       "      <td>117.500000</td>\n",
       "      <td>3.471795</td>\n",
       "      <td>2003.500000</td>\n",
       "      <td>5.888889</td>\n",
       "      <td>16.858974</td>\n",
       "      <td>23.440171</td>\n",
       "    </tr>\n",
       "    <tr>\n",
       "      <th>std</th>\n",
       "      <td>67.694165</td>\n",
       "      <td>1.291959</td>\n",
       "      <td>4.509646</td>\n",
       "      <td>1.611534</td>\n",
       "      <td>4.255946</td>\n",
       "      <td>5.954643</td>\n",
       "    </tr>\n",
       "    <tr>\n",
       "      <th>min</th>\n",
       "      <td>1.000000</td>\n",
       "      <td>1.600000</td>\n",
       "      <td>1999.000000</td>\n",
       "      <td>4.000000</td>\n",
       "      <td>9.000000</td>\n",
       "      <td>12.000000</td>\n",
       "    </tr>\n",
       "    <tr>\n",
       "      <th>25%</th>\n",
       "      <td>59.250000</td>\n",
       "      <td>2.400000</td>\n",
       "      <td>1999.000000</td>\n",
       "      <td>4.000000</td>\n",
       "      <td>14.000000</td>\n",
       "      <td>18.000000</td>\n",
       "    </tr>\n",
       "    <tr>\n",
       "      <th>50%</th>\n",
       "      <td>117.500000</td>\n",
       "      <td>3.300000</td>\n",
       "      <td>2003.500000</td>\n",
       "      <td>6.000000</td>\n",
       "      <td>17.000000</td>\n",
       "      <td>24.000000</td>\n",
       "    </tr>\n",
       "    <tr>\n",
       "      <th>75%</th>\n",
       "      <td>175.750000</td>\n",
       "      <td>4.600000</td>\n",
       "      <td>2008.000000</td>\n",
       "      <td>8.000000</td>\n",
       "      <td>19.000000</td>\n",
       "      <td>27.000000</td>\n",
       "    </tr>\n",
       "    <tr>\n",
       "      <th>max</th>\n",
       "      <td>234.000000</td>\n",
       "      <td>7.000000</td>\n",
       "      <td>2008.000000</td>\n",
       "      <td>8.000000</td>\n",
       "      <td>35.000000</td>\n",
       "      <td>44.000000</td>\n",
       "    </tr>\n",
       "  </tbody>\n",
       "</table>\n",
       "</div>"
      ],
      "text/plain": [
       "       Unnamed: 0       displ         year         cyl         cty         hwy\n",
       "count  234.000000  234.000000   234.000000  234.000000  234.000000  234.000000\n",
       "mean   117.500000    3.471795  2003.500000    5.888889   16.858974   23.440171\n",
       "std     67.694165    1.291959     4.509646    1.611534    4.255946    5.954643\n",
       "min      1.000000    1.600000  1999.000000    4.000000    9.000000   12.000000\n",
       "25%     59.250000    2.400000  1999.000000    4.000000   14.000000   18.000000\n",
       "50%    117.500000    3.300000  2003.500000    6.000000   17.000000   24.000000\n",
       "75%    175.750000    4.600000  2008.000000    8.000000   19.000000   27.000000\n",
       "max    234.000000    7.000000  2008.000000    8.000000   35.000000   44.000000"
      ]
     },
     "execution_count": 21,
     "metadata": {},
     "output_type": "execute_result"
    }
   ],
   "source": [
    "dataDF.describe() # 수치형으로 되어있는 값들에 대한 기술통계값"
   ]
  },
  {
   "cell_type": "code",
   "execution_count": 22,
   "metadata": {},
   "outputs": [
    {
     "data": {
      "image/png": "[encoded data removed]",
      "text/plain": [
       "<Figure size 432x288 with 1 Axes>"
      ]
     },
     "metadata": {
      "needs_background": "light"
     },
     "output_type": "display_data"
    }
   ],
   "source": [
    "outlierDF = dataDF.filter(['cty', 'hwy'])\n",
    "\n",
    "plt.figure()\n",
    "outlierDF.boxplot()\n",
    "plt.show()\n",
    "plt.close()"
   ]
  },
  {
   "cell_type": "code",
   "execution_count": 23,
   "metadata": {},
   "outputs": [
    {
     "data": {
      "text/plain": [
       "cty    19.0\n",
       "hwy    27.0\n",
       "Name: 0.75, dtype: float64"
      ]
     },
     "execution_count": 23,
     "metadata": {},
     "output_type": "execute_result"
    }
   ],
   "source": [
    "# 분위수의 정보를 얻고자 한다면..?\n",
    "\n",
    "quantile75 = outlierDF.quantile(q=0.75) # 3사분위 값\n",
    "quantile75"
   ]
  },
  {
   "cell_type": "code",
   "execution_count": 24,
   "metadata": {},
   "outputs": [
    {
     "data": {
      "text/plain": [
       "cty    14.0\n",
       "hwy    18.0\n",
       "Name: 0.25, dtype: float64"
      ]
     },
     "execution_count": 24,
     "metadata": {},
     "output_type": "execute_result"
    }
   ],
   "source": [
    "quantile25 = outlierDF.quantile(q=0.25) # 1사분위 값\n",
    "quantile25"
   ]
  },
  {
   "cell_type": "code",
   "execution_count": 25,
   "metadata": {},
   "outputs": [
    {
     "data": {
      "text/plain": [
       "cty    5.0\n",
       "hwy    9.0\n",
       "dtype: float64"
      ]
     },
     "execution_count": 25,
     "metadata": {},
     "output_type": "execute_result"
    }
   ],
   "source": [
    "# IQR ( Inter Quantile Range ) = 사분위수범위\n",
    "# Median 중위수\n",
    "\n",
    "iqr = quantile75 - quantile25\n",
    "iqr"
   ]
  },
  {
   "cell_type": "code",
   "execution_count": 26,
   "metadata": {},
   "outputs": [
    {
     "name": "stdout",
     "output_type": "stream",
     "text": [
      "lower_fence :\n",
      " cty    6.5\n",
      "hwy    4.5\n",
      "dtype: float64\n",
      "upper_fence :\n",
      " cty    26.5\n",
      "hwy    40.5\n",
      "dtype: float64\n"
     ]
    }
   ],
   "source": [
    "# lower fence(최저 한계치)\n",
    "# upper fence(최고 한계치)\n",
    "\n",
    "lower_fence = quantile25 - 1.5*iqr\n",
    "print('lower_fence :\\n', lower_fence)\n",
    "\n",
    "upper_fence = quantile75 + 1.5*iqr\n",
    "print('upper_fence :\\n', upper_fence)"
   ]
  },
  {
   "cell_type": "code",
   "execution_count": 27,
   "metadata": {},
   "outputs": [
    {
     "name": "stdout",
     "output_type": "stream",
     "text": [
      "lower_outlier :\n",
      " cty     9\n",
      "hwy    12\n",
      "dtype: int64\n",
      "upper_outlier :\n",
      " cty    26.0\n",
      "hwy    37.0\n",
      "dtype: float64\n"
     ]
    }
   ],
   "source": [
    "# 극단치 경계 값을 (아래 수평선)\n",
    "lower_outlier = outlierDF[ outlierDF > lower_fence ].min()\n",
    "print('lower_outlier :\\n', lower_outlier)\n",
    "\n",
    "# 극단치 경계 값을 (위수평선)\n",
    "\n",
    "upper_outlier = outlierDF[ outlierDF < upper_fence ].max()\n",
    "print('upper_outlier :\\n', upper_outlier)"
   ]
  },
  {
   "cell_type": "code",
   "execution_count": 28,
   "metadata": {},
   "outputs": [
    {
     "data": {
      "text/html": [
       "<div>\n",
       "<style scoped>\n",
       "    .dataframe tbody tr th:only-of-type {\n",
       "        vertical-align: middle;\n",
       "    }\n",
       "\n",
       "    .dataframe tbody tr th {\n",
       "        vertical-align: top;\n",
       "    }\n",
       "\n",
       "    .dataframe thead th {\n",
       "        text-align: right;\n",
       "    }\n",
       "</style>\n",
       "<table border=\"1\" class=\"dataframe\">\n",
       "  <thead>\n",
       "    <tr style=\"text-align: right;\">\n",
       "      <th></th>\n",
       "      <th>Unnamed: 0</th>\n",
       "      <th>manufacturer</th>\n",
       "      <th>model</th>\n",
       "      <th>displ</th>\n",
       "      <th>year</th>\n",
       "      <th>cyl</th>\n",
       "      <th>trans</th>\n",
       "      <th>drv</th>\n",
       "      <th>cty</th>\n",
       "      <th>hwy</th>\n",
       "      <th>fl</th>\n",
       "      <th>class</th>\n",
       "    </tr>\n",
       "  </thead>\n",
       "  <tbody>\n",
       "    <tr>\n",
       "      <th>212</th>\n",
       "      <td>213</td>\n",
       "      <td>volkswagen</td>\n",
       "      <td>jetta</td>\n",
       "      <td>1.9</td>\n",
       "      <td>1999</td>\n",
       "      <td>4</td>\n",
       "      <td>manual(m5)</td>\n",
       "      <td>f</td>\n",
       "      <td>33</td>\n",
       "      <td>44</td>\n",
       "      <td>d</td>\n",
       "      <td>compact</td>\n",
       "    </tr>\n",
       "    <tr>\n",
       "      <th>221</th>\n",
       "      <td>222</td>\n",
       "      <td>volkswagen</td>\n",
       "      <td>new beetle</td>\n",
       "      <td>1.9</td>\n",
       "      <td>1999</td>\n",
       "      <td>4</td>\n",
       "      <td>manual(m5)</td>\n",
       "      <td>f</td>\n",
       "      <td>35</td>\n",
       "      <td>44</td>\n",
       "      <td>d</td>\n",
       "      <td>subcompact</td>\n",
       "    </tr>\n",
       "    <tr>\n",
       "      <th>222</th>\n",
       "      <td>223</td>\n",
       "      <td>volkswagen</td>\n",
       "      <td>new beetle</td>\n",
       "      <td>1.9</td>\n",
       "      <td>1999</td>\n",
       "      <td>4</td>\n",
       "      <td>auto(l4)</td>\n",
       "      <td>f</td>\n",
       "      <td>29</td>\n",
       "      <td>41</td>\n",
       "      <td>d</td>\n",
       "      <td>subcompact</td>\n",
       "    </tr>\n",
       "  </tbody>\n",
       "</table>\n",
       "</div>"
      ],
      "text/plain": [
       "     Unnamed: 0 manufacturer       model  displ  year  cyl       trans drv  \\\n",
       "212         213   volkswagen       jetta    1.9  1999    4  manual(m5)   f   \n",
       "221         222   volkswagen  new beetle    1.9  1999    4  manual(m5)   f   \n",
       "222         223   volkswagen  new beetle    1.9  1999    4    auto(l4)   f   \n",
       "\n",
       "     cty  hwy fl       class  \n",
       "212   33   44  d     compact  \n",
       "221   35   44  d  subcompact  \n",
       "222   29   41  d  subcompact  "
      ]
     },
     "execution_count": 28,
     "metadata": {},
     "output_type": "execute_result"
    }
   ],
   "source": [
    "# hwy 연비의 이상치 데이터 추출\n",
    "hwy_outlier_df = dataDF.query( 'hwy >' + str(upper_outlier['hwy']))\n",
    "hwy_outlier_df"
   ]
  },
  {
   "cell_type": "code",
   "execution_count": 29,
   "metadata": {},
   "outputs": [
    {
     "data": {
      "text/html": [
       "<div>\n",
       "<style scoped>\n",
       "    .dataframe tbody tr th:only-of-type {\n",
       "        vertical-align: middle;\n",
       "    }\n",
       "\n",
       "    .dataframe tbody tr th {\n",
       "        vertical-align: top;\n",
       "    }\n",
       "\n",
       "    .dataframe thead th {\n",
       "        text-align: right;\n",
       "    }\n",
       "</style>\n",
       "<table border=\"1\" class=\"dataframe\">\n",
       "  <thead>\n",
       "    <tr style=\"text-align: right;\">\n",
       "      <th></th>\n",
       "      <th>Unnamed: 0</th>\n",
       "      <th>manufacturer</th>\n",
       "      <th>model</th>\n",
       "      <th>displ</th>\n",
       "      <th>year</th>\n",
       "      <th>cyl</th>\n",
       "      <th>trans</th>\n",
       "      <th>drv</th>\n",
       "      <th>cty</th>\n",
       "      <th>hwy</th>\n",
       "      <th>fl</th>\n",
       "      <th>class</th>\n",
       "    </tr>\n",
       "  </thead>\n",
       "  <tbody>\n",
       "    <tr>\n",
       "      <th>99</th>\n",
       "      <td>100</td>\n",
       "      <td>honda</td>\n",
       "      <td>civic</td>\n",
       "      <td>1.6</td>\n",
       "      <td>1999</td>\n",
       "      <td>4</td>\n",
       "      <td>manual(m5)</td>\n",
       "      <td>f</td>\n",
       "      <td>28</td>\n",
       "      <td>33</td>\n",
       "      <td>r</td>\n",
       "      <td>subcompact</td>\n",
       "    </tr>\n",
       "    <tr>\n",
       "      <th>196</th>\n",
       "      <td>197</td>\n",
       "      <td>toyota</td>\n",
       "      <td>corolla</td>\n",
       "      <td>1.8</td>\n",
       "      <td>2008</td>\n",
       "      <td>4</td>\n",
       "      <td>manual(m5)</td>\n",
       "      <td>f</td>\n",
       "      <td>28</td>\n",
       "      <td>37</td>\n",
       "      <td>r</td>\n",
       "      <td>compact</td>\n",
       "    </tr>\n",
       "    <tr>\n",
       "      <th>212</th>\n",
       "      <td>213</td>\n",
       "      <td>volkswagen</td>\n",
       "      <td>jetta</td>\n",
       "      <td>1.9</td>\n",
       "      <td>1999</td>\n",
       "      <td>4</td>\n",
       "      <td>manual(m5)</td>\n",
       "      <td>f</td>\n",
       "      <td>33</td>\n",
       "      <td>44</td>\n",
       "      <td>d</td>\n",
       "      <td>compact</td>\n",
       "    </tr>\n",
       "    <tr>\n",
       "      <th>221</th>\n",
       "      <td>222</td>\n",
       "      <td>volkswagen</td>\n",
       "      <td>new beetle</td>\n",
       "      <td>1.9</td>\n",
       "      <td>1999</td>\n",
       "      <td>4</td>\n",
       "      <td>manual(m5)</td>\n",
       "      <td>f</td>\n",
       "      <td>35</td>\n",
       "      <td>44</td>\n",
       "      <td>d</td>\n",
       "      <td>subcompact</td>\n",
       "    </tr>\n",
       "    <tr>\n",
       "      <th>222</th>\n",
       "      <td>223</td>\n",
       "      <td>volkswagen</td>\n",
       "      <td>new beetle</td>\n",
       "      <td>1.9</td>\n",
       "      <td>1999</td>\n",
       "      <td>4</td>\n",
       "      <td>auto(l4)</td>\n",
       "      <td>f</td>\n",
       "      <td>29</td>\n",
       "      <td>41</td>\n",
       "      <td>d</td>\n",
       "      <td>subcompact</td>\n",
       "    </tr>\n",
       "  </tbody>\n",
       "</table>\n",
       "</div>"
      ],
      "text/plain": [
       "     Unnamed: 0 manufacturer       model  displ  year  cyl       trans drv  \\\n",
       "99          100        honda       civic    1.6  1999    4  manual(m5)   f   \n",
       "196         197       toyota     corolla    1.8  2008    4  manual(m5)   f   \n",
       "212         213   volkswagen       jetta    1.9  1999    4  manual(m5)   f   \n",
       "221         222   volkswagen  new beetle    1.9  1999    4  manual(m5)   f   \n",
       "222         223   volkswagen  new beetle    1.9  1999    4    auto(l4)   f   \n",
       "\n",
       "     cty  hwy fl       class  \n",
       "99    28   33  r  subcompact  \n",
       "196   28   37  r     compact  \n",
       "212   33   44  d     compact  \n",
       "221   35   44  d  subcompact  \n",
       "222   29   41  d  subcompact  "
      ]
     },
     "execution_count": 29,
     "metadata": {},
     "output_type": "execute_result"
    }
   ],
   "source": [
    "cty_outlier_df = dataDF.query( 'cty >' + str(upper_outlier['cty']))\n",
    "cty_outlier_df"
   ]
  },
  {
   "cell_type": "code",
   "execution_count": 31,
   "metadata": {},
   "outputs": [
    {
     "data": {
      "text/html": [
       "<div>\n",
       "<style scoped>\n",
       "    .dataframe tbody tr th:only-of-type {\n",
       "        vertical-align: middle;\n",
       "    }\n",
       "\n",
       "    .dataframe tbody tr th {\n",
       "        vertical-align: top;\n",
       "    }\n",
       "\n",
       "    .dataframe thead th {\n",
       "        text-align: right;\n",
       "    }\n",
       "</style>\n",
       "<table border=\"1\" class=\"dataframe\">\n",
       "  <thead>\n",
       "    <tr style=\"text-align: right;\">\n",
       "      <th></th>\n",
       "      <th>Unnamed: 0</th>\n",
       "      <th>manufacturer</th>\n",
       "      <th>model</th>\n",
       "      <th>displ</th>\n",
       "      <th>year</th>\n",
       "      <th>cyl</th>\n",
       "      <th>trans</th>\n",
       "      <th>drv</th>\n",
       "      <th>cty</th>\n",
       "      <th>hwy</th>\n",
       "      <th>fl</th>\n",
       "      <th>class</th>\n",
       "    </tr>\n",
       "  </thead>\n",
       "  <tbody>\n",
       "    <tr>\n",
       "      <th>99</th>\n",
       "      <td>100</td>\n",
       "      <td>honda</td>\n",
       "      <td>civic</td>\n",
       "      <td>1.6</td>\n",
       "      <td>1999</td>\n",
       "      <td>4</td>\n",
       "      <td>manual(m5)</td>\n",
       "      <td>f</td>\n",
       "      <td>NaN</td>\n",
       "      <td>33</td>\n",
       "      <td>r</td>\n",
       "      <td>subcompact</td>\n",
       "    </tr>\n",
       "    <tr>\n",
       "      <th>196</th>\n",
       "      <td>197</td>\n",
       "      <td>toyota</td>\n",
       "      <td>corolla</td>\n",
       "      <td>1.8</td>\n",
       "      <td>2008</td>\n",
       "      <td>4</td>\n",
       "      <td>manual(m5)</td>\n",
       "      <td>f</td>\n",
       "      <td>NaN</td>\n",
       "      <td>37</td>\n",
       "      <td>r</td>\n",
       "      <td>compact</td>\n",
       "    </tr>\n",
       "    <tr>\n",
       "      <th>212</th>\n",
       "      <td>213</td>\n",
       "      <td>volkswagen</td>\n",
       "      <td>jetta</td>\n",
       "      <td>1.9</td>\n",
       "      <td>1999</td>\n",
       "      <td>4</td>\n",
       "      <td>manual(m5)</td>\n",
       "      <td>f</td>\n",
       "      <td>NaN</td>\n",
       "      <td>44</td>\n",
       "      <td>d</td>\n",
       "      <td>compact</td>\n",
       "    </tr>\n",
       "    <tr>\n",
       "      <th>221</th>\n",
       "      <td>222</td>\n",
       "      <td>volkswagen</td>\n",
       "      <td>new beetle</td>\n",
       "      <td>1.9</td>\n",
       "      <td>1999</td>\n",
       "      <td>4</td>\n",
       "      <td>manual(m5)</td>\n",
       "      <td>f</td>\n",
       "      <td>NaN</td>\n",
       "      <td>44</td>\n",
       "      <td>d</td>\n",
       "      <td>subcompact</td>\n",
       "    </tr>\n",
       "    <tr>\n",
       "      <th>222</th>\n",
       "      <td>223</td>\n",
       "      <td>volkswagen</td>\n",
       "      <td>new beetle</td>\n",
       "      <td>1.9</td>\n",
       "      <td>1999</td>\n",
       "      <td>4</td>\n",
       "      <td>auto(l4)</td>\n",
       "      <td>f</td>\n",
       "      <td>NaN</td>\n",
       "      <td>41</td>\n",
       "      <td>d</td>\n",
       "      <td>subcompact</td>\n",
       "    </tr>\n",
       "  </tbody>\n",
       "</table>\n",
       "</div>"
      ],
      "text/plain": [
       "     Unnamed: 0 manufacturer       model  displ  year  cyl       trans drv  \\\n",
       "99          100        honda       civic    1.6  1999    4  manual(m5)   f   \n",
       "196         197       toyota     corolla    1.8  2008    4  manual(m5)   f   \n",
       "212         213   volkswagen       jetta    1.9  1999    4  manual(m5)   f   \n",
       "221         222   volkswagen  new beetle    1.9  1999    4  manual(m5)   f   \n",
       "222         223   volkswagen  new beetle    1.9  1999    4    auto(l4)   f   \n",
       "\n",
       "     cty  hwy fl       class  \n",
       "99   NaN   33  r  subcompact  \n",
       "196  NaN   37  r     compact  \n",
       "212  NaN   44  d     compact  \n",
       "221  NaN   44  d  subcompact  \n",
       "222  NaN   41  d  subcompact  "
      ]
     },
     "execution_count": 31,
     "metadata": {},
     "output_type": "execute_result"
    }
   ],
   "source": [
    "cty_outlier_clean_df = cty_outlier_df.copy()\n",
    "\n",
    "# 도시 연비에 대한 이상치를 결측값으로 변경\n",
    "for idx in cty_outlier_df.index:\n",
    "    cty_outlier_clean_df.loc[idx, 'cty'] = np.nan\n",
    "\n",
    "cty_outlier_clean_df\n"
   ]
  },
  {
   "cell_type": "code",
   "execution_count": null,
   "metadata": {},
   "outputs": [],
   "source": []
  }
 ],
 "metadata": {
  "kernelspec": {
   "display_name": "Python 3",
   "language": "python",
   "name": "python3"
  },
  "language_info": {
   "codemirror_mode": {
    "name": "ipython",
    "version": 3
   },
   "file_extension": ".py",
   "mimetype": "text/x-python",
   "name": "python",
   "nbconvert_exporter": "python",
   "pygments_lexer": "ipython3",
   "version": "3.8.5"
  }
 },
 "nbformat": 4,
 "nbformat_minor": 4
}
