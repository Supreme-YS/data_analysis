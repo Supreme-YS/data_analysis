{
  "nbformat": 4,
  "nbformat_minor": 0,
  "metadata": {
    "colab": {
      "name": "MLP-Regression-Keras",
      "provenance": [],
      "authorship_tag": "ABX9TyNpVueAsMTxkMee9rHsxzo0",
      "include_colab_link": true
    },
    "kernelspec": {
      "name": "python3",
      "display_name": "Python 3"
    },
    "language_info": {
      "name": "python"
    }
  },
  "cells": [
    {
      "cell_type": "markdown",
      "metadata": {
        "id": "view-in-github",
        "colab_type": "text"
      },
      "source": [
        "<a href=\"https://colab.research.google.com/github/Supreme-YS/data_analysis/blob/master/MLP_Regression_Keras.ipynb\" target=\"_parent\"><img src=\"https://colab.research.google.com/assets/colab-badge.svg\" alt=\"Open In Colab\"/></a>"
      ]
    },
    {
      "cell_type": "code",
      "metadata": {
        "id": "5klgyMrjgB1o"
      },
      "source": [
        "from tensorflow.keras.datasets import boston_housing\n",
        "from tensorflow.keras.models   import Sequential\n",
        "from tensorflow.keras.layers   import Activation, Dense\n",
        "from tensorflow.keras.optimizers import SGD, Adam\n",
        "from tensorflow.keras.utils import plot_model\n",
        "\n",
        "from sklearn.model_selection import train_test_split\n",
        "from sklearn.preprocessing import StandardScaler, MinMaxScaler\n",
        "import matplotlib.pyplot as plt\n",
        "import pandas  as pd\n",
        "import numpy   as np\n",
        "import seaborn as sns\n",
        "\n"
      ],
      "execution_count": 44,
      "outputs": []
    },
    {
      "cell_type": "code",
      "metadata": {
        "id": "l-bu9qAFi40N"
      },
      "source": [
        ""
      ],
      "execution_count": 17,
      "outputs": []
    },
    {
      "cell_type": "code",
      "metadata": {
        "id": "But1QFPrgywo"
      },
      "source": [
        "(X_train, y_train), (X_test, y_test) = boston_housing.load_data()"
      ],
      "execution_count": 18,
      "outputs": []
    },
    {
      "cell_type": "code",
      "metadata": {
        "colab": {
          "base_uri": "https://localhost:8080/"
        },
        "id": "UmAQJqgfhFL0",
        "outputId": "566dd5cb-ca34-493f-9c89-2385d237a4fe"
      },
      "source": [
        "X_train.shape, y_train.shape, X_test.shape, y_test.shape"
      ],
      "execution_count": 19,
      "outputs": [
        {
          "output_type": "execute_result",
          "data": {
            "text/plain": [
              "((404, 13), (404,), (102, 13), (102,))"
            ]
          },
          "metadata": {
            "tags": []
          },
          "execution_count": 19
        }
      ]
    },
    {
      "cell_type": "code",
      "metadata": {
        "id": "EUuP3KEghL9s"
      },
      "source": [
        "X_train[0]"
      ],
      "execution_count": null,
      "outputs": []
    },
    {
      "cell_type": "code",
      "metadata": {
        "id": "7_xRd3NahhbL"
      },
      "source": [
        "y_train[0]"
      ],
      "execution_count": null,
      "outputs": []
    },
    {
      "cell_type": "code",
      "metadata": {
        "id": "rAkmMaVXiM1E"
      },
      "source": [
        "model = Sequential()\n",
        "\n",
        "model.add(Dense(10, input_shape=(13,))) # 13은 features 수\n",
        "model.add( Activation('sigmoid'))\n",
        "\n",
        "model.add(Dense(8, activation='sigmoid'))\n",
        "model.add(Dense(6, activation='sigmoid'))\n",
        "model.add(Dense(4, activation='sigmoid'))\n",
        "\n",
        "model.add(Dense(1)) # 값을 예측하는 것이기 때문에 1개의 출력값"
      ],
      "execution_count": 24,
      "outputs": []
    },
    {
      "cell_type": "code",
      "metadata": {
        "colab": {
          "base_uri": "https://localhost:8080/"
        },
        "id": "qeiAnxySi3jd",
        "outputId": "7da91859-a298-43fe-9280-0b0796302116"
      },
      "source": [
        "model.summary()"
      ],
      "execution_count": 26,
      "outputs": [
        {
          "output_type": "stream",
          "text": [
            "Model: \"sequential\"\n",
            "_________________________________________________________________\n",
            "Layer (type)                 Output Shape              Param #   \n",
            "=================================================================\n",
            "dense (Dense)                (None, 10)                140       \n",
            "_________________________________________________________________\n",
            "activation (Activation)      (None, 10)                0         \n",
            "_________________________________________________________________\n",
            "dense_1 (Dense)              (None, 8)                 88        \n",
            "_________________________________________________________________\n",
            "dense_2 (Dense)              (None, 6)                 54        \n",
            "_________________________________________________________________\n",
            "dense_3 (Dense)              (None, 4)                 28        \n",
            "_________________________________________________________________\n",
            "dense_4 (Dense)              (None, 1)                 5         \n",
            "=================================================================\n",
            "Total params: 315\n",
            "Trainable params: 315\n",
            "Non-trainable params: 0\n",
            "_________________________________________________________________\n"
          ],
          "name": "stdout"
        }
      ]
    },
    {
      "cell_type": "code",
      "metadata": {
        "colab": {
          "base_uri": "https://localhost:8080/",
          "height": 661
        },
        "id": "YmgHUhBao-pG",
        "outputId": "3cdc0da9-d7be-46ef-dc7e-2dafeb48e254"
      },
      "source": [
        "plot_model(model)"
      ],
      "execution_count": 27,
      "outputs": [
        {
          "output_type": "execute_result",
          "data": {
            "image/png": "[encoded data removed]",
            "text/plain": [
              "<IPython.core.display.Image object>"
            ]
          },
          "metadata": {
            "tags": []
          },
          "execution_count": 27
        }
      ]
    },
    {
      "cell_type": "code",
      "metadata": {
        "id": "O-6J5pSrpu6d"
      },
      "source": [
        "model.compile(loss = 'mse', \n",
        "             optimizer = Adam(learning_rate=0.02),\n",
        "              metrics = ['mse'] )"
      ],
      "execution_count": 29,
      "outputs": []
    },
    {
      "cell_type": "code",
      "metadata": {
        "colab": {
          "base_uri": "https://localhost:8080/"
        },
        "id": "XbUQgMvKqmM1",
        "outputId": "fe9b72e6-0fb4-4d3d-bc61-729172a881ee"
      },
      "source": [
        "model.summary()"
      ],
      "execution_count": 30,
      "outputs": [
        {
          "output_type": "stream",
          "text": [
            "Model: \"sequential\"\n",
            "_________________________________________________________________\n",
            "Layer (type)                 Output Shape              Param #   \n",
            "=================================================================\n",
            "dense (Dense)                (None, 10)                140       \n",
            "_________________________________________________________________\n",
            "activation (Activation)      (None, 10)                0         \n",
            "_________________________________________________________________\n",
            "dense_1 (Dense)              (None, 8)                 88        \n",
            "_________________________________________________________________\n",
            "dense_2 (Dense)              (None, 6)                 54        \n",
            "_________________________________________________________________\n",
            "dense_3 (Dense)              (None, 4)                 28        \n",
            "_________________________________________________________________\n",
            "dense_4 (Dense)              (None, 1)                 5         \n",
            "=================================================================\n",
            "Total params: 315\n",
            "Trainable params: 315\n",
            "Non-trainable params: 0\n",
            "_________________________________________________________________\n"
          ],
          "name": "stdout"
        }
      ]
    },
    {
      "cell_type": "code",
      "metadata": {
        "id": "PPfFoDEYqoGO"
      },
      "source": [
        "history = model.fit(X_train, y_train, batch_size=50, epochs=100, validation_data=(X_test, y_test), verbose = 1)"
      ],
      "execution_count": null,
      "outputs": []
    },
    {
      "cell_type": "code",
      "metadata": {
        "colab": {
          "base_uri": "https://localhost:8080/"
        },
        "id": "4FV3DLVFrJN1",
        "outputId": "293ebed1-f630-4a12-8651-3e110f07569f"
      },
      "source": [
        "history.history.keys()"
      ],
      "execution_count": 36,
      "outputs": [
        {
          "output_type": "execute_result",
          "data": {
            "text/plain": [
              "dict_keys(['loss', 'mse', 'val_loss', 'val_mse'])"
            ]
          },
          "metadata": {
            "tags": []
          },
          "execution_count": 36
        }
      ]
    },
    {
      "cell_type": "code",
      "metadata": {
        "colab": {
          "base_uri": "https://localhost:8080/"
        },
        "id": "hd7aKgu-s66D",
        "outputId": "69b46743-65e8-40d5-a57e-48d2188c77d0"
      },
      "source": [
        "result = model.evaluate(X_test, y_test)\n",
        "print('loss', result[0])\n",
        "print('mse', result[1])"
      ],
      "execution_count": 38,
      "outputs": [
        {
          "output_type": "stream",
          "text": [
            "4/4 [==============================] - 0s 3ms/step - loss: 82.6419 - mse: 82.6419\n",
            "loss 82.6418685913086\n",
            "mse 82.6418685913086\n"
          ],
          "name": "stdout"
        }
      ]
    },
    {
      "cell_type": "code",
      "metadata": {
        "id": "6hatgvf4tDIr"
      },
      "source": [
        "# 성능 개선을 위한 작업\n",
        "# 1. 스케일링\n",
        "\n",
        "# 2. 학습데이터를 학습, 검증 데이터로 나눈다.\n",
        "# 3. 모델 생성시 activation = 'relu', 컴파일 optimizer = SGD\n",
        "# 4. 학습, 결과 확인"
      ],
      "execution_count": 39,
      "outputs": []
    },
    {
      "cell_type": "code",
      "metadata": {
        "colab": {
          "base_uri": "https://localhost:8080/"
        },
        "id": "1ztWWfvXvZb2",
        "outputId": "f4835995-d156-4e52-c38b-3e517eacf183"
      },
      "source": [
        "(X_train_raw, y_train_raw), (X_test, y_test) = boston_housing.load_data()\n",
        "X_train_raw.shape, y_train_raw.shape, X_test.shape, y_test.shape"
      ],
      "execution_count": 64,
      "outputs": [
        {
          "output_type": "execute_result",
          "data": {
            "text/plain": [
              "((404, 13), (404,), (102, 13), (102,))"
            ]
          },
          "metadata": {
            "tags": []
          },
          "execution_count": 64
        }
      ]
    },
    {
      "cell_type": "code",
      "metadata": {
        "id": "7_Jx-WbXwMGW"
      },
      "source": [
        "scaler = MinMaxScaler()\n",
        "X_train_scaler = scaler.fit_transform(X_train_raw)"
      ],
      "execution_count": 80,
      "outputs": []
    },
    {
      "cell_type": "code",
      "metadata": {
        "id": "jQ551eeqxv61"
      },
      "source": [
        "X_test_scaler = scaler.fit_transform(X_test)"
      ],
      "execution_count": 81,
      "outputs": []
    },
    {
      "cell_type": "code",
      "metadata": {
        "id": "jvgPGm2Xx6Y5"
      },
      "source": [
        "X_train, X_val, y_train, y_val = train_test_split(X_train_scaler, y_train_raw)"
      ],
      "execution_count": 82,
      "outputs": []
    },
    {
      "cell_type": "code",
      "metadata": {
        "id": "86cI997Lv128"
      },
      "source": [
        "model = Sequential()\n",
        "\n",
        "model.add(Dense(10, input_shape=(13,))) # 13은 features 수\n",
        "model.add( Activation('sigmoid'))\n",
        "\n",
        "model.add(Dense(8, activation='sigmoid'))\n",
        "model.add(Dense(6, activation='sigmoid'))\n",
        "model.add(Dense(4, activation='sigmoid'))\n",
        "\n",
        "model.add(Dense(1)) # 값을 예측하는 것이기 때문에 1개의 출력값"
      ],
      "execution_count": 83,
      "outputs": []
    },
    {
      "cell_type": "code",
      "metadata": {
        "id": "jqUUZ7ZEy9Sl"
      },
      "source": [
        "model.compile(loss = 'mse', \n",
        "             optimizer = Adam(learning_rate=0.02),\n",
        "              metrics = ['mae'] )"
      ],
      "execution_count": 84,
      "outputs": []
    },
    {
      "cell_type": "code",
      "metadata": {
        "colab": {
          "base_uri": "https://localhost:8080/"
        },
        "id": "DGPu4YrtzFCi",
        "outputId": "8b0f2e0f-796d-43db-cf58-fd17d9d2e7a7"
      },
      "source": [
        "history = model.fit(X_train, y_train, batch_size=50, epochs=300, validation_data=(X_val, y_val), verbose = 1)"
      ],
      "execution_count": 85,
      "outputs": [
        {
          "output_type": "stream",
          "text": [
            "Epoch 1/300\n",
            "7/7 [==============================] - 1s 33ms/step - loss: 602.6741 - mae: 22.6791 - val_loss: 641.3224 - val_mae: 23.4597\n",
            "Epoch 2/300\n",
            "7/7 [==============================] - 0s 10ms/step - loss: 564.9069 - mae: 21.9820 - val_loss: 616.2822 - val_mae: 22.9198\n",
            "Epoch 3/300\n",
            "7/7 [==============================] - 0s 12ms/step - loss: 540.4515 - mae: 21.2828 - val_loss: 593.3123 - val_mae: 22.4131\n",
            "Epoch 4/300\n",
            "7/7 [==============================] - 0s 9ms/step - loss: 527.2429 - mae: 20.9124 - val_loss: 571.5054 - val_mae: 21.9213\n",
            "Epoch 5/300\n",
            "7/7 [==============================] - 0s 10ms/step - loss: 495.3433 - mae: 20.1898 - val_loss: 551.1118 - val_mae: 21.4511\n",
            "Epoch 6/300\n",
            "7/7 [==============================] - 0s 9ms/step - loss: 474.6503 - mae: 19.7807 - val_loss: 531.7519 - val_mae: 20.9950\n",
            "Epoch 7/300\n",
            "7/7 [==============================] - 0s 10ms/step - loss: 466.1292 - mae: 19.6503 - val_loss: 513.2316 - val_mae: 20.5492\n",
            "Epoch 8/300\n",
            "7/7 [==============================] - 0s 9ms/step - loss: 433.2845 - mae: 18.9007 - val_loss: 495.5019 - val_mae: 20.1132\n",
            "Epoch 9/300\n",
            "7/7 [==============================] - 0s 10ms/step - loss: 410.6441 - mae: 18.1426 - val_loss: 478.6606 - val_mae: 19.6901\n",
            "Epoch 10/300\n",
            "7/7 [==============================] - 0s 10ms/step - loss: 406.0848 - mae: 18.0431 - val_loss: 462.0097 - val_mae: 19.2626\n",
            "Epoch 11/300\n",
            "7/7 [==============================] - 0s 10ms/step - loss: 353.6962 - mae: 16.8132 - val_loss: 446.3816 - val_mae: 18.8526\n",
            "Epoch 12/300\n",
            "7/7 [==============================] - 0s 9ms/step - loss: 386.2865 - mae: 17.3607 - val_loss: 430.9969 - val_mae: 18.4400\n",
            "Epoch 13/300\n",
            "7/7 [==============================] - 0s 9ms/step - loss: 378.0793 - mae: 17.1500 - val_loss: 416.4108 - val_mae: 18.0402\n",
            "Epoch 14/300\n",
            "7/7 [==============================] - 0s 11ms/step - loss: 356.1049 - mae: 16.4268 - val_loss: 402.6157 - val_mae: 17.6537\n",
            "Epoch 15/300\n",
            "7/7 [==============================] - 0s 10ms/step - loss: 337.4951 - mae: 15.9188 - val_loss: 389.5634 - val_mae: 17.2801\n",
            "Epoch 16/300\n",
            "7/7 [==============================] - 0s 10ms/step - loss: 328.5156 - mae: 15.7074 - val_loss: 376.8381 - val_mae: 16.9079\n",
            "Epoch 17/300\n",
            "7/7 [==============================] - 0s 11ms/step - loss: 327.1318 - mae: 15.5024 - val_loss: 364.4335 - val_mae: 16.5382\n",
            "Epoch 18/300\n",
            "7/7 [==============================] - 0s 10ms/step - loss: 305.9714 - mae: 14.8531 - val_loss: 352.3480 - val_mae: 16.1760\n",
            "Epoch 19/300\n",
            "7/7 [==============================] - 0s 9ms/step - loss: 286.1471 - mae: 14.4604 - val_loss: 340.3809 - val_mae: 15.8090\n",
            "Epoch 20/300\n",
            "7/7 [==============================] - 0s 10ms/step - loss: 300.8541 - mae: 14.7564 - val_loss: 326.7381 - val_mae: 15.3796\n",
            "Epoch 21/300\n",
            "7/7 [==============================] - 0s 10ms/step - loss: 248.1755 - mae: 13.2673 - val_loss: 307.6375 - val_mae: 14.7571\n",
            "Epoch 22/300\n",
            "7/7 [==============================] - 0s 10ms/step - loss: 268.1070 - mae: 13.4543 - val_loss: 285.1752 - val_mae: 13.9888\n",
            "Epoch 23/300\n",
            "7/7 [==============================] - 0s 10ms/step - loss: 224.3414 - mae: 12.2140 - val_loss: 266.0243 - val_mae: 13.3011\n",
            "Epoch 24/300\n",
            "7/7 [==============================] - 0s 11ms/step - loss: 232.5345 - mae: 12.0247 - val_loss: 248.8569 - val_mae: 12.6745\n",
            "Epoch 25/300\n",
            "7/7 [==============================] - 0s 10ms/step - loss: 208.6446 - mae: 11.3196 - val_loss: 233.3648 - val_mae: 12.0797\n",
            "Epoch 26/300\n",
            "7/7 [==============================] - 0s 10ms/step - loss: 184.8375 - mae: 10.6428 - val_loss: 219.8884 - val_mae: 11.5442\n",
            "Epoch 27/300\n",
            "7/7 [==============================] - 0s 10ms/step - loss: 172.7289 - mae: 10.0310 - val_loss: 208.4172 - val_mae: 11.0735\n",
            "Epoch 28/300\n",
            "7/7 [==============================] - 0s 10ms/step - loss: 163.5151 - mae: 9.6474 - val_loss: 197.7907 - val_mae: 10.6277\n",
            "Epoch 29/300\n",
            "7/7 [==============================] - 0s 12ms/step - loss: 165.6084 - mae: 9.5843 - val_loss: 187.9305 - val_mae: 10.2189\n",
            "Epoch 30/300\n",
            "7/7 [==============================] - 0s 9ms/step - loss: 129.1726 - mae: 8.3805 - val_loss: 179.5501 - val_mae: 9.8766\n",
            "Epoch 31/300\n",
            "7/7 [==============================] - 0s 9ms/step - loss: 134.2972 - mae: 8.6309 - val_loss: 171.5103 - val_mae: 9.5444\n",
            "Epoch 32/300\n",
            "7/7 [==============================] - 0s 10ms/step - loss: 137.4237 - mae: 8.5117 - val_loss: 164.6625 - val_mae: 9.2725\n",
            "Epoch 33/300\n",
            "7/7 [==============================] - 0s 10ms/step - loss: 133.5231 - mae: 8.4182 - val_loss: 158.4788 - val_mae: 9.0247\n",
            "Epoch 34/300\n",
            "7/7 [==============================] - 0s 9ms/step - loss: 124.6847 - mae: 8.1721 - val_loss: 152.8923 - val_mae: 8.7949\n",
            "Epoch 35/300\n",
            "7/7 [==============================] - 0s 10ms/step - loss: 129.2608 - mae: 8.1792 - val_loss: 147.9487 - val_mae: 8.5896\n",
            "Epoch 36/300\n",
            "7/7 [==============================] - 0s 10ms/step - loss: 116.2885 - mae: 7.7744 - val_loss: 143.4868 - val_mae: 8.4015\n",
            "Epoch 37/300\n",
            "7/7 [==============================] - 0s 9ms/step - loss: 110.4446 - mae: 7.3876 - val_loss: 139.1448 - val_mae: 8.2149\n",
            "Epoch 38/300\n",
            "7/7 [==============================] - 0s 10ms/step - loss: 102.9104 - mae: 7.2113 - val_loss: 134.8411 - val_mae: 8.0384\n",
            "Epoch 39/300\n",
            "7/7 [==============================] - 0s 10ms/step - loss: 120.6300 - mae: 7.7514 - val_loss: 130.6539 - val_mae: 7.8679\n",
            "Epoch 40/300\n",
            "7/7 [==============================] - 0s 10ms/step - loss: 104.9385 - mae: 7.2151 - val_loss: 127.5050 - val_mae: 7.7422\n",
            "Epoch 41/300\n",
            "7/7 [==============================] - 0s 10ms/step - loss: 99.0774 - mae: 6.9422 - val_loss: 124.8352 - val_mae: 7.6330\n",
            "Epoch 42/300\n",
            "7/7 [==============================] - 0s 9ms/step - loss: 98.7684 - mae: 7.0142 - val_loss: 122.3359 - val_mae: 7.5307\n",
            "Epoch 43/300\n",
            "7/7 [==============================] - 0s 10ms/step - loss: 89.5816 - mae: 6.6825 - val_loss: 119.6917 - val_mae: 7.4240\n",
            "Epoch 44/300\n",
            "7/7 [==============================] - 0s 12ms/step - loss: 104.8563 - mae: 7.1036 - val_loss: 117.1281 - val_mae: 7.3198\n",
            "Epoch 45/300\n",
            "7/7 [==============================] - 0s 9ms/step - loss: 93.6652 - mae: 6.7072 - val_loss: 115.0293 - val_mae: 7.2383\n",
            "Epoch 46/300\n",
            "7/7 [==============================] - 0s 11ms/step - loss: 87.6469 - mae: 6.5723 - val_loss: 113.1803 - val_mae: 7.1714\n",
            "Epoch 47/300\n",
            "7/7 [==============================] - 0s 11ms/step - loss: 79.0553 - mae: 6.2632 - val_loss: 111.4323 - val_mae: 7.1093\n",
            "Epoch 48/300\n",
            "7/7 [==============================] - 0s 9ms/step - loss: 96.1527 - mae: 6.8225 - val_loss: 109.5571 - val_mae: 7.0454\n",
            "Epoch 49/300\n",
            "7/7 [==============================] - 0s 9ms/step - loss: 92.3190 - mae: 6.5843 - val_loss: 107.7229 - val_mae: 6.9870\n",
            "Epoch 50/300\n",
            "7/7 [==============================] - 0s 10ms/step - loss: 90.7194 - mae: 6.6662 - val_loss: 105.9956 - val_mae: 6.9376\n",
            "Epoch 51/300\n",
            "7/7 [==============================] - 0s 9ms/step - loss: 94.6310 - mae: 6.6948 - val_loss: 104.6168 - val_mae: 6.8962\n",
            "Epoch 52/300\n",
            "7/7 [==============================] - 0s 9ms/step - loss: 87.2100 - mae: 6.5241 - val_loss: 103.5748 - val_mae: 6.8653\n",
            "Epoch 53/300\n",
            "7/7 [==============================] - 0s 10ms/step - loss: 78.2877 - mae: 6.2208 - val_loss: 102.6850 - val_mae: 6.8428\n",
            "Epoch 54/300\n",
            "7/7 [==============================] - 0s 10ms/step - loss: 92.3890 - mae: 6.7774 - val_loss: 102.0394 - val_mae: 6.8267\n",
            "Epoch 55/300\n",
            "7/7 [==============================] - 0s 10ms/step - loss: 82.6881 - mae: 6.2551 - val_loss: 101.3148 - val_mae: 6.8081\n",
            "Epoch 56/300\n",
            "7/7 [==============================] - 0s 9ms/step - loss: 89.2405 - mae: 6.6314 - val_loss: 100.6151 - val_mae: 6.7931\n",
            "Epoch 57/300\n",
            "7/7 [==============================] - 0s 11ms/step - loss: 82.0742 - mae: 6.3762 - val_loss: 100.2081 - val_mae: 6.7857\n",
            "Epoch 58/300\n",
            "7/7 [==============================] - 0s 10ms/step - loss: 72.1306 - mae: 5.9439 - val_loss: 99.9303 - val_mae: 6.7808\n",
            "Epoch 59/300\n",
            "7/7 [==============================] - 0s 10ms/step - loss: 75.8693 - mae: 6.1409 - val_loss: 99.4714 - val_mae: 6.7739\n",
            "Epoch 60/300\n",
            "7/7 [==============================] - 0s 10ms/step - loss: 94.6494 - mae: 6.8115 - val_loss: 99.0053 - val_mae: 6.7679\n",
            "Epoch 61/300\n",
            "7/7 [==============================] - 0s 11ms/step - loss: 73.3287 - mae: 6.0952 - val_loss: 98.5108 - val_mae: 6.7638\n",
            "Epoch 62/300\n",
            "7/7 [==============================] - 0s 9ms/step - loss: 81.8122 - mae: 6.2954 - val_loss: 97.9833 - val_mae: 6.7609\n",
            "Epoch 63/300\n",
            "7/7 [==============================] - 0s 9ms/step - loss: 85.1448 - mae: 6.3348 - val_loss: 97.5465 - val_mae: 6.7584\n",
            "Epoch 64/300\n",
            "7/7 [==============================] - 0s 10ms/step - loss: 85.9052 - mae: 6.4204 - val_loss: 97.1910 - val_mae: 6.7564\n",
            "Epoch 65/300\n",
            "7/7 [==============================] - 0s 10ms/step - loss: 75.5881 - mae: 6.0979 - val_loss: 96.8634 - val_mae: 6.7557\n",
            "Epoch 66/300\n",
            "7/7 [==============================] - 0s 9ms/step - loss: 89.6959 - mae: 6.6633 - val_loss: 96.4743 - val_mae: 6.7549\n",
            "Epoch 67/300\n",
            "7/7 [==============================] - 0s 9ms/step - loss: 78.1545 - mae: 6.3333 - val_loss: 96.3144 - val_mae: 6.7546\n",
            "Epoch 68/300\n",
            "7/7 [==============================] - 0s 10ms/step - loss: 78.0124 - mae: 6.1903 - val_loss: 96.2811 - val_mae: 6.7545\n",
            "Epoch 69/300\n",
            "7/7 [==============================] - 0s 9ms/step - loss: 78.1621 - mae: 6.2347 - val_loss: 96.3067 - val_mae: 6.7546\n",
            "Epoch 70/300\n",
            "7/7 [==============================] - 0s 10ms/step - loss: 81.2845 - mae: 6.3571 - val_loss: 96.1442 - val_mae: 6.7542\n",
            "Epoch 71/300\n",
            "7/7 [==============================] - 0s 9ms/step - loss: 87.3363 - mae: 6.6298 - val_loss: 96.0338 - val_mae: 6.7540\n",
            "Epoch 72/300\n",
            "7/7 [==============================] - 0s 10ms/step - loss: 82.0809 - mae: 6.6493 - val_loss: 95.9375 - val_mae: 6.7538\n",
            "Epoch 73/300\n",
            "7/7 [==============================] - 0s 10ms/step - loss: 84.7163 - mae: 6.5226 - val_loss: 95.7822 - val_mae: 6.7535\n",
            "Epoch 74/300\n",
            "7/7 [==============================] - 0s 9ms/step - loss: 82.6216 - mae: 6.4628 - val_loss: 95.6371 - val_mae: 6.7538\n",
            "Epoch 75/300\n",
            "7/7 [==============================] - 0s 10ms/step - loss: 83.9381 - mae: 6.3755 - val_loss: 95.5103 - val_mae: 6.7541\n",
            "Epoch 76/300\n",
            "7/7 [==============================] - 0s 10ms/step - loss: 87.7698 - mae: 6.6732 - val_loss: 95.1884 - val_mae: 6.7549\n",
            "Epoch 77/300\n",
            "7/7 [==============================] - 0s 10ms/step - loss: 71.6233 - mae: 5.9816 - val_loss: 94.9240 - val_mae: 6.7555\n",
            "Epoch 78/300\n",
            "7/7 [==============================] - 0s 9ms/step - loss: 84.5842 - mae: 6.4203 - val_loss: 94.7910 - val_mae: 6.7559\n",
            "Epoch 79/300\n",
            "7/7 [==============================] - 0s 12ms/step - loss: 81.8944 - mae: 6.4803 - val_loss: 94.7636 - val_mae: 6.7559\n",
            "Epoch 80/300\n",
            "7/7 [==============================] - 0s 10ms/step - loss: 76.2447 - mae: 6.2163 - val_loss: 94.7988 - val_mae: 6.7558\n",
            "Epoch 81/300\n",
            "7/7 [==============================] - 0s 11ms/step - loss: 87.9261 - mae: 6.6687 - val_loss: 94.7951 - val_mae: 6.7559\n",
            "Epoch 82/300\n",
            "7/7 [==============================] - 0s 11ms/step - loss: 81.9371 - mae: 6.5408 - val_loss: 94.8338 - val_mae: 6.7558\n",
            "Epoch 83/300\n",
            "7/7 [==============================] - 0s 10ms/step - loss: 80.9538 - mae: 6.4799 - val_loss: 94.5870 - val_mae: 6.7564\n",
            "Epoch 84/300\n",
            "7/7 [==============================] - 0s 9ms/step - loss: 80.0791 - mae: 6.4881 - val_loss: 94.6144 - val_mae: 6.7563\n",
            "Epoch 85/300\n",
            "7/7 [==============================] - 0s 9ms/step - loss: 85.3404 - mae: 6.6057 - val_loss: 94.4913 - val_mae: 6.7570\n",
            "Epoch 86/300\n",
            "7/7 [==============================] - 0s 8ms/step - loss: 81.3756 - mae: 6.5482 - val_loss: 94.1723 - val_mae: 6.7596\n",
            "Epoch 87/300\n",
            "7/7 [==============================] - 0s 10ms/step - loss: 78.1908 - mae: 6.3540 - val_loss: 94.0921 - val_mae: 6.7603\n",
            "Epoch 88/300\n",
            "7/7 [==============================] - 0s 9ms/step - loss: 78.8874 - mae: 6.4247 - val_loss: 93.9996 - val_mae: 6.7611\n",
            "Epoch 89/300\n",
            "7/7 [==============================] - 0s 11ms/step - loss: 82.0090 - mae: 6.6284 - val_loss: 93.8409 - val_mae: 6.7624\n",
            "Epoch 90/300\n",
            "7/7 [==============================] - 0s 10ms/step - loss: 80.6532 - mae: 6.4628 - val_loss: 93.7356 - val_mae: 6.7634\n",
            "Epoch 91/300\n",
            "7/7 [==============================] - 0s 11ms/step - loss: 78.2388 - mae: 6.2900 - val_loss: 93.6616 - val_mae: 6.7640\n",
            "Epoch 92/300\n",
            "7/7 [==============================] - 0s 9ms/step - loss: 86.1489 - mae: 6.6517 - val_loss: 93.5896 - val_mae: 6.7647\n",
            "Epoch 93/300\n",
            "7/7 [==============================] - 0s 9ms/step - loss: 75.2988 - mae: 6.2907 - val_loss: 93.5543 - val_mae: 6.7650\n",
            "Epoch 94/300\n",
            "7/7 [==============================] - 0s 10ms/step - loss: 81.9616 - mae: 6.5918 - val_loss: 93.5067 - val_mae: 6.7658\n",
            "Epoch 95/300\n",
            "7/7 [==============================] - 0s 10ms/step - loss: 90.7166 - mae: 6.7840 - val_loss: 93.4175 - val_mae: 6.7695\n",
            "Epoch 96/300\n",
            "7/7 [==============================] - 0s 10ms/step - loss: 76.5987 - mae: 6.4027 - val_loss: 93.4082 - val_mae: 6.7698\n",
            "Epoch 97/300\n",
            "7/7 [==============================] - 0s 10ms/step - loss: 83.1909 - mae: 6.5584 - val_loss: 93.2787 - val_mae: 6.7752\n",
            "Epoch 98/300\n",
            "7/7 [==============================] - 0s 11ms/step - loss: 81.5903 - mae: 6.5057 - val_loss: 93.2678 - val_mae: 6.7757\n",
            "Epoch 99/300\n",
            "7/7 [==============================] - 0s 10ms/step - loss: 82.7941 - mae: 6.5235 - val_loss: 93.1564 - val_mae: 6.7808\n",
            "Epoch 100/300\n",
            "7/7 [==============================] - 0s 9ms/step - loss: 82.6607 - mae: 6.5859 - val_loss: 93.0120 - val_mae: 6.7882\n",
            "Epoch 101/300\n",
            "7/7 [==============================] - 0s 9ms/step - loss: 79.3954 - mae: 6.3787 - val_loss: 92.8531 - val_mae: 6.7975\n",
            "Epoch 102/300\n",
            "7/7 [==============================] - 0s 11ms/step - loss: 84.4809 - mae: 6.7326 - val_loss: 92.8541 - val_mae: 6.7975\n",
            "Epoch 103/300\n",
            "7/7 [==============================] - 0s 9ms/step - loss: 79.4726 - mae: 6.4610 - val_loss: 92.9442 - val_mae: 6.7917\n",
            "Epoch 104/300\n",
            "7/7 [==============================] - 0s 9ms/step - loss: 72.1087 - mae: 6.2282 - val_loss: 93.0797 - val_mae: 6.7847\n",
            "Epoch 105/300\n",
            "7/7 [==============================] - 0s 10ms/step - loss: 83.9588 - mae: 6.5330 - val_loss: 93.1772 - val_mae: 6.7798\n",
            "Epoch 106/300\n",
            "7/7 [==============================] - 0s 10ms/step - loss: 82.6214 - mae: 6.4710 - val_loss: 93.2279 - val_mae: 6.7774\n",
            "Epoch 107/300\n",
            "7/7 [==============================] - 0s 10ms/step - loss: 86.3952 - mae: 6.6793 - val_loss: 93.2107 - val_mae: 6.7781\n",
            "Epoch 108/300\n",
            "7/7 [==============================] - 0s 10ms/step - loss: 76.5505 - mae: 6.3994 - val_loss: 93.1928 - val_mae: 6.7790\n",
            "Epoch 109/300\n",
            "7/7 [==============================] - 0s 11ms/step - loss: 77.9090 - mae: 6.5128 - val_loss: 93.3105 - val_mae: 6.7739\n",
            "Epoch 110/300\n",
            "7/7 [==============================] - 0s 10ms/step - loss: 75.3406 - mae: 6.2458 - val_loss: 93.4049 - val_mae: 6.7700\n",
            "Epoch 111/300\n",
            "7/7 [==============================] - 0s 10ms/step - loss: 76.7414 - mae: 6.2790 - val_loss: 93.4671 - val_mae: 6.7674\n",
            "Epoch 112/300\n",
            "7/7 [==============================] - 0s 11ms/step - loss: 76.1497 - mae: 6.3457 - val_loss: 93.4114 - val_mae: 6.7697\n",
            "Epoch 113/300\n",
            "7/7 [==============================] - 0s 10ms/step - loss: 93.0986 - mae: 7.0746 - val_loss: 93.3724 - val_mae: 6.7713\n",
            "Epoch 114/300\n",
            "7/7 [==============================] - 0s 10ms/step - loss: 79.2378 - mae: 6.3284 - val_loss: 93.2909 - val_mae: 6.7747\n",
            "Epoch 115/300\n",
            "7/7 [==============================] - 0s 11ms/step - loss: 78.1980 - mae: 6.4724 - val_loss: 93.2773 - val_mae: 6.7753\n",
            "Epoch 116/300\n",
            "7/7 [==============================] - 0s 9ms/step - loss: 81.8191 - mae: 6.4233 - val_loss: 93.2319 - val_mae: 6.7772\n",
            "Epoch 117/300\n",
            "7/7 [==============================] - 0s 11ms/step - loss: 93.5846 - mae: 6.9345 - val_loss: 93.3979 - val_mae: 6.7703\n",
            "Epoch 118/300\n",
            "7/7 [==============================] - 0s 10ms/step - loss: 80.7405 - mae: 6.4871 - val_loss: 93.5369 - val_mae: 6.7652\n",
            "Epoch 119/300\n",
            "7/7 [==============================] - 0s 9ms/step - loss: 73.7800 - mae: 6.2383 - val_loss: 93.6186 - val_mae: 6.7644\n",
            "Epoch 120/300\n",
            "7/7 [==============================] - 0s 11ms/step - loss: 77.6569 - mae: 6.4013 - val_loss: 93.5751 - val_mae: 6.7648\n",
            "Epoch 121/300\n",
            "7/7 [==============================] - 0s 9ms/step - loss: 81.5814 - mae: 6.5106 - val_loss: 93.5427 - val_mae: 6.7651\n",
            "Epoch 122/300\n",
            "7/7 [==============================] - 0s 11ms/step - loss: 85.3445 - mae: 6.6186 - val_loss: 93.6509 - val_mae: 6.7641\n",
            "Epoch 123/300\n",
            "7/7 [==============================] - 0s 11ms/step - loss: 81.0230 - mae: 6.4699 - val_loss: 93.7960 - val_mae: 6.7628\n",
            "Epoch 124/300\n",
            "7/7 [==============================] - 0s 9ms/step - loss: 83.1027 - mae: 6.5443 - val_loss: 93.7028 - val_mae: 6.7637\n",
            "Epoch 125/300\n",
            "7/7 [==============================] - 0s 9ms/step - loss: 79.4693 - mae: 6.4088 - val_loss: 93.7061 - val_mae: 6.7636\n",
            "Epoch 126/300\n",
            "7/7 [==============================] - 0s 10ms/step - loss: 88.4039 - mae: 6.8089 - val_loss: 93.7462 - val_mae: 6.7633\n",
            "Epoch 127/300\n",
            "7/7 [==============================] - 0s 10ms/step - loss: 75.2131 - mae: 6.2048 - val_loss: 93.8903 - val_mae: 6.7620\n",
            "Epoch 128/300\n",
            "7/7 [==============================] - 0s 11ms/step - loss: 80.3257 - mae: 6.5184 - val_loss: 94.0573 - val_mae: 6.7606\n",
            "Epoch 129/300\n",
            "7/7 [==============================] - 0s 10ms/step - loss: 79.4508 - mae: 6.4764 - val_loss: 94.1492 - val_mae: 6.7598\n",
            "Epoch 130/300\n",
            "7/7 [==============================] - 0s 12ms/step - loss: 94.5816 - mae: 7.0135 - val_loss: 94.1695 - val_mae: 6.7596\n",
            "Epoch 131/300\n",
            "7/7 [==============================] - 0s 10ms/step - loss: 80.5355 - mae: 6.4300 - val_loss: 94.2219 - val_mae: 6.7592\n",
            "Epoch 132/300\n",
            "7/7 [==============================] - 0s 10ms/step - loss: 77.0839 - mae: 6.3253 - val_loss: 94.2132 - val_mae: 6.7593\n",
            "Epoch 133/300\n",
            "7/7 [==============================] - 0s 10ms/step - loss: 81.4467 - mae: 6.4676 - val_loss: 94.1526 - val_mae: 6.7598\n",
            "Epoch 134/300\n",
            "7/7 [==============================] - 0s 11ms/step - loss: 82.9175 - mae: 6.5404 - val_loss: 94.1042 - val_mae: 6.7602\n",
            "Epoch 135/300\n",
            "7/7 [==============================] - 0s 10ms/step - loss: 82.6879 - mae: 6.4535 - val_loss: 94.0443 - val_mae: 6.7607\n",
            "Epoch 136/300\n",
            "7/7 [==============================] - 0s 10ms/step - loss: 76.1396 - mae: 6.3074 - val_loss: 94.0194 - val_mae: 6.7609\n",
            "Epoch 137/300\n",
            "7/7 [==============================] - 0s 10ms/step - loss: 87.7724 - mae: 6.7539 - val_loss: 94.1099 - val_mae: 6.7601\n",
            "Epoch 138/300\n",
            "7/7 [==============================] - 0s 10ms/step - loss: 85.1909 - mae: 6.5438 - val_loss: 94.1753 - val_mae: 6.7596\n",
            "Epoch 139/300\n",
            "7/7 [==============================] - 0s 9ms/step - loss: 83.0711 - mae: 6.5895 - val_loss: 94.1985 - val_mae: 6.7594\n",
            "Epoch 140/300\n",
            "7/7 [==============================] - 0s 10ms/step - loss: 70.5357 - mae: 6.2450 - val_loss: 94.1930 - val_mae: 6.7595\n",
            "Epoch 141/300\n",
            "7/7 [==============================] - 0s 12ms/step - loss: 78.0600 - mae: 6.2825 - val_loss: 94.0618 - val_mae: 6.7605\n",
            "Epoch 142/300\n",
            "7/7 [==============================] - 0s 10ms/step - loss: 82.2830 - mae: 6.4505 - val_loss: 94.0866 - val_mae: 6.7603\n",
            "Epoch 143/300\n",
            "7/7 [==============================] - 0s 9ms/step - loss: 77.3577 - mae: 6.4139 - val_loss: 94.0885 - val_mae: 6.7603\n",
            "Epoch 144/300\n",
            "7/7 [==============================] - 0s 10ms/step - loss: 79.8736 - mae: 6.4290 - val_loss: 94.0844 - val_mae: 6.7604\n",
            "Epoch 145/300\n",
            "7/7 [==============================] - 0s 10ms/step - loss: 82.6193 - mae: 6.5099 - val_loss: 94.2681 - val_mae: 6.7588\n",
            "Epoch 146/300\n",
            "7/7 [==============================] - 0s 10ms/step - loss: 85.4499 - mae: 6.6048 - val_loss: 94.1500 - val_mae: 6.7598\n",
            "Epoch 147/300\n",
            "7/7 [==============================] - 0s 11ms/step - loss: 73.2127 - mae: 6.0859 - val_loss: 94.1590 - val_mae: 6.7597\n",
            "Epoch 148/300\n",
            "7/7 [==============================] - 0s 10ms/step - loss: 73.9755 - mae: 6.2188 - val_loss: 94.2772 - val_mae: 6.7588\n",
            "Epoch 149/300\n",
            "7/7 [==============================] - 0s 9ms/step - loss: 76.2702 - mae: 6.1809 - val_loss: 94.4403 - val_mae: 6.7574\n",
            "Epoch 150/300\n",
            "7/7 [==============================] - 0s 10ms/step - loss: 84.3210 - mae: 6.6611 - val_loss: 94.4100 - val_mae: 6.7577\n",
            "Epoch 151/300\n",
            "7/7 [==============================] - 0s 11ms/step - loss: 81.0507 - mae: 6.4530 - val_loss: 94.4709 - val_mae: 6.7572\n",
            "Epoch 152/300\n",
            "7/7 [==============================] - 0s 10ms/step - loss: 83.1054 - mae: 6.5832 - val_loss: 94.3510 - val_mae: 6.7582\n",
            "Epoch 153/300\n",
            "7/7 [==============================] - 0s 11ms/step - loss: 78.9055 - mae: 6.3845 - val_loss: 94.2125 - val_mae: 6.7593\n",
            "Epoch 154/300\n",
            "7/7 [==============================] - 0s 10ms/step - loss: 76.2116 - mae: 6.2678 - val_loss: 94.1674 - val_mae: 6.7597\n",
            "Epoch 155/300\n",
            "7/7 [==============================] - 0s 9ms/step - loss: 71.0768 - mae: 6.0552 - val_loss: 93.8509 - val_mae: 6.7624\n",
            "Epoch 156/300\n",
            "7/7 [==============================] - 0s 10ms/step - loss: 81.2887 - mae: 6.4701 - val_loss: 93.6366 - val_mae: 6.7643\n",
            "Epoch 157/300\n",
            "7/7 [==============================] - 0s 10ms/step - loss: 84.8106 - mae: 6.6352 - val_loss: 93.4935 - val_mae: 6.7664\n",
            "Epoch 158/300\n",
            "7/7 [==============================] - 0s 11ms/step - loss: 79.1130 - mae: 6.3967 - val_loss: 93.3872 - val_mae: 6.7707\n",
            "Epoch 159/300\n",
            "7/7 [==============================] - 0s 10ms/step - loss: 79.0134 - mae: 6.3985 - val_loss: 93.3220 - val_mae: 6.7734\n",
            "Epoch 160/300\n",
            "7/7 [==============================] - 0s 9ms/step - loss: 86.5337 - mae: 6.7663 - val_loss: 93.3356 - val_mae: 6.7729\n",
            "Epoch 161/300\n",
            "7/7 [==============================] - 0s 11ms/step - loss: 76.5524 - mae: 6.3140 - val_loss: 93.5104 - val_mae: 6.7657\n",
            "Epoch 162/300\n",
            "7/7 [==============================] - 0s 9ms/step - loss: 82.3427 - mae: 6.5131 - val_loss: 93.8386 - val_mae: 6.7625\n",
            "Epoch 163/300\n",
            "7/7 [==============================] - 0s 10ms/step - loss: 81.2182 - mae: 6.3823 - val_loss: 94.0154 - val_mae: 6.7609\n",
            "Epoch 164/300\n",
            "7/7 [==============================] - 0s 10ms/step - loss: 84.4124 - mae: 6.6982 - val_loss: 93.8749 - val_mae: 6.7621\n",
            "Epoch 165/300\n",
            "7/7 [==============================] - 0s 11ms/step - loss: 67.6240 - mae: 5.9421 - val_loss: 93.6355 - val_mae: 6.7643\n",
            "Epoch 166/300\n",
            "7/7 [==============================] - 0s 9ms/step - loss: 85.7556 - mae: 6.6693 - val_loss: 93.3851 - val_mae: 6.7708\n",
            "Epoch 167/300\n",
            "7/7 [==============================] - 0s 9ms/step - loss: 70.6704 - mae: 6.0629 - val_loss: 93.4466 - val_mae: 6.7683\n",
            "Epoch 168/300\n",
            "7/7 [==============================] - 0s 12ms/step - loss: 81.7197 - mae: 6.6322 - val_loss: 93.3048 - val_mae: 6.7741\n",
            "Epoch 169/300\n",
            "7/7 [==============================] - 0s 10ms/step - loss: 88.0680 - mae: 6.7554 - val_loss: 93.2062 - val_mae: 6.7784\n",
            "Epoch 170/300\n",
            "7/7 [==============================] - 0s 10ms/step - loss: 82.0181 - mae: 6.5353 - val_loss: 93.1285 - val_mae: 6.7822\n",
            "Epoch 171/300\n",
            "7/7 [==============================] - 0s 9ms/step - loss: 78.7368 - mae: 6.3883 - val_loss: 93.1333 - val_mae: 6.7820\n",
            "Epoch 172/300\n",
            "7/7 [==============================] - 0s 10ms/step - loss: 77.0170 - mae: 6.4066 - val_loss: 93.2468 - val_mae: 6.7766\n",
            "Epoch 173/300\n",
            "7/7 [==============================] - 0s 11ms/step - loss: 77.9529 - mae: 6.4919 - val_loss: 93.1648 - val_mae: 6.7804\n",
            "Epoch 174/300\n",
            "7/7 [==============================] - 0s 10ms/step - loss: 83.0606 - mae: 6.5024 - val_loss: 93.0736 - val_mae: 6.7850\n",
            "Epoch 175/300\n",
            "7/7 [==============================] - 0s 9ms/step - loss: 87.7934 - mae: 6.6651 - val_loss: 92.9209 - val_mae: 6.7930\n",
            "Epoch 176/300\n",
            "7/7 [==============================] - 0s 11ms/step - loss: 85.9281 - mae: 6.7458 - val_loss: 92.9761 - val_mae: 6.7901\n",
            "Epoch 177/300\n",
            "7/7 [==============================] - 0s 9ms/step - loss: 79.4846 - mae: 6.5161 - val_loss: 92.9199 - val_mae: 6.7930\n",
            "Epoch 178/300\n",
            "7/7 [==============================] - 0s 11ms/step - loss: 87.5089 - mae: 6.7337 - val_loss: 92.7988 - val_mae: 6.8013\n",
            "Epoch 179/300\n",
            "7/7 [==============================] - 0s 11ms/step - loss: 85.4700 - mae: 6.6711 - val_loss: 92.7325 - val_mae: 6.8059\n",
            "Epoch 180/300\n",
            "7/7 [==============================] - 0s 11ms/step - loss: 79.9402 - mae: 6.5069 - val_loss: 92.8090 - val_mae: 6.8006\n",
            "Epoch 181/300\n",
            "7/7 [==============================] - 0s 10ms/step - loss: 93.2865 - mae: 7.0401 - val_loss: 92.8169 - val_mae: 6.8000\n",
            "Epoch 182/300\n",
            "7/7 [==============================] - 0s 9ms/step - loss: 83.6017 - mae: 6.6643 - val_loss: 92.9158 - val_mae: 6.7933\n",
            "Epoch 183/300\n",
            "7/7 [==============================] - 0s 11ms/step - loss: 78.6660 - mae: 6.2870 - val_loss: 92.9233 - val_mae: 6.7928\n",
            "Epoch 184/300\n",
            "7/7 [==============================] - 0s 10ms/step - loss: 77.2471 - mae: 6.4726 - val_loss: 93.0498 - val_mae: 6.7862\n",
            "Epoch 185/300\n",
            "7/7 [==============================] - 0s 9ms/step - loss: 82.7001 - mae: 6.5584 - val_loss: 93.2009 - val_mae: 6.7786\n",
            "Epoch 186/300\n",
            "7/7 [==============================] - 0s 9ms/step - loss: 76.6056 - mae: 6.3907 - val_loss: 93.2924 - val_mae: 6.7747\n",
            "Epoch 187/300\n",
            "7/7 [==============================] - 0s 10ms/step - loss: 81.4216 - mae: 6.4069 - val_loss: 93.3154 - val_mae: 6.7737\n",
            "Epoch 188/300\n",
            "7/7 [==============================] - 0s 10ms/step - loss: 78.9391 - mae: 6.3908 - val_loss: 93.2653 - val_mae: 6.7758\n",
            "Epoch 189/300\n",
            "7/7 [==============================] - 0s 10ms/step - loss: 80.1967 - mae: 6.4048 - val_loss: 93.2243 - val_mae: 6.7776\n",
            "Epoch 190/300\n",
            "7/7 [==============================] - 0s 11ms/step - loss: 76.4347 - mae: 6.4462 - val_loss: 93.2719 - val_mae: 6.7755\n",
            "Epoch 191/300\n",
            "7/7 [==============================] - 0s 9ms/step - loss: 89.2764 - mae: 6.7223 - val_loss: 93.5516 - val_mae: 6.7650\n",
            "Epoch 192/300\n",
            "7/7 [==============================] - 0s 11ms/step - loss: 83.4009 - mae: 6.6153 - val_loss: 93.7624 - val_mae: 6.7631\n",
            "Epoch 193/300\n",
            "7/7 [==============================] - 0s 9ms/step - loss: 76.0056 - mae: 6.2989 - val_loss: 94.0268 - val_mae: 6.7608\n",
            "Epoch 194/300\n",
            "7/7 [==============================] - 0s 10ms/step - loss: 77.8696 - mae: 6.3539 - val_loss: 94.1483 - val_mae: 6.7598\n",
            "Epoch 195/300\n",
            "7/7 [==============================] - 0s 10ms/step - loss: 76.7605 - mae: 6.2052 - val_loss: 94.0399 - val_mae: 6.7607\n",
            "Epoch 196/300\n",
            "7/7 [==============================] - 0s 10ms/step - loss: 85.4030 - mae: 6.6294 - val_loss: 93.8167 - val_mae: 6.7627\n",
            "Epoch 197/300\n",
            "7/7 [==============================] - 0s 10ms/step - loss: 69.6114 - mae: 5.8851 - val_loss: 93.6362 - val_mae: 6.7643\n",
            "Epoch 198/300\n",
            "7/7 [==============================] - 0s 10ms/step - loss: 79.1179 - mae: 6.2747 - val_loss: 93.5937 - val_mae: 6.7647\n",
            "Epoch 199/300\n",
            "7/7 [==============================] - 0s 9ms/step - loss: 78.7532 - mae: 6.3579 - val_loss: 93.5611 - val_mae: 6.7650\n",
            "Epoch 200/300\n",
            "7/7 [==============================] - 0s 11ms/step - loss: 85.0113 - mae: 6.5728 - val_loss: 93.3011 - val_mae: 6.7743\n",
            "Epoch 201/300\n",
            "7/7 [==============================] - 0s 11ms/step - loss: 76.3483 - mae: 6.3598 - val_loss: 93.2963 - val_mae: 6.7745\n",
            "Epoch 202/300\n",
            "7/7 [==============================] - 0s 10ms/step - loss: 78.5615 - mae: 6.3967 - val_loss: 93.2970 - val_mae: 6.7745\n",
            "Epoch 203/300\n",
            "7/7 [==============================] - 0s 10ms/step - loss: 81.5511 - mae: 6.5601 - val_loss: 92.9468 - val_mae: 6.7916\n",
            "Epoch 204/300\n",
            "7/7 [==============================] - 0s 10ms/step - loss: 85.0440 - mae: 6.6142 - val_loss: 92.7509 - val_mae: 6.8046\n",
            "Epoch 205/300\n",
            "7/7 [==============================] - 0s 10ms/step - loss: 88.1993 - mae: 6.7388 - val_loss: 92.6995 - val_mae: 6.8083\n",
            "Epoch 206/300\n",
            "7/7 [==============================] - 0s 9ms/step - loss: 83.3976 - mae: 6.6079 - val_loss: 92.7614 - val_mae: 6.8039\n",
            "Epoch 207/300\n",
            "7/7 [==============================] - 0s 10ms/step - loss: 87.8173 - mae: 6.7973 - val_loss: 93.0121 - val_mae: 6.7882\n",
            "Epoch 208/300\n",
            "7/7 [==============================] - 0s 11ms/step - loss: 78.6297 - mae: 6.4589 - val_loss: 93.3069 - val_mae: 6.7741\n",
            "Epoch 209/300\n",
            "7/7 [==============================] - 0s 10ms/step - loss: 77.8301 - mae: 6.4611 - val_loss: 93.5771 - val_mae: 6.7648\n",
            "Epoch 210/300\n",
            "7/7 [==============================] - 0s 9ms/step - loss: 86.5955 - mae: 6.6515 - val_loss: 93.8771 - val_mae: 6.7621\n",
            "Epoch 211/300\n",
            "7/7 [==============================] - 0s 12ms/step - loss: 82.7899 - mae: 6.5218 - val_loss: 94.1731 - val_mae: 6.7596\n",
            "Epoch 212/300\n",
            "7/7 [==============================] - 0s 11ms/step - loss: 87.0931 - mae: 6.7730 - val_loss: 94.3974 - val_mae: 6.7578\n",
            "Epoch 213/300\n",
            "7/7 [==============================] - 0s 9ms/step - loss: 81.2857 - mae: 6.5087 - val_loss: 94.5970 - val_mae: 6.7564\n",
            "Epoch 214/300\n",
            "7/7 [==============================] - 0s 11ms/step - loss: 86.7264 - mae: 6.6477 - val_loss: 94.6802 - val_mae: 6.7561\n",
            "Epoch 215/300\n",
            "7/7 [==============================] - 0s 11ms/step - loss: 84.8803 - mae: 6.6298 - val_loss: 94.6739 - val_mae: 6.7562\n",
            "Epoch 216/300\n",
            "7/7 [==============================] - 0s 9ms/step - loss: 78.1025 - mae: 6.2037 - val_loss: 94.7957 - val_mae: 6.7559\n",
            "Epoch 217/300\n",
            "7/7 [==============================] - 0s 10ms/step - loss: 82.5086 - mae: 6.4976 - val_loss: 94.8188 - val_mae: 6.7558\n",
            "Epoch 218/300\n",
            "7/7 [==============================] - 0s 10ms/step - loss: 84.1903 - mae: 6.4950 - val_loss: 94.7209 - val_mae: 6.7560\n",
            "Epoch 219/300\n",
            "7/7 [==============================] - 0s 10ms/step - loss: 82.0249 - mae: 6.5266 - val_loss: 94.3713 - val_mae: 6.7580\n",
            "Epoch 220/300\n",
            "7/7 [==============================] - 0s 10ms/step - loss: 88.3322 - mae: 6.7396 - val_loss: 93.8799 - val_mae: 6.7621\n",
            "Epoch 221/300\n",
            "7/7 [==============================] - 0s 10ms/step - loss: 89.7567 - mae: 6.7964 - val_loss: 93.6343 - val_mae: 6.7643\n",
            "Epoch 222/300\n",
            "7/7 [==============================] - 0s 12ms/step - loss: 74.3054 - mae: 6.1876 - val_loss: 93.3798 - val_mae: 6.7710\n",
            "Epoch 223/300\n",
            "7/7 [==============================] - 0s 10ms/step - loss: 85.4221 - mae: 6.6945 - val_loss: 93.2552 - val_mae: 6.7762\n",
            "Epoch 224/300\n",
            "7/7 [==============================] - 0s 10ms/step - loss: 81.3514 - mae: 6.6131 - val_loss: 93.2538 - val_mae: 6.7763\n",
            "Epoch 225/300\n",
            "7/7 [==============================] - 0s 10ms/step - loss: 80.7859 - mae: 6.4028 - val_loss: 93.3581 - val_mae: 6.7719\n",
            "Epoch 226/300\n",
            "7/7 [==============================] - 0s 10ms/step - loss: 81.8601 - mae: 6.6387 - val_loss: 93.4234 - val_mae: 6.7692\n",
            "Epoch 227/300\n",
            "7/7 [==============================] - 0s 11ms/step - loss: 80.9891 - mae: 6.4808 - val_loss: 93.5708 - val_mae: 6.7649\n",
            "Epoch 228/300\n",
            "7/7 [==============================] - 0s 10ms/step - loss: 81.7106 - mae: 6.5352 - val_loss: 93.5749 - val_mae: 6.7648\n",
            "Epoch 229/300\n",
            "7/7 [==============================] - 0s 9ms/step - loss: 72.7933 - mae: 6.1108 - val_loss: 93.5510 - val_mae: 6.7650\n",
            "Epoch 230/300\n",
            "7/7 [==============================] - 0s 10ms/step - loss: 82.0917 - mae: 6.4690 - val_loss: 93.4343 - val_mae: 6.7688\n",
            "Epoch 231/300\n",
            "7/7 [==============================] - 0s 10ms/step - loss: 92.9738 - mae: 7.0398 - val_loss: 93.3808 - val_mae: 6.7710\n",
            "Epoch 232/300\n",
            "7/7 [==============================] - 0s 9ms/step - loss: 76.1554 - mae: 6.2550 - val_loss: 93.2730 - val_mae: 6.7755\n",
            "Epoch 233/300\n",
            "7/7 [==============================] - 0s 11ms/step - loss: 72.7584 - mae: 6.2227 - val_loss: 93.1059 - val_mae: 6.7834\n",
            "Epoch 234/300\n",
            "7/7 [==============================] - 0s 10ms/step - loss: 82.1978 - mae: 6.5348 - val_loss: 93.1820 - val_mae: 6.7796\n",
            "Epoch 235/300\n",
            "7/7 [==============================] - 0s 11ms/step - loss: 85.2612 - mae: 6.7028 - val_loss: 93.2048 - val_mae: 6.7784\n",
            "Epoch 236/300\n",
            "7/7 [==============================] - 0s 10ms/step - loss: 81.0816 - mae: 6.6494 - val_loss: 93.3091 - val_mae: 6.7740\n",
            "Epoch 237/300\n",
            "7/7 [==============================] - 0s 10ms/step - loss: 75.2598 - mae: 6.3221 - val_loss: 93.6416 - val_mae: 6.7642\n",
            "Epoch 238/300\n",
            "7/7 [==============================] - 0s 10ms/step - loss: 87.0080 - mae: 6.7081 - val_loss: 93.9353 - val_mae: 6.7616\n",
            "Epoch 239/300\n",
            "7/7 [==============================] - 0s 10ms/step - loss: 83.9196 - mae: 6.5561 - val_loss: 94.0116 - val_mae: 6.7610\n",
            "Epoch 240/300\n",
            "7/7 [==============================] - 0s 11ms/step - loss: 75.5937 - mae: 6.3038 - val_loss: 93.9898 - val_mae: 6.7612\n",
            "Epoch 241/300\n",
            "7/7 [==============================] - 0s 10ms/step - loss: 79.7089 - mae: 6.3053 - val_loss: 93.5588 - val_mae: 6.7650\n",
            "Epoch 242/300\n",
            "7/7 [==============================] - 0s 11ms/step - loss: 79.1989 - mae: 6.4503 - val_loss: 93.2439 - val_mae: 6.7767\n",
            "Epoch 243/300\n",
            "7/7 [==============================] - 0s 10ms/step - loss: 76.6946 - mae: 6.4837 - val_loss: 93.1430 - val_mae: 6.7815\n",
            "Epoch 244/300\n",
            "7/7 [==============================] - 0s 10ms/step - loss: 81.4779 - mae: 6.4395 - val_loss: 93.1549 - val_mae: 6.7809\n",
            "Epoch 245/300\n",
            "7/7 [==============================] - 0s 10ms/step - loss: 86.0969 - mae: 6.7209 - val_loss: 93.1748 - val_mae: 6.7799\n",
            "Epoch 246/300\n",
            "7/7 [==============================] - 0s 10ms/step - loss: 79.8164 - mae: 6.4535 - val_loss: 93.2935 - val_mae: 6.7746\n",
            "Epoch 247/300\n",
            "7/7 [==============================] - 0s 10ms/step - loss: 77.4578 - mae: 6.4198 - val_loss: 93.4798 - val_mae: 6.7669\n",
            "Epoch 248/300\n",
            "7/7 [==============================] - 0s 10ms/step - loss: 82.8276 - mae: 6.5684 - val_loss: 93.3023 - val_mae: 6.7742\n",
            "Epoch 249/300\n",
            "7/7 [==============================] - 0s 10ms/step - loss: 75.7886 - mae: 6.3233 - val_loss: 93.1800 - val_mae: 6.7797\n",
            "Epoch 250/300\n",
            "7/7 [==============================] - 0s 11ms/step - loss: 78.8073 - mae: 6.3807 - val_loss: 93.2591 - val_mae: 6.7761\n",
            "Epoch 251/300\n",
            "7/7 [==============================] - 0s 10ms/step - loss: 82.2023 - mae: 6.5927 - val_loss: 93.0878 - val_mae: 6.7843\n",
            "Epoch 252/300\n",
            "7/7 [==============================] - 0s 9ms/step - loss: 76.9492 - mae: 6.2646 - val_loss: 92.8214 - val_mae: 6.7997\n",
            "Epoch 253/300\n",
            "7/7 [==============================] - 0s 11ms/step - loss: 79.1802 - mae: 6.4656 - val_loss: 92.6990 - val_mae: 6.8083\n",
            "Epoch 254/300\n",
            "7/7 [==============================] - 0s 11ms/step - loss: 70.4809 - mae: 6.2665 - val_loss: 92.7999 - val_mae: 6.8012\n",
            "Epoch 255/300\n",
            "7/7 [==============================] - 0s 10ms/step - loss: 84.8331 - mae: 6.7082 - val_loss: 93.0198 - val_mae: 6.7878\n",
            "Epoch 256/300\n",
            "7/7 [==============================] - 0s 10ms/step - loss: 76.4887 - mae: 6.3247 - val_loss: 93.3130 - val_mae: 6.7738\n",
            "Epoch 257/300\n",
            "7/7 [==============================] - 0s 10ms/step - loss: 69.9712 - mae: 6.1723 - val_loss: 93.3028 - val_mae: 6.7742\n",
            "Epoch 258/300\n",
            "7/7 [==============================] - 0s 9ms/step - loss: 91.4914 - mae: 6.7853 - val_loss: 93.1592 - val_mae: 6.7807\n",
            "Epoch 259/300\n",
            "7/7 [==============================] - 0s 11ms/step - loss: 74.6411 - mae: 6.3571 - val_loss: 93.1856 - val_mae: 6.7794\n",
            "Epoch 260/300\n",
            "7/7 [==============================] - 0s 10ms/step - loss: 85.1917 - mae: 6.6352 - val_loss: 93.2177 - val_mae: 6.7778\n",
            "Epoch 261/300\n",
            "7/7 [==============================] - 0s 11ms/step - loss: 87.0763 - mae: 6.8219 - val_loss: 93.0827 - val_mae: 6.7846\n",
            "Epoch 262/300\n",
            "7/7 [==============================] - 0s 10ms/step - loss: 93.7406 - mae: 7.0678 - val_loss: 93.1961 - val_mae: 6.7789\n",
            "Epoch 263/300\n",
            "7/7 [==============================] - 0s 10ms/step - loss: 83.5581 - mae: 6.3652 - val_loss: 93.2180 - val_mae: 6.7778\n",
            "Epoch 264/300\n",
            "7/7 [==============================] - 0s 10ms/step - loss: 81.4290 - mae: 6.4531 - val_loss: 93.2938 - val_mae: 6.7746\n",
            "Epoch 265/300\n",
            "7/7 [==============================] - 0s 11ms/step - loss: 87.4002 - mae: 6.7284 - val_loss: 93.3798 - val_mae: 6.7710\n",
            "Epoch 266/300\n",
            "7/7 [==============================] - 0s 11ms/step - loss: 83.1337 - mae: 6.6232 - val_loss: 93.3562 - val_mae: 6.7720\n",
            "Epoch 267/300\n",
            "7/7 [==============================] - 0s 10ms/step - loss: 83.8685 - mae: 6.5209 - val_loss: 93.3373 - val_mae: 6.7728\n",
            "Epoch 268/300\n",
            "7/7 [==============================] - 0s 11ms/step - loss: 80.2348 - mae: 6.4972 - val_loss: 93.1663 - val_mae: 6.7803\n",
            "Epoch 269/300\n",
            "7/7 [==============================] - 0s 10ms/step - loss: 81.8528 - mae: 6.6316 - val_loss: 93.2241 - val_mae: 6.7776\n",
            "Epoch 270/300\n",
            "7/7 [==============================] - 0s 9ms/step - loss: 78.7183 - mae: 6.4388 - val_loss: 93.1197 - val_mae: 6.7827\n",
            "Epoch 271/300\n",
            "7/7 [==============================] - 0s 11ms/step - loss: 81.0211 - mae: 6.4892 - val_loss: 93.1541 - val_mae: 6.7809\n",
            "Epoch 272/300\n",
            "7/7 [==============================] - 0s 11ms/step - loss: 76.5037 - mae: 6.3113 - val_loss: 93.2562 - val_mae: 6.7762\n",
            "Epoch 273/300\n",
            "7/7 [==============================] - 0s 10ms/step - loss: 87.6790 - mae: 6.6741 - val_loss: 93.4748 - val_mae: 6.7671\n",
            "Epoch 274/300\n",
            "7/7 [==============================] - 0s 11ms/step - loss: 78.7391 - mae: 6.4808 - val_loss: 93.7063 - val_mae: 6.7636\n",
            "Epoch 275/300\n",
            "7/7 [==============================] - 0s 11ms/step - loss: 77.4782 - mae: 6.4198 - val_loss: 93.6164 - val_mae: 6.7644\n",
            "Epoch 276/300\n",
            "7/7 [==============================] - 0s 10ms/step - loss: 76.4181 - mae: 6.2724 - val_loss: 93.4879 - val_mae: 6.7666\n",
            "Epoch 277/300\n",
            "7/7 [==============================] - 0s 11ms/step - loss: 89.8232 - mae: 6.8789 - val_loss: 93.1917 - val_mae: 6.7791\n",
            "Epoch 278/300\n",
            "7/7 [==============================] - 0s 10ms/step - loss: 79.7746 - mae: 6.4160 - val_loss: 93.1049 - val_mae: 6.7834\n",
            "Epoch 279/300\n",
            "7/7 [==============================] - 0s 9ms/step - loss: 91.6467 - mae: 6.8662 - val_loss: 93.0496 - val_mae: 6.7863\n",
            "Epoch 280/300\n",
            "7/7 [==============================] - 0s 11ms/step - loss: 83.2662 - mae: 6.4807 - val_loss: 93.0741 - val_mae: 6.7850\n",
            "Epoch 281/300\n",
            "7/7 [==============================] - 0s 12ms/step - loss: 78.5402 - mae: 6.4698 - val_loss: 92.9955 - val_mae: 6.7891\n",
            "Epoch 282/300\n",
            "7/7 [==============================] - 0s 10ms/step - loss: 87.3751 - mae: 6.7393 - val_loss: 93.0778 - val_mae: 6.7848\n",
            "Epoch 283/300\n",
            "7/7 [==============================] - 0s 10ms/step - loss: 84.6717 - mae: 6.7073 - val_loss: 93.2980 - val_mae: 6.7744\n",
            "Epoch 284/300\n",
            "7/7 [==============================] - 0s 11ms/step - loss: 72.3390 - mae: 6.1650 - val_loss: 93.5450 - val_mae: 6.7651\n",
            "Epoch 285/300\n",
            "7/7 [==============================] - 0s 9ms/step - loss: 78.4889 - mae: 6.4620 - val_loss: 93.7403 - val_mae: 6.7633\n",
            "Epoch 286/300\n",
            "7/7 [==============================] - 0s 10ms/step - loss: 82.8025 - mae: 6.5133 - val_loss: 93.8677 - val_mae: 6.7622\n",
            "Epoch 287/300\n",
            "7/7 [==============================] - 0s 10ms/step - loss: 87.5630 - mae: 6.7025 - val_loss: 93.9084 - val_mae: 6.7619\n",
            "Epoch 288/300\n",
            "7/7 [==============================] - 0s 10ms/step - loss: 72.2163 - mae: 6.1357 - val_loss: 93.5628 - val_mae: 6.7649\n",
            "Epoch 289/300\n",
            "7/7 [==============================] - 0s 12ms/step - loss: 81.5922 - mae: 6.4837 - val_loss: 93.2250 - val_mae: 6.7775\n",
            "Epoch 290/300\n",
            "7/7 [==============================] - 0s 11ms/step - loss: 92.3421 - mae: 7.1012 - val_loss: 93.0605 - val_mae: 6.7857\n",
            "Epoch 291/300\n",
            "7/7 [==============================] - 0s 10ms/step - loss: 94.1978 - mae: 6.8688 - val_loss: 93.0460 - val_mae: 6.7864\n",
            "Epoch 292/300\n",
            "7/7 [==============================] - 0s 10ms/step - loss: 75.2331 - mae: 6.4125 - val_loss: 93.2468 - val_mae: 6.7766\n",
            "Epoch 293/300\n",
            "7/7 [==============================] - 0s 10ms/step - loss: 84.9762 - mae: 6.6353 - val_loss: 93.3015 - val_mae: 6.7743\n",
            "Epoch 294/300\n",
            "7/7 [==============================] - 0s 10ms/step - loss: 78.7968 - mae: 6.3803 - val_loss: 93.4842 - val_mae: 6.7667\n",
            "Epoch 295/300\n",
            "7/7 [==============================] - 0s 11ms/step - loss: 94.0025 - mae: 6.8810 - val_loss: 93.6311 - val_mae: 6.7643\n",
            "Epoch 296/300\n",
            "7/7 [==============================] - 0s 10ms/step - loss: 88.0292 - mae: 6.7468 - val_loss: 93.5717 - val_mae: 6.7649\n",
            "Epoch 297/300\n",
            "7/7 [==============================] - 0s 9ms/step - loss: 79.7454 - mae: 6.4401 - val_loss: 93.6913 - val_mae: 6.7638\n",
            "Epoch 298/300\n",
            "7/7 [==============================] - 0s 14ms/step - loss: 70.7523 - mae: 6.1221 - val_loss: 93.8440 - val_mae: 6.7624\n",
            "Epoch 299/300\n",
            "7/7 [==============================] - 0s 10ms/step - loss: 78.4827 - mae: 6.4662 - val_loss: 93.5656 - val_mae: 6.7649\n",
            "Epoch 300/300\n",
            "7/7 [==============================] - 0s 9ms/step - loss: 82.1271 - mae: 6.5111 - val_loss: 93.3111 - val_mae: 6.7739\n"
          ],
          "name": "stdout"
        }
      ]
    },
    {
      "cell_type": "code",
      "metadata": {
        "colab": {
          "base_uri": "https://localhost:8080/"
        },
        "id": "3PKx6Mn8zQex",
        "outputId": "f6446ce8-fcac-4d87-f7bc-28d85c74a2f5"
      },
      "source": [
        "result = model.evaluate(X_test, y_test)\n",
        "print('loss', result[0])\n",
        "print('mse', result[1])"
      ],
      "execution_count": 76,
      "outputs": [
        {
          "output_type": "stream",
          "text": [
            "4/4 [==============================] - 0s 3ms/step - loss: 105.8569 - mae: 7.4558\n",
            "loss 105.85693359375\n",
            "mse 7.455821514129639\n"
          ],
          "name": "stdout"
        }
      ]
    },
    {
      "cell_type": "code",
      "metadata": {
        "id": "LJz6cA0l4b8y"
      },
      "source": [
        ""
      ],
      "execution_count": null,
      "outputs": []
    }
  ]
}