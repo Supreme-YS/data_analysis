{
 "cells": [
  {
   "cell_type": "code",
   "execution_count": 2,
   "metadata": {},
   "outputs": [],
   "source": [
    "import matplotlib.pyplot as plt"
   ]
  },
  {
   "cell_type": "code",
   "execution_count": 4,
   "metadata": {},
   "outputs": [
    {
     "data": {
      "image/png": "[encoded data removed]",
      "text/plain": [
       "<Figure size 432x288 with 1 Axes>"
      ]
     },
     "metadata": {
      "needs_background": "light"
     },
     "output_type": "display_data"
    }
   ],
   "source": [
    "plt.hist([1,1,2,3,4,6,6,7,8,10])\n",
    "plt.show()"
   ]
  },
  {
   "cell_type": "code",
   "execution_count": 5,
   "metadata": {},
   "outputs": [],
   "source": [
    "import random"
   ]
  },
  {
   "cell_type": "code",
   "execution_count": 6,
   "metadata": {},
   "outputs": [
    {
     "name": "stdout",
     "output_type": "stream",
     "text": [
      "6\n"
     ]
    }
   ],
   "source": [
    "print(random.randint(1, 6))"
   ]
  },
  {
   "cell_type": "code",
   "execution_count": 11,
   "metadata": {},
   "outputs": [
    {
     "name": "stdout",
     "output_type": "stream",
     "text": [
      "[2, 1, 3, 1, 1]\n"
     ]
    }
   ],
   "source": [
    "dice = []\n",
    "\n",
    "for i in range(5) :\n",
    "    dice.append(random.randint(1,6))\n",
    "\n",
    "print(dice)"
   ]
  },
  {
   "cell_type": "code",
   "execution_count": 8,
   "metadata": {},
   "outputs": [
    {
     "data": {
      "image/png": "[encoded data removed]",
      "text/plain": [
       "<Figure size 432x288 with 1 Axes>"
      ]
     },
     "metadata": {
      "needs_background": "light"
     },
     "output_type": "display_data"
    }
   ],
   "source": [
    "plt.hist(dice, bins=6)\n",
    "plt.show()"
   ]
  },
  {
   "cell_type": "code",
   "execution_count": 14,
   "metadata": {},
   "outputs": [
    {
     "name": "stdout",
     "output_type": "stream",
     "text": [
      "[2, 3, 4, 6, 2, 6, 2, 1, 2, 6, 1, 4, 1, 5, 3, 4, 3, 6, 4, 5, 4, 4, 5, 2, 1, 5, 4, 5, 1, 6, 6, 3, 4, 1, 6, 2, 1, 5, 6, 1, 1, 3, 5, 3, 2, 5, 6, 5, 2, 4, 4, 1, 1, 3, 5, 5, 1, 5, 4, 1, 6, 1, 3, 3, 4, 6, 6, 4, 3, 3, 4, 5, 3, 1, 4, 4, 3, 6, 6, 5, 3, 5, 5, 5, 5, 1, 1, 2, 4, 6, 2, 3, 3, 1, 2, 4, 2, 4, 5, 2]\n"
     ]
    }
   ],
   "source": [
    "dice_two = []\n",
    "\n",
    "for i in range(100) :\n",
    "    dice_two.append(random.randint(1,6))\n",
    "\n",
    "print(dice_two)"
   ]
  },
  {
   "cell_type": "code",
   "execution_count": 20,
   "metadata": {},
   "outputs": [
    {
     "data": {
      "image/png": "[encoded data removed]",
      "text/plain": [
       "<Figure size 432x288 with 1 Axes>"
      ]
     },
     "metadata": {
      "needs_background": "light"
     },
     "output_type": "display_data"
    }
   ],
   "source": [
    "plt.hist(dice_two, bins=6)\n",
    "plt.show()"
   ]
  },
  {
   "cell_type": "code",
   "execution_count": 16,
   "metadata": {},
   "outputs": [
    {
     "name": "stdout",
     "output_type": "stream",
     "text": [
      "[4, 2, 3, 5, 6, 1, 5, 5, 1, 5, 1, 6, 5, 5, 6, 2, 2, 5, 6, 2, 6, 6, 5, 4, 4, 2, 1, 1, 4, 4, 2, 5, 5, 6, 1, 3, 4, 5, 5, 2, 4, 1, 3, 6, 4, 1, 2, 2, 4, 3, 5, 4, 1, 3, 5, 6, 1, 5, 5, 3, 3, 6, 4, 4, 1, 5, 4, 3, 5, 2, 3, 5, 3, 5, 5, 4, 1, 3, 4, 3, 4, 3, 6, 4, 5, 3, 6, 5, 2, 5, 6, 6, 6, 3, 1, 4, 3, 5, 3, 2, 6, 6, 2, 6, 1, 4, 4, 1, 5, 1, 5, 1, 6, 4, 2, 1, 6, 4, 2, 1, 1, 6, 1, 4, 4, 2, 2, 3, 6, 2, 4, 4, 4, 2, 3, 2, 6, 6, 6, 3, 5, 5, 3, 2, 3, 5, 2, 5, 5, 5, 4, 6, 3, 1, 3, 5, 5, 2, 4, 2, 1, 3, 6, 6, 1, 6, 1, 1, 2, 5, 5, 1, 5, 1, 1, 6, 5, 3, 6, 5, 5, 1, 5, 6, 2, 2, 3, 2, 1, 1, 3, 4, 2, 2, 5, 1, 5, 5, 1, 5, 4, 1, 3, 4, 5, 3, 3, 5, 5, 5, 5, 5, 6, 4, 4, 1, 6, 4, 1, 6, 6, 3, 2, 2, 2, 5, 4, 4, 5, 4, 4, 3, 6, 4, 3, 3, 1, 6, 6, 5, 6, 2, 5, 2, 4, 3, 6, 2, 2, 1, 4, 5, 2, 1, 2, 6, 6, 6, 5, 6, 4, 3, 4, 6, 3, 4, 6, 4, 3, 2, 2, 1, 1, 1, 4, 3, 1, 4, 3, 2, 2, 5, 4, 6, 4, 2, 2, 1, 2, 2, 1, 2, 4, 1, 1, 3, 2, 2, 6, 1, 6, 5, 4, 2, 3, 4, 4, 3, 2, 4, 3, 6, 1, 4, 6, 4, 5, 5, 4, 2, 1, 5, 5, 5, 6, 6, 6, 6, 4, 4, 2, 6, 3, 1, 2, 4, 6, 3, 3, 4, 2, 4, 2, 6, 3, 1, 5, 6, 5, 4, 5, 5, 6, 2, 5, 4, 5, 4, 1, 2, 2, 5, 2, 1, 6, 1, 1, 2, 4, 1, 3, 2, 1, 4, 3, 4, 2, 4, 4, 4, 4, 5, 6, 6, 1, 5, 5, 6, 1, 6, 6, 5, 2, 4, 6, 1, 1, 2, 2, 2, 3, 6, 1, 3, 6, 3, 3, 5, 5, 5, 3, 5, 4, 1, 5, 5, 6, 1, 1, 5, 4, 5, 1, 1, 2, 6, 5, 2, 3, 3, 4, 2, 6, 4, 2, 6, 3, 1, 5, 2, 1, 3, 4, 4, 1, 5, 5, 4, 1, 5, 3, 3, 5, 4, 4, 6, 2, 6, 4, 4, 5, 1, 6, 3, 3, 2, 2, 5, 3, 6, 1, 6, 6, 2, 3, 2, 2, 1, 1, 5, 6, 4, 4, 4, 3, 1, 4, 1, 5, 3, 3, 3, 3, 3, 1, 3, 5, 3, 6, 4, 3, 2, 5, 2, 3, 4, 5, 5, 6, 2, 3, 3, 6, 3, 3, 5, 3, 4, 2, 4, 3, 2, 1, 4, 5, 2, 5, 2, 6, 3, 1, 1, 4, 1, 2, 4, 2, 6, 1, 2, 2, 2, 5, 4, 1, 3, 1, 4, 1, 5, 5, 2, 6, 2, 1, 3, 4, 4, 2, 4, 3, 6, 3, 4, 5, 4, 3, 3, 1, 3, 4, 5, 6, 3, 4, 1, 1, 5, 5, 6, 4, 4, 1, 6, 6, 5, 5, 1, 5, 2, 4, 6, 3, 5, 6, 2, 4, 1, 3, 1, 6, 3, 4, 5, 4, 2, 6, 2, 6, 6, 4, 3, 4, 6, 1, 3, 4, 5, 6, 4, 6, 4, 5, 4, 4, 1, 5, 4, 3, 3, 6, 5, 4, 6, 6, 4, 2, 4, 4, 6, 3, 1, 6, 6, 5, 5, 2, 2, 4, 1, 2, 6, 6, 3, 6, 4, 5, 1, 4, 5, 4, 3, 6, 6, 2, 3, 2, 2, 2, 6, 6, 5, 5, 2, 5, 6, 4, 4, 5, 6, 3, 5, 1, 5, 2, 4, 6, 1, 1, 6, 3, 2, 5, 3, 1, 1, 6, 3, 5, 3, 4, 4, 1, 4, 5, 2, 5, 6, 4, 5, 1, 1, 2, 2, 1, 3, 4, 5, 3, 6, 6, 2, 4, 4, 1, 2, 2, 6, 2, 5, 2, 5, 2, 5, 6, 5, 5, 5, 6, 6, 3, 1, 5, 6, 2, 5, 1, 3, 2, 5, 3, 3, 1, 4, 5, 6, 2, 4, 5, 5, 5, 3, 6, 1, 4, 6, 2, 3, 4, 6, 2, 2, 1, 5, 6, 6, 3, 6, 5, 5, 5, 3, 2, 3, 6, 6, 6, 5, 3, 1, 1, 5, 4, 5, 5, 3, 3, 5, 6, 5, 6, 2, 4, 4, 5, 6, 1, 4, 2, 6, 3, 3, 2, 2, 2, 4, 1, 3, 4, 5, 3, 4, 6, 4, 1, 3, 4, 3, 5, 2, 4, 5, 4, 5, 2, 5, 1, 5, 3, 6, 2, 5, 6, 3, 6, 5, 5, 3, 6, 6, 6, 5, 5, 5, 3, 2, 1, 2, 1, 4, 5, 2, 1, 4, 6, 6, 1, 3, 3, 3, 4, 3, 1, 1, 6, 6, 3, 1, 1, 2, 5, 5, 3, 2, 2, 1, 4, 5, 6, 4, 2, 4, 6, 1, 2, 1, 6, 5, 4, 6, 1, 1, 4, 3, 6, 4, 2, 3, 4, 2, 5, 4, 1, 2, 3, 2, 4, 3, 6, 4, 2, 3, 5, 4, 4, 3, 2, 4, 2, 1, 2, 5, 3, 5, 3, 6, 1, 6, 3, 5, 4, 2, 1, 3, 2, 3, 2, 2, 3, 6, 3, 6, 1, 1, 2, 1, 5, 3, 3, 5, 4, 3, 6, 3, 3, 6, 2, 4, 1, 4, 6, 2, 3, 3, 4, 1, 4, 6, 1, 3, 2, 2, 2, 5, 2, 1, 2, 4, 6, 1, 4, 2, 2, 1, 2, 4, 4, 1, 5, 3, 2, 2, 6, 6, 5, 2, 6, 1, 5, 4, 3, 5, 2, 5, 4, 3, 6, 2, 1, 4, 5, 4, 1, 5, 3, 1, 4, 5, 5, 1, 5, 3, 1, 1, 3, 3, 1, 3, 5, 2, 2, 1, 2, 1, 3, 4, 3, 2, 3, 2, 4, 6, 1, 4, 3, 6, 4, 4, 4, 1, 6, 1, 1, 4, 3, 1, 6, 3, 3, 5, 1, 1, 1, 4, 4, 6, 1, 6, 6, 5, 1, 4, 4, 5, 2, 5, 4, 2, 1, 6, 3, 1, 5, 4, 6, 5, 5, 4, 6, 2, 4, 5, 6, 3, 5, 3, 2, 6, 6, 6, 5, 3, 5, 5, 4, 6, 6, 6, 6, 3, 3, 3, 2, 3, 3, 5, 6, 3, 5, 6, 4, 1, 2, 4, 2, 4, 2, 3, 4, 6, 2, 2, 2, 6, 1, 4, 2, 4, 6, 6, 1, 2, 3, 2, 2, 2, 2, 5, 6, 3, 6, 4, 1, 6, 3, 3, 3, 5, 3, 3, 4, 2, 4, 3, 3, 3, 2, 2, 5, 4, 3, 1, 3, 2, 1, 5, 4, 4, 1, 1, 4, 4, 1, 2, 5, 4, 6, 3, 4, 3, 3, 6, 3, 2, 4, 2, 3, 5, 1, 6, 6, 4, 6, 2, 4, 5, 5, 1, 2, 3, 4, 5, 5, 2, 3, 6, 6, 5, 6, 1, 1, 6, 4, 1, 2, 3, 5, 3, 3, 1, 4, 4, 6, 1, 2, 1, 3, 1, 4, 3, 1, 4, 3, 6, 6, 4, 3, 2, 4, 3, 6, 1, 3, 4, 5, 2, 2, 4, 6, 3, 1, 3, 2, 6, 4, 1, 4, 5, 4, 1, 5, 5, 4, 2, 4, 1, 3, 2, 5, 2, 2, 2, 5, 2, 2, 2, 3, 5, 5, 5, 2, 5, 1, 2, 5, 6, 1, 4, 6, 6, 2, 6, 4, 6, 5, 6, 2, 4, 1, 1, 4, 2, 4, 3, 2, 1, 6, 1, 4, 5, 5, 1, 6, 6, 1, 5, 2, 3, 6, 4, 6, 3, 4, 5, 5, 2, 2, 1, 6, 5, 3, 4, 3, 5, 2, 4, 4, 2, 4, 6, 1, 3, 4, 1, 3, 1, 6, 3, 5, 6, 2, 2, 4, 2, 3, 4, 1, 4, 5, 4, 6, 4, 2, 1, 3, 4, 4, 6, 3, 6, 5, 1, 5, 6, 2, 3, 4, 5, 2, 1, 6, 3, 3, 2, 6, 1, 5, 2, 6, 4, 6, 3, 6, 3, 1, 6, 1, 5, 4, 6, 6, 6, 6, 5, 1, 2, 2, 2, 5, 6, 6, 3, 1, 4, 6, 5, 3, 5, 5, 6, 6, 5, 3, 3, 4, 6, 3, 4, 3, 4, 4, 5, 4, 4, 1, 6, 6, 4, 1, 2, 5, 1, 5, 4, 3, 5, 6, 2, 1, 2, 4, 5, 3, 3, 6, 1, 5, 2, 3, 6, 3, 4, 6, 6, 5, 1, 5, 3, 2, 4, 3, 6, 4, 2, 2, 1, 4, 2, 3, 3, 3, 5, 6, 3, 1, 5, 5, 1, 6, 6, 5, 2, 4, 5, 2, 5, 2, 1, 6, 6, 4, 2, 1, 3, 4, 5, 6, 5, 5, 3, 4, 2, 2, 1, 2, 6, 5, 6, 2, 3, 2, 5, 6, 4, 4, 3, 5, 6, 1, 4, 6, 3, 1, 5, 4, 5, 3, 6, 1, 6, 6, 1, 3, 4, 4, 4, 5, 1, 4, 5, 2, 2, 4, 2, 2, 2, 5, 2, 3, 2, 2, 1, 2, 2, 3, 3, 1, 2, 1, 1, 3, 3, 4, 5, 3, 1, 3, 3, 4, 1, 2, 6, 3, 1, 2, 6, 1, 3, 3, 6, 3, 1, 6, 1, 1, 1, 2, 3, 5, 1, 1, 4, 6, 1, 4, 2, 6, 4, 2, 5, 4, 5, 3, 5, 4, 4, 6, 5, 3, 2, 6, 3, 3, 1, 1, 3, 4, 3, 2, 3, 5, 6, 3, 5, 4, 6, 1, 6, 5, 1, 4, 4, 2, 2, 6, 5, 3, 2, 1, 5, 1, 3, 2, 5, 3, 4, 5, 4, 3, 4, 4, 6, 5, 4, 2, 3, 5, 3, 3, 5, 6, 5, 5, 6, 5, 4, 2, 5, 3, 6, 2, 6, 3, 4, 3, 5, 6, 4, 2, 6, 1, 1, 2, 4, 1, 4, 6, 5, 6, 4, 1, 2, 4, 2, 3, 6, 6, 4, 1, 1, 1, 3, 2, 1, 4, 2, 6, 5, 6, 2, 1, 2, 4, 3, 3, 1, 6, 6, 5, 1, 6, 6, 5, 6, 1, 3, 2, 3, 3, 6, 2, 2, 5, 6, 3, 1, 1, 6, 1, 1, 1, 3, 5, 1, 6, 5, 1, 1, 2, 4, 5, 4, 2, 5, 4, 4, 6, 5, 5, 2, 2, 6, 6, 1, 4, 3, 1, 6, 5, 6, 2, 3, 2, 5, 3, 3, 4, 4, 3, 1, 1, 5, 4, 1, 1, 4, 3, 4, 2, 6, 6, 4, 3, 1, 5, 4, 3, 4, 5, 2, 6, 4, 5, 5, 3, 6, 2, 1, 3, 1, 2, 2, 3, 6, 4, 1, 3, 2, 1, 1, 6, 5, 4, 2, 2, 4, 5, 5, 4, 2, 4, 6, 5, 2, 1, 1, 2, 5, 1, 6, 5, 6, 1, 3, 6, 3, 4, 5, 3, 1, 1, 3, 2, 3, 4, 2, 5, 3, 1, 3, 3, 1, 6, 6, 2, 5, 1, 2, 6, 4, 3, 5, 3, 2, 4, 6, 2, 3, 3, 2, 6, 1, 5, 3, 4, 1, 1, 2, 5, 5, 4, 4, 5, 2, 1, 6, 3, 3, 2, 2, 2, 2, 1, 6, 2, 2, 2, 3, 6, 4, 4, 2, 2, 6, 2, 5, 3, 1, 6, 6, 3, 3, 3, 6, 5, 3, 1, 4, 1, 5, 1, 4, 4, 1, 1, 5, 4, 3, 2, 4, 5, 4, 4, 5, 4, 4, 1, 4, 6, 2, 3, 3, 2, 4, 3, 2, 1, 1, 4, 3, 6, 1, 3, 4, 4, 6, 2, 2, 3, 4, 6, 6, 2, 4, 6, 6, 2, 4, 5, 3, 6, 1, 5, 3, 4, 2, 1, 1, 5, 3, 4, 2, 5, 6, 2, 1, 4, 1, 2, 3, 6, 6, 4, 5, 3, 5, 4, 2, 2, 4, 1, 6, 3, 5, 3, 3, 1, 3, 1, 3, 4, 1, 6, 2, 1, 1, 1, 4, 2, 4, 2, 2, 1, 3, 1, 4, 4, 5, 2, 1, 1, 3, 5, 5, 5, 6, 2, 4, 3, 6, 3, 3, 2, 6, 5, 2, 2, 1, 5, 1, 1, 3, 6, 3, 3, 2, 2, 6, 2, 3, 4, 4, 4, 5, 3, 2, 3, 3, 6, 2, 2, 1, 5, 2, 4, 4, 1, 1, 1, 3, 5, 6, 1, 6, 6, 6, 1, 3, 5, 2, 3, 6, 2, 4, 5, 6, 3, 4, 1, 3, 4, 1, 2, 6, 2, 5, 2, 2, 1, 6, 5, 1, 4, 2, 3, 3, 3, 3, 6, 1, 4, 2, 2, 4, 4, 4, 4, 2, 4, 3, 3, 4, 2, 1, 6, 2, 3, 5, 6, 6, 2, 1, 4, 5, 1, 3, 1, 6, 2, 3, 5, 2, 6, 5, 2, 3, 3, 1, 1, 3, 6, 1, 2, 4, 3, 4, 6, 3, 3, 2, 4, 2, 6, 5, 3, 6, 5, 2, 3, 4, 6, 1, 5, 4, 5, 4, 6, 3, 1, 5, 5, 2, 5, 5, 1, 5, 1, 2, 5, 4, 4, 3, 4, 5, 3, 2, 1, 1, 6, 6, 5, 3, 6, 3, 5, 6, 6, 2, 4, 6, 6, 5, 3, 2, 6, 2, 3, 3, 6, 2, 4, 6, 1, 3, 1, 4, 3, 3, 5, 6, 6, 4, 5, 6, 5, 2, 6, 6, 3, 1, 1, 5, 4, 4, 5, 6, 2, 3, 2, 4, 4, 4, 6, 1, 5, 4, 2, 2, 5, 3, 4, 1, 1, 4, 2, 4, 2, 2, 1, 4, 6, 4, 5, 4, 4, 3, 1, 2, 5, 5, 1, 5, 5, 1, 3, 2, 2, 1, 5, 5, 6, 5, 3, 3, 3, 4, 1, 1, 3, 1, 1, 3, 6, 5, 5, 2, 1, 1, 1, 6, 4, 2, 1, 1, 6, 6, 1, 2, 1, 5, 2, 2, 2, 4, 4, 1, 3, 4, 6, 6, 6, 5, 3, 1, 4, 6, 2, 4, 4, 3, 1, 1, 3, 5, 1, 5, 1, 3, 5, 5, 3, 4, 6, 4, 3, 5, 2, 5, 1, 1, 5, 4, 3, 6, 3, 2, 6, 4, 5, 1, 4, 1, 6, 1, 2, 3, 2, 4, 6, 3, 3, 1, 6, 4, 5, 1, 2, 5, 5, 1, 4, 3, 3, 4, 5, 2, 3, 1, 4, 3, 1, 4, 3, 1, 5, 4, 4, 1, 6, 5, 6, 1, 1, 3, 4, 4, 4, 2, 2, 5, 3, 4, 6, 4, 2, 1, 6, 3, 4, 2, 4, 4, 1, 5, 6, 6, 5, 6, 6, 5, 3, 2, 1, 1, 1, 3, 4, 5, 3, 5, 3, 3, 5, 2, 3, 6, 1, 4, 6, 4, 3, 3, 3, 1, 5, 6, 6, 4, 6, 1, 2, 3, 4, 2, 3, 3, 2, 4, 5, 2, 1, 1, 4, 3, 5, 3, 3, 4, 6, 1, 5, 5, 2, 6, 2, 5, 4, 4, 2, 2, 4, 6, 4, 1, 2, 3, 5, 4, 6, 6, 3, 6, 4, 5, 1, 3, 6, 3, 3, 2, 3, 6, 2, 2, 6, 1, 3, 4, 4, 5, 3, 5, 5, 1, 6, 5, 6, 6, 4, 2, 5, 2, 1, 1, 4, 1, 1, 1, 1, 4, 6, 1, 2, 2, 3, 1, 5, 5, 2, 2, 5, 3, 4, 3, 3, 2, 2, 3, 3, 3, 5, 6, 5, 6, 3, 2, 6, 2, 5, 3, 2, 5, 6, 6, 2, 3, 2, 4, 1, 3, 5, 2, 3, 2, 1, 3, 2, 1, 6, 6, 1, 1, 2, 6, 6, 2, 5, 5, 2, 3, 3, 3, 5, 5, 4, 2, 2, 2, 2, 6, 2, 6, 5, 4, 6, 1, 5, 1, 2, 4, 3, 4, 5, 3, 6, 6, 5, 6, 6, 2, 1, 1, 1, 4, 4, 3, 6, 6, 6, 3, 3, 4, 1, 5, 4, 6, 3, 4, 5, 1, 4, 4, 5, 5, 6, 6, 6, 2, 4, 1, 6, 1, 5, 1, 4, 6, 3, 4, 5, 1, 4, 3, 4, 4, 1, 1, 6, 5, 1, 1, 6, 4, 6, 5, 4, 2, 5, 1, 6, 2, 3, 6, 2, 3, 3, 5, 2, 2, 3, 4, 5, 1, 5, 6, 2, 1, 1, 2, 5, 5, 6, 5, 5, 2, 5, 4, 5, 3, 3, 3, 2, 3, 5, 6, 5, 4, 3, 5, 1, 1, 4, 1, 3, 5, 2, 6, 5, 2, 4, 5, 4, 4, 2, 2, 4, 2, 5, 5, 2, 6, 5, 1, 5, 3, 6, 6, 5, 5, 2, 6, 1, 5, 1, 2, 1, 5, 3, 3, 4, 6, 1, 1, 2, 4, 6, 6, 3, 1, 1, 4, 6, 3, 3, 4, 1, 1, 5, 5, 1, 2, 5, 4, 3, 6, 6, 6, 2, 1, 1, 1, 3, 1, 2, 3, 5, 2, 5, 1, 4, 6, 2, 6, 4, 1, 1, 5, 4, 3, 2, 6, 5, 1, 6, 3, 2, 5, 3, 2, 5, 6, 5, 2, 4, 6, 3, 1, 2, 1, 5, 2, 5, 5, 4, 4, 1, 2, 4, 3, 6, 6, 4, 4, 4, 1, 1, 6, 6, 5, 3, 2, 1, 3, 1, 1, 6, 5, 5, 6, 5, 3, 6, 1, 2, 1, 2, 6, 3, 1, 3, 3, 2, 6, 2, 6, 3, 3, 5, 2, 5, 5, 2, 4, 6, 6, 1, 5, 1, 2, 5, 5, 3, 2, 2, 5, 3, 3, 1, 5, 2, 3, 1, 1, 2, 1, 3, 6, 4, 2, 1, 6, 4, 6, 4, 6, 1, 6, 3, 6, 2, 6, 1, 3, 2, 2, 1, 5, 5, 4, 1, 1, 5, 4, 1, 3, 2, 6, 5, 2, 3, 1, 1, 6, 2, 5, 1, 4, 2, 2, 4, 4, 5, 1, 5, 3, 4, 2, 1, 6, 4, 5, 6, 6, 1, 4, 4, 3, 4, 5, 2, 5, 5, 3, 2, 1, 3, 1, 3, 3, 6, 4, 6, 2, 3, 3, 6, 6, 4, 3, 6, 1, 5, 6, 4, 4, 3, 2, 4, 6, 5, 2, 4, 5, 2, 2, 3, 4, 4, 3, 1, 5, 2, 1, 2, 6, 2, 3, 4, 5, 5, 4, 2, 4, 6, 4, 5, 4, 4, 4, 2, 2, 6, 5, 2, 3, 4, 3, 4, 3, 3, 2, 1, 5, 3, 4, 3, 3, 3, 6, 3, 2, 6, 5, 2, 2, 5, 4, 2, 2, 5, 2, 2, 1, 3, 4, 3, 3, 6, 5, 6, 1, 2, 4, 2, 5, 3, 3, 3, 5, 3, 5, 4, 6, 4, 1, 2, 5, 5, 2, 4, 4, 4, 4, 3, 3, 6, 6, 3, 6, 5, 5, 2, 4, 4, 4, 3, 6, 3, 3, 3, 3, 5, 1, 3, 3, 2, 1, 5, 6, 2, 6, 2, 2, 1, 2, 3, 3, 5, 2, 1, 4, 4, 6, 6, 4, 3, 4, 6, 1, 5, 5, 5, 2, 6, 4, 5, 3, 3, 5, 1, 3, 6, 5, 3, 6, 3, 6, 5, 4, 1, 5, 5, 6, 2, 5, 2, 2, 2, 2, 6, 1, 4, 6, 5, 1, 4, 3, 5, 5, 4, 6, 3, 3, 6, 3, 3, 3, 4, 3, 4, 5, 1, 2, 5, 3, 6, 6, 3, 3, 2, 3, 5, 5, 5, 6, 1, 1, 5, 2, 1, 5, 2, 4, 5, 6, 5, 5, 3, 1, 5, 4, 1, 1, 3, 1, 2, 1, 2, 2, 6, 2, 4, 3, 3, 5, 5, 4, 1, 6, 1, 5, 2, 6, 1, 3, 1, 1, 3, 6, 4, 1, 2, 3, 1, 6, 4, 3, 6, 2, 1, 4, 6, 6, 5, 4, 2, 4, 3, 3, 6, 6, 4, 5, 6, 1, 4, 1, 6, 6, 6, 5, 5, 4, 4, 1, 4, 6, 2, 3, 4, 3, 1, 6, 2, 4, 2, 2, 4, 5, 6, 3, 1, 5, 4, 6, 4, 4, 2, 4, 2, 4, 4, 1, 4, 1, 3, 3, 2, 4, 2, 3, 6, 5, 5, 5, 5, 2, 6, 6, 2, 1, 2, 1, 6, 5, 2, 4, 6, 3, 6, 5, 5, 2, 1, 3, 1, 2, 6, 5, 3, 3, 2, 6, 2, 4, 5, 5, 4, 3, 4, 5, 1, 5, 4, 3, 5, 4, 5, 4, 2, 3, 4, 2, 6, 2, 6, 5, 2, 3, 6, 4, 3, 2, 4, 4, 2, 6, 2, 2, 3, 2, 5, 3, 3, 2, 5, 4, 5, 4, 6, 2, 6, 4, 6, 4, 1, 3, 5, 4, 6, 5, 2, 3, 1, 2, 4, 5, 4, 4, 4, 3, 5, 6, 3, 4, 4, 6, 2, 5, 4, 4, 5, 3, 2, 1, 1, 1, 2, 1, 4, 2, 1, 1, 6, 4, 5, 6, 2, 5, 3, 5, 2, 1, 1, 2, 3, 5, 6, 2, 4, 4, 1, 5, 5, 6, 3, 4, 5, 5, 1, 4, 1, 5, 6, 1, 3, 3, 4, 6, 6, 3, 3, 2, 2, 3, 1, 6, 3, 4, 3, 4, 5, 5, 1, 6, 6, 1, 1, 2, 1, 3, 1, 4, 6, 1, 3, 2, 5, 1, 1, 6, 5, 1, 2, 4, 3, 2, 6, 4, 6, 1, 1, 6, 3, 2, 5, 6, 5, 2, 6, 4, 6, 3, 2, 4, 6, 5, 6, 4, 5, 4, 4, 1, 3, 4, 6, 1, 2, 3, 6, 6, 5, 5, 5, 5, 5, 5, 6, 2, 3, 6, 2, 2, 6, 4, 1, 5, 2, 6, 4, 6, 5, 6, 4, 5, 5, 4, 2, 4, 1, 4, 5, 3, 2, 3, 1, 5, 2, 6, 3, 5, 6, 2, 2, 6, 6, 3, 6, 1, 3, 4, 2, 2, 6, 4, 5, 6, 4, 2, 3, 6, 3, 1, 2, 6, 5, 6, 5, 6, 6, 3, 5, 3, 2, 1, 3, 4, 4, 1, 5, 3, 3, 5, 4, 6, 4, 5, 1, 3, 1, 6, 4, 6, 3, 1, 3, 4, 4, 6, 6, 2, 4, 6, 3, 4, 1, 4, 1, 6, 2, 5, 4, 3, 4, 5, 3, 2, 6, 6, 5, 2, 6, 6, 2, 3, 4, 5, 5, 2, 6, 2, 4, 6, 5, 2, 5, 6, 6, 1, 1, 2, 6, 5, 2, 2, 5, 4, 3, 5, 2, 4, 5, 2, 6, 4, 5, 6, 5, 2, 4, 5, 5, 5, 2, 1, 5, 3, 4, 4, 4, 5, 5, 2, 4, 3, 5, 2, 4, 3, 2, 5, 5, 6, 3, 5, 4, 6, 1, 5, 2, 1, 1, 4, 6, 3, 1, 5, 5, 3, 4, 6, 1, 3, 4, 5, 5, 3, 2, 3, 3, 5, 2, 4, 5, 4, 1, 6, 2, 4, 4, 2, 6, 6, 3, 5, 4, 1, 3, 6, 4, 6, 2, 6, 4, 5, 4, 2, 2, 2, 3, 1, 5, 2, 3, 4, 4, 5, 1, 6, 3, 3, 4, 3, 6, 2, 5, 3, 6, 5, 6, 5, 4, 3, 2, 5, 4, 3, 5, 5, 4, 6, 3, 5, 5, 1, 3, 2, 6, 1, 4, 5, 6, 3, 4, 5, 3, 4, 2, 4, 5, 6, 2, 2, 3, 5, 2, 2, 1, 1, 1, 4, 3, 1, 6, 3, 6, 5, 4, 3, 4, 5, 2, 2, 5, 1, 5, 3, 1, 5, 3, 2, 4, 4, 4, 5, 2, 3, 2, 5, 5, 2, 2, 1, 6, 5, 1, 3, 6, 3, 4, 6, 3, 5, 6, 3, 4, 4, 1, 4, 1, 3, 4, 5, 2, 6, 4, 2, 1, 5, 4, 5, 2, 2, 4, 6, 5, 4, 4, 1, 6, 6, 1, 3, 2, 3, 1, 4, 2, 3, 5, 1, 1, 4, 1, 3, 1, 4, 5, 5, 3, 6, 6, 5, 3, 3, 4, 3, 5, 2, 4, 3, 1, 6, 5, 5, 3, 4, 5, 2, 6, 1, 6, 4, 1, 5, 3, 1, 2, 4, 5, 5, 2, 3, 2, 2, 5, 6, 1, 2, 5, 1, 4, 4, 6, 2, 5, 6, 3, 6, 6, 4, 5, 5, 3, 4, 1, 1, 4, 2, 6, 3, 5, 3, 6, 6, 2, 1, 1, 3, 1, 4, 2, 2, 5, 3, 2, 6, 3, 6, 5, 6, 1, 2, 3, 6, 4, 3, 6, 2, 3, 5, 1, 2, 5, 4, 2, 2, 6, 3, 6, 2, 4, 5, 4, 4, 6, 6, 1, 2, 4, 6, 6, 2, 5, 2, 1, 2, 6, 6, 3, 4, 3, 2, 6, 3, 1, 5, 5, 5, 5, 6, 3, 4, 5, 6, 2, 4, 5, 2, 3, 3, 2, 1, 2, 5, 3, 5, 6, 1, 6, 4, 1, 2, 2, 2, 3, 5, 2, 3, 3, 3, 2, 3, 2, 5, 5, 5, 5, 3, 2, 4, 5, 2, 4, 6, 1, 2, 3, 2, 3, 5, 4, 4, 6, 3, 3, 5, 6, 3, 2, 4, 3, 4, 1, 5, 1, 5, 6, 6, 1, 2, 4, 5, 1, 2, 2, 3, 6, 6, 1, 6, 1, 4, 1, 5, 1, 4, 5, 4, 6, 2, 2, 3, 2, 2, 5, 4, 3, 1, 1, 4, 3, 5, 2, 4, 2, 4, 5, 2, 3, 4, 6, 3, 3, 1, 1, 6, 6, 2, 5, 2, 4, 3, 4, 2, 3, 6, 1, 4, 3, 2, 2, 4, 4, 5, 1, 3, 5, 4, 1, 2, 5, 3, 3, 2, 1, 6, 6, 6, 1, 2, 4, 1, 4, 2, 1, 6, 2, 2, 3, 5, 6, 6, 4, 5, 4, 2, 4, 1, 6, 4, 5, 3, 5, 6, 2, 6, 6, 5, 4, 5, 1, 2, 6, 6, 3, 5, 4, 4, 4, 5, 6, 1, 2, 4, 5, 2, 1, 4, 4, 1, 1, 1, 2, 2, 1, 5, 4, 4, 1, 1, 6, 3, 1, 3, 4, 6, 2, 5, 1, 4, 6, 2, 5, 2, 1, 4, 3, 5, 5, 4, 6, 6, 5, 3, 4, 2, 2, 5, 4, 4, 2, 3, 1, 3, 5, 5, 2, 4, 6, 4, 4, 3, 5, 2, 1, 1, 2, 1, 1, 2, 2, 3, 6, 3, 3, 2, 1, 6, 4, 5, 2, 6, 5, 3, 5, 3, 4, 2, 5, 6, 6, 4, 1, 1, 6, 5, 5, 3, 4, 1, 5, 6, 6, 5, 3, 6, 6, 2, 3, 6, 1, 6, 6, 4, 5, 4, 4, 6, 2, 4, 3, 6, 4, 2, 5, 4, 3, 6, 4, 2, 4, 4, 4, 4, 1, 4, 5, 4, 6, 3, 4, 3, 3, 1, 1, 4, 2, 1, 1, 1, 1, 5, 1, 2, 3, 1, 6, 2, 1, 4, 3, 5, 5, 4, 5, 3, 4, 6, 4, 2, 4, 5, 4, 2, 3, 5, 1, 6, 4, 2, 2, 3, 3, 6, 3, 1, 2, 3, 1, 1, 2, 5, 2, 5, 2, 5, 3, 5, 1, 4, 2, 4, 5, 4, 3, 3, 1, 6, 5, 6, 4, 5, 3, 1, 5, 4, 5, 3, 1, 4, 1, 6, 3, 2, 4, 1, 6, 6, 6, 1, 1, 1, 5, 5, 6, 3, 2, 5, 4, 3, 2, 4, 4, 4, 2, 6, 5, 4, 4, 4, 6, 6, 4, 6, 1, 3, 4, 6, 2, 4, 6, 3, 3, 3, 4, 6, 3, 1, 1, 1, 6, 2, 6, 2, 1, 6, 3, 6, 3, 6, 3, 2, 3, 5, 5, 1, 3, 2, 4, 2, 6, 1, 4, 4, 5, 3, 2, 1, 4, 1, 2, 5, 1, 2, 4, 4, 1, 4, 5, 5, 3, 5, 4, 1, 5, 4, 6, 5, 5, 1, 3, 6, 3, 5, 5, 6, 2, 5, 2, 6, 1, 6, 2, 2, 5, 3, 1, 3, 3, 4, 1, 1, 6, 4, 1, 3, 6, 6, 5, 3, 6, 1, 6, 1, 3, 3, 6, 1, 3, 3, 6, 1, 4, 5, 3, 1, 6, 3, 5, 3, 1, 4, 3, 4, 4, 3, 3, 3, 1, 4, 1, 1, 2, 1, 1, 2, 5, 5, 1, 4, 1, 4, 5, 5, 1, 5, 2, 6, 4, 6, 1, 2, 4, 5, 3, 5, 6, 6, 4, 2, 1, 6, 5, 4, 1, 2, 2, 6, 4, 3, 4, 6, 5, 3, 1, 6, 2, 6, 1, 4, 1, 2, 2, 3, 4, 4, 2, 2, 1, 6, 4, 2, 3, 5, 2, 6, 2, 1, 5, 1, 6, 1, 2, 3, 2, 1, 5, 3, 2, 2, 3, 5, 1, 3, 4, 3, 3, 6, 2, 4, 1, 2, 3, 4, 5, 3, 6, 6, 1, 6, 6, 6, 1, 2, 3, 5, 2, 2, 2, 6, 4, 1, 2, 3, 4, 5, 2, 2, 6, 4, 4, 6, 2, 1, 2, 4, 6, 6, 4, 6, 1, 3, 3, 5, 1, 4, 3, 3, 4, 4, 4, 6, 6, 4, 5, 3, 1, 5, 4, 4, 4, 1, 1, 5, 1, 1, 6, 6, 2, 6, 2, 3, 2, 3, 1, 4, 4, 5, 5, 6, 2, 6, 2, 5, 4, 3, 6, 5, 4, 6, 3, 5, 4, 2, 1, 4, 1, 3, 5, 1, 4, 4, 1, 5, 4, 2, 4, 4, 2, 3, 4, 4, 4, 1, 6, 4, 2, 5, 3, 1, 4, 1, 3, 6, 6, 6, 5, 4, 2, 1, 6, 1, 2, 2, 2, 3, 3, 5, 6, 5, 1, 3, 6, 1, 6, 2, 2, 3, 4, 6, 3, 1, 6, 6, 5, 1, 4, 4, 1, 3, 1, 4, 6, 1, 3, 5, 1, 2, 6, 2, 1, 4, 6, 3, 1, 3, 4, 5, 5, 4, 4, 4, 1, 5, 3, 4, 1, 6, 3, 3, 4, 3, 2, 6, 2, 1, 6, 3, 4, 3, 1, 2, 4, 5, 1, 1, 2, 4, 3, 4, 2, 2, 4, 3, 6, 3, 4, 3, 5, 3, 5, 5, 5, 6, 2, 4, 5, 2, 4, 2, 5, 5, 6, 6, 3, 6, 1, 4, 2, 1, 5, 3, 5, 3, 5, 4, 3, 5, 6, 2, 6, 4, 5, 2, 1, 3, 1, 2, 6, 3, 3, 3, 6, 5, 4, 6, 5, 4, 5, 5, 5, 4, 4, 1, 1, 4, 4, 4, 6, 1, 1, 5, 5, 6, 2, 3, 6, 6, 6, 5, 2, 1, 6, 4, 2, 1, 1, 1, 2, 6, 2, 2, 5, 1, 5, 2, 2, 2, 1, 1, 4, 5, 2, 5, 2, 6, 6, 5, 3, 3, 6, 5, 1, 3, 2, 5, 3, 1, 1, 4, 2, 1, 3, 2, 1, 5, 3, 3, 5, 5, 2, 2, 1, 1, 2, 3, 1, 1, 3, 1, 5, 2, 5, 4, 1, 5, 1, 2, 5, 5, 5, 1, 3, 2, 1, 6, 2, 1, 5, 4, 1, 6, 4, 5, 5, 5, 4, 1, 6, 1, 3, 5, 5, 4, 6, 6, 5, 4, 3, 1, 5, 4, 5, 3, 2, 5, 1, 2, 2, 4, 5, 2, 1, 3, 2, 6, 6, 5, 1, 1, 4, 5, 2, 5, 4, 4, 4, 1, 1, 5, 2, 4, 3, 1, 2, 2, 2, 1, 6, 4, 4, 5, 1, 4, 3, 6, 6, 3, 6, 6, 6, 5, 2, 2, 3, 5, 1, 5, 4, 2, 2, 4, 4, 2, 1, 4, 3, 3, 5, 3, 4, 3, 6, 1, 3, 4, 5, 2, 4, 4, 2, 2, 1, 6, 2, 4, 3, 1, 5, 1, 2, 2, 1, 6, 4, 3, 3, 5, 6, 2, 1, 2, 3, 1, 4, 1, 6, 3, 6, 4, 5, 3, 4, 1, 3, 6, 6, 1, 2, 4, 1, 2, 3, 2, 1, 5, 3, 6, 4, 4, 2, 2, 3, 6, 4, 5, 6, 2, 5, 1, 6, 4, 5, 2, 6, 3, 6, 6, 2, 2, 4, 5, 1, 3, 5, 2, 1, 1, 5, 5, 5, 3, 5, 1, 1, 6, 3, 3, 1, 6, 5, 6, 1, 6, 6, 4, 1, 2, 5, 4, 3, 2, 5, 1, 1, 2, 3, 3, 2, 1, 1, 2, 1, 2, 1, 6, 5, 3, 6, 5, 3, 6, 4, 5, 6, 4, 5, 5, 4, 1, 3, 5, 2, 6, 3, 4, 4, 3, 6, 2, 5, 3, 1, 3, 4, 5, 4, 2, 6, 5, 5, 2, 1, 3, 5, 6, 6, 5, 5, 5, 1, 2, 3, 1, 3, 5, 3, 4, 6, 3, 6, 5, 4, 4, 3, 4, 5, 1, 6, 6, 5, 4, 4, 2, 3, 3, 5, 6, 2, 2, 3, 5, 4, 3, 2, 1, 5, 4, 4, 6, 6, 5, 2, 1, 5, 6, 4, 4, 3, 4, 4, 5, 3, 1, 1, 3, 6, 4, 4, 1, 1, 1, 2, 3, 1, 3, 5, 5, 5, 4, 5, 2, 3, 2, 2, 1, 5, 2, 3, 3, 5, 5, 1, 5, 5, 5, 5, 1, 5, 5, 4, 4, 1, 1, 2, 1, 2, 3, 2, 1, 3, 2, 6, 3, 1, 6, 4, 4, 5, 4, 3, 4, 2, 4, 5, 5, 6, 3, 5, 1, 4, 6, 3, 4, 5, 5, 5, 6, 3, 2, 5, 6, 5, 3, 5, 2, 4, 1, 2, 5, 1, 4, 1, 6, 4, 5, 4, 4, 2, 1, 1, 4, 5, 4, 4, 2, 3, 5, 5, 2, 6, 5, 2, 6, 1, 6, 4, 4, 6, 1, 3, 3, 2, 1, 4, 4, 4, 1, 4, 4, 3, 5, 1, 4, 5, 4, 2, 6, 4, 6, 1, 3, 5, 2, 2, 5, 5, 3, 1, 5, 4, 4, 5, 1, 4, 5, 3, 3, 1, 6, 3, 6, 4, 6, 5, 4, 6, 3, 6, 6, 5, 3, 3, 2, 3, 6, 6, 5, 4, 1, 5, 5, 6, 3, 2, 2, 6, 6, 5, 4, 6, 3, 3, 2, 1, 6, 3, 4, 5, 2, 3, 5, 6, 4, 4, 2, 1, 2, 3, 4, 5, 6, 2, 1, 4, 4, 6, 4, 1, 6, 3, 5, 4, 5, 2, 4, 6, 3, 1, 1, 6, 2, 2, 1, 2, 6, 1, 3, 4, 5, 5, 5, 1, 5, 1, 1, 1, 4, 6, 5, 1, 5, 6, 3, 6, 4, 5, 6, 2, 2, 3, 2, 5, 3, 5, 6, 2, 6, 6, 3, 6, 5, 1, 3, 1, 1, 4, 4, 2, 2, 2, 6, 3, 3, 2, 3, 5, 5, 1, 3, 2, 1, 6, 2, 3, 5, 6, 4, 6, 1, 5, 3, 6, 4, 2, 6, 3, 4, 5, 5, 5, 6, 5, 2, 2, 1, 6, 3, 3, 1, 6, 1, 4, 3, 4, 1, 1, 4, 6, 6, 6, 2, 4, 3, 1, 4, 3, 6, 4, 4, 6, 5, 3, 3, 4, 4, 2, 5, 3, 2, 2, 5, 2, 5, 5, 1, 5, 6, 4, 6, 1, 4, 6, 4, 2, 1, 2, 1, 5, 3, 4, 1, 2, 1, 2, 3, 2, 2, 2, 2, 2, 3, 5, 4, 6, 5, 5, 6, 4, 2, 5, 3, 1, 5, 5, 5, 6, 5, 3, 3, 5, 1, 2, 4, 1, 4, 1, 3, 1, 5, 1, 3, 3, 1, 3, 2, 4, 5, 3, 4, 5, 5, 1, 4, 3, 3, 5, 5, 4, 1, 4, 1, 1, 4, 5, 2, 2, 1, 3, 2, 5, 6, 6, 1, 6, 6, 3, 2, 3, 4, 6, 3, 5, 3, 6, 2, 4, 4, 1, 4, 6, 3, 1, 5, 6, 4, 6, 4, 5, 5, 5, 3, 6, 1, 3, 1, 2, 3, 5, 5, 3, 6, 2, 5, 2, 1, 6, 5, 4, 3, 1, 3, 4, 1, 4, 4, 1, 3, 1, 2, 4, 2, 3, 4, 3, 1, 2, 4, 6, 2, 1, 6, 3, 4, 2, 2, 3, 4, 5, 2, 1, 2, 4, 4, 4, 5, 1, 5, 3, 6, 5, 3, 4, 6, 5, 5, 6, 6, 6, 4, 5, 5, 4, 2, 1, 1, 1, 5, 1, 1, 6, 3, 6, 4, 5, 4, 3, 1, 5, 6, 2, 1, 2, 4, 5, 4, 4, 5, 3, 4, 5, 6, 1, 3, 5, 1, 5, 1, 1, 4, 4, 6, 3, 4, 4, 6, 2, 2, 4, 5, 3, 2, 4, 6, 1, 5, 4, 3, 1, 4, 4, 1, 1, 6, 4, 4, 6, 2, 3, 1, 2, 5, 6, 4, 3, 1, 6, 2, 1, 6, 4, 5, 2, 2, 1, 6, 4, 6, 5, 6, 5, 2, 3, 4, 5, 5, 2, 3, 5, 6, 5, 4, 3, 3, 4, 3, 6, 5, 2, 1, 1, 6, 6, 5, 2, 2, 1, 3, 4, 6, 4, 4, 3, 1, 4, 5, 5, 4, 5, 4, 2, 5, 6, 6, 4, 2, 1, 3, 4, 6, 5, 5, 6, 1, 4, 4, 4, 5, 3, 6, 5, 6, 1, 3, 5, 6, 1, 1, 6, 5, 6, 2, 5, 6, 1, 4, 4, 6, 1, 6, 3, 1, 6, 3, 3, 3, 3, 2, 4, 1, 4, 4, 5, 5, 5, 5, 3, 3, 2, 4, 2, 2, 6, 4, 4, 6, 6, 2, 3, 3, 5, 3, 1, 2, 5, 4, 6, 2, 2, 3, 1, 5, 3, 4, 6, 4, 5, 5, 2, 5, 1, 6, 6, 4, 1, 4, 4, 3, 3, 3, 5, 5, 2, 5, 6, 6, 2, 6, 6, 4, 6, 4, 3, 5, 1, 2, 1, 6, 2, 5, 3, 4, 6, 2, 6, 2, 6, 1, 3, 4, 5, 6, 4, 4, 4, 5, 5, 4, 3, 2, 1, 3, 5, 5, 2, 2, 6, 6, 1, 4, 5, 6, 2, 5, 4, 2, 6, 6, 5, 6, 3, 4, 3, 3, 1, 4, 4, 3, 6, 4, 4, 4, 1, 5, 1, 1, 6, 6, 1, 6, 1, 4, 5, 5, 5, 4, 6, 6, 1, 1, 2, 6, 5, 1, 1, 5, 5, 2, 5, 6, 4, 1, 6, 2, 5, 1, 3, 5, 4, 5, 2, 4, 5, 2, 4, 5, 1, 2, 5, 2, 5, 5, 6, 4, 1, 6, 1, 2, 1, 2, 5, 3, 6, 3, 5, 6, 6, 2, 5, 2, 1, 1, 4, 3, 3, 2, 2, 1, 2, 4, 2, 1, 1, 3, 4, 2, 3, 6, 5, 2, 3, 3, 5, 5, 1, 4, 5, 5, 6, 5, 5, 6, 1, 4, 3, 6, 6, 5, 1, 6, 1, 3, 1, 2, 2, 2, 5, 2, 3, 4, 6, 5, 1, 3, 3, 4, 2, 4, 5, 1, 1, 1, 5, 5, 1, 3, 3, 5, 3, 6, 2, 3, 6, 4, 5, 3, 6, 5, 2, 4, 4, 4, 4, 1, 5, 2, 3, 3, 2, 2, 2, 3, 6, 1, 1, 1, 2, 3, 6, 3, 2, 6, 2, 3, 5, 2, 6, 4, 6, 2, 1, 3, 2, 6, 1, 1, 6, 1, 4, 2, 6, 2, 6, 6, 6, 3, 4, 5, 6, 1, 6, 5, 6, 3, 4, 4, 6, 3, 2, 3, 5, 1, 4, 2, 4, 5, 5, 3, 2, 3, 6, 4, 5, 1, 3, 6, 6, 1, 3, 5, 6, 3, 4, 6, 1, 3, 2, 3, 4, 4, 1, 3, 4, 5, 6, 6, 1, 3, 1, 5, 3, 5, 3, 1, 2, 1, 5, 6, 5, 6, 6, 1, 6, 1, 2, 6, 1, 4, 6, 1, 4, 4, 6, 2, 1, 1, 4, 6, 3, 3, 6, 5, 3, 6, 2, 5, 4, 2, 4, 2, 4, 3, 3, 1, 3, 6, 1, 1, 6, 2, 6, 2, 1, 5, 1, 4, 2, 1, 1, 6, 4, 3, 6, 2, 4, 3, 2, 1, 5, 3, 6, 4, 1, 5, 1, 6, 4, 2, 5, 5, 4, 5, 1, 6, 1, 1, 1, 5, 1, 6, 6, 3, 6, 2, 1, 1, 4, 5, 6, 3, 3, 4, 1, 2, 5, 5, 2, 4, 4, 5, 2, 1, 4, 3, 1, 6, 2, 5, 3, 2, 5, 3, 3, 2, 4, 1, 1, 2, 6, 5, 2, 6, 3, 4, 3, 4, 6, 5, 3, 2, 3, 4, 4, 6, 6, 4, 2, 3, 2, 4, 1, 3, 3, 6, 6, 6, 4, 3, 1, 3, 2, 2, 2, 3, 1, 1, 5, 1, 6, 5, 4, 4, 2, 2, 4, 4, 2, 1, 3, 4, 4, 2, 3, 5, 6, 3, 6, 4, 4, 3, 4, 2, 2, 3, 4, 4, 3, 4, 2, 3, 4, 5, 4, 6, 5, 1, 4, 3, 4, 2, 6, 5, 4, 5, 4, 4, 1, 4, 5, 4, 1, 5, 4, 2, 4, 5, 4, 6, 2, 5, 1, 6, 1, 6, 4, 1, 6, 2, 2, 1, 6, 1, 1, 3, 6, 4, 5, 2, 1, 6, 1, 6, 3, 3, 6, 4, 2, 4, 4, 6, 1, 6, 5, 5, 1, 4, 5, 6, 4, 4, 6, 1, 4, 6, 1, 4, 6, 4, 2, 3, 4, 5, 6, 5, 1, 6, 3, 4, 5, 6, 2, 2, 3, 4, 6, 2, 3, 5, 5, 6, 3, 1, 6, 3, 2, 1, 6, 6, 5, 4, 6, 3, 5, 6, 4, 2, 5, 4, 2, 4, 1, 5, 4, 1, 3, 3, 4, 2, 3, 2, 1, 5, 4, 5, 6, 4, 1, 5, 5, 6, 3, 2, 3, 6, 4, 6, 4, 6, 5, 6, 4, 5, 2, 4, 1, 2, 4, 4, 2, 1, 4, 6, 6, 2, 2, 4, 5, 2, 6, 3, 1, 5, 5, 5, 5, 3, 3, 6, 2, 3, 4, 5, 5, 6, 2, 1, 4, 5, 3, 6, 5, 6, 3, 5, 5, 1, 3, 2, 5, 2, 2, 5, 4, 5, 5, 3, 1, 5, 1, 5, 3, 1, 4, 5, 4, 3, 6, 4, 4, 2, 6, 1, 6, 3, 4, 4, 5, 1, 2, 1, 2, 4, 2, 3, 4, 3, 5, 3, 1, 2, 5, 2, 1, 2, 1, 2, 3, 2, 6, 5, 3, 3, 6, 3, 2, 1, 6, 1, 4, 6, 5, 4, 4, 2, 1, 6, 3, 6, 5, 5, 4, 6, 3, 1, 1, 3, 6, 6, 2, 3, 4, 5, 3, 3, 6, 3, 6, 2, 2, 3, 5, 6, 3, 6, 6, 1, 3, 3, 5, 3, 6, 2, 4, 1, 2, 3, 5, 4, 4, 2, 6, 1, 1, 1, 5, 2, 1, 1, 2, 2, 3, 6, 1, 5, 1, 3, 3, 4, 3, 2, 6, 3, 2, 6, 3, 2, 3, 1, 2, 3, 6, 1, 1, 4, 5, 4, 2, 2, 3, 2, 2, 6, 1, 1, 3, 5, 6, 5, 6, 1, 1, 3, 2, 3, 6, 1, 3, 2, 5, 5, 5, 5, 5, 6, 4, 2, 5, 3, 2, 3, 3, 4, 4, 1, 6, 6, 4, 3, 6, 5, 6, 2, 1, 4, 4, 3, 5, 2, 6, 2, 3, 1, 4, 1, 6, 1, 3, 5, 6, 3, 3, 2, 3, 6, 1, 6, 5, 6, 5, 1, 6, 4, 4, 4, 2, 3, 4, 4, 1, 3, 6, 6, 5, 1, 4, 3, 1, 2, 6, 4, 2, 3, 4, 1, 5, 4, 6, 4, 6, 2, 6, 1, 4, 2, 3, 2, 6, 3, 6, 6, 4, 2, 6, 2, 1, 5, 6, 2, 5, 3, 5, 3, 5, 6, 4, 3, 1, 6, 4, 6, 3, 1, 4, 1, 4, 3, 1, 1, 3, 4, 1, 6, 6, 3, 1, 6, 4, 5, 3, 2, 5, 3, 2, 5, 1, 1, 3, 5, 2, 5, 5, 3, 5, 1, 3, 1, 5, 3, 3, 6, 4, 1, 4, 2, 3, 3, 2, 2, 2, 5, 4, 2, 4, 1, 6, 3, 5, 6, 5, 5, 2, 3, 6, 1, 4, 3, 6, 6, 3, 5, 6, 4, 3, 5, 2, 3, 3, 2, 3, 4, 4, 2, 1, 1, 1, 5, 2, 4, 5, 1, 3, 2, 2, 6, 3, 2, 5, 2, 6, 5, 3, 6, 4, 2, 3, 2, 4, 6, 3, 3, 4, 2, 1, 5, 3, 3, 2, 5, 1, 1, 1, 3, 3, 5, 3, 4, 4, 5, 3, 3, 1, 3, 3, 6, 6, 4, 2, 4, 4, 6, 6, 4, 2, 5, 2, 1, 5, 3, 1, 5, 5, 6, 3, 4, 2, 2, 1, 4, 3, 6, 5, 2, 5, 1, 2, 1, 2, 1, 2, 3, 3, 6, 6, 1, 2, 5, 6, 6, 5, 4, 3, 5, 3, 3, 3, 3, 6, 5, 5, 4, 4, 6, 3, 2, 4, 6, 1, 4, 4, 4, 2, 6, 1, 1, 6, 5, 3, 4, 3, 3, 6, 5, 6, 2, 3, 3, 2, 1, 3, 2, 3, 4, 6, 1, 6, 5, 1, 5, 5, 2, 6, 3, 1, 1, 6, 2, 6, 3, 4, 3, 2, 3, 5, 6, 4, 6, 4, 6, 6, 3, 6, 1, 2, 3, 2, 6, 4, 1, 6, 2, 4, 5, 2, 1, 5, 1, 5, 2, 1, 2, 4, 4, 6, 3, 6, 4, 3, 1, 4, 2, 1, 5, 3, 4, 2, 1, 4, 1, 6, 6, 1, 5, 2, 2, 1, 6, 3, 1, 1, 1, 5, 6, 5, 5, 6, 1, 1, 1, 2, 3, 6, 6, 4, 4, 4, 5, 2, 5, 4, 2, 5, 6, 3, 1, 2, 4, 4, 5, 3, 3, 2, 1, 2, 1, 6, 4, 3, 3, 1, 5, 4, 3, 2, 5, 1, 4, 1, 3, 1, 4, 4, 2, 1, 1, 5, 2, 2, 4, 2, 5, 4, 3, 4, 2, 2, 5, 5, 2, 5, 4, 5, 6, 1, 6, 1, 3, 5, 2, 6, 6, 5, 2, 5, 6, 5, 3, 3, 2, 3, 4, 1, 1, 2, 5, 4, 2, 3, 2, 4, 3, 5, 4, 6, 6, 3, 2, 4, 2, 5, 3, 2, 2, 1, 1, 6, 4, 2, 4, 3, 1, 1, 4, 1, 5, 2, 4, 5, 6, 4, 1, 2, 3, 1, 6, 6, 6, 1, 2, 1, 6, 6, 2, 1, 2, 6, 5, 3, 2, 4, 6, 3, 1, 2, 1, 1, 3, 5, 4, 1, 6, 4, 4, 6, 3, 4, 5, 4, 5, 5, 4, 3, 3, 5, 1, 1, 4, 6, 1, 1, 4, 3, 5, 6, 2, 4, 1, 4, 4, 2, 1, 5, 2, 2, 2, 4, 1, 1, 4, 2, 3, 6, 5, 3, 2, 2, 2, 5, 1, 2, 6, 5, 6, 6, 2, 5, 3, 6, 4, 3, 3, 6, 2, 2, 5, 5, 2, 3, 5, 4, 5, 4, 2, 4, 6, 4, 1, 6, 5, 2, 5, 5, 6, 5, 6, 3, 5, 2, 3, 2, 1, 1, 2, 6, 1, 3, 3, 2, 3, 6, 1, 2, 3, 1, 6, 4, 2, 5, 4, 6, 6, 1, 5, 3, 3, 1, 2, 2, 6, 5, 5, 1, 4, 6, 4, 2, 1, 5, 3, 2, 6, 3, 3, 3, 3, 6, 4, 5, 2, 2, 6, 1, 4, 4, 2, 6, 4, 3, 3, 3, 4, 1, 5, 3, 4, 4, 1, 5, 2, 4, 5, 5, 3, 6, 1, 5, 2, 1, 6, 3, 6, 3, 1, 6, 4, 2, 4, 2, 2, 2, 4, 2, 2, 2, 1, 1, 6, 2, 4, 6, 5, 6, 2, 6, 4, 3, 6, 1, 4, 3, 6, 1, 2, 4, 3, 5, 5, 2, 4, 5, 2, 6, 1, 6, 4, 4, 5, 1, 5, 2, 6, 2, 5, 6, 6, 4, 6, 5, 1, 1, 6, 2, 3, 1, 4, 2, 4, 2, 2, 5, 1, 6, 6, 1, 6, 6, 5, 1, 6, 1, 2, 3, 5, 4, 5, 2, 4, 5, 6, 6, 6, 6, 5, 2, 2, 3, 2, 5, 3, 3, 3, 5, 2, 6, 5, 1, 2, 2, 6, 3, 3, 2, 2, 2, 5, 5, 2, 6, 1, 2, 5, 1, 1, 2, 4, 6, 6, 6, 4, 5, 2, 5, 4, 1, 2, 6, 1, 6, 5, 3, 1, 6, 1, 1, 5, 6, 5, 4, 1, 4, 2, 3, 2, 4, 4, 2, 4, 1, 3, 3, 5, 2, 3, 3, 3, 4, 5, 4, 4, 4, 3, 1, 6, 5, 4, 4, 4, 1, 3, 6, 6, 5, 3, 5, 1, 3, 2, 5, 3, 5, 6, 1, 5, 2, 3, 5, 6, 3, 6, 5, 4, 4, 6, 3, 4, 4, 3, 4, 5, 6, 1, 1, 5, 4, 2, 6, 3, 1, 1, 3, 4, 6, 1, 4, 4, 1, 3, 3, 5, 6, 3, 4, 1, 6, 5, 4, 2, 5, 3, 5, 1, 4, 3, 2, 3, 6, 3, 2, 6, 5, 2, 4, 3, 1, 3, 1, 6, 3, 4, 2, 5, 6, 5, 5, 5, 3, 2, 3, 3, 4, 4, 5, 3, 4, 6, 2, 5, 4, 2, 3, 5, 4, 5, 3, 3, 1, 4, 3, 5, 2, 4, 5, 3, 2, 1, 6, 1, 3, 2, 4, 4, 6, 6, 5, 4, 6, 4, 4, 3, 1, 2, 3, 4, 4, 2, 5, 6, 4, 5, 2, 5, 3, 2, 6, 4, 2, 2, 5, 6, 2, 6, 5, 5, 3, 6, 6, 1, 2, 3, 5, 3, 2, 4, 2, 2, 4, 2, 3, 6, 4, 2, 3, 6, 2, 5, 2, 4, 4, 1, 4, 3, 2, 4, 5, 1, 3, 3, 6, 1, 2, 1, 5, 2, 2, 1, 2, 6, 2, 5, 5, 4, 1, 6, 3, 6, 5, 3, 6, 2, 1, 4, 2, 1, 6, 4, 5, 5, 3, 2, 2, 6, 1, 4, 3, 2, 2, 2, 6, 2, 4, 6, 1, 5, 6, 4, 3, 4, 2, 2, 5, 6, 5, 6, 1, 4, 6, 5, 6, 4, 6, 5, 3, 5, 3, 3, 5, 4, 5, 2, 4, 1, 6, 6, 5, 3, 3, 2, 6, 5, 5, 3, 4, 6, 6, 4, 5, 3, 2, 5, 5, 1, 4, 1, 3, 3, 2, 1, 3, 6, 3, 4, 3, 4, 4, 3, 1, 6, 6, 4, 5, 6, 2, 6, 2, 5, 4, 1, 6, 3, 1, 4, 4, 4, 6, 4, 3, 1, 4, 3, 2, 4, 1, 2, 6, 5, 1, 2, 3, 2, 5, 1, 5, 3, 5, 1, 2, 1, 2, 2, 3, 2, 2, 4, 6, 4, 3, 6, 3, 3, 1, 4, 5, 2, 1, 3, 6, 2, 3, 3, 2, 4, 1, 2, 2, 5, 4, 6, 5, 2, 1, 1, 6, 5, 6, 5, 4, 1, 1, 3, 5, 1, 5, 6, 2, 6, 6, 3, 2, 2, 4, 1, 3, 6, 4, 5, 6, 2, 1, 3, 4, 2, 6, 2, 2, 2, 2, 5, 5, 6, 6, 1, 3, 5, 5, 6, 3, 5, 3, 5, 1, 2, 5, 6, 2, 5, 2, 3, 5, 4, 5, 6, 6, 2, 1, 5, 3, 4, 6, 1, 1, 6, 3, 1, 3, 2, 5, 4, 2, 4, 3, 1, 3, 6, 4, 4, 4, 2, 1, 3, 6, 1, 5, 4, 1, 1, 4, 6, 4, 3, 3, 2, 3, 4, 2, 6, 3, 6, 6, 6, 1, 3, 4, 2, 2, 5, 6, 5, 2, 6, 1, 4, 4, 5, 3, 5, 6, 5, 6, 6, 4, 5, 3, 1, 5, 2, 3, 1, 1, 5, 6, 2, 6, 6, 4, 5, 5, 3, 3, 4, 6, 4, 3, 3, 1, 4, 5, 4, 5, 2, 3, 4, 2, 5, 1, 3, 3, 3, 5, 5, 1, 2, 4, 1, 4, 4, 3, 1, 3, 6, 2, 2, 1, 2, 1, 4, 3, 4, 5, 4, 1, 5, 6, 1, 2, 6, 6, 4, 3, 6, 5, 5, 1, 4, 3, 6, 3, 4, 4, 6, 3, 4, 2, 2, 1, 1, 5, 3, 1, 6, 3, 4, 4, 1, 1, 2, 4, 4, 2, 1, 1, 2, 2, 3, 2, 2, 5, 2, 4, 6, 6, 4, 5, 4, 2, 3, 3, 1, 1, 6, 4, 4, 2, 2, 5, 5, 1, 6, 1, 4, 2, 1, 5, 5, 1, 6, 3, 1, 6, 5, 1, 1, 6, 2, 3, 3, 5, 3, 2, 5, 4, 5, 1, 4, 6, 6, 2, 6, 2, 5, 3, 4, 5, 1, 6, 1, 5, 4, 4, 4, 2, 5, 3, 2, 6, 1, 4, 2, 1, 2, 5, 3, 6, 1, 4, 5, 6, 1, 3, 5, 2, 3, 1, 6, 2, 4, 1, 6, 4, 3, 1, 3, 5, 5, 4, 6, 6, 1, 4, 6, 1, 5, 3, 2, 6, 3, 6, 3, 3, 1, 4, 6, 6, 4, 4, 5, 3, 6, 5, 2, 3, 4, 2, 6, 3, 1, 5, 2, 3, 5, 4, 2, 2, 4, 3, 3, 4, 6, 1, 2, 4, 4, 5, 4, 2, 5, 6, 3, 1, 5, 2, 1, 1, 4, 5, 4, 6, 3, 2, 4, 3, 6, 1, 5, 1, 2, 5, 6, 3, 6, 3, 3, 5, 6, 5, 2, 6, 1, 2, 3, 6, 1, 2, 6, 3, 4, 1, 4, 5, 3, 6, 4, 6, 4, 6, 1, 1, 2, 3, 1, 2, 2, 1, 3, 6, 2, 2, 5, 3, 5, 6, 2, 3, 6, 5, 3, 1, 5, 6, 1, 3, 3, 5, 2, 3, 4, 2, 4, 2, 4, 1, 3, 1, 4, 2, 3, 4, 1, 5, 3, 6, 5, 1, 2, 5, 1, 4, 4, 5, 2, 6, 4, 4, 3, 5, 5, 6, 4, 5, 4, 4, 5, 3, 1, 4, 2, 3, 1, 2, 6, 4, 6, 5, 5, 2, 4, 4, 3, 3, 3, 1, 2, 4, 2, 2, 5, 5, 5, 3, 5, 5, 6, 5, 2, 2, 2, 3, 5, 2, 5, 1, 1, 4, 4, 1, 2, 4, 3, 2, 5, 5, 3, 2, 2, 4, 1, 4, 3, 1, 5, 6, 1, 6, 1, 1, 6, 3, 3, 6, 5, 4, 1, 2, 4, 1, 2, 6, 1, 3, 1, 1, 4, 3, 1, 2, 2, 5, 2, 6, 1, 3, 2, 2, 4, 1, 1, 5, 5, 2, 6, 5, 2, 5, 4, 4, 2, 2, 2, 2, 3, 4, 6, 3, 1, 2, 2, 5, 1, 2, 4, 3, 6, 1, 4, 6, 4, 6, 6, 2, 5, 1, 5, 2, 3, 4, 5, 3, 5, 5, 3, 5, 6, 5, 4, 5, 5, 4, 1, 3, 4, 4, 6, 5, 5, 3, 5, 6, 2, 2, 6, 5, 4, 2, 2, 3, 4, 1, 5, 2, 5, 2, 5, 1, 4, 3, 6, 1, 6, 4, 1, 5, 6, 4, 1, 1, 1, 5, 5, 3, 2, 6, 5, 5, 6, 5, 2, 2, 4, 3, 2, 2, 6, 2, 4, 3, 3, 3, 4, 1, 1, 2, 3, 1, 4, 1, 6, 4, 6, 3, 6, 5, 3, 1, 6, 4, 3, 5, 5, 4, 4, 3, 4, 3, 6, 5, 5, 2, 5, 4, 5, 2, 2, 3, 4, 4, 2, 5, 2, 4, 2, 1, 2, 5, 6, 1, 1, 6, 4, 6, 6, 1, 4, 3, 4, 2, 5, 3, 6, 4, 1, 3, 1, 1, 6, 4, 4, 5, 6, 5, 1, 1, 6, 1, 3, 5, 5, 2, 3, 1, 5, 3, 4, 2, 6, 2, 6, 2, 6, 5, 6, 1, 6, 5, 5, 4, 6, 4, 2, 2, 1, 3, 5, 5, 6, 4, 4, 6, 2, 3, 2, 4, 6, 4, 4, 4, 2, 6, 6, 2, 4, 1, 4, 6, 5, 3, 5, 5, 2, 2, 5, 3, 6, 4, 2, 5, 1, 4, 6, 6, 5, 6, 6, 3, 2, 6, 6, 4, 3, 3, 2, 3, 1, 5, 2, 3, 1, 6, 4, 1, 5, 2, 2, 2, 3, 5, 1, 3, 4, 6, 4, 2, 6, 6, 6, 5, 3, 3, 5, 1, 4, 5, 6, 2, 3, 2, 4, 1, 5, 5, 5, 3, 6, 4, 3, 6, 2, 3, 3, 5, 4, 2, 2, 1, 4, 5, 2, 5, 3, 6, 2, 2, 1, 1, 6, 1, 1, 6, 3, 4, 5, 2, 3, 6, 3, 4, 4, 1, 5, 3, 2, 5, 3, 5, 2, 1, 2, 6, 2, 3, 3, 3, 2, 4, 1, 5, 6, 4, 4, 1, 4, 1, 5, 3, 5, 2, 1, 3, 4, 5, 1, 4, 2, 1, 6, 5, 4, 6, 1, 6, 6, 6, 6, 1, 6, 1, 6, 3, 2, 2, 5, 6, 5, 6, 4, 1, 1, 5, 1, 6, 1, 1, 1, 1, 5, 5, 3, 3, 3, 1, 1, 2, 6, 5, 5, 3, 4, 1, 4, 1, 2, 4, 6, 3, 6, 1, 5, 1, 1, 6, 5, 1, 6, 5, 2, 2, 3, 4, 4, 3, 3, 6, 3, 3, 5, 1, 4, 2, 2, 3, 1, 5, 4, 2, 6, 1, 1, 3, 2, 2, 6, 6, 1, 6, 3, 5, 6, 2, 4, 5, 4, 3, 2, 4, 5, 4, 5, 1, 5, 3, 1, 1, 5, 3, 3, 5, 5, 2, 1, 6, 5, 6, 1, 2, 6, 3, 3, 3, 5, 4, 6, 6, 4, 3, 6, 5, 3, 3, 5, 5, 5, 5, 3, 1, 4, 1, 1, 6, 6, 3, 1, 5, 6, 5, 4, 1, 4, 2, 4, 3, 4, 1, 2, 4, 1, 4, 4, 5, 5, 5, 2, 3, 1, 1, 5, 2, 2, 3, 3, 4, 6, 2, 2, 5, 6, 1, 5, 5, 3, 3, 5, 5, 5, 4, 6, 2, 6, 5, 1, 2, 6, 4, 1, 4, 2, 2, 3, 4, 1, 3, 2, 5, 6, 1, 6, 1, 5, 4, 2, 6, 6, 6, 4, 6, 6, 1, 4, 1, 4, 6, 5, 4, 5, 4, 6, 6, 2, 5, 4, 6, 2, 3, 6, 2, 1, 1, 4, 5, 2, 5, 2, 6, 5, 2, 4, 3, 3, 1, 4, 2, 1, 2, 4, 3, 1, 3, 4, 4, 3, 2, 6, 3, 4, 5, 1, 2, 4, 6, 6, 2, 2, 5, 3, 1, 5, 2, 4, 3, 4, 4, 5, 4, 4, 6, 6, 6, 5, 4, 6, 6, 3, 5, 3, 5, 2, 6, 3, 5, 3, 2, 3, 5, 3, 1, 4, 4, 2, 6, 5, 2, 2, 6, 3, 2, 3, 1, 4, 6, 1, 1, 5, 3, 3, 6, 6, 3, 3, 5, 4, 5, 5, 4, 4, 6, 2, 1, 4, 5, 5, 4, 5, 4, 5, 6, 5, 2, 4, 6, 1, 3, 6, 5, 4, 6, 5, 3, 5, 5, 4, 3, 4, 2, 6, 4, 4, 1, 5, 4, 3, 4, 1, 1, 2, 3, 2, 4, 6, 1, 2, 4, 2, 6, 3, 1, 5, 5, 5, 2, 2, 5, 4, 2, 1, 5, 6, 1, 6, 2, 6, 2, 3, 5, 1, 1, 2, 1, 2, 5, 4, 6, 6, 5, 5, 5, 5, 1, 3, 5, 4, 2, 5, 4, 4, 6, 4, 6, 4, 1, 1, 1, 2, 4, 5, 3, 5, 6, 2, 3, 1, 5, 4, 3, 5, 4, 4, 4, 4, 2, 4, 6, 6, 2, 6, 4, 4, 1, 2, 2, 4, 6, 5, 6, 1, 5, 5, 4, 3, 3, 3, 4, 2, 1, 1, 2, 3, 2, 1, 5, 4, 6, 1, 1, 6, 1, 5, 6, 5, 4, 6, 4, 3, 3, 1, 5, 5, 3, 5, 3, 5, 5, 4, 5, 2, 4, 3, 3, 1, 4, 1, 3, 3, 5, 6, 1, 2, 4, 5, 4, 6, 1, 1, 5, 3, 5, 5, 2, 3, 1, 4, 2, 4, 1, 3, 3, 6, 1, 1, 6, 1, 3, 6, 4, 3, 3, 4, 3, 4, 5, 3, 1, 3, 4, 3, 1, 4, 4, 1, 1, 6, 1, 1, 4, 5, 6, 3, 1, 4, 5, 6, 1, 2, 4, 5, 6, 6, 5, 1, 3, 6, 6, 4, 6, 5, 5, 6, 5, 3, 6, 4, 2, 1, 6, 1]\n"
     ]
    }
   ],
   "source": [
    "dice_three = []\n",
    "\n",
    "for i in range(10000) :\n",
    "    dice_three.append(random.randint(1,6))\n",
    "\n",
    "print(dice_three)"
   ]
  },
  {
   "cell_type": "code",
   "execution_count": 19,
   "metadata": {},
   "outputs": [
    {
     "data": {
      "image/png": "[encoded data removed]",
      "text/plain": [
       "<Figure size 432x288 with 1 Axes>"
      ]
     },
     "metadata": {
      "needs_background": "light"
     },
     "output_type": "display_data"
    }
   ],
   "source": [
    "plt.hist(dice_three, bins=6)\n",
    "plt.show()"
   ]
  },
  {
   "cell_type": "code",
   "execution_count": 21,
   "metadata": {},
   "outputs": [],
   "source": [
    "import csv"
   ]
  },
  {
   "cell_type": "code",
   "execution_count": 22,
   "metadata": {},
   "outputs": [],
   "source": [
    "f = open('seoul.csv')"
   ]
  },
  {
   "cell_type": "code",
   "execution_count": 23,
   "metadata": {},
   "outputs": [],
   "source": [
    "data = csv.reader(f)"
   ]
  },
  {
   "cell_type": "code",
   "execution_count": 24,
   "metadata": {},
   "outputs": [
    {
     "data": {
      "text/plain": [
       "['날짜', '지점', '평균기온(℃)', '최저기온(℃)', '최고기온(℃)']"
      ]
     },
     "execution_count": 24,
     "metadata": {},
     "output_type": "execute_result"
    }
   ],
   "source": [
    "next(data)"
   ]
  },
  {
   "cell_type": "code",
   "execution_count": 25,
   "metadata": {},
   "outputs": [],
   "source": [
    "result = []\n",
    "\n",
    "for row in data :\n",
    "    if row[-1] != '' :\n",
    "        result.append(float(row[-1]))"
   ]
  },
  {
   "cell_type": "code",
   "execution_count": 26,
   "metadata": {},
   "outputs": [
    {
     "data": {
      "image/png": "[encoded data removed]",
      "text/plain": [
       "<Figure size 432x288 with 1 Axes>"
      ]
     },
     "metadata": {
      "needs_background": "light"
     },
     "output_type": "display_data"
    }
   ],
   "source": [
    "plt.hist(result, bins=100, color='r')\n",
    "plt.show()"
   ]
  },
  {
   "cell_type": "code",
   "execution_count": 27,
   "metadata": {},
   "outputs": [],
   "source": [
    "import csv\n",
    "import matplotlib.pyplot as plt\n",
    "\n",
    "f = opne\n",
    "\n",
    "aug = []\n",
    "\n",
    "for row in data :\n",
    "    month = row[0].split('-')[1]\n",
    "    if row[-1] != '' :\n",
    "        if month == '08' :\n",
    "            aug.append(float(row[-1]))"
   ]
  },
  {
   "cell_type": "code",
   "execution_count": 28,
   "metadata": {},
   "outputs": [
    {
     "data": {
      "image/png": "[encoded data removed]",
      "text/plain": [
       "<Figure size 432x288 with 1 Axes>"
      ]
     },
     "metadata": {
      "needs_background": "light"
     },
     "output_type": "display_data"
    }
   ],
   "source": [
    "plt.hist(aug, bins=100, color='skyblue')\n",
    "plt.show()"
   ]
  },
  {
   "cell_type": "code",
   "execution_count": null,
   "metadata": {},
   "outputs": [],
   "source": []
  }
 ],
 "metadata": {
  "kernelspec": {
   "display_name": "Python 3",
   "language": "python",
   "name": "python3"
  },
  "language_info": {
   "codemirror_mode": {
    "name": "ipython",
    "version": 3
   },
   "file_extension": ".py",
   "mimetype": "text/x-python",
   "name": "python",
   "nbconvert_exporter": "python",
   "pygments_lexer": "ipython3",
   "version": "3.8.5"
  }
 },
 "nbformat": 4,
 "nbformat_minor": 4
}
